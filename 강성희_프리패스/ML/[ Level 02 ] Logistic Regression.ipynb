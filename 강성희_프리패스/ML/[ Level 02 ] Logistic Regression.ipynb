{
 "cells": [
  {
   "cell_type": "code",
   "execution_count": 1,
   "metadata": {},
   "outputs": [
    {
     "data": {
      "text/html": [
       "<style>.container {width:100% !important;}</style>"
      ],
      "text/plain": [
       "<IPython.core.display.HTML object>"
      ]
     },
     "metadata": {},
     "output_type": "display_data"
    }
   ],
   "source": [
    "from IPython.core.display import display, HTML\n",
    "display(HTML(\"<style>.container {width:100% !important;}</style>\"))"
   ]
  },
  {
   "cell_type": "markdown",
   "metadata": {},
   "source": [
    "# 머신러닝 심화반 실습 예제 - 로지스틱 회귀(Logistic Regression)\n",
    "\n",
    "이번 과제는 간단한 더미 데이터를 활용해 머신러닝(Machine Learning) 알고리즘 중 하나인 로지스틱 회귀(Logistic Regression)를 살펴보겠습니다.\n",
    "\n",
    "이전에 배운 선형 회귀(Linear Regression)를 기반으로, 1) 출력값(Output Values)을 범주형(Categorical) 데이터로 만들기 위해, 스쿼싱 함수(Squashing Function)로 시그모이드(Sigmoid)를 사용하며, 2) 시그모이드(Sigmoid)를 추가할 경우 비용 함수(Cost Function)를 미분하면 경사가 울퉁불퉁해지는 현상을 방지하기 위해, 기존 선형 회귀에서 사용하던 MSE(Mean Squared Error)가 아닌, 크로스 엔트로피(Cross Entropy)라는 새로운 비용 함수를 사용할 것입니다.\n",
    "\n",
    "이 두 가지 기능만 추가하면, 이전에 사용한 선형 회귀와 마찬가지로 경사 하강법(Gradient Descent)을 통해 이 머신러닝 알고리즘을 학습시킬 수 있습니다. 그럼 실제 예시를 보여드리도록 하겠습니다."
   ]
  },
  {
   "cell_type": "markdown",
   "metadata": {},
   "source": [
    "### Prerequisites"
   ]
  },
  {
   "cell_type": "markdown",
   "metadata": {
    "colab_type": "text",
    "id": "_AJrCsVoxspa"
   },
   "source": [
    "먼저 이번 실습 예제에서 사용할 패키지들을 가져오겠습니다. 오늘 필요한 파이썬 패키지는 벡터와 행렬 연산을 하는데 도움이 되는 패키지 넘파이(Numpy)와, 머신러닝 알고리즘의 학습 결과를 시각화를 통해 분석하기 위한 데이터 시각화 패키지 matplotlib만 있으면 충분합니다."
   ]
  },
  {
   "cell_type": "code",
   "execution_count": 2,
   "metadata": {
    "colab": {},
    "colab_type": "code",
    "id": "ni35mWRDxspb"
   },
   "outputs": [],
   "source": [
    "# matplotlib로 시각화한 결과물을 쥬피터 노트북에서 직접(inline) 출력하도록 명령하는 코드입니다.\n",
    "%matplotlib inline\n",
    "\n",
    "# 파이썬에서 벡터 연산과 행렬 연산을 도와주는 패키지 넘파이(Numpy)를 가져옵니다.\n",
    "# 이를 줄여서 np라는 축약어로 사용합니다.\n",
    "import numpy as np\n",
    "\n",
    "# 파이썬에서 데이터 시각화를 다루는 패키지 matplotlib를 가져옵니다.\n",
    "# 이를 줄여서 plt라는 축약어로 사용합니다.\n",
    "import matplotlib.pyplot as plt"
   ]
  },
  {
   "cell_type": "markdown",
   "metadata": {
    "colab_type": "text",
    "id": "OzDyC4qvxspe"
   },
   "source": [
    "### Generate Dataset\n",
    "\n",
    "이제 로지스틱 회귀(Logistic Regression)를 가장 잘 이해할 수 있는 데이터셋을 예시로 만들어보겠습니다.\n",
    "\n",
    "오늘 여러분들은 국내 최고의 IT회사 A전자의 인사(HR) 업무를 지원하는 데이터 사이언티스트로서 일을 하게 됩니다. 이번에 할 일은 A전자에 입사한 신입 데이터 사이언티스트를 대상으로, 입사 2년이 지났을 경우 해당 직원이 다른 회사로 이직을 할 것인지를 예측하는 예측 모델을 머신러닝 알고리즘으로 구현할 것입니다.\n",
    "\n",
    "이직 여부를 예측하기 위해서 중요한 요소는 다음과 같습니다.\n",
    "\n",
    "* **연봉** - 입사후 매 년 인사 고과에 따라 연봉이 인상되는데, 이 연봉이 많이 오를수록 다른 회사로 옮길 가능성이 줄어들 것입니다. (단 입사 시 연봉은 전부 동일하게 4,800만 원으로 간주하겠습니다)\n",
    "* **업무 만족도** - 연봉 외적으로, 회사에서 지금 맡고 일에 대한 만족도 점수입니다. 1점부터 10점까지이며, 높을 수록 업무 만족도가 높다고 가정하겠습니다. (마찬가지로 높을 수록 다른 회사로 옮길 가능성이 줄어들 것입니다)\n",
    "\n",
    "이 데이터가 머신러닝 알고리즘에서 사실상 Feature가 될 것입니다. 두 가지 데이터의 예시는 다음과 같습니다."
   ]
  },
  {
   "cell_type": "code",
   "execution_count": 3,
   "metadata": {},
   "outputs": [
    {
     "data": {
      "text/plain": [
       "array([5.  , 5.3 , 5.1 , 5.8 , 5.05, 5.  , 5.3 , 4.9 , 5.15, 5.05])"
      ]
     },
     "execution_count": 3,
     "metadata": {},
     "output_type": "execute_result"
    }
   ],
   "source": [
    "# A전자 신입사원 10명의 2년 후 연봉 정보를 가져옵니다.\n",
    "# 이를 salaries 라는 이름의 변수에 넣은 뒤, 행렬 연산을 편하게 하기 위해 넘파이(Numpy)의 배열(Array)로 변경해줍니다.\n",
    "# 단, 여기서 편의를 위해 단위는 1,000만 원으로 하겠습니다. (가령 5.0이면 연봉 5,000만 원)\n",
    "salaries = [5.0, 5.3, 5.1, 5.8, 5.05, 5.0, 5.3, 4.9, 5.15, 5.05]\n",
    "salaries = np.array(salaries)\n",
    "\n",
    "# salaries 변수에 들어가 있는 값을 출력합니다.\n",
    "salaries"
   ]
  },
  {
   "cell_type": "code",
   "execution_count": 4,
   "metadata": {},
   "outputs": [
    {
     "data": {
      "text/plain": [
       "array([3, 7, 4, 9, 8, 6, 5, 4, 6, 7])"
      ]
     },
     "execution_count": 4,
     "metadata": {},
     "output_type": "execute_result"
    }
   ],
   "source": [
    "# A전자 신입사원 10명의 업무 만족도 정보를 가져옵니다. 점수는 1점부터 10점으로 구성되어 있습니다.\n",
    "# 이를 satisfactions 라는 이름의 변수에 넣은 뒤,\n",
    "# 행렬 연산을 편하게 하기 위해 넘파이(Numpy)의 배열(Array)로 변경해줍니다.\n",
    "satisfactions = [3, 7, 4, 9, 8, 6, 5, 4, 6, 7]\n",
    "satisfactions = np.array(satisfactions)\n",
    "\n",
    "# satisfactions 변수에 들어가 있는 값을 출력합니다.\n",
    "satisfactions"
   ]
  },
  {
   "cell_type": "markdown",
   "metadata": {},
   "source": [
    "그리고 위 신입 사원들의 이직 여부(회사 잔류 여부)를 표현한 데이터를 생성합니다. 이 데이터가 마찬가지로 오늘 다룰 머신러닝 알고리즘의 Label이 될 것입니다."
   ]
  },
  {
   "cell_type": "code",
   "execution_count": 5,
   "metadata": {},
   "outputs": [
    {
     "data": {
      "text/plain": [
       "array([False,  True, False,  True,  True,  True,  True, False,  True,\n",
       "        True])"
      ]
     },
     "execution_count": 5,
     "metadata": {},
     "output_type": "execute_result"
    }
   ],
   "source": [
    "# A전자 신입사원 10명의 이직 여부(회사 잔류 여부)를 저장합니다.\n",
    "# 이직하기 않고 회사에 남아있는 경우 True라는 값을 넣으며, 정 반대로 다른 회사로 이직했을 경우 False라는 값을 넣습니다.\n",
    "# 이를 stay 라는 이름의 변수에 넣은 뒤,\n",
    "# 행렬 연산을 편하게 하기 위해 넘파이(Numpy)의 배열(Array)로 변경해줍니다.\n",
    "stay = [False, True, False, True, True, True, True, False, True, True]\n",
    "stay = np.array(stay)\n",
    "\n",
    "# stay 변수에 들어가 있는 값을 출력합니다.\n",
    "stay"
   ]
  },
  {
   "cell_type": "markdown",
   "metadata": {},
   "source": [
    "마지막으로 위에서 생성한 Feature와 Label를 직관적으로 확인할 수 있도록 표(table) 형식으로 정리하여 출력하겠습니다."
   ]
  },
  {
   "cell_type": "code",
   "execution_count": 6,
   "metadata": {},
   "outputs": [
    {
     "data": {
      "text/html": [
       "<div>\n",
       "<style scoped>\n",
       "    .dataframe tbody tr th:only-of-type {\n",
       "        vertical-align: middle;\n",
       "    }\n",
       "\n",
       "    .dataframe tbody tr th {\n",
       "        vertical-align: top;\n",
       "    }\n",
       "\n",
       "    .dataframe thead th {\n",
       "        text-align: right;\n",
       "    }\n",
       "</style>\n",
       "<table border=\"1\" class=\"dataframe\">\n",
       "  <thead>\n",
       "    <tr style=\"text-align: right;\">\n",
       "      <th></th>\n",
       "      <th>연봉</th>\n",
       "      <th>업무 만족도</th>\n",
       "      <th>잔류</th>\n",
       "    </tr>\n",
       "  </thead>\n",
       "  <tbody>\n",
       "    <tr>\n",
       "      <th>0</th>\n",
       "      <td>5.00</td>\n",
       "      <td>3</td>\n",
       "      <td>False</td>\n",
       "    </tr>\n",
       "    <tr>\n",
       "      <th>1</th>\n",
       "      <td>5.30</td>\n",
       "      <td>7</td>\n",
       "      <td>True</td>\n",
       "    </tr>\n",
       "    <tr>\n",
       "      <th>2</th>\n",
       "      <td>5.10</td>\n",
       "      <td>4</td>\n",
       "      <td>False</td>\n",
       "    </tr>\n",
       "    <tr>\n",
       "      <th>3</th>\n",
       "      <td>5.80</td>\n",
       "      <td>9</td>\n",
       "      <td>True</td>\n",
       "    </tr>\n",
       "    <tr>\n",
       "      <th>4</th>\n",
       "      <td>5.05</td>\n",
       "      <td>8</td>\n",
       "      <td>True</td>\n",
       "    </tr>\n",
       "    <tr>\n",
       "      <th>5</th>\n",
       "      <td>5.00</td>\n",
       "      <td>6</td>\n",
       "      <td>True</td>\n",
       "    </tr>\n",
       "    <tr>\n",
       "      <th>6</th>\n",
       "      <td>5.30</td>\n",
       "      <td>5</td>\n",
       "      <td>True</td>\n",
       "    </tr>\n",
       "    <tr>\n",
       "      <th>7</th>\n",
       "      <td>4.90</td>\n",
       "      <td>4</td>\n",
       "      <td>False</td>\n",
       "    </tr>\n",
       "    <tr>\n",
       "      <th>8</th>\n",
       "      <td>5.15</td>\n",
       "      <td>6</td>\n",
       "      <td>True</td>\n",
       "    </tr>\n",
       "    <tr>\n",
       "      <th>9</th>\n",
       "      <td>5.05</td>\n",
       "      <td>7</td>\n",
       "      <td>True</td>\n",
       "    </tr>\n",
       "  </tbody>\n",
       "</table>\n",
       "</div>"
      ],
      "text/plain": [
       "     연봉  업무 만족도     잔류\n",
       "0  5.00       3  False\n",
       "1  5.30       7   True\n",
       "2  5.10       4  False\n",
       "3  5.80       9   True\n",
       "4  5.05       8   True\n",
       "5  5.00       6   True\n",
       "6  5.30       5   True\n",
       "7  4.90       4  False\n",
       "8  5.15       6   True\n",
       "9  5.05       7   True"
      ]
     },
     "execution_count": 6,
     "metadata": {},
     "output_type": "execute_result"
    }
   ],
   "source": [
    "# 파이썬에서 데이터를 분석하는데 도움을 주는 패키지 판다스(Pandas)를 가져옵니다.\n",
    "# 이를 줄여서 pd라는 축약어로 사용합니다.\n",
    "import pandas as pd\n",
    "\n",
    "# 앞서 생성한 데이터를 하나로 묶어서 표(table)로 표현합니다.\n",
    "# 이 결과를 example이라는 이름의 변수에 할당합니다.\n",
    "example = pd.DataFrame({'연봉': salaries, '업무 만족도': satisfactions, '잔류': stay})\n",
    "\n",
    "# example 변수에 들어가 있는 값을 출력합니다.\n",
    "example"
   ]
  },
  {
   "cell_type": "markdown",
   "metadata": {},
   "source": [
    "위 데이터를 matplotlib를 활용하여 시각화를 할 수도 있습니다."
   ]
  },
  {
   "cell_type": "code",
   "execution_count": 7,
   "metadata": {
    "colab": {},
    "colab_type": "code",
    "id": "ink165L0xspp",
    "outputId": "c14d52e6-8e5d-4779-d46c-b1a3bc69a6c0"
   },
   "outputs": [
    {
     "data": {
      "text/plain": [
       "<matplotlib.collections.PathCollection at 0x1b6935e8848>"
      ]
     },
     "execution_count": 7,
     "metadata": {},
     "output_type": "execute_result"
    },
    {
     "data": {
      "image/png": "[encoded data removed]",
      "text/plain": [
       "<Figure size 432x288 with 1 Axes>"
      ]
     },
     "metadata": {
      "needs_background": "light"
     },
     "output_type": "display_data"
    }
   ],
   "source": [
    "# 위 데이터를 바탕으로 연봉과 업무 만족도가 이직에 얼마나 영향을 미치는지 시각화 할 수 있습니다.\n",
    "plt.scatter(salaries, satisfactions, c=stay)"
   ]
  },
  {
   "cell_type": "markdown",
   "metadata": {},
   "source": [
    "### Define Sigmoid\n",
    "이제 로지스틱 회귀(Logistic Regression)을 돌리기 위해 필요한 기능을 구현하겠습니다. 먼저 스쿼싱 함수(Squashing Function)로 사용할 시그모이드(Sigmoid)를 직접 구현해보겠습니다. 시그모이드 함수의 공식은 다음과 같습니다.\n",
    "\n",
    "$$\\text{sigmoid(x)}  = \\frac{1}{1 + e^{-x}} $$\n",
    "\n",
    "이 공식을 그래프로 시각화 하면 다음과 같이 나올 것입니다.\n",
    "\n",
    "![pic.jpg](https://upload.wikimedia.org/wikipedia/commons/thumb/8/88/Logistic-curve.svg/320px-Logistic-curve.svg.png)\n",
    "\n",
    "이제 위에서 설명한 내용을 바탕으로 시그모이드 함수를 직접 구현해보겠습니다. 시그모이드 함수를 구현하기 위해서는 넘파이(Numpy)에서 지수 함수(exponential fucntion)를 계산하는 ```np.exp```를 사용해야 합니다."
   ]
  },
  {
   "cell_type": "code",
   "execution_count": 8,
   "metadata": {},
   "outputs": [],
   "source": [
    "# sigmoid라는 이름의 함수를 정의합니다. 이 함수에서는 x라는 값을 인자(argument)로 받습니다.\n",
    "def sigmoid(x):\n",
    "    # 위에서 설명한 시그모이드 공식을 그대로 파이썬으로 구현합니다.\n",
    "    return 1 / (1 + np.exp(-x))"
   ]
  },
  {
   "cell_type": "markdown",
   "metadata": {},
   "source": [
    "이제 위에서 구현한 시그모이드 함수를 직접 시각화 해보겠습니다."
   ]
  },
  {
   "cell_type": "code",
   "execution_count": 9,
   "metadata": {},
   "outputs": [
    {
     "data": {
      "text/plain": [
       "[<matplotlib.lines.Line2D at 0x1b6936e77c8>]"
      ]
     },
     "execution_count": 9,
     "metadata": {},
     "output_type": "execute_result"
    },
    {
     "data": {
      "image/png": "[encoded data removed]",
      "text/plain": [
       "<Figure size 432x288 with 1 Axes>"
      ]
     },
     "metadata": {
      "needs_background": "light"
     },
     "output_type": "display_data"
    }
   ],
   "source": [
    "# 넘파이(Numpy)를 활용해 -10에서 +10까지 균등하게 값을 생성합니다. (약 50개)\n",
    "# 이를 xx라는 변수에 할당합니다.\n",
    "xx = np.linspace(-10, 10)\n",
    "\n",
    "# 위 xx라는 변수에 들어간 값 전체에 시그모이드(sigmoid) 함수를 적용합니다.\n",
    "# 이를 yy라는 변수에 할당합니다.\n",
    "yy = sigmoid(xx)\n",
    "\n",
    "# 위 xx를 x축으로, yy를 y축으로 하는 그래프를 시각화해서 출력합니다. \n",
    "plt.plot(xx, yy)"
   ]
  },
  {
   "cell_type": "markdown",
   "metadata": {},
   "source": [
    "### Define Cross-Entropy\n",
    "\n",
    "그 다음으로는 로지스틱 회귀의 비용 함수(Cost Function)로 쓰이는 크로스 엔트로피(Cross Entropy)를 구현해볼 것입니다. 크로스 엔트로피 공식은 다음과 같습니다.\n",
    "\n",
    "$$ J \\big(y_i, h(x_i) \\big) = \\frac{1}{m} \\sum_{i = 0}^{m} - y_i \\log h(x_i) - (1 - y_i) \\log \\big(1 - h(x_i) \\big) $$\n",
    "\n",
    "여기서 $m$은 데이터의 총 개수, $y_i$는 $i$번째 Label, h(x_i)는 $i$번째 Label의 예측값이라고 가정하겠습니다.\n",
    "\n",
    "이 공식은 로지스틱 회귀를 구현하는데 있어서 필수는 아닙니다. (실제 로지스틱 회귀를 구현할 때는 크로스 엔트로피가 아닌, 크로스 엔트로피를 w와 b로 편미분한 결과를 사용합니다) 하지만 크로스 엔트로피를 구현해놓으면 로지스틱 회귀가 학습되는 과정을 관찰하는데 있어서 큰 도움이 됩니다.\n",
    "\n",
    "이 크로스 엔트로피의 결과가 줄어들수록 정답($y_i$)과 예측값($h(x_i)$)이 일치해가면서 모델이 정확하게 학습되고 있다고 가정할 수 있습니다. 이제 실제 이 공식을 구현해보겠습니다."
   ]
  },
  {
   "cell_type": "code",
   "execution_count": 10,
   "metadata": {},
   "outputs": [],
   "source": [
    "# cross_entropy라는 이름의 함수를 정의합니다.\n",
    "# 이 함수에서는 정답을 actual로, 예측값을 predict로 받습니다.\n",
    "# 또한 결과값이 발산하는것을 방지하는 eps라는 값을 인자(argument)로 받습니다.\n",
    "def cross_entropy(actual, predict, eps=1e-15):\n",
    "    # 실제 정답(actual)과 예측 값(predict)을 편하게 계산하기 위해\n",
    "    # 넘파이(Numpy) 배열로 바꿔줍니다.\n",
    "    actual = np.array(actual)\n",
    "    predict = np.array(predict)\n",
    "    \n",
    "    # cross entropy는 log를 사용하면서 값이 무한대로 발산할 수 있다는 단점이 있습니다.\n",
    "    # 이를 방지하기 위해 최소/최대값이 각각 0과 1에서 아주 살짝 벗어나도록 잘라(clip)줘야 합니다.\n",
    "    clipped_predict = np.minimum(np.maximum(predict, eps), 1 - eps)\n",
    "    \n",
    "    # 앞서 설명한 크로스 엔트로피 공식을 그대로 파이썬으로 구현합니다.\n",
    "    cost = actual * np.log(clipped_predict) + (1 - actual) * np.log(1 - clipped_predict)\n",
    "    cost = -1.0 * cost.mean()\n",
    "\n",
    "    # 이 결과를 함수에서 반환합니다.\n",
    "    return cost"
   ]
  },
  {
   "cell_type": "markdown",
   "metadata": {
    "colab_type": "text",
    "id": "EGdYFp9uxspz"
   },
   "source": [
    "### Gradient Descent\n",
    "\n",
    "이제 본격적으로 로지스틱 회귀 알고리즘을 학습시켜 보겠습니다. 먼저 앞서 생성한 두 개의 Feature(연봉(```salaries```), 업무 만족도(```satisfactions```)를 편의를 위해 각각 ```x1```과 ```x2```라는 변수에 넣겠습니다."
   ]
  },
  {
   "cell_type": "code",
   "execution_count": 11,
   "metadata": {},
   "outputs": [],
   "source": [
    "# 앞서 생성한 연봉(salaries)을 x1이라는 변수에 할당합니다.\n",
    "x1 = salaries\n",
    "\n",
    "# 비슷하게, 앞서 생성한 업무 만족도(satisfactions)를 x2라는 변수에 할당합니다.\n",
    "x2 = satisfactions"
   ]
  },
  {
   "cell_type": "markdown",
   "metadata": {},
   "source": [
    "그리고 비슷하게, 회사의 잔류 여부를 나타내는 ```stay```를 Label로 간주하고 ```y```라는 변수에 넣겠습니다."
   ]
  },
  {
   "cell_type": "code",
   "execution_count": 12,
   "metadata": {},
   "outputs": [],
   "source": [
    "# 회사의 잔류 여부(stay)을 y라는 변수에 할당합니다.\n",
    "y = stay"
   ]
  },
  {
   "cell_type": "markdown",
   "metadata": {},
   "source": [
    "이제 본격적으로 학습을 시작해봅시다. 두 개의 변수 ```x1```과 ```x2```를 가지고 있으니 총 세 개의 값, 바로 가중치(weight) ```w1```, ```w2```과, bias인 ```b```를 학습해야 합니다. 세 개를 변수로 정의한 뒤, 경사 하강법(Gradient Descent)을 이용해 로지스틱 회귀를 학습시켜줍니다.\n",
    "\n",
    "학습은 모든 epoch이 끝날 때까지 반복할 수도 있지만, 여기서는 굳이 그럴 필요없이 정확도(accuracy)가 1.0에 도달하면 학습을 종료하도록 하겠습니다."
   ]
  },
  {
   "cell_type": "code",
   "execution_count": 13,
   "metadata": {
    "colab": {},
    "colab_type": "code",
    "id": "erLIqfgXxsp0",
    "outputId": "b9b23f3c-58f3-4da3-f41b-1f2ec5b30706"
   },
   "outputs": [
    {
     "name": "stdout",
     "output_type": "stream",
     "text": [
      "  0 cost = 1.782390 accuracy = 0.700000\n",
      " 10 cost = 6.444452 accuracy = 0.700000\n",
      "----------------------------------------\n",
      " 12 cost = 0.085112 accuracy = 1.000000\n"
     ]
    }
   ],
   "source": [
    "# 학습 횟수를 몇 번으로 할지를 num_epoch이라는 변수에 정의합니다.\n",
    "num_epoch = 100\n",
    "\n",
    "# 학습 속도를 나타내는 learning_rate 값을 정합니다.\n",
    "# 이 수치가 높을수록 학습 속도가 빨라지나, 너무 과하게 높을 경우 학습이 발산되어 버릴 수 있으니 주의합니다.\n",
    "# (이러한 설정값을 전문용어로 하이퍼패러미터(Hyperparameter)라고 합니다)\n",
    "learning_rate = 1.0\n",
    "\n",
    "# 학습해야 하는 가중치(weight, w)와 bias(b)를 먼저 정의해줍니다.\n",
    "# 이 값은 -1.0에서 +1.0 사이의 랜덤한 값으로 세팅해주면 됩니다.\n",
    "w1 = np.random.uniform(low=-1.0, high=1.0)\n",
    "w2 = np.random.uniform(low=-1.0, high=1.0)\n",
    "b = np.random.uniform(low=-1.0, high=1.0)\n",
    "\n",
    "# 앞서 지정한 학습 횟수(num_epoch) 만큼 학습을 시작합니다.\n",
    "for epoch in range(num_epoch):\n",
    "    # 먼저 주어진 데이터와 weight, bias를 활용하여 y의 예측값을 구합니다.\n",
    "    # 이를 y_predict라는 변수에 할당합니다.\n",
    "    y_predict = w1 * x1 + w2 * x2 + b\n",
    "\n",
    "    # 이 예측값을 sigmoid 함수를 활용하여 squashing 해줍니다.\n",
    "    # 마찬가지로 y_predict라는 변수에 할당합니다.\n",
    "    y_predict = sigmoid(y_predict)\n",
    "    \n",
    "    # 여기서는 threshold를 0.5로 해줍니다.\n",
    "    # 곧 예측한 확률이 50%보다 크다면 우리는 y가 1일 것이라고 간주합니다. (정 반대는 0이라고 간주합니다)\n",
    "    predict = y_predict > 0.5\n",
    "    \n",
    "    # 앞서 구현한 Cross Entropy를 계산합니다.\n",
    "    # 이 숫자가 완만하게 줄어들수록 학습이 잘 진행되고 있다고 간주할 수 있습니다.\n",
    "    cost = cross_entropy(y, y_predict)\n",
    "\n",
    "    # 이 알고리즘을 예측한 값이 정답과 얼마나 일치하는지, 정확도(0.0 ~ 1.0 사이)를 측정합니다.\n",
    "    accuracy = (predict == y).mean()\n",
    "    \n",
    "    # 일정 시간(반복 횟수 10회) 마다 학습 경과를 출력합니다.\n",
    "    if epoch % 10 == 0:\n",
    "        print(f\"{epoch:3} cost = {cost:.6f} accuracy = {accuracy:.6f}\")\n",
    "    \n",
    "    # 정확도가 1.0(100%) 라면 학습을 그만합니다.\n",
    "    if accuracy == 1.0:\n",
    "        break\n",
    "        \n",
    "    # 비용 함수(Cost Function)인 크로스 엔트로피(Cross Entropy)를 편미분한 결과를 바탕으로 weight와 bias를 update 해줍니다.\n",
    "    # 우리는 이를 경사 하강법(Gradient Descent)라고 부릅니다.\n",
    "    w1 = w1 - learning_rate * ((y_predict - y) * x1).mean()\n",
    "    w2 = w2 - learning_rate * ((y_predict - y) * x2).mean()\n",
    "    b = b - learning_rate * (y_predict - y).mean()\n",
    "\n",
    "\n",
    "# 최종적으로 학습이 끝났으면 그 결과를 출력합니다.\n",
    "print(\"----\" * 10)\n",
    "print(f\"{epoch:3} cost = {cost:.6f} accuracy = {accuracy:.6f}\")"
   ]
  },
  {
   "cell_type": "markdown",
   "metadata": {},
   "source": [
    "### Predict\n",
    "로지스틱 회귀의 학습이 끝났으면, 이제 이 머신러닝 알고리즘을 활용하여 원하는 결과를 예측할 수 있습니다. 앞선 데이터를 그대로 활용하여,  A전자의 신입 데이터 사이언티스트들이 2년 후에 이직할 것인지 여부를 예측해 보도록 하겠습니다."
   ]
  },
  {
   "cell_type": "code",
   "execution_count": 14,
   "metadata": {},
   "outputs": [
    {
     "data": {
      "text/html": [
       "<div>\n",
       "<style scoped>\n",
       "    .dataframe tbody tr th:only-of-type {\n",
       "        vertical-align: middle;\n",
       "    }\n",
       "\n",
       "    .dataframe tbody tr th {\n",
       "        vertical-align: top;\n",
       "    }\n",
       "\n",
       "    .dataframe thead th {\n",
       "        text-align: right;\n",
       "    }\n",
       "</style>\n",
       "<table border=\"1\" class=\"dataframe\">\n",
       "  <thead>\n",
       "    <tr style=\"text-align: right;\">\n",
       "      <th></th>\n",
       "      <th>연봉</th>\n",
       "      <th>업무 만족도</th>\n",
       "      <th>잔류</th>\n",
       "      <th>잔류(예측)</th>\n",
       "      <th>잔류(확률)</th>\n",
       "    </tr>\n",
       "  </thead>\n",
       "  <tbody>\n",
       "    <tr>\n",
       "      <th>0</th>\n",
       "      <td>5.00</td>\n",
       "      <td>3</td>\n",
       "      <td>False</td>\n",
       "      <td>False</td>\n",
       "      <td>0.012095</td>\n",
       "    </tr>\n",
       "    <tr>\n",
       "      <th>1</th>\n",
       "      <td>5.30</td>\n",
       "      <td>7</td>\n",
       "      <td>True</td>\n",
       "      <td>True</td>\n",
       "      <td>0.999683</td>\n",
       "    </tr>\n",
       "    <tr>\n",
       "      <th>2</th>\n",
       "      <td>5.10</td>\n",
       "      <td>4</td>\n",
       "      <td>False</td>\n",
       "      <td>False</td>\n",
       "      <td>0.204054</td>\n",
       "    </tr>\n",
       "    <tr>\n",
       "      <th>3</th>\n",
       "      <td>5.80</td>\n",
       "      <td>9</td>\n",
       "      <td>True</td>\n",
       "      <td>True</td>\n",
       "      <td>0.999998</td>\n",
       "    </tr>\n",
       "    <tr>\n",
       "      <th>4</th>\n",
       "      <td>5.05</td>\n",
       "      <td>8</td>\n",
       "      <td>True</td>\n",
       "      <td>True</td>\n",
       "      <td>0.999995</td>\n",
       "    </tr>\n",
       "    <tr>\n",
       "      <th>5</th>\n",
       "      <td>5.00</td>\n",
       "      <td>6</td>\n",
       "      <td>True</td>\n",
       "      <td>True</td>\n",
       "      <td>0.996307</td>\n",
       "    </tr>\n",
       "    <tr>\n",
       "      <th>6</th>\n",
       "      <td>5.30</td>\n",
       "      <td>5</td>\n",
       "      <td>True</td>\n",
       "      <td>True</td>\n",
       "      <td>0.800373</td>\n",
       "    </tr>\n",
       "    <tr>\n",
       "      <th>7</th>\n",
       "      <td>4.90</td>\n",
       "      <td>4</td>\n",
       "      <td>False</td>\n",
       "      <td>False</td>\n",
       "      <td>0.314873</td>\n",
       "    </tr>\n",
       "    <tr>\n",
       "      <th>8</th>\n",
       "      <td>5.15</td>\n",
       "      <td>6</td>\n",
       "      <td>True</td>\n",
       "      <td>True</td>\n",
       "      <td>0.994291</td>\n",
       "    </tr>\n",
       "    <tr>\n",
       "      <th>9</th>\n",
       "      <td>5.05</td>\n",
       "      <td>7</td>\n",
       "      <td>True</td>\n",
       "      <td>True</td>\n",
       "      <td>0.999847</td>\n",
       "    </tr>\n",
       "  </tbody>\n",
       "</table>\n",
       "</div>"
      ],
      "text/plain": [
       "     연봉  업무 만족도     잔류  잔류(예측)    잔류(확률)\n",
       "0  5.00       3  False   False  0.012095\n",
       "1  5.30       7   True    True  0.999683\n",
       "2  5.10       4  False   False  0.204054\n",
       "3  5.80       9   True    True  0.999998\n",
       "4  5.05       8   True    True  0.999995\n",
       "5  5.00       6   True    True  0.996307\n",
       "6  5.30       5   True    True  0.800373\n",
       "7  4.90       4  False   False  0.314873\n",
       "8  5.15       6   True    True  0.994291\n",
       "9  5.05       7   True    True  0.999847"
      ]
     },
     "execution_count": 14,
     "metadata": {},
     "output_type": "execute_result"
    }
   ],
   "source": [
    "# 주어진 데이터와 weight, bias를 활용하여 y의 예측값을 구합니다.\n",
    "# 이를 y_predict 라는 변수에 할당합니다.\n",
    "y_predict = w1 * x1 + w2 * x2 + b\n",
    "\n",
    "# 이 예측값을 sigmoid 함수를 활용하여 squashing 해줍니다.\n",
    "# 마찬가지로 y_predict 라는 변수에 할당합니다.\n",
    "y_predict = sigmoid(y_predict)\n",
    "\n",
    "# 여기서는 threshold를 0.5로 해줍니다.\n",
    "# 곧 예측한 확률이 50%보다 크다면 우리는 y가 1일 것이라고(=잔류할 것이라고) 간주합니다. (정 반대는 0이라고, 즉 퇴사할 것이라고 간주합니다)\n",
    "predict = y_predict > 0.5\n",
    "    \n",
    "# 앞서 생성한 데이터를 하나로 묶어서 표(table)로 표현합니다.\n",
    "# 이 결과를 result 라는 이름의 변수에 할당합니다.\n",
    "result = pd.DataFrame({'연봉': salaries, '업무 만족도': satisfactions, '잔류': stay, '잔류(예측)': predict, '잔류(확률)': y_predict})\n",
    "\n",
    "# result 변수에 들어가 있는 값을 출력합니다.\n",
    "result"
   ]
  },
  {
   "cell_type": "markdown",
   "metadata": {},
   "source": [
    "### Visualize Decision Boundary\n",
    "\n",
    "결과가 잘 나왔으면, 실제 로지스틱 회귀가 Label을 잘 분류하는지(=퇴사 여부를 예측할 수 있는지) 시각화 한 뒤 확인할 수 있습니다. "
   ]
  },
  {
   "cell_type": "code",
   "execution_count": 15,
   "metadata": {},
   "outputs": [
    {
     "data": {
      "text/plain": [
       "[<matplotlib.lines.Line2D at 0x1b69374e5c8>]"
      ]
     },
     "execution_count": 15,
     "metadata": {},
     "output_type": "execute_result"
    },
    {
     "data": {
      "image/png": "[encoded data removed]",
      "text/plain": [
       "<Figure size 432x288 with 1 Axes>"
      ]
     },
     "metadata": {
      "needs_background": "light"
     },
     "output_type": "display_data"
    }
   ],
   "source": [
    "# -1에서 +1까지의 값 100개를 생성합니다.\n",
    "xx = np.linspace(start=4.5, stop=6.0)\n",
    "\n",
    "# Decision Boundary 공식을 활용하여 y값을 구합니다.\n",
    "yy = -1.0 * (w1 * xx + b) / w2\n",
    "\n",
    "# 주어진 데이터 x1과 x2, 그리고 y값을 시각화합니다.\n",
    "plt.scatter(x1, x2, c=y)\n",
    "\n",
    "# 그 사이에 존재하는 decision boundary를 빨간 선으로 시각화합니다.\n",
    "plt.plot(xx, yy, c='r')"
   ]
  },
  {
   "cell_type": "markdown",
   "metadata": {},
   "source": [
    "빨간 선이 회사에 잔류할 신입 사원과 그렇지 않은 신입 사원을 잘 구분하는 사실을 확인할 수 있습니다."
   ]
  },
  {
   "cell_type": "code",
   "execution_count": null,
   "metadata": {},
   "outputs": [],
   "source": []
  }
 ],
 "metadata": {
  "colab": {
   "name": "02_01-single-layer-neural-network-for-binary-classification(solution).ipynb",
   "provenance": [],
   "version": "0.3.2"
  },
  "kernelspec": {
   "display_name": "Python 3",
   "language": "python",
   "name": "python3"
  },
  "language_info": {
   "codemirror_mode": {
    "name": "ipython",
    "version": 3
   },
   "file_extension": ".py",
   "mimetype": "text/x-python",
   "name": "python",
   "nbconvert_exporter": "python",
   "pygments_lexer": "ipython3",
   "version": "3.7.6"
  }
 },
 "nbformat": 4,
 "nbformat_minor": 4
}
