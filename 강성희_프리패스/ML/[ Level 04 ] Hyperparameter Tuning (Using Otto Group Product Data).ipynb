{
 "cells": [
  {
   "cell_type": "markdown",
   "metadata": {},
   "source": [
    "## Hyperparameter Tuning (using Otto Group Product Data)\n",
    "\n",
    "이번 과제는 머신러닝 모델의 Hyperparameter를 튜닝하여 예측모델을 만들어보겠습니다.\n",
    "오늘 사용할 데이터는 세계 최대의 전자상거래 회사 중 하나인 [Otto Group](https://www.ottogroup.com/)에서 주최하는 [Otto Group Product Classification Challenge](https://www.kaggle.com/c/otto-group-product-classification-challenge/) 경진대회에서 제공하는 데이터입니다. \n",
    "\n",
    "<img src=\"https://drive.google.com/uc?export=download&id=1AhEKfkKPfe2Ju1UQa39vJn0r4k3Fgklx\" width=\"640px\" />\n",
    "\n",
    "<center><small><a href=\"https://www.kaggle.com/c/otto-group-product-classification-challenge/\">Otto Group Product Classification Challenge 경진대회</a></small></center>\n",
    "\n",
    "<br />\n",
    "\n",
    "Otto Group은 익명화(anonymization)된 상품 정보에 대한 데이터를 제공하는데, 경진대회 참석자는 이 데이터를 활용하여 주어진 상품 카테고리(target)를 예측해야 합니다. 상품 카테고리는 ```Class_1```부터 ```Class_9```까지 총 9개가 있습니다. 주어진 데이터를 의사결정나무(Decision Tree), 랜덤 포레스트(Random Forest), 그리고 그래디언트 부스팅 머신(Gradient Boosting Machine)를 활용하여 예측해보도록 하겠습니다."
   ]
  },
  {
   "cell_type": "markdown",
   "metadata": {},
   "source": [
    "### Prerequisites\n",
    "\n",
    "경진대회에 참여하기에 앞서, 오늘 필요한 파이썬 패키지를 읽어오겠습니다. 가장 먼저 필요한 패키지는 파이썬에서 데이터를 분석하는데 도움을 주는 패키지 판다스([Pandas](https://pandas.pydata.org/)) 입니다. 이 패키지를 먼저 읽어오겠습니다."
   ]
  },
  {
   "cell_type": "code",
   "execution_count": 1,
   "metadata": {},
   "outputs": [],
   "source": [
    "# 파이썬에서 데이터를 분석해주는 패키지 판다스(Pandas)를 읽어옵니다.\n",
    "# 이를 pd라는 축약어로 사용합니다.\n",
    "import pandas as pd"
   ]
  },
  {
   "cell_type": "markdown",
   "metadata": {},
   "source": [
    "### Load Dataset\n",
    "\n",
    "예측모델을 만들기 위해선 먼저 데이터를 읽어와야 합니다.\n",
    "\n",
    "모든 데이터 분석의 시작은 주어진 데이터를 읽어오는 것입니다. 판다스([Pandas](https://pandas.pydata.org/))에는 [read_csv](https://pandas.pydata.org/pandas-docs/stable/reference/api/pandas.read_csv.html)라는 기능이 있는데, 이 기능을 활용하면 csv ([Comma Separated Values](https://en.wikipedia.org/wiki/Comma-separated_values)) 데이터를 편리하게 데이터를 읽어올 수 있습니다. ```read_csv```를 활용해 이 경진대회에서 제공하는 두 개의 데이터(train, test)를 읽어오겠습니다. (데이터는 [다음의 링크](https://www.kaggle.com/c/otto-group-product-classification-challenge/data)에서 다운받으실 수 있습니다)\n",
    "\n",
    "여기서 파일의 경로를 지정하는 방법에 주의하셔야 합니다. 파일 경로 지정은 컴퓨터의 설정마다 천차만별로 다르기 때문에 사전에 컴퓨터의 경로 지정 개념을 숙지해두셔야 합니다. 만일 ```read_csv```를 실행할 때 ```FileNotFoundError```라는 에러가 난다면 경로가 제대로 지정이 되지 않은 것입니다. **만일 파일의 경로를 지정하는 법이 생각나지 않는다면 [다음의 링크](https://88240.tistory.com/122)를 통해 경로를 지정하는 법을 복습한 뒤 다시 시도해주세요.**"
   ]
  },
  {
   "cell_type": "code",
   "execution_count": 2,
   "metadata": {},
   "outputs": [
    {
     "name": "stdout",
     "output_type": "stream",
     "text": [
      "(61878, 94)\n"
     ]
    },
    {
     "data": {
      "text/html": [
       "<div>\n",
       "<style scoped>\n",
       "    .dataframe tbody tr th:only-of-type {\n",
       "        vertical-align: middle;\n",
       "    }\n",
       "\n",
       "    .dataframe tbody tr th {\n",
       "        vertical-align: top;\n",
       "    }\n",
       "\n",
       "    .dataframe thead th {\n",
       "        text-align: right;\n",
       "    }\n",
       "</style>\n",
       "<table border=\"1\" class=\"dataframe\">\n",
       "  <thead>\n",
       "    <tr style=\"text-align: right;\">\n",
       "      <th></th>\n",
       "      <th>feat_1</th>\n",
       "      <th>feat_2</th>\n",
       "      <th>feat_3</th>\n",
       "      <th>feat_4</th>\n",
       "      <th>feat_5</th>\n",
       "      <th>feat_6</th>\n",
       "      <th>feat_7</th>\n",
       "      <th>feat_8</th>\n",
       "      <th>feat_9</th>\n",
       "      <th>feat_10</th>\n",
       "      <th>...</th>\n",
       "      <th>feat_85</th>\n",
       "      <th>feat_86</th>\n",
       "      <th>feat_87</th>\n",
       "      <th>feat_88</th>\n",
       "      <th>feat_89</th>\n",
       "      <th>feat_90</th>\n",
       "      <th>feat_91</th>\n",
       "      <th>feat_92</th>\n",
       "      <th>feat_93</th>\n",
       "      <th>target</th>\n",
       "    </tr>\n",
       "    <tr>\n",
       "      <th>id</th>\n",
       "      <th></th>\n",
       "      <th></th>\n",
       "      <th></th>\n",
       "      <th></th>\n",
       "      <th></th>\n",
       "      <th></th>\n",
       "      <th></th>\n",
       "      <th></th>\n",
       "      <th></th>\n",
       "      <th></th>\n",
       "      <th></th>\n",
       "      <th></th>\n",
       "      <th></th>\n",
       "      <th></th>\n",
       "      <th></th>\n",
       "      <th></th>\n",
       "      <th></th>\n",
       "      <th></th>\n",
       "      <th></th>\n",
       "      <th></th>\n",
       "      <th></th>\n",
       "    </tr>\n",
       "  </thead>\n",
       "  <tbody>\n",
       "    <tr>\n",
       "      <td>1</td>\n",
       "      <td>1</td>\n",
       "      <td>0</td>\n",
       "      <td>0</td>\n",
       "      <td>0</td>\n",
       "      <td>0</td>\n",
       "      <td>0</td>\n",
       "      <td>0</td>\n",
       "      <td>0</td>\n",
       "      <td>0</td>\n",
       "      <td>0</td>\n",
       "      <td>...</td>\n",
       "      <td>1</td>\n",
       "      <td>0</td>\n",
       "      <td>0</td>\n",
       "      <td>0</td>\n",
       "      <td>0</td>\n",
       "      <td>0</td>\n",
       "      <td>0</td>\n",
       "      <td>0</td>\n",
       "      <td>0</td>\n",
       "      <td>Class_1</td>\n",
       "    </tr>\n",
       "    <tr>\n",
       "      <td>2</td>\n",
       "      <td>0</td>\n",
       "      <td>0</td>\n",
       "      <td>0</td>\n",
       "      <td>0</td>\n",
       "      <td>0</td>\n",
       "      <td>0</td>\n",
       "      <td>0</td>\n",
       "      <td>1</td>\n",
       "      <td>0</td>\n",
       "      <td>0</td>\n",
       "      <td>...</td>\n",
       "      <td>0</td>\n",
       "      <td>0</td>\n",
       "      <td>0</td>\n",
       "      <td>0</td>\n",
       "      <td>0</td>\n",
       "      <td>0</td>\n",
       "      <td>0</td>\n",
       "      <td>0</td>\n",
       "      <td>0</td>\n",
       "      <td>Class_1</td>\n",
       "    </tr>\n",
       "    <tr>\n",
       "      <td>3</td>\n",
       "      <td>0</td>\n",
       "      <td>0</td>\n",
       "      <td>0</td>\n",
       "      <td>0</td>\n",
       "      <td>0</td>\n",
       "      <td>0</td>\n",
       "      <td>0</td>\n",
       "      <td>1</td>\n",
       "      <td>0</td>\n",
       "      <td>0</td>\n",
       "      <td>...</td>\n",
       "      <td>0</td>\n",
       "      <td>0</td>\n",
       "      <td>0</td>\n",
       "      <td>0</td>\n",
       "      <td>0</td>\n",
       "      <td>0</td>\n",
       "      <td>0</td>\n",
       "      <td>0</td>\n",
       "      <td>0</td>\n",
       "      <td>Class_1</td>\n",
       "    </tr>\n",
       "    <tr>\n",
       "      <td>4</td>\n",
       "      <td>1</td>\n",
       "      <td>0</td>\n",
       "      <td>0</td>\n",
       "      <td>1</td>\n",
       "      <td>6</td>\n",
       "      <td>1</td>\n",
       "      <td>5</td>\n",
       "      <td>0</td>\n",
       "      <td>0</td>\n",
       "      <td>1</td>\n",
       "      <td>...</td>\n",
       "      <td>0</td>\n",
       "      <td>1</td>\n",
       "      <td>2</td>\n",
       "      <td>0</td>\n",
       "      <td>0</td>\n",
       "      <td>0</td>\n",
       "      <td>0</td>\n",
       "      <td>0</td>\n",
       "      <td>0</td>\n",
       "      <td>Class_1</td>\n",
       "    </tr>\n",
       "    <tr>\n",
       "      <td>5</td>\n",
       "      <td>0</td>\n",
       "      <td>0</td>\n",
       "      <td>0</td>\n",
       "      <td>0</td>\n",
       "      <td>0</td>\n",
       "      <td>0</td>\n",
       "      <td>0</td>\n",
       "      <td>0</td>\n",
       "      <td>0</td>\n",
       "      <td>0</td>\n",
       "      <td>...</td>\n",
       "      <td>1</td>\n",
       "      <td>0</td>\n",
       "      <td>0</td>\n",
       "      <td>0</td>\n",
       "      <td>0</td>\n",
       "      <td>1</td>\n",
       "      <td>0</td>\n",
       "      <td>0</td>\n",
       "      <td>0</td>\n",
       "      <td>Class_1</td>\n",
       "    </tr>\n",
       "  </tbody>\n",
       "</table>\n",
       "<p>5 rows × 94 columns</p>\n",
       "</div>"
      ],
      "text/plain": [
       "    feat_1  feat_2  feat_3  feat_4  feat_5  feat_6  feat_7  feat_8  feat_9  \\\n",
       "id                                                                           \n",
       "1        1       0       0       0       0       0       0       0       0   \n",
       "2        0       0       0       0       0       0       0       1       0   \n",
       "3        0       0       0       0       0       0       0       1       0   \n",
       "4        1       0       0       1       6       1       5       0       0   \n",
       "5        0       0       0       0       0       0       0       0       0   \n",
       "\n",
       "    feat_10  ...  feat_85  feat_86  feat_87  feat_88  feat_89  feat_90  \\\n",
       "id           ...                                                         \n",
       "1         0  ...        1        0        0        0        0        0   \n",
       "2         0  ...        0        0        0        0        0        0   \n",
       "3         0  ...        0        0        0        0        0        0   \n",
       "4         1  ...        0        1        2        0        0        0   \n",
       "5         0  ...        1        0        0        0        0        1   \n",
       "\n",
       "    feat_91  feat_92  feat_93   target  \n",
       "id                                      \n",
       "1         0        0        0  Class_1  \n",
       "2         0        0        0  Class_1  \n",
       "3         0        0        0  Class_1  \n",
       "4         0        0        0  Class_1  \n",
       "5         0        0        0  Class_1  \n",
       "\n",
       "[5 rows x 94 columns]"
      ]
     },
     "execution_count": 2,
     "metadata": {},
     "output_type": "execute_result"
    }
   ],
   "source": [
    "# 먼저 판다스(Pandas)를 활용해 test.csv 파일을 읽어옵니다.\n",
    "# 여기에서 인덱스(index)로 train 데이터의 id 컬럼을 사용합니다.\n",
    "# 그리고 읽어온 데이터를 train이라는 이름의 변수에 저장합니다.\n",
    "train = pd.read_csv(\"data/train.csv\", index_col=\"id\")\n",
    "\n",
    "# train 변수에 할당한 데이터의 행렬 사이즈를 출력합니다.\n",
    "# 출력은 (row, column) 으로 표시됩니다.\n",
    "print(train.shape)\n",
    "\n",
    "# head()로 train 데이터의 상위 5개를 띄웁니다.\n",
    "train.head()"
   ]
  },
  {
   "cell_type": "markdown",
   "metadata": {},
   "source": [
    "### Preprocessing\n",
    "\n",
    "가장 먼저 해야 하는 준비는 데이터를 정리하는 것입니다. 데이터를 의사결정나무(Decision Tree), 랜덤 포레스트(Random Forest), 또는 그래디언트 부스팅 머신(Gradient Boosting Machine)과 같은 머신러닝 알고리즘에 넣기 위해서는, 사전에 데이터를 머신러닝 알고리즘이 이해할 수 있는 형태로 변환해줘야 합니다. 이 과정을 전문용어로 전처리(Preprocessing)라고 합니다.\n",
    "\n",
    "오늘 학습할 머신러닝 알고리즘(내지는 지도학습(Supervised Learning) 알고리즘)에 데이터를 넣기 위해서는, 데이터를 두 가지 형태로 나눠줘야 합니다.\n",
    "\n",
    "* **Label**: 레이블(Label), 내지는 타겟 변수(Target Variable)이라고 부릅니다. (몇몇 곳에서는 Class라고도 부릅니다) 쉽게 말해 우리가 맞춰야 하는 정답입니다.\n",
    "* **Feature**: 우리가 label을 맞추는데 도움이 되는 값들입니다. 오늘 데이터에서는 label을 제외한 사실상 모든 컬럼들이 Feature가 될 수 있습니다.\n",
    "\n",
    "이번 과제에서는 다음의 컬럼을 Feature와 Label로 활용할 것입니다.\n",
    "\n",
    "* **Feature**: ```target``` 컬럼을 제외한 나머지 모든 컬럼\n",
    "* **Label**: ```target``` 컬럼\n",
    "\n",
    "위에서 언급한 방식 그대로 **Feature**와 **Label**을 만들어 보겠습니다."
   ]
  },
  {
   "cell_type": "code",
   "execution_count": 3,
   "metadata": {},
   "outputs": [
    {
     "data": {
      "text/plain": [
       "'target'"
      ]
     },
     "execution_count": 3,
     "metadata": {},
     "output_type": "execute_result"
    }
   ],
   "source": [
    "# target이라는 이름의 컬럼을 label_name 이라는 이름의 변수에 할당합니다.\n",
    "# 이 컬럼이 실질적으로 이번 경진대회의 Label이 됩니다.\n",
    "label_name = \"target\"\n",
    "\n",
    "# label_name 안에 들어있는 값을 출력하면, 예상대로 target이 출력되는것을 알 수 있습니다.\n",
    "label_name"
   ]
  },
  {
   "cell_type": "code",
   "execution_count": 4,
   "metadata": {},
   "outputs": [
    {
     "name": "stdout",
     "output_type": "stream",
     "text": [
      "93\n"
     ]
    },
    {
     "data": {
      "text/plain": [
       "Index(['feat_1', 'feat_10', 'feat_11', 'feat_12', 'feat_13'], dtype='object')"
      ]
     },
     "execution_count": 4,
     "metadata": {},
     "output_type": "execute_result"
    }
   ],
   "source": [
    "# label_name에 지정된 컬럼을 제외한 나머지 모든 컬럼을 Feature로 간주할 것입니다.\n",
    "# 이를 feature_names라는 이름의 컬럼에 할당하겠습니다.\n",
    "feature_names = train.columns.difference([label_name])\n",
    "\n",
    "# feature_names의 길이(length, len)를 잽니다. 그리고 이를 바로 출력합니다.\n",
    "# 전체 train 데이터의 컬럼 개수에서, target 컬럼 하나를 제외한 총 93개가 출력됩니다.\n",
    "print(len(feature_names))\n",
    "\n",
    "# feature_names 안에 들어가 있는 값의 상위 5개를 출력하면, Feature들의 몇몇 예시를 볼 수 있습니다.\n",
    "feature_names[0:5]"
   ]
  },
  {
   "cell_type": "markdown",
   "metadata": {},
   "source": [
    "### Train\n",
    "\n",
    "\n",
    "이제 본격적으로 학습에 들어가기 전, train 데이터를 feature와 label로 나눌 것입니다.\n",
    "\n",
    "* ```X```: train 데이터의 feature 입니다. \n",
    "* ```y```: train 데이터의 label 입니다.\n",
    "\n",
    "이제 앞서 지정한 feature와 label을 활용해 ```X```, ```y```을 각각 만들어 보겠습니다."
   ]
  },
  {
   "cell_type": "code",
   "execution_count": 5,
   "metadata": {},
   "outputs": [
    {
     "name": "stdout",
     "output_type": "stream",
     "text": [
      "(61878, 93)\n"
     ]
    },
    {
     "data": {
      "text/html": [
       "<div>\n",
       "<style scoped>\n",
       "    .dataframe tbody tr th:only-of-type {\n",
       "        vertical-align: middle;\n",
       "    }\n",
       "\n",
       "    .dataframe tbody tr th {\n",
       "        vertical-align: top;\n",
       "    }\n",
       "\n",
       "    .dataframe thead th {\n",
       "        text-align: right;\n",
       "    }\n",
       "</style>\n",
       "<table border=\"1\" class=\"dataframe\">\n",
       "  <thead>\n",
       "    <tr style=\"text-align: right;\">\n",
       "      <th></th>\n",
       "      <th>feat_1</th>\n",
       "      <th>feat_10</th>\n",
       "      <th>feat_11</th>\n",
       "      <th>feat_12</th>\n",
       "      <th>feat_13</th>\n",
       "      <th>feat_14</th>\n",
       "      <th>feat_15</th>\n",
       "      <th>feat_16</th>\n",
       "      <th>feat_17</th>\n",
       "      <th>feat_18</th>\n",
       "      <th>...</th>\n",
       "      <th>feat_85</th>\n",
       "      <th>feat_86</th>\n",
       "      <th>feat_87</th>\n",
       "      <th>feat_88</th>\n",
       "      <th>feat_89</th>\n",
       "      <th>feat_9</th>\n",
       "      <th>feat_90</th>\n",
       "      <th>feat_91</th>\n",
       "      <th>feat_92</th>\n",
       "      <th>feat_93</th>\n",
       "    </tr>\n",
       "    <tr>\n",
       "      <th>id</th>\n",
       "      <th></th>\n",
       "      <th></th>\n",
       "      <th></th>\n",
       "      <th></th>\n",
       "      <th></th>\n",
       "      <th></th>\n",
       "      <th></th>\n",
       "      <th></th>\n",
       "      <th></th>\n",
       "      <th></th>\n",
       "      <th></th>\n",
       "      <th></th>\n",
       "      <th></th>\n",
       "      <th></th>\n",
       "      <th></th>\n",
       "      <th></th>\n",
       "      <th></th>\n",
       "      <th></th>\n",
       "      <th></th>\n",
       "      <th></th>\n",
       "      <th></th>\n",
       "    </tr>\n",
       "  </thead>\n",
       "  <tbody>\n",
       "    <tr>\n",
       "      <td>1</td>\n",
       "      <td>1</td>\n",
       "      <td>0</td>\n",
       "      <td>1</td>\n",
       "      <td>0</td>\n",
       "      <td>0</td>\n",
       "      <td>0</td>\n",
       "      <td>0</td>\n",
       "      <td>0</td>\n",
       "      <td>2</td>\n",
       "      <td>0</td>\n",
       "      <td>...</td>\n",
       "      <td>1</td>\n",
       "      <td>0</td>\n",
       "      <td>0</td>\n",
       "      <td>0</td>\n",
       "      <td>0</td>\n",
       "      <td>0</td>\n",
       "      <td>0</td>\n",
       "      <td>0</td>\n",
       "      <td>0</td>\n",
       "      <td>0</td>\n",
       "    </tr>\n",
       "    <tr>\n",
       "      <td>2</td>\n",
       "      <td>0</td>\n",
       "      <td>0</td>\n",
       "      <td>0</td>\n",
       "      <td>0</td>\n",
       "      <td>0</td>\n",
       "      <td>0</td>\n",
       "      <td>0</td>\n",
       "      <td>0</td>\n",
       "      <td>0</td>\n",
       "      <td>2</td>\n",
       "      <td>...</td>\n",
       "      <td>0</td>\n",
       "      <td>0</td>\n",
       "      <td>0</td>\n",
       "      <td>0</td>\n",
       "      <td>0</td>\n",
       "      <td>0</td>\n",
       "      <td>0</td>\n",
       "      <td>0</td>\n",
       "      <td>0</td>\n",
       "      <td>0</td>\n",
       "    </tr>\n",
       "    <tr>\n",
       "      <td>3</td>\n",
       "      <td>0</td>\n",
       "      <td>0</td>\n",
       "      <td>0</td>\n",
       "      <td>0</td>\n",
       "      <td>0</td>\n",
       "      <td>0</td>\n",
       "      <td>0</td>\n",
       "      <td>0</td>\n",
       "      <td>1</td>\n",
       "      <td>0</td>\n",
       "      <td>...</td>\n",
       "      <td>0</td>\n",
       "      <td>0</td>\n",
       "      <td>0</td>\n",
       "      <td>0</td>\n",
       "      <td>0</td>\n",
       "      <td>0</td>\n",
       "      <td>0</td>\n",
       "      <td>0</td>\n",
       "      <td>0</td>\n",
       "      <td>0</td>\n",
       "    </tr>\n",
       "    <tr>\n",
       "      <td>4</td>\n",
       "      <td>1</td>\n",
       "      <td>1</td>\n",
       "      <td>1</td>\n",
       "      <td>0</td>\n",
       "      <td>1</td>\n",
       "      <td>0</td>\n",
       "      <td>0</td>\n",
       "      <td>1</td>\n",
       "      <td>1</td>\n",
       "      <td>0</td>\n",
       "      <td>...</td>\n",
       "      <td>0</td>\n",
       "      <td>1</td>\n",
       "      <td>2</td>\n",
       "      <td>0</td>\n",
       "      <td>0</td>\n",
       "      <td>0</td>\n",
       "      <td>0</td>\n",
       "      <td>0</td>\n",
       "      <td>0</td>\n",
       "      <td>0</td>\n",
       "    </tr>\n",
       "    <tr>\n",
       "      <td>5</td>\n",
       "      <td>0</td>\n",
       "      <td>0</td>\n",
       "      <td>0</td>\n",
       "      <td>0</td>\n",
       "      <td>0</td>\n",
       "      <td>0</td>\n",
       "      <td>0</td>\n",
       "      <td>0</td>\n",
       "      <td>4</td>\n",
       "      <td>0</td>\n",
       "      <td>...</td>\n",
       "      <td>1</td>\n",
       "      <td>0</td>\n",
       "      <td>0</td>\n",
       "      <td>0</td>\n",
       "      <td>0</td>\n",
       "      <td>0</td>\n",
       "      <td>1</td>\n",
       "      <td>0</td>\n",
       "      <td>0</td>\n",
       "      <td>0</td>\n",
       "    </tr>\n",
       "  </tbody>\n",
       "</table>\n",
       "<p>5 rows × 93 columns</p>\n",
       "</div>"
      ],
      "text/plain": [
       "    feat_1  feat_10  feat_11  feat_12  feat_13  feat_14  feat_15  feat_16  \\\n",
       "id                                                                          \n",
       "1        1        0        1        0        0        0        0        0   \n",
       "2        0        0        0        0        0        0        0        0   \n",
       "3        0        0        0        0        0        0        0        0   \n",
       "4        1        1        1        0        1        0        0        1   \n",
       "5        0        0        0        0        0        0        0        0   \n",
       "\n",
       "    feat_17  feat_18  ...  feat_85  feat_86  feat_87  feat_88  feat_89  \\\n",
       "id                    ...                                                \n",
       "1         2        0  ...        1        0        0        0        0   \n",
       "2         0        2  ...        0        0        0        0        0   \n",
       "3         1        0  ...        0        0        0        0        0   \n",
       "4         1        0  ...        0        1        2        0        0   \n",
       "5         4        0  ...        1        0        0        0        0   \n",
       "\n",
       "    feat_9  feat_90  feat_91  feat_92  feat_93  \n",
       "id                                              \n",
       "1        0        0        0        0        0  \n",
       "2        0        0        0        0        0  \n",
       "3        0        0        0        0        0  \n",
       "4        0        0        0        0        0  \n",
       "5        0        1        0        0        0  \n",
       "\n",
       "[5 rows x 93 columns]"
      ]
     },
     "execution_count": 5,
     "metadata": {},
     "output_type": "execute_result"
    }
   ],
   "source": [
    "# feature_names를 활용해 train 데이터의 feature를 가져옵니다.\n",
    "# 이를 X라는 이름의 변수에 할당합니다. \n",
    "X = train[feature_names]\n",
    "\n",
    "# X 변수에 할당된 데이터의 행렬 사이즈를 출력합니다.\n",
    "# 출력은 (row, column) 으로 표시됩니다.\n",
    "print(X.shape)\n",
    "\n",
    "# X 데이터의 상위 5개를 띄웁니다.\n",
    "X.head()"
   ]
  },
  {
   "cell_type": "code",
   "execution_count": 6,
   "metadata": {},
   "outputs": [
    {
     "name": "stdout",
     "output_type": "stream",
     "text": [
      "['Class_1' 'Class_2' 'Class_3' 'Class_4' 'Class_5' 'Class_6' 'Class_7'\n",
      " 'Class_8' 'Class_9']\n",
      "(61878,)\n"
     ]
    },
    {
     "data": {
      "text/plain": [
       "id\n",
       "1    Class_1\n",
       "2    Class_1\n",
       "3    Class_1\n",
       "4    Class_1\n",
       "5    Class_1\n",
       "Name: target, dtype: object"
      ]
     },
     "execution_count": 6,
     "metadata": {},
     "output_type": "execute_result"
    }
   ],
   "source": [
    "# label_name을 활용해 train 데이터의 label을 가져옵니다.\n",
    "# 이를 y이라는 이름의 변수에 할당합니다.\n",
    "y = train[label_name]\n",
    "\n",
    "# unique 함수를 사용하여 y 안에 들어가 있는 값의 중복을 제거합니다.\n",
    "# 이렇게 하면 y 안에 있는 값의 종류가 나오며, Class_1부터 Class_9까지 총 9개의 종류가 나옵니다.\n",
    "# 이것을 Label의 종류, 앞으로는 클래스(Class)라고 부르겠습니다.\n",
    "print(y.unique())\n",
    "\n",
    "# y 변수에 할당된 데이터의 사이즈를 출력합니다.\n",
    "# 출력은 (row, column) 으로 표시되나, column이 없기 때문에 (row,) 형태로 표시될 것입니다.\n",
    "print(y.shape)\n",
    "\n",
    "# y 데이터의 상위 5개를 띄웁니다.\n",
    "y.head()"
   ]
  },
  {
   "cell_type": "markdown",
   "metadata": {},
   "source": [
    "### Hold-out Validation"
   ]
  },
  {
   "cell_type": "markdown",
   "metadata": {},
   "source": [
    "모델의 정확도를 평가하기 위해서는 가지고 있는 모든 데이터를 학습데이터(train)로 넣어주지 않고, train과 test데이터로 나누어 주어야합니다.\n",
    "\n",
    "나누어준 후, train데이터로 학습을 시켜주고 test데이터로 모델의 성능을 측정합니다."
   ]
  },
  {
   "cell_type": "code",
   "execution_count": 7,
   "metadata": {},
   "outputs": [
    {
     "name": "stdout",
     "output_type": "stream",
     "text": [
      "43314 43314\n",
      "18564 18564\n"
     ]
    }
   ],
   "source": [
    "# scikit-learn의 model_selection 모듈에서 train_test_split 함수를 가져옵니다.\n",
    "# 이 함수를 활용해서 Hold-out validation을 할 것입니다.\n",
    "from sklearn.model_selection import train_test_split\n",
    "\n",
    "# train_test_split 을 실행합니다. train 데이터, 정확히는 X와 y를 나눌 것이며,\n",
    "# 비율은 학습용 데이터를 70%, 검증용 데이터를 30%로 나눌 것입니다.\n",
    "# 이를 각각 X_train, X_test, y_train, y_test 라는 값으로 받습니다.\n",
    "# (여기서 결과가 매 번 바뀌는 현상을 방지하기 위해, random_state를 사용해서 랜덤 값을 고정할 것입니다.)\n",
    "X_train, X_test, y_train, y_test = \\\n",
    "    train_test_split(X, y, test_size = 0.3, random_state = 42)\n",
    "\n",
    "# Train data와 Test data가 잘 나눠졌는지 각각의 데이터의 갯수를 출력하여 확인합니다.\n",
    "# train데이터는 43314개, test데이터는 18564개입니다.\n",
    "print(len(X_train), len(y_train))\n",
    "print(len(X_test), len(y_test))"
   ]
  },
  {
   "cell_type": "markdown",
   "metadata": {},
   "source": [
    "## Use Random Forest"
   ]
  },
  {
   "cell_type": "markdown",
   "metadata": {},
   "source": [
    "이번에 사용할 알고리즘은 랜덤 포레스트([Random Forest](https://en.wikipedia.org/wiki/Random_forest))입니다. 랜덤포레스트 알고리즘의 개략적인 동작 원리는 다음과 같습니다.\n",
    "\n",
    " 1. 먼저 전체 데이터를 그대로 쓰는게 아니라, 중복을 허용한다는 가정 하에 동일한 개수로 다시 한 번 샘플링(=[복원 추출](https://zetawiki.com/wiki/%EB%B3%B5%EC%9B%90%EC%B6%94%EC%B6%9C,_%EB%B9%84%EB%B3%B5%EC%9B%90%EC%B6%94%EC%B6%9C))을 합니다. 이를 베깅(bagging), 내지는 부트스트랩 어그리게이팅(bootstrap aggregating)이라고 합니다.\n",
    " 1. 이렇게 샘플링한 데이터마다 머신러닝 알고리즘 중 하나인 의사결정나무([DecisionTree](https://en.wikipedia.org/wiki/Decision_tree))를 학습시킵니다\n",
    " 1. 1번의 방식을 사용하면 이론적으로 무제한의 의사결정나무를 만들 수 있습니다. 이 의사결정나무를 지정한 갯수(=```n_estimators```)만큼 생성합니다.\n",
    " 1. 생성한 트리끼리 투표를 합니다. 가령 otto 상품분류 데이터를 기준으로, 1,000개의 트리 중 300개가 Class1이라고 판단하고 / 200개가 Class2라고 판단하면 해당 상품의 카테고리는 Class1이라고 판단합니다. 정 반대로 300개가 Class2라고 판단하고 / 200개가 Class1라고 판단하면 해당 상품의 카테고리는 Class2라고 판단합니다.\n",
    " \n",
    "이러한 방식을 거치면 의사결정나무(Decision Tree)를 포함한 다른 알고리즘보다 더 강력한 알고리즘을 구현할 수 있습니다. (자세한 설명은 [다음의 링크](http://swalloow.tistory.com/92)를 참고 바랍니다)\n",
    "\n",
    "이번에도 파이썬의 머신러닝 패키지인 [scikit-learn](https://scikit-learn.org/)에서 랜덤 포레스트를 가져오겠습니다. "
   ]
  },
  {
   "cell_type": "code",
   "execution_count": 8,
   "metadata": {},
   "outputs": [
    {
     "data": {
      "text/plain": [
       "RandomForestClassifier(bootstrap=True, class_weight=None, criterion='gini',\n",
       "                       max_depth=None, max_features='auto', max_leaf_nodes=None,\n",
       "                       min_impurity_decrease=0.0, min_impurity_split=None,\n",
       "                       min_samples_leaf=1, min_samples_split=2,\n",
       "                       min_weight_fraction_leaf=0.0, n_estimators='warn',\n",
       "                       n_jobs=-1, oob_score=False, random_state=42, verbose=0,\n",
       "                       warm_start=False)"
      ]
     },
     "execution_count": 8,
     "metadata": {},
     "output_type": "execute_result"
    }
   ],
   "source": [
    "# scikit-learn 패키지의 ensemble 모듈에 있는 RandomForestClassifier를 가지고 옵니다.\n",
    "from sklearn.ensemble import RandomForestClassifier\n",
    "\n",
    "# RandomForestClassifier를 생성합니다.\n",
    "# 1) n_jobs. 병렬처리 여부입니다. -1을 대입하면 컴퓨터에 존재하는 모든 코어(Core, ex: 듀얼코어, 쿼드코어)를 전부 활용합니다.\n",
    "# 2) random_state. 랜덤포레스트의 결과가 랜덤하게 나오는 것을 고정하는 옵션입니다. 아무 숫자나 넣어주면 됩니다. (공학 용어에서 쓰이는 Seed Number와 동일한 개념입니다)\n",
    "model = RandomForestClassifier(random_state = 42, n_jobs = -1)\n",
    "model"
   ]
  },
  {
   "cell_type": "code",
   "execution_count": 9,
   "metadata": {},
   "outputs": [
    {
     "name": "stderr",
     "output_type": "stream",
     "text": [
      "/opt/anaconda3/lib/python3.7/site-packages/sklearn/ensemble/forest.py:245: FutureWarning: The default value of n_estimators will change from 10 in version 0.20 to 100 in 0.22.\n",
      "  \"10 in version 0.20 to 100 in 0.22.\", FutureWarning)\n"
     ]
    },
    {
     "data": {
      "text/plain": [
       "RandomForestClassifier(bootstrap=True, class_weight=None, criterion='gini',\n",
       "                       max_depth=None, max_features='auto', max_leaf_nodes=None,\n",
       "                       min_impurity_decrease=0.0, min_impurity_split=None,\n",
       "                       min_samples_leaf=1, min_samples_split=2,\n",
       "                       min_weight_fraction_leaf=0.0, n_estimators=10, n_jobs=-1,\n",
       "                       oob_score=False, random_state=42, verbose=0,\n",
       "                       warm_start=False)"
      ]
     },
     "execution_count": 9,
     "metadata": {},
     "output_type": "execute_result"
    }
   ],
   "source": [
    "# RandomForestClassifier를 학습(fitting)합니다. train 데이터의 feature(X_train)와 label(y_train)을 집어넣습니다.\n",
    "model.fit(X_train, y_train)"
   ]
  },
  {
   "cell_type": "code",
   "execution_count": 10,
   "metadata": {},
   "outputs": [
    {
     "data": {
      "text/plain": [
       "'train = 0.993028, test = 0.779412'"
      ]
     },
     "execution_count": 10,
     "metadata": {},
     "output_type": "execute_result"
    }
   ],
   "source": [
    "# X_train, X_test를 입력으로 predict(예측)한 결과를 각각 y_train_predict, y_test_predict라는 이름의 변수에 할당합니다.\n",
    "y_train_predict = model.predict(X_train)\n",
    "y_test_predict = model.predict(X_test)\n",
    "\n",
    "# 예측값(y_train_predict, y_test_predict)이 얼마나 정답값(y)을 잘 맞췄는지 정확도를 계산합니다.\n",
    "train_score = (y_train == y_train_predict).mean()\n",
    "test_score = (y_test == y_test_predict).mean()\n",
    "\n",
    "# train, test 데이터의 각각의 예측 정확도를 출력해봅니다.\n",
    "f\"train = {train_score:.6f}, test = {test_score:.6f}\""
   ]
  },
  {
   "cell_type": "markdown",
   "metadata": {},
   "source": [
    "### Hyperparameter"
   ]
  },
  {
   "cell_type": "markdown",
   "metadata": {},
   "source": [
    "이제, 모델(model)의 Hypterparameter를 조정해봅시다. \n",
    "\n",
    "sklearn의 RandomForestClassifier에서는 아래와 같은 다양한 옵션들 세팅할 수 있습니다.\n",
    "* 기본적으로 DecisionTreeClassifier에서 썼던 max_depth, min_samples_split, min_samples_leaf 등등\n",
    "* **n_estimators**\n",
    "* **max_features**\n",
    "* **class_weight**\n",
    "* 이 외, RandomForestClassifier의 더욱 다양한 hyperparameter들에 대한 설명은 [이 곳 링크](https://scikit-learn.org/stable/modules/generated/sklearn.ensemble.RandomForestClassifier.html)에서 확인하실 수 있습니다.\n",
    "\n",
    "\n",
    "각각의 hyperparameter가 어떤 특성을 가지고 있는지, 해당 Hyperparameter의 값에 따라 모델의 성능(정확도)가 어떻게 달라지는지 살펴보겠습니다."
   ]
  },
  {
   "cell_type": "markdown",
   "metadata": {},
   "source": [
    "### Random Forest - n_estimators"
   ]
  },
  {
   "cell_type": "markdown",
   "metadata": {},
   "source": [
    "가장 먼저, RandomForest 모델에서 가장 중요한 n_estimators(트리의 개수)를 살펴보고자 합니다. \n",
    "\n",
    "* **n_estimators** : 생성할 의사결정나무의 개수. default 값은 10. (0.22버전에서는 100)  \n",
    "\n",
    "\n",
    " \n",
    "```n_estimators```(트리의 개수)를 지정해주어 여러개의 트리를 만들어 주면, 훈련 데이터에 오버피팅이 되는 경향을 가진 의사결정나무 모델의 단점을 해결할 수 있습니다. 따라서 ```n_estimators```(트리의 개수)는 클수록 좋습니다.  하지만, 그만큼 트리모형을 많이 만들어야하므로 메모리와 훈련 시간이 증가합니다. "
   ]
  },
  {
   "cell_type": "markdown",
   "metadata": {},
   "source": [
    "```n_estimators```의 값에 따라 정확도가 어떻게 변하는지 확인해봅시다."
   ]
  },
  {
   "cell_type": "code",
   "execution_count": 11,
   "metadata": {},
   "outputs": [
    {
     "name": "stdout",
     "output_type": "stream",
     "text": [
      "n_estimators = 10, train = 0.993028, test = 0.779412\n",
      "n_estimators = 20, train = 0.998453, test = 0.796811\n",
      "n_estimators = 30, train = 0.999561, test = 0.800690\n",
      "n_estimators = 40, train = 0.999885, test = 0.805484\n",
      "n_estimators = 50, train = 1.000000, test = 0.807315\n",
      "n_estimators = 60, train = 1.000000, test = 0.807746\n",
      "n_estimators = 70, train = 1.000000, test = 0.807315\n",
      "n_estimators = 80, train = 1.000000, test = 0.809093\n",
      "n_estimators = 90, train = 1.000000, test = 0.809632\n",
      "n_estimators = 100, train = 1.000000, test = 0.809901\n",
      "n_estimators = 110, train = 1.000000, test = 0.809739\n",
      "n_estimators = 120, train = 1.000000, test = 0.809685\n",
      "n_estimators = 130, train = 1.000000, test = 0.810547\n",
      "n_estimators = 140, train = 1.000000, test = 0.810709\n",
      "n_estimators = 150, train = 1.000000, test = 0.810170\n",
      "n_estimators = 160, train = 1.000000, test = 0.811140\n",
      "n_estimators = 170, train = 1.000000, test = 0.811248\n",
      "n_estimators = 180, train = 1.000000, test = 0.811409\n",
      "n_estimators = 190, train = 1.000000, test = 0.811248\n",
      "n_estimators = 200, train = 1.000000, test = 0.811517\n"
     ]
    },
    {
     "data": {
      "text/html": [
       "<div>\n",
       "<style scoped>\n",
       "    .dataframe tbody tr th:only-of-type {\n",
       "        vertical-align: middle;\n",
       "    }\n",
       "\n",
       "    .dataframe tbody tr th {\n",
       "        vertical-align: top;\n",
       "    }\n",
       "\n",
       "    .dataframe thead th {\n",
       "        text-align: right;\n",
       "    }\n",
       "</style>\n",
       "<table border=\"1\" class=\"dataframe\">\n",
       "  <thead>\n",
       "    <tr style=\"text-align: right;\">\n",
       "      <th></th>\n",
       "      <th>n_estimators</th>\n",
       "      <th>train</th>\n",
       "      <th>test</th>\n",
       "    </tr>\n",
       "  </thead>\n",
       "  <tbody>\n",
       "    <tr>\n",
       "      <td>0</td>\n",
       "      <td>10</td>\n",
       "      <td>0.993028</td>\n",
       "      <td>0.779412</td>\n",
       "    </tr>\n",
       "    <tr>\n",
       "      <td>1</td>\n",
       "      <td>20</td>\n",
       "      <td>0.998453</td>\n",
       "      <td>0.796811</td>\n",
       "    </tr>\n",
       "    <tr>\n",
       "      <td>2</td>\n",
       "      <td>30</td>\n",
       "      <td>0.999561</td>\n",
       "      <td>0.800690</td>\n",
       "    </tr>\n",
       "    <tr>\n",
       "      <td>3</td>\n",
       "      <td>40</td>\n",
       "      <td>0.999885</td>\n",
       "      <td>0.805484</td>\n",
       "    </tr>\n",
       "    <tr>\n",
       "      <td>4</td>\n",
       "      <td>50</td>\n",
       "      <td>1.000000</td>\n",
       "      <td>0.807315</td>\n",
       "    </tr>\n",
       "    <tr>\n",
       "      <td>5</td>\n",
       "      <td>60</td>\n",
       "      <td>1.000000</td>\n",
       "      <td>0.807746</td>\n",
       "    </tr>\n",
       "    <tr>\n",
       "      <td>6</td>\n",
       "      <td>70</td>\n",
       "      <td>1.000000</td>\n",
       "      <td>0.807315</td>\n",
       "    </tr>\n",
       "    <tr>\n",
       "      <td>7</td>\n",
       "      <td>80</td>\n",
       "      <td>1.000000</td>\n",
       "      <td>0.809093</td>\n",
       "    </tr>\n",
       "    <tr>\n",
       "      <td>8</td>\n",
       "      <td>90</td>\n",
       "      <td>1.000000</td>\n",
       "      <td>0.809632</td>\n",
       "    </tr>\n",
       "    <tr>\n",
       "      <td>9</td>\n",
       "      <td>100</td>\n",
       "      <td>1.000000</td>\n",
       "      <td>0.809901</td>\n",
       "    </tr>\n",
       "    <tr>\n",
       "      <td>10</td>\n",
       "      <td>110</td>\n",
       "      <td>1.000000</td>\n",
       "      <td>0.809739</td>\n",
       "    </tr>\n",
       "    <tr>\n",
       "      <td>11</td>\n",
       "      <td>120</td>\n",
       "      <td>1.000000</td>\n",
       "      <td>0.809685</td>\n",
       "    </tr>\n",
       "    <tr>\n",
       "      <td>12</td>\n",
       "      <td>130</td>\n",
       "      <td>1.000000</td>\n",
       "      <td>0.810547</td>\n",
       "    </tr>\n",
       "    <tr>\n",
       "      <td>13</td>\n",
       "      <td>140</td>\n",
       "      <td>1.000000</td>\n",
       "      <td>0.810709</td>\n",
       "    </tr>\n",
       "    <tr>\n",
       "      <td>14</td>\n",
       "      <td>150</td>\n",
       "      <td>1.000000</td>\n",
       "      <td>0.810170</td>\n",
       "    </tr>\n",
       "    <tr>\n",
       "      <td>15</td>\n",
       "      <td>160</td>\n",
       "      <td>1.000000</td>\n",
       "      <td>0.811140</td>\n",
       "    </tr>\n",
       "    <tr>\n",
       "      <td>16</td>\n",
       "      <td>170</td>\n",
       "      <td>1.000000</td>\n",
       "      <td>0.811248</td>\n",
       "    </tr>\n",
       "    <tr>\n",
       "      <td>17</td>\n",
       "      <td>180</td>\n",
       "      <td>1.000000</td>\n",
       "      <td>0.811409</td>\n",
       "    </tr>\n",
       "    <tr>\n",
       "      <td>18</td>\n",
       "      <td>190</td>\n",
       "      <td>1.000000</td>\n",
       "      <td>0.811248</td>\n",
       "    </tr>\n",
       "    <tr>\n",
       "      <td>19</td>\n",
       "      <td>200</td>\n",
       "      <td>1.000000</td>\n",
       "      <td>0.811517</td>\n",
       "    </tr>\n",
       "  </tbody>\n",
       "</table>\n",
       "</div>"
      ],
      "text/plain": [
       "    n_estimators     train      test\n",
       "0             10  0.993028  0.779412\n",
       "1             20  0.998453  0.796811\n",
       "2             30  0.999561  0.800690\n",
       "3             40  0.999885  0.805484\n",
       "4             50  1.000000  0.807315\n",
       "5             60  1.000000  0.807746\n",
       "6             70  1.000000  0.807315\n",
       "7             80  1.000000  0.809093\n",
       "8             90  1.000000  0.809632\n",
       "9            100  1.000000  0.809901\n",
       "10           110  1.000000  0.809739\n",
       "11           120  1.000000  0.809685\n",
       "12           130  1.000000  0.810547\n",
       "13           140  1.000000  0.810709\n",
       "14           150  1.000000  0.810170\n",
       "15           160  1.000000  0.811140\n",
       "16           170  1.000000  0.811248\n",
       "17           180  1.000000  0.811409\n",
       "18           190  1.000000  0.811248\n",
       "19           200  1.000000  0.811517"
      ]
     },
     "execution_count": 11,
     "metadata": {},
     "output_type": "execute_result"
    }
   ],
   "source": [
    "# range함수를 이용하여 n_estimators_list에 10부터 200까지 10단위로 자연수를 생성합니다.\n",
    "n_estimators_list = range(10, 201, 10)\n",
    "\n",
    "# 각각의 n_estimators에 따른 결과를 저장하기 위한 리스트(history)를 만듭니다.\n",
    "history = []\n",
    "\n",
    "# n_estimators_list에 있는 숫자만큼 돌릴 for문을 선언합니다.\n",
    "for n_estimators in n_estimators_list:\n",
    "    \n",
    "    # RandomForestClassifier를 생성하여 model이라는 이름의 변수에 할당합니다. \n",
    "    # n_jobs. 병렬처리 여부입니다. -1을 대입하면 컴퓨터에 존재하는 모든 코어(Core, ex: 듀얼코어, 쿼드코어)를 전부 활용합니다.\n",
    "    # n_estimators(트리의 개수)를 n_estimators로 지정해줍니다.\n",
    "    model = RandomForestClassifier(n_estimators = n_estimators,\n",
    "                                   n_jobs = -1,\n",
    "                                   random_state = 42)\n",
    "    \n",
    "    # 생성한 model을 학습(fitting)합니다. train 데이터의 feature(X_train)와 label(y_train)을 집어넣습니다.\n",
    "    model.fit(X_train, y_train)\n",
    "    \n",
    "    # X_train, X_test를 입력으로 predict(예측)한 결과를 각각 y_train_predict, y_test_predict라는 이름의 변수에 할당합니다.\n",
    "    y_train_predict = model.predict(X_train)\n",
    "    y_test_predict = model.predict(X_test)\n",
    "    \n",
    "    # 예측값(y_train_predict, y_test_predict)이 얼마나 정답값(y)을 잘 맞췄는지 정확도를 계산합니다.\n",
    "    train_score = (y_train == y_train_predict).mean()\n",
    "    test_score = (y_test == y_test_predict).mean()\n",
    "    \n",
    "    # n_estimators에 따른 train, test 데이터의 각각의 예측 정확도를 출력해봅니다.\n",
    "    print(f\"n_estimators = {n_estimators}, train = {train_score:.6f}, test = {test_score:.6f}\")\n",
    "    \n",
    "    # n_estimators에 따른 train, test 데이터에 대한 예측 정확도를 history에 저장합니다.\n",
    "    history.append({\n",
    "        'n_estimators': n_estimators,\n",
    "        'train': train_score,\n",
    "        'test': test_score,\n",
    "    })\n",
    "\n",
    "# 결과를 판다스의 DataFrame형태로 변형하여 출력합니다.\n",
    "history = pd.DataFrame(history)\n",
    "history"
   ]
  },
  {
   "cell_type": "markdown",
   "metadata": {},
   "source": [
    "이제, ```n_estimators```에 따른 학습결과(정확도)를 시각화 해봅시다."
   ]
  },
  {
   "cell_type": "code",
   "execution_count": 12,
   "metadata": {},
   "outputs": [
    {
     "data": {
      "text/plain": [
       "<matplotlib.legend.Legend at 0x1a21ddbd10>"
      ]
     },
     "execution_count": 12,
     "metadata": {},
     "output_type": "execute_result"
    },
    {
     "data": {
      "image/png": "[encoded data removed]",
      "text/plain": [
       "<Figure size 1008x288 with 2 Axes>"
      ]
     },
     "metadata": {
      "needs_background": "light"
     },
     "output_type": "display_data"
    }
   ],
   "source": [
    "# 주피터 노트북에서 그림을 바로 띄워주도록 합니다. \n",
    "%matplotlib inline\n",
    "# 학습결과를 그래프로 그려주는 matplotlib의 pyplot모듈을 불러옵니다.\n",
    "import matplotlib.pyplot as plt\n",
    "\n",
    "# 그래프의 크기를 설정합니다. 가로 14, 세로 4\n",
    "plt.figure(figsize = (14, 4))\n",
    "\n",
    "# pyplot의 plot으로 x축에는 n_estimators값을 y축에는 train,test데이터에 대한 모델의 예측정확도값을 넣어줍니다.\n",
    "# nrows=1, ncols=2인 서브플롯에서 첫번째 위치에 그래프를 그립니다.\n",
    "plt.subplot(1,2,1)\n",
    "plt.plot(history['n_estimators'], history['test'], label='test')\n",
    "plt.plot(history['n_estimators'], history['train'], label='train')\n",
    "# 범례를 출력합니다. \n",
    "plt.legend()\n",
    "\n",
    "# test데이터에 대한 모델의 예측정확도 값만 따로 그려줍니다.\n",
    "# nrows=1, ncols=2인 서브플롯에서 두번째 위치에 그래프를 그립니다.\n",
    "plt.subplot(1,2,2)\n",
    "plt.plot(history['n_estimators'], history['test'], label='test')\n",
    "\n",
    "# 범례를 출력합니다.\n",
    "plt.legend()"
   ]
  },
  {
   "cell_type": "markdown",
   "metadata": {},
   "source": [
    "```n_estimators```값이 클수록 train, test 에 대한 모델의 정확도가 꾸준히 증가합니다. "
   ]
  },
  {
   "cell_type": "markdown",
   "metadata": {},
   "source": [
    "### Random Forest - max_features"
   ]
  },
  {
   "cell_type": "markdown",
   "metadata": {},
   "source": [
    "다음으로, ```max_features```(무작위로 선택할 feature의 개수)를 살펴보고자 합니다. \n",
    "\n",
    "* **max_features** : 무작위로 선택할 feature의 개수. Default값은 sqrt(전체features개수). 복원추출을 할때, 지정된 개수만큼의 features 수를 선택합니다. 0에서 1사이의 실수 값을 넣으면, 전체 features 수에 대한 비중으로 인식합니다.\n",
    "\n",
    " \n",
    "```max_features```값이 클수록 특성 선택의 무작위성이 줄어들어 랜덤포레스트의 트리들이 매우 비슷해지고, 반대로 값이 작을수록 트리들이 서로 매우 달라질 것입니다.  "
   ]
  },
  {
   "cell_type": "markdown",
   "metadata": {},
   "source": [
    "```max_features```의 값에 따라 정확도가 어떻게 변하는지 확인해봅시다."
   ]
  },
  {
   "cell_type": "code",
   "execution_count": 13,
   "metadata": {},
   "outputs": [
    {
     "name": "stdout",
     "output_type": "stream",
     "text": [
      "max_features = 0.05, train = 0.993651, test = 0.766376\n",
      "max_features = 0.1, train = 0.993028, test = 0.779412\n",
      "max_features = 0.15, train = 0.992520, test = 0.780812\n",
      "max_features = 0.2, train = 0.992958, test = 0.784960\n",
      "max_features = 0.25, train = 0.992566, test = 0.782374\n",
      "max_features = 0.3, train = 0.991966, test = 0.781136\n",
      "max_features = 0.35, train = 0.992266, test = 0.787330\n",
      "max_features = 0.4, train = 0.992450, test = 0.783183\n",
      "max_features = 0.45, train = 0.992404, test = 0.784044\n",
      "max_features = 0.5, train = 0.992381, test = 0.785607\n",
      "max_features = 0.55, train = 0.991619, test = 0.783021\n",
      "max_features = 0.6, train = 0.992058, test = 0.783991\n",
      "max_features = 0.65, train = 0.991573, test = 0.786792\n",
      "max_features = 0.7, train = 0.991781, test = 0.783183\n",
      "max_features = 0.75, train = 0.991250, test = 0.783721\n",
      "max_features = 0.8, train = 0.992450, test = 0.780112\n",
      "max_features = 0.85, train = 0.991712, test = 0.784906\n",
      "max_features = 0.9, train = 0.991296, test = 0.782267\n",
      "max_features = 0.95, train = 0.990881, test = 0.778873\n"
     ]
    },
    {
     "data": {
      "text/html": [
       "<div>\n",
       "<style scoped>\n",
       "    .dataframe tbody tr th:only-of-type {\n",
       "        vertical-align: middle;\n",
       "    }\n",
       "\n",
       "    .dataframe tbody tr th {\n",
       "        vertical-align: top;\n",
       "    }\n",
       "\n",
       "    .dataframe thead th {\n",
       "        text-align: right;\n",
       "    }\n",
       "</style>\n",
       "<table border=\"1\" class=\"dataframe\">\n",
       "  <thead>\n",
       "    <tr style=\"text-align: right;\">\n",
       "      <th></th>\n",
       "      <th>max_features</th>\n",
       "      <th>train</th>\n",
       "      <th>test</th>\n",
       "    </tr>\n",
       "  </thead>\n",
       "  <tbody>\n",
       "    <tr>\n",
       "      <td>0</td>\n",
       "      <td>0.05</td>\n",
       "      <td>0.993651</td>\n",
       "      <td>0.766376</td>\n",
       "    </tr>\n",
       "    <tr>\n",
       "      <td>1</td>\n",
       "      <td>0.10</td>\n",
       "      <td>0.993028</td>\n",
       "      <td>0.779412</td>\n",
       "    </tr>\n",
       "    <tr>\n",
       "      <td>2</td>\n",
       "      <td>0.15</td>\n",
       "      <td>0.992520</td>\n",
       "      <td>0.780812</td>\n",
       "    </tr>\n",
       "    <tr>\n",
       "      <td>3</td>\n",
       "      <td>0.20</td>\n",
       "      <td>0.992958</td>\n",
       "      <td>0.784960</td>\n",
       "    </tr>\n",
       "    <tr>\n",
       "      <td>4</td>\n",
       "      <td>0.25</td>\n",
       "      <td>0.992566</td>\n",
       "      <td>0.782374</td>\n",
       "    </tr>\n",
       "    <tr>\n",
       "      <td>5</td>\n",
       "      <td>0.30</td>\n",
       "      <td>0.991966</td>\n",
       "      <td>0.781136</td>\n",
       "    </tr>\n",
       "    <tr>\n",
       "      <td>6</td>\n",
       "      <td>0.35</td>\n",
       "      <td>0.992266</td>\n",
       "      <td>0.787330</td>\n",
       "    </tr>\n",
       "    <tr>\n",
       "      <td>7</td>\n",
       "      <td>0.40</td>\n",
       "      <td>0.992450</td>\n",
       "      <td>0.783183</td>\n",
       "    </tr>\n",
       "    <tr>\n",
       "      <td>8</td>\n",
       "      <td>0.45</td>\n",
       "      <td>0.992404</td>\n",
       "      <td>0.784044</td>\n",
       "    </tr>\n",
       "    <tr>\n",
       "      <td>9</td>\n",
       "      <td>0.50</td>\n",
       "      <td>0.992381</td>\n",
       "      <td>0.785607</td>\n",
       "    </tr>\n",
       "    <tr>\n",
       "      <td>10</td>\n",
       "      <td>0.55</td>\n",
       "      <td>0.991619</td>\n",
       "      <td>0.783021</td>\n",
       "    </tr>\n",
       "    <tr>\n",
       "      <td>11</td>\n",
       "      <td>0.60</td>\n",
       "      <td>0.992058</td>\n",
       "      <td>0.783991</td>\n",
       "    </tr>\n",
       "    <tr>\n",
       "      <td>12</td>\n",
       "      <td>0.65</td>\n",
       "      <td>0.991573</td>\n",
       "      <td>0.786792</td>\n",
       "    </tr>\n",
       "    <tr>\n",
       "      <td>13</td>\n",
       "      <td>0.70</td>\n",
       "      <td>0.991781</td>\n",
       "      <td>0.783183</td>\n",
       "    </tr>\n",
       "    <tr>\n",
       "      <td>14</td>\n",
       "      <td>0.75</td>\n",
       "      <td>0.991250</td>\n",
       "      <td>0.783721</td>\n",
       "    </tr>\n",
       "    <tr>\n",
       "      <td>15</td>\n",
       "      <td>0.80</td>\n",
       "      <td>0.992450</td>\n",
       "      <td>0.780112</td>\n",
       "    </tr>\n",
       "    <tr>\n",
       "      <td>16</td>\n",
       "      <td>0.85</td>\n",
       "      <td>0.991712</td>\n",
       "      <td>0.784906</td>\n",
       "    </tr>\n",
       "    <tr>\n",
       "      <td>17</td>\n",
       "      <td>0.90</td>\n",
       "      <td>0.991296</td>\n",
       "      <td>0.782267</td>\n",
       "    </tr>\n",
       "    <tr>\n",
       "      <td>18</td>\n",
       "      <td>0.95</td>\n",
       "      <td>0.990881</td>\n",
       "      <td>0.778873</td>\n",
       "    </tr>\n",
       "  </tbody>\n",
       "</table>\n",
       "</div>"
      ],
      "text/plain": [
       "    max_features     train      test\n",
       "0           0.05  0.993651  0.766376\n",
       "1           0.10  0.993028  0.779412\n",
       "2           0.15  0.992520  0.780812\n",
       "3           0.20  0.992958  0.784960\n",
       "4           0.25  0.992566  0.782374\n",
       "5           0.30  0.991966  0.781136\n",
       "6           0.35  0.992266  0.787330\n",
       "7           0.40  0.992450  0.783183\n",
       "8           0.45  0.992404  0.784044\n",
       "9           0.50  0.992381  0.785607\n",
       "10          0.55  0.991619  0.783021\n",
       "11          0.60  0.992058  0.783991\n",
       "12          0.65  0.991573  0.786792\n",
       "13          0.70  0.991781  0.783183\n",
       "14          0.75  0.991250  0.783721\n",
       "15          0.80  0.992450  0.780112\n",
       "16          0.85  0.991712  0.784906\n",
       "17          0.90  0.991296  0.782267\n",
       "18          0.95  0.990881  0.778873"
      ]
     },
     "execution_count": 13,
     "metadata": {},
     "output_type": "execute_result"
    }
   ],
   "source": [
    "# max_features_list에 0.05부터 0.95까지 0.05단위로 19개의 실수를 생성합니다.\n",
    "max_features_list = [0.05, 0.1, 0.15, 0.2, 0.25, 0.3, 0.35, 0.4, 0.45, 0.5, \n",
    "                     0.55, 0.6, 0.65, 0.7, 0.75, 0.8, 0.85, 0.9, 0.95]\n",
    "\n",
    "# 각각의 max_features에 따른 결과를 저장하기 위한 리스트(history)를 만듭니다.\n",
    "history = []\n",
    "\n",
    "# max_features_list에 있는 숫자만큼 돌릴 for문을 선언합니다.\n",
    "for max_features in max_features_list:\n",
    "    \n",
    "    # RandomForestClassifier를 생성하여 model이라는 이름의 변수에 할당합니다. \n",
    "    # n_jobs. 병렬처리 여부입니다. -1을 대입하면 컴퓨터에 존재하는 모든 코어(Core, ex: 듀얼코어, 쿼드코어)를 전부 활용합니다.\n",
    "    # max_features(트리의 개수)를 max_features로 지정해줍니다.\n",
    "    model = RandomForestClassifier(max_features = max_features,\n",
    "                                   n_estimators = 10,\n",
    "                                   n_jobs = -1,\n",
    "                                   random_state = 42)\n",
    "    \n",
    "    # 생성한 model을 학습(fitting)합니다. train 데이터의 feature(X_train)와 label(y_train)을 집어넣습니다.\n",
    "    model.fit(X_train, y_train)\n",
    "    \n",
    "    # X_train, X_test를 입력으로 predict(예측)한 결과를 각각 y_train_predict, y_test_predict라는 이름의 변수에 할당합니다.\n",
    "    y_train_predict = model.predict(X_train)\n",
    "    y_test_predict = model.predict(X_test)\n",
    "    \n",
    "    # 예측값(y_train_predict, y_test_predict)이 얼마나 정답값(y)을 잘 맞췄는지 정확도를 계산합니다.\n",
    "    train_score = (y_train == y_train_predict).mean()\n",
    "    test_score = (y_test == y_test_predict).mean()\n",
    "    \n",
    "    # max_features에 따른 train, test 데이터의 각각의 예측 정확도를 출력해봅니다.\n",
    "    print(f\"max_features = {max_features}, train = {train_score:.6f}, test = {test_score:.6f}\")\n",
    "    \n",
    "    # max_features에 따른 train, test 데이터에 대한 예측 정확도를 history에 저장합니다.\n",
    "    history.append({\n",
    "        'max_features': max_features,\n",
    "        'train': train_score,\n",
    "        'test': test_score,\n",
    "    })\n",
    "\n",
    "# 결과를 판다스의 DataFrame형태로 변형하여 출력합니다.\n",
    "history = pd.DataFrame(history)\n",
    "history"
   ]
  },
  {
   "cell_type": "markdown",
   "metadata": {},
   "source": [
    "학습이 완료되었으면 이제, ```max_features```에 따른 학습결과(정확도)를 시각화 해봅시다."
   ]
  },
  {
   "cell_type": "code",
   "execution_count": 14,
   "metadata": {},
   "outputs": [
    {
     "data": {
      "text/plain": [
       "<matplotlib.legend.Legend at 0x1a2204abd0>"
      ]
     },
     "execution_count": 14,
     "metadata": {},
     "output_type": "execute_result"
    },
    {
     "data": {
      "image/png": "[encoded data removed]",
      "text/plain": [
       "<Figure size 1008x288 with 2 Axes>"
      ]
     },
     "metadata": {
      "needs_background": "light"
     },
     "output_type": "display_data"
    }
   ],
   "source": [
    "# 주피터 노트북에서 그림을 바로 띄워주도록 합니다. \n",
    "%matplotlib inline\n",
    "# 학습결과를 그래프로 그려주는 matplotlib의 pyplot모듈을 불러옵니다.\n",
    "import matplotlib.pyplot as plt\n",
    "\n",
    "# 그래프의 크기를 설정합니다. 가로 14, 세로 4\n",
    "plt.figure(figsize = (14, 4))\n",
    "\n",
    "# pyplot의 plot으로 x축에는 max_features값을 y축에는 train,test데이터에 대한 모델의 예측정확도값을 넣어줍니다.\n",
    "# nrows=1, ncols=2인 서브플롯에서 첫번째 위치에 그래프를 그립니다.\n",
    "plt.subplot(1,2,1)\n",
    "plt.plot(history['max_features'], history['test'], label='test')\n",
    "plt.plot(history['max_features'], history['train'], label='train')\n",
    "# 범례를 출력합니다. \n",
    "plt.legend()\n",
    "\n",
    "# test데이터에 대한 모델의 예측정확도 값만 따로 그려줍니다.\n",
    "# nrows=1, ncols=2인 서브플롯에서 두번째 위치에 그래프를 그립니다.\n",
    "plt.subplot(1,2,2)\n",
    "plt.plot(history['max_features'], history['test'], label='test')\n",
    "\n",
    "# 범례를 출력합니다.\n",
    "plt.legend()"
   ]
  },
  {
   "cell_type": "markdown",
   "metadata": {},
   "source": [
    "```max_features```값이 0.35, 0.6 정도 값에서  test 데이터에 대한 모델의 정확도가 가장 높습니다."
   ]
  },
  {
   "cell_type": "markdown",
   "metadata": {},
   "source": [
    "### Random Forest - class_weight"
   ]
  },
  {
   "cell_type": "markdown",
   "metadata": {},
   "source": [
    "마지막으로, ```class_weight```(class별 가중치)를 살펴보고자 합니다. \n",
    "\n",
    "* **class_weight** : bagging을 해줄 때의 각 class별로 가중치를 설정합니다. Default값은 ```None```값으로 모든 Class에 똑같이 1의 비중을 할당. 이 값에 ```\"balanced\"``` 값을 할당하면, 자동으로 각 class의 비중의 역수의 비율로 비중을 설정해주어 복원추출한 데이터셋의 Class의 비중이 균일해진다. \n",
    "\n",
    " \n",
    "일반적으로 균등한 class분포를 가지지만 train 데이터 셋의 class 비중이 상이할 때, ```class_weight```값을 ```balanced```로 설정해줍니다."
   ]
  },
  {
   "cell_type": "code",
   "execution_count": 15,
   "metadata": {},
   "outputs": [
    {
     "data": {
      "text/plain": [
       "Class_2    11322\n",
       "Class_6     9845\n",
       "Class_8     5974\n",
       "Class_3     5643\n",
       "Class_9     3397\n",
       "Class_7     1993\n",
       "Class_4     1904\n",
       "Class_5     1894\n",
       "Class_1     1342\n",
       "Name: target, dtype: int64"
      ]
     },
     "execution_count": 15,
     "metadata": {},
     "output_type": "execute_result"
    }
   ],
   "source": [
    "# train 데이터 셋의 label class 비중을 살펴보기위해, 판다스(pandas)의 value_counts()로 각 class의 개수를 계산합니다.\n",
    "y_train.value_counts()"
   ]
  },
  {
   "cell_type": "markdown",
   "metadata": {},
   "source": [
    "train 데이터셋의 각 class별 비중의 차이가 꽤 있음을 볼 수 있습니다.```class_weight```값의 세팅 여부에 따라 모델의 성능이 얼마나 달라지는지 확인해봅시다."
   ]
  },
  {
   "cell_type": "code",
   "execution_count": 16,
   "metadata": {},
   "outputs": [
    {
     "name": "stdout",
     "output_type": "stream",
     "text": [
      "class weight(None): train = 0.990881, test = 0.612791\n",
      "class weight(balanced): train = 0.146726, test = 0.606288\n"
     ]
    }
   ],
   "source": [
    "# scikit-learn의 metrics 모듈에 있는 log_loss 함수를 가져옵니다.\n",
    "# 이 함수가 실제 Multi-class Logarithmic Loss(이하 log loss)를 계산해주는 함수입니다.\n",
    "from sklearn.metrics import log_loss\n",
    "\n",
    "# RandomForestClassifier를 생성하여 model이라는 이름의 변수에 할당합니다. \n",
    "# n_jobs. 병렬처리 여부입니다. -1을 대입하면 컴퓨터에 존재하는 모든 코어(Core, ex: 듀얼코어, 쿼드코어)를 전부 활용합니다.\n",
    "# n_estimators 는 100으로 지정해줍니다.\n",
    "# class_weight를 None로 지정해줍니다.\n",
    "model = RandomForestClassifier(class_weight = None,\n",
    "                               n_estimators = 100,\n",
    "                               n_jobs = -1,\n",
    "                               random_state = 42)\n",
    "\n",
    "# 생성한 model을 학습(fitting)합니다. train 데이터의 feature(X_train)와 label(y_train)을 집어넣습니다.\n",
    "model.fit(X_train, y_train)\n",
    "\n",
    "# 학습이 끝났으면 predict_proba로 결과를 예측합니다.\n",
    "# 여기서 predict가 아닌 predict_proba를 사용하는 이유는, 확률(probability)를 받아오기 위해서 그렇습니다.\n",
    "# (확률을 받아와야 뒤에서 log loss를 계산할 수 있습니다)\n",
    "# 이 결과를 y_train_predict, y_test_predict라는 이름의 변수에 담아줍니다.\n",
    "y_train_predict = model.predict_proba(X_train)\n",
    "y_test_predict = model.predict_proba(X_test)\n",
    "\n",
    "# 데이터셋의 정답(y_train, y_test)과 예측값(y_train_predict, y_test_predict, 확률)을 활용해 log loss를 계산합니다.\n",
    "# 이 결과를 train_score, test_score라는 이름의 변수에 할당합니다.train_score = log_loss(y_train, y_train_predict)\n",
    "test_score = log_loss(y_test, y_test_predict)\n",
    "\n",
    "# class_weight에 따른 train, test 데이터의 각각의 예측 정확도를 출력해봅니다.\n",
    "print(f\"class weight(None): train = {train_score:.6f}, test = {test_score:.6f}\")\n",
    "\n",
    "# 이번엔 class_weight를 \"balanced\"로 지정하여 RandomForestClassifier를 다시 생성하여 model이라는 이름의 변수에 할당합니다. \n",
    "# n_jobs. 병렬처리 여부입니다. -1을 대입하면 컴퓨터에 존재하는 모든 코어(Core, ex: 듀얼코어, 쿼드코어)를 전부 활용합니다.\n",
    "# n_estimators 는 100으로 지정해줍니다.\n",
    "model = RandomForestClassifier(class_weight = \"balanced\",\n",
    "                               n_estimators = 100,\n",
    "                               n_jobs = -1,\n",
    "                               random_state = 42)\n",
    "\n",
    "# 생성한 model을 학습(fitting)합니다. train 데이터의 feature(X_train)와 label(y_train)을 집어넣습니다.\n",
    "model.fit(X_train, y_train)\n",
    "\n",
    "# 학습이 끝났으면 predict_proba로 결과를 예측합니다.\n",
    "# 여기서 predict가 아닌 predict_proba를 사용하는 이유는, 확률(probability)를 받아오기 위해서 그렇습니다.\n",
    "# (확률을 받아와야 뒤에서 log loss를 계산할 수 있습니다)\n",
    "# 이 결과를 y_train_predict, y_test_predict라는 이름의 변수에 담아줍니다.\n",
    "y_train_predict = model.predict_proba(X_train)\n",
    "y_test_predict = model.predict_proba(X_test)\n",
    "\n",
    "# 데이터셋의 정답(y_train, y_test)과 예측값(y_train_predict, y_test_predict, 확률)을 활용해 log loss를 계산합니다.\n",
    "# 이 결과를 train_score, test_score라는 이름의 변수에 할당합니다.\n",
    "train_score = log_loss(y_train, y_train_predict)\n",
    "test_score = log_loss(y_test, y_test_predict)\n",
    "\n",
    "# class_weight에 따른 train, test 데이터의 각각의 예측 오차(log loss)를 출력해봅니다.\n",
    "print(f\"class weight(balanced): train = {train_score:.6f}, test = {test_score:.6f}\")"
   ]
  },
  {
   "cell_type": "markdown",
   "metadata": {},
   "source": [
    "```class_weight```값을 ```\"balanced\"```로 세팅해주었을때, 모델의 성능이 약간 더 좋아지는 것을 확인할 수 있습니다."
   ]
  },
  {
   "cell_type": "markdown",
   "metadata": {},
   "source": [
    "* 이 외, RandomForestClassifier의 더욱 다양한 hyperparameter들에 대한 설명은 [이 곳 링크](https://scikit-learn.org/stable/modules/generated/sklearn.ensemble.RandomForestClassifier.html)에서 확인하실 수 있습니다.\n",
    "\n"
   ]
  },
  {
   "cell_type": "markdown",
   "metadata": {},
   "source": [
    "## Use Gradient Boosting Machine"
   ]
  },
  {
   "cell_type": "markdown",
   "metadata": {},
   "source": [
    "이번에는 랜덤포레스트(Random Forest)에 이은 또 다른 머신러닝 모델을 이용해보겠습니다.\n",
    "\n",
    "이번에 사용할 알고리즘은 그래디언트 부스팅 머신(Gradient Boosting Machine)입니다. 그래디언트 부스팅 머신은 의사결정나무(Decision Tree)에 그래디언트 부스팅(Boosting Machine)이라는 알고리즘을 적용한 모델인데, 정형화 데이터(Structured Data)에 한해서는 가장 강력한 머신러닝 알고리즘이라고 불리우고 있습니다. 알고리즘의 동작 원리는 다음과 같습니다.\n",
    "\n",
    "  1. 의사결정나무(Decision Tree)를 하나 학습합니다.\n",
    "  1. 1번에서 학습한 의사결정나무를 통해, 학습(train)데이터를 예측합니다. 그리고 예측값과 정답의 차이(residual)를 계산합니다.\n",
    "  1. 위 차이(residual)를 보정하는 또 하나의 의사결정나무(Decision Tree)를 학습합니다. 두 번째 의사결정나무에서는 차이를 입력값으로 받고, 차이를 보정하기 위해서는 얼만큼의 보정값이 필요한지를 예측합니다.\n",
    "위 방식을 끊임없이 반복합니다.\n",
    "\n",
    "이러한 방식을 거치면 의사결정나무(Decision Tree)보다 더 강력한 알고리즘을 구현할 수 있습니다. \n",
    "  \n",
    "그래디언트 부스팅 머신에는 여러 구현체(Implementation)가 있지만, 여기서는 [scikit-learn](https://scikit-learn.org/)에 들어가 있는 [GradientBoostingClassifier](https://scikit-learn.org/stable/modules/generated/sklearn.ensemble.GradientBoostingClassifier.html)를 사용해보겠습니다.\n",
    "\n",
    "scikit-learn에 있는 머신러닝 알고리즘을 사용하기 위해서는 크게 두 가지 기능만 숙지하고 있으면 충분합니다.\n",
    "\n",
    "* ```fit```: 머신러닝 알고리즘을 학습시킵니다. 전문용어로 training, 내지는 fitting한다고 하기 때문에 ```fit```이라는 표현을 사용합니다. fit을 하기 위해서는 train 데이터가 필요하며, 정확히는 train 데이터의 feature(```X_train```)와 label(```y_train```)이 필요합니다.\n",
    "* ```predict```: ```fit```이 끝나면, 이후에 ```predict```를 통해 예측을 할 수 있습니다. predict를 하기 위해서는 test 데이터가 필요하며, 정확히는 test 데이터의 feature(```X_test```)가 필요합니다.\n",
    "\n",
    "이 두 가지 기능만 숙지하고 있으면 언제든지 머신러닝 알고리즘을 활용할 수 있습니다."
   ]
  },
  {
   "cell_type": "code",
   "execution_count": 17,
   "metadata": {},
   "outputs": [
    {
     "data": {
      "text/plain": [
       "GradientBoostingClassifier(criterion='friedman_mse', init=None,\n",
       "                           learning_rate=0.1, loss='deviance', max_depth=3,\n",
       "                           max_features=None, max_leaf_nodes=None,\n",
       "                           min_impurity_decrease=0.0, min_impurity_split=None,\n",
       "                           min_samples_leaf=1, min_samples_split=2,\n",
       "                           min_weight_fraction_leaf=0.0, n_estimators=10,\n",
       "                           n_iter_no_change=None, presort='auto',\n",
       "                           random_state=42, subsample=1.0, tol=0.0001,\n",
       "                           validation_fraction=0.1, verbose=0,\n",
       "                           warm_start=False)"
      ]
     },
     "execution_count": 17,
     "metadata": {},
     "output_type": "execute_result"
    }
   ],
   "source": [
    "# scikit-learn(줄여서 sklearn)의 ensemble 모듈에서 GradientBoostingClassifier를 가져옵니다.\n",
    "from sklearn.ensemble import GradientBoostingClassifier\n",
    "\n",
    "# GradientBoostingClassifier를 생성하는데, 여기서 옵션(+하이퍼패러미터)는 다음과 같습니다.\n",
    "# * n_estimators - 나무(tree)의 개수를 지정합니다. 가령 10을 지정하면 총 10개의 나무를 만든다고 볼 수 있습니다.\n",
    "# * random_state - 알고리즘이 결과를 랜덤하게 내지 않도록 고정해줍니다. 자세한 사항은 이 링크 https://stackoverflow.com/a/28069274 를 참고 바랍니다. \n",
    "#  이를 model이라는 이름의 변수에 할당합니다.\n",
    "model = GradientBoostingClassifier(n_estimators = 10,\n",
    "                                   random_state = 42)\n",
    "\n",
    "# model 변수 안에 들어가 있는 값을 출력합니다.\n",
    "# GradientBoostingClassifier가 성공적으로 생성해서 model 변수에 할당되어 있는 사실을 알 수 있습니다.\n",
    "model"
   ]
  },
  {
   "cell_type": "code",
   "execution_count": 18,
   "metadata": {},
   "outputs": [
    {
     "name": "stdout",
     "output_type": "stream",
     "text": [
      "CPU times: user 21 s, sys: 334 ms, total: 21.4 s\n",
      "Wall time: 10.7 s\n"
     ]
    },
    {
     "data": {
      "text/plain": [
       "GradientBoostingClassifier(criterion='friedman_mse', init=None,\n",
       "                           learning_rate=0.1, loss='deviance', max_depth=3,\n",
       "                           max_features=None, max_leaf_nodes=None,\n",
       "                           min_impurity_decrease=0.0, min_impurity_split=None,\n",
       "                           min_samples_leaf=1, min_samples_split=2,\n",
       "                           min_weight_fraction_leaf=0.0, n_estimators=10,\n",
       "                           n_iter_no_change=None, presort='auto',\n",
       "                           random_state=42, subsample=1.0, tol=0.0001,\n",
       "                           validation_fraction=0.1, verbose=0,\n",
       "                           warm_start=False)"
      ]
     },
     "execution_count": 18,
     "metadata": {},
     "output_type": "execute_result"
    }
   ],
   "source": [
    "# 위에서 나눈 데이터 중, 70%에 해당하는 학습용 데이터로 머신러닝 모델을 학습(fit)합니다.\n",
    "# 여기서 %time을 사용하면 학습에 걸리는 시간을 측정할 수 있습니다.\n",
    "%time model.fit(X_train, y_train)"
   ]
  },
  {
   "cell_type": "code",
   "execution_count": 19,
   "metadata": {},
   "outputs": [
    {
     "name": "stdout",
     "output_type": "stream",
     "text": [
      "(43314, 9) (18564, 9)\n"
     ]
    },
    {
     "data": {
      "text/plain": [
       "(array([[0.01767009, 0.10209522, 0.05610306, ..., 0.02313969, 0.65354946,\n",
       "         0.0378314 ],\n",
       "        [0.0249385 , 0.17072717, 0.13745779, ..., 0.03265797, 0.08564703,\n",
       "         0.11426017],\n",
       "        [0.0226575 , 0.1551116 , 0.18963157, ..., 0.35713608, 0.07781332,\n",
       "         0.04850939],\n",
       "        ...,\n",
       "        [0.03786278, 0.21876573, 0.12021549, ..., 0.04958284, 0.22748999,\n",
       "         0.08106368],\n",
       "        [0.02677474, 0.31319937, 0.28077913, ..., 0.05600294, 0.08576471,\n",
       "         0.05907463],\n",
       "        [0.02801353, 0.34988687, 0.14199095, ..., 0.03668485, 0.15597984,\n",
       "         0.05997657]]),\n",
       " array([[0.0320043 , 0.36709235, 0.13505815, ..., 0.04191091, 0.10991329,\n",
       "         0.06852074],\n",
       "        [0.03158484, 0.2016752 , 0.14034841, ..., 0.23565997, 0.11561738,\n",
       "         0.06968744],\n",
       "        [0.01170899, 0.06765286, 0.0371764 , ..., 0.01533339, 0.04021252,\n",
       "         0.02506878],\n",
       "        ...,\n",
       "        [0.03462979, 0.23707303, 0.25051677, ..., 0.04534911, 0.11893011,\n",
       "         0.0741419 ],\n",
       "        [0.02573751, 0.0589376 , 0.03238721, ..., 0.01335809, 0.03503221,\n",
       "         0.33714351],\n",
       "        [0.01255327, 0.07253101, 0.03985702, ..., 0.01643901, 0.04311207,\n",
       "         0.02687638]]))"
      ]
     },
     "execution_count": 19,
     "metadata": {},
     "output_type": "execute_result"
    }
   ],
   "source": [
    "# 학습이 끝났으면 predict_proba로 결과를 예측합니다.\n",
    "# 여기서 predict가 아닌 predict_proba를 사용하는 이유는, 확률(probability)를 받아오기 위해서 그렇습니다.\n",
    "# (확률을 받아와야 뒤에서 log loss를 계산할 수 있습니다)\n",
    "# 이 결과를 y_test_predict라는 이름의 변수에 담아줍니다.\n",
    "y_train_predict = model.predict_proba(X_train)\n",
    "y_test_predict = model.predict_proba(X_test)\n",
    "\n",
    "# y_test_predict 변수에 할당된 데이터의 사이즈를 출력합니다.\n",
    "# 출력은 (row, column) 으로 표시됩니다.\n",
    "print(y_train_predict.shape, y_test_predict.shape)\n",
    "\n",
    "# y_test_predict 안에 들어가 있는 값을 출력합니다.\n",
    "# 데이터셋을 예측한 결과가 확률(probability)로 나올 것입니다.\n",
    "y_train_predict, y_test_predict"
   ]
  },
  {
   "cell_type": "code",
   "execution_count": 20,
   "metadata": {},
   "outputs": [
    {
     "name": "stdout",
     "output_type": "stream",
     "text": [
      "train(log_loss) = 1.043096, test(log_loss) = 1.040166\n"
     ]
    }
   ],
   "source": [
    "# scikit-learn의 metrics 모듈에 있는 log_loss 함수를 가져옵니다.\n",
    "# 이 함수가 실제 Multi-class Logarithmic Loss(이하 log loss)를 계산해주는 함수입니다.\n",
    "from sklearn.metrics import log_loss\n",
    "\n",
    "# 데이터셋의 정답(y_train, y_test)과 예측값(y_train_predict, y_test_predict, 확률)을 활용해 log loss를 계산합니다.\n",
    "# 이 결과를 train_score, test_score라는 이름의 변수에 할당합니다.\n",
    "train_score = log_loss(y_train, y_train_predict)\n",
    "test_score = log_loss(y_test, y_test_predict)\n",
    "\n",
    "# train, test 데이터의 각각의 예측 오차(log loss)를 출력해봅니다.\n",
    "print(f\"train(log_loss) = {train_score:.6f}, test(log_loss) = {test_score:.6f}\")"
   ]
  },
  {
   "cell_type": "markdown",
   "metadata": {},
   "source": [
    "### Hyperparameter"
   ]
  },
  {
   "cell_type": "markdown",
   "metadata": {},
   "source": [
    "이제, 모델(model)의 Hypterparameter를 조정해봅시다. \n",
    "\n",
    "sklearn의 GradientBoostingClassifier에서는 아래와 같은 다양한 옵션들 세팅할 수 있습니다.\n",
    "* 기본적으로 DecisionTreeClassifier에서 썼던 max_depth, min_samples_split, min_samples_leaf 등등\n",
    "\n",
    "* **n_estimators** : 생성할 의사결정나무의 개수. default 값은 100\n",
    "* **learning_rate** : 각각의 부스팅 트리가 결과에 미치는 비율. default 값은 0.1 \n",
    "* 이 외, GradientBoostingClassifier의 더욱 다양한 hyperparameter들에 대한 설명은 [이 곳 링크](https://scikit-learn.org/stable/modules/generated/sklearn.ensemble.RandomForestClassifier.html)에서 확인하실 수 있습니다.\n",
    "\n",
    " \n",
    "GradientBoosting모형에서 가장 중요한 ```n_estimators```(트리의 개수)는 일반적으로 클수록 좋지만, 그만큼 트리모형을 많이 만들어야하므로 메모리와 훈련 시간이 증가합니다. 또한, ```learning_rate```의 경우, 기본적으로 0보다 큰 숫자를 적용하되, 너무 크면 각 나무들이 오류를 크게 보정함으로써 성능이 오히려 안 좋아지는 효과가 있습니다. ```learning_rate```가 너무 작을 경우, 상대적으로 ```n_estimators```를 키워야 하므로 학습이 오래 걸리는 문제가 있습니다. "
   ]
  },
  {
   "cell_type": "markdown",
   "metadata": {},
   "source": [
    "```n_estimators```와 ```learning_rate```는 일반적으로 서로의 값에 영향을 크게 받습니다. 따라서, 두 옵션값을 함께 조절해가며 score(log loss)가 어떻게 변하는지 확인해보겠습니다. "
   ]
  },
  {
   "cell_type": "code",
   "execution_count": 21,
   "metadata": {},
   "outputs": [
    {
     "name": "stdout",
     "output_type": "stream",
     "text": [
      "n_estimators = 20, learning_rate = 0.0001,              train = 1.943414, test = 1.946892\n",
      "n_estimators = 20, learning_rate = 0.0003,              train = 1.931807, test = 1.935104\n",
      "n_estimators = 20, learning_rate = 0.001,              train = 1.893948, test = 1.896722\n",
      "n_estimators = 20, learning_rate = 0.003,              train = 1.802544, test = 1.804391\n",
      "n_estimators = 20, learning_rate = 0.01,              train = 1.578740, test = 1.578804\n",
      "n_estimators = 20, learning_rate = 0.03,              train = 1.238344, test = 1.235938\n",
      "n_estimators = 20, learning_rate = 0.1,              train = 0.837655, test = 0.837584\n",
      "n_estimators = 20, learning_rate = 0.3,              train = 0.622335, test = 0.653458\n",
      "n_estimators = 20, learning_rate = 1.0,              train = 1.359135, test = 1.447562\n",
      "n_estimators = 40, learning_rate = 0.0001,              train = 1.937566, test = 1.940951\n",
      "n_estimators = 40, learning_rate = 0.0003,              train = 1.915131, test = 1.918188\n",
      "n_estimators = 40, learning_rate = 0.001,              train = 1.845935, test = 1.848171\n",
      "n_estimators = 40, learning_rate = 0.003,              train = 1.695215, test = 1.696329\n",
      "n_estimators = 40, learning_rate = 0.01,              train = 1.379921, test = 1.378273\n",
      "n_estimators = 40, learning_rate = 0.03,              train = 1.001114, test = 0.998381\n",
      "n_estimators = 40, learning_rate = 0.1,              train = 0.685487, test = 0.694565\n",
      "n_estimators = 40, learning_rate = 0.3,              train = 0.539648, test = 0.601095\n",
      "n_estimators = 40, learning_rate = 1.0,              train = 1.589830, test = 1.699718\n",
      "n_estimators = 60, learning_rate = 0.0001,              train = 1.931820, test = 1.935118\n",
      "n_estimators = 60, learning_rate = 0.0003,              train = 1.899222, test = 1.902066\n",
      "n_estimators = 60, learning_rate = 0.001,              train = 1.803205, test = 1.805069\n",
      "n_estimators = 60, learning_rate = 0.003,              train = 1.607554, test = 1.607980\n",
      "n_estimators = 60, learning_rate = 0.01,              train = 1.244482, test = 1.242157\n",
      "n_estimators = 60, learning_rate = 0.03,              train = 0.877389, test = 0.876282\n",
      "n_estimators = 60, learning_rate = 0.1,              train = 0.622078, test = 0.642052\n",
      "n_estimators = 60, learning_rate = 0.3,              train = 0.491306, test = 0.586984\n",
      "n_estimators = 60, learning_rate = 1.0,              train = 1.591100, test = 1.701809\n",
      "n_estimators = 80, learning_rate = 0.0001,              train = 1.926174, test = 1.929387\n",
      "n_estimators = 80, learning_rate = 0.0003,              train = 1.883979, test = 1.886635\n",
      "n_estimators = 80, learning_rate = 0.001,              train = 1.764570, test = 1.766124\n",
      "n_estimators = 80, learning_rate = 0.003,              train = 1.534062, test = 1.533702\n",
      "n_estimators = 80, learning_rate = 0.01,              train = 1.145003, test = 1.142454\n",
      "n_estimators = 80, learning_rate = 0.03,              train = 0.800796, test = 0.802542\n",
      "n_estimators = 80, learning_rate = 0.1,              train = 0.584097, test = 0.613408\n",
      "n_estimators = 80, learning_rate = 0.3,              train = 0.461512, test = 0.577378\n",
      "n_estimators = 80, learning_rate = 1.0,              train = 1.596627, test = 1.707445\n",
      "n_estimators = 100, learning_rate = 0.0001,              train = 1.920620, test = 1.923753\n",
      "n_estimators = 100, learning_rate = 0.0003,              train = 1.869334, test = 1.871822\n",
      "n_estimators = 100, learning_rate = 0.001,              train = 1.729150, test = 1.730438\n",
      "n_estimators = 100, learning_rate = 0.003,              train = 1.471015, test = 1.470063\n",
      "n_estimators = 100, learning_rate = 0.01,              train = 1.067166, test = 1.064591\n",
      "n_estimators = 100, learning_rate = 0.03,              train = 0.748739, test = 0.753283\n",
      "n_estimators = 100, learning_rate = 0.1,              train = 0.555927, test = 0.592437\n",
      "n_estimators = 100, learning_rate = 0.3,              train = 0.470570, test = 0.613106\n",
      "n_estimators = 100, learning_rate = 1.0,              train = 1.596388, test = 1.707341\n",
      "n_estimators = 120, learning_rate = 0.0001,              train = 1.915156, test = 1.918213\n",
      "n_estimators = 120, learning_rate = 0.0003,              train = 1.855240, test = 1.857575\n",
      "n_estimators = 120, learning_rate = 0.001,              train = 1.695980, test = 1.697120\n",
      "n_estimators = 120, learning_rate = 0.003,              train = 1.415856, test = 1.414502\n",
      "n_estimators = 120, learning_rate = 0.01,              train = 1.005393, test = 1.002747\n",
      "n_estimators = 120, learning_rate = 0.03,              train = 0.711166, test = 0.718227\n",
      "n_estimators = 120, learning_rate = 0.1,              train = 0.534468, test = 0.581062\n",
      "n_estimators = 120, learning_rate = 0.3,              train = 0.454555, test = 0.608940\n",
      "n_estimators = 120, learning_rate = 1.0,              train = 1.596145, test = 1.707216\n",
      "n_estimators = 140, learning_rate = 0.0001,              train = 1.909776, test = 1.912760\n",
      "n_estimators = 140, learning_rate = 0.0003,              train = 1.841642, test = 1.843844\n",
      "n_estimators = 140, learning_rate = 0.001,              train = 1.664928, test = 1.665907\n",
      "n_estimators = 140, learning_rate = 0.003,              train = 1.366778, test = 1.365056\n",
      "n_estimators = 140, learning_rate = 0.01,              train = 0.955162, test = 0.952911\n",
      "n_estimators = 140, learning_rate = 0.03,              train = 0.682822, test = 0.692832\n",
      "n_estimators = 140, learning_rate = 0.1,              train = 0.517332, test = 0.570789\n",
      "n_estimators = 140, learning_rate = 0.3,              train = 0.445131, test = 0.606029\n",
      "n_estimators = 140, learning_rate = 1.0,              train = 1.596002, test = 1.707142\n",
      "n_estimators = 160, learning_rate = 0.0001,              train = 1.904477, test = 1.907391\n",
      "n_estimators = 160, learning_rate = 0.0003,              train = 1.828491, test = 1.830576\n",
      "n_estimators = 160, learning_rate = 0.001,              train = 1.635778, test = 1.636485\n",
      "n_estimators = 160, learning_rate = 0.003,              train = 1.322956, test = 1.320998\n",
      "n_estimators = 160, learning_rate = 0.01,              train = 0.914440, test = 0.912672\n",
      "n_estimators = 160, learning_rate = 0.03,              train = 0.660439, test = 0.673328\n",
      "n_estimators = 160, learning_rate = 0.1,              train = 0.502157, test = 0.563200\n",
      "n_estimators = 160, learning_rate = 0.3,              train = 0.436620, test = 0.603450\n",
      "n_estimators = 160, learning_rate = 1.0,              train = 1.595852, test = 1.707102\n",
      "n_estimators = 180, learning_rate = 0.0001,              train = 1.899255, test = 1.902101\n",
      "n_estimators = 180, learning_rate = 0.0003,              train = 1.815762, test = 1.817739\n",
      "n_estimators = 180, learning_rate = 0.001,              train = 1.608386, test = 1.608812\n",
      "n_estimators = 180, learning_rate = 0.003,              train = 1.283118, test = 1.280955\n",
      "n_estimators = 180, learning_rate = 0.01,              train = 0.880786, test = 0.879732\n",
      "n_estimators = 180, learning_rate = 0.03,              train = 0.642012, test = 0.657711\n",
      "n_estimators = 180, learning_rate = 0.1,              train = 0.489468, test = 0.556009\n",
      "n_estimators = 180, learning_rate = 0.3,              train = 0.429565, test = 0.602226\n",
      "n_estimators = 180, learning_rate = 1.0,              train = 1.587750, test = 1.705510\n",
      "n_estimators = 200, learning_rate = 0.0001,              train = 1.894109, test = 1.896889\n",
      "n_estimators = 200, learning_rate = 0.0003,              train = 1.803426, test = 1.805297\n",
      "n_estimators = 200, learning_rate = 0.001,              train = 1.582501, test = 1.582650\n",
      "n_estimators = 200, learning_rate = 0.003,              train = 1.246625, test = 1.244323\n",
      "n_estimators = 200, learning_rate = 0.01,              train = 0.851510, test = 0.851312\n",
      "n_estimators = 200, learning_rate = 0.03,              train = 0.626481, test = 0.644966\n",
      "n_estimators = 200, learning_rate = 0.1,              train = 0.477952, test = 0.549776\n",
      "n_estimators = 200, learning_rate = 0.3,              train = 0.422488, test = 0.600833\n",
      "n_estimators = 200, learning_rate = 1.0,              train = 1.587656, test = 1.705459\n"
     ]
    },
    {
     "data": {
      "text/html": [
       "<div>\n",
       "<style scoped>\n",
       "    .dataframe tbody tr th:only-of-type {\n",
       "        vertical-align: middle;\n",
       "    }\n",
       "\n",
       "    .dataframe tbody tr th {\n",
       "        vertical-align: top;\n",
       "    }\n",
       "\n",
       "    .dataframe thead th {\n",
       "        text-align: right;\n",
       "    }\n",
       "</style>\n",
       "<table border=\"1\" class=\"dataframe\">\n",
       "  <thead>\n",
       "    <tr style=\"text-align: right;\">\n",
       "      <th></th>\n",
       "      <th>n_estimators</th>\n",
       "      <th>learning_rate</th>\n",
       "      <th>train</th>\n",
       "      <th>test</th>\n",
       "    </tr>\n",
       "  </thead>\n",
       "  <tbody>\n",
       "    <tr>\n",
       "      <td>0</td>\n",
       "      <td>20</td>\n",
       "      <td>0.0001</td>\n",
       "      <td>1.943414</td>\n",
       "      <td>1.946892</td>\n",
       "    </tr>\n",
       "    <tr>\n",
       "      <td>1</td>\n",
       "      <td>20</td>\n",
       "      <td>0.0003</td>\n",
       "      <td>1.931807</td>\n",
       "      <td>1.935104</td>\n",
       "    </tr>\n",
       "    <tr>\n",
       "      <td>2</td>\n",
       "      <td>20</td>\n",
       "      <td>0.0010</td>\n",
       "      <td>1.893948</td>\n",
       "      <td>1.896722</td>\n",
       "    </tr>\n",
       "    <tr>\n",
       "      <td>3</td>\n",
       "      <td>20</td>\n",
       "      <td>0.0030</td>\n",
       "      <td>1.802544</td>\n",
       "      <td>1.804391</td>\n",
       "    </tr>\n",
       "    <tr>\n",
       "      <td>4</td>\n",
       "      <td>20</td>\n",
       "      <td>0.0100</td>\n",
       "      <td>1.578740</td>\n",
       "      <td>1.578804</td>\n",
       "    </tr>\n",
       "    <tr>\n",
       "      <td>...</td>\n",
       "      <td>...</td>\n",
       "      <td>...</td>\n",
       "      <td>...</td>\n",
       "      <td>...</td>\n",
       "    </tr>\n",
       "    <tr>\n",
       "      <td>85</td>\n",
       "      <td>200</td>\n",
       "      <td>0.0100</td>\n",
       "      <td>0.851510</td>\n",
       "      <td>0.851312</td>\n",
       "    </tr>\n",
       "    <tr>\n",
       "      <td>86</td>\n",
       "      <td>200</td>\n",
       "      <td>0.0300</td>\n",
       "      <td>0.626481</td>\n",
       "      <td>0.644966</td>\n",
       "    </tr>\n",
       "    <tr>\n",
       "      <td>87</td>\n",
       "      <td>200</td>\n",
       "      <td>0.1000</td>\n",
       "      <td>0.477952</td>\n",
       "      <td>0.549776</td>\n",
       "    </tr>\n",
       "    <tr>\n",
       "      <td>88</td>\n",
       "      <td>200</td>\n",
       "      <td>0.3000</td>\n",
       "      <td>0.422488</td>\n",
       "      <td>0.600833</td>\n",
       "    </tr>\n",
       "    <tr>\n",
       "      <td>89</td>\n",
       "      <td>200</td>\n",
       "      <td>1.0000</td>\n",
       "      <td>1.587656</td>\n",
       "      <td>1.705459</td>\n",
       "    </tr>\n",
       "  </tbody>\n",
       "</table>\n",
       "<p>90 rows × 4 columns</p>\n",
       "</div>"
      ],
      "text/plain": [
       "    n_estimators  learning_rate     train      test\n",
       "0             20         0.0001  1.943414  1.946892\n",
       "1             20         0.0003  1.931807  1.935104\n",
       "2             20         0.0010  1.893948  1.896722\n",
       "3             20         0.0030  1.802544  1.804391\n",
       "4             20         0.0100  1.578740  1.578804\n",
       "..           ...            ...       ...       ...\n",
       "85           200         0.0100  0.851510  0.851312\n",
       "86           200         0.0300  0.626481  0.644966\n",
       "87           200         0.1000  0.477952  0.549776\n",
       "88           200         0.3000  0.422488  0.600833\n",
       "89           200         1.0000  1.587656  1.705459\n",
       "\n",
       "[90 rows x 4 columns]"
      ]
     },
     "execution_count": 21,
     "metadata": {},
     "output_type": "execute_result"
    }
   ],
   "source": [
    "# range함수를 이용하여 n_estimators_list에 20부터 200까지 20단위로 자연수를 생성합니다.\n",
    "n_estimators_list = range(20, 201, 20)\n",
    "# learning_rate에 0.0001부터 1.0까지 9개 실수를 생성합니다.\n",
    "learning_rate_list = [0.0001, 0.0003, 0.001, 0.003, 0.01, 0.03, 0.1, 0.3, 1.0]\n",
    "\n",
    "# 각각의 n_estimators와 learning_rate에 따른 결과를 저장하기 위한 리스트(history)를 만듭니다.\n",
    "history = []\n",
    "\n",
    "# n_estimators_list에 있는 숫자만큼 돌릴 for문을 선언합니다.\n",
    "for n_estimators in n_estimators_list:\n",
    "\n",
    "    # learning_list에 있는 숫자만큼 돌릴 for문을 선언합니다.\n",
    "    for learning_rate in learning_rate_list:\n",
    "\n",
    "        # GradientBoostingClassifier를 생성하여 model이라는 이름의 변수에 할당합니다. \n",
    "        # n_estimators(트리의 개수)를 n_estimators로 지정해줍니다.\n",
    "        # learning_rate를 learning_rate로 지정해줍니다.\n",
    "        model = GradientBoostingClassifier(n_estimators = n_estimators,\n",
    "                                       learning_rate = learning_rate,\n",
    "                                       random_state = 42)\n",
    "\n",
    "        # 생성한 model을 학습(fitting)합니다. train 데이터의 feature(X_train)와 label(y_train)을 집어넣습니다.\n",
    "        model.fit(X_train, y_train)\n",
    "\n",
    "        # 학습이 끝났으면 predict_proba로 결과를 예측합니다.\n",
    "        # 여기서 predict가 아닌 predict_proba를 사용하는 이유는, 확률(probability)를 받아오기 위해서 그렇습니다.\n",
    "        # (확률을 받아와야 뒤에서 log loss를 계산할 수 있습니다)\n",
    "        # 이 결과를 y_test_predict라는 이름의 변수에 담아줍니다.\n",
    "        y_train_predict = model.predict_proba(X_train)\n",
    "        y_test_predict = model.predict_proba(X_test)\n",
    "\n",
    "\n",
    "        # 데이터셋의 정답(y_train, y_test)과 예측값(y_train_predict, y_test_predict, 확률)을 활용해 log loss를 계산합니다.\n",
    "        # 이 결과를 train_score, test_score라는 이름의 변수에 할당합니다.\n",
    "        train_score = log_loss(y_train, y_train_predict)\n",
    "        test_score = log_loss(y_test, y_test_predict)\n",
    "\n",
    "        # n_estimators와 learning_rate에 따른 train, test 데이터의 각각의 예측 오차(log loss)를 출력해봅니다.\n",
    "\n",
    "        print(f\"n_estimators = {n_estimators}, learning_rate = {learning_rate},\\\n",
    "              train = {train_score:.6f}, test = {test_score:.6f}\")\n",
    "\n",
    "        # n_estimators와 learning_rate에 따른 train, test 데이터에 대한 예측 오차(log loss)를 history에 저장합니다.\n",
    "        history.append({\n",
    "            'n_estimators': n_estimators,\n",
    "            'learning_rate': learning_rate,\n",
    "            'train': train_score,\n",
    "            'test': test_score,\n",
    "        })\n",
    "\n",
    "# 결과를 판다스의 DataFrame형태로 변형하여 출력합니다.\n",
    "history = pd.DataFrame(history)\n",
    "history"
   ]
  },
  {
   "cell_type": "markdown",
   "metadata": {},
   "source": [
    "학습이 완료되었으면 이제, ```n_estimators```와 ```learning_rate```에 따른 학습결과(log loss)를 시각화 해봅시다."
   ]
  },
  {
   "cell_type": "markdown",
   "metadata": {},
   "source": [
    "seaborn의 scatterplot을 통해 시각화를 해보고자 합니다. ```n_estimators```를 x축, ```learning_rate```를 y축, 그리고 그에 따른 학습결과(log loss)값을 원의 크기로 그려보겠습니다. (y축의 경우, log스케일로 바꿔줍니다.)"
   ]
  },
  {
   "cell_type": "code",
   "execution_count": 22,
   "metadata": {},
   "outputs": [
    {
     "data": {
      "text/plain": [
       "<matplotlib.legend.Legend at 0x11857a710>"
      ]
     },
     "execution_count": 22,
     "metadata": {},
     "output_type": "execute_result"
    },
    {
     "data": {
      "image/png": "[encoded data removed]",
      "text/plain": [
       "<Figure size 720x360 with 1 Axes>"
      ]
     },
     "metadata": {
      "needs_background": "light"
     },
     "output_type": "display_data"
    }
   ],
   "source": [
    "# 주피터 노트북에서 그림을 바로 띄워주도록 합니다. \n",
    "%matplotlib inline\n",
    "# 데이터 시각화 패키지 seaborn을 로딩합니다. 앞으로는 줄여서 sns라고 사용할 것입니다.\n",
    "import seaborn as sns\n",
    "# 데이터 시각화 패키지 matplotlib를 로딩합니다. 앞으로는 줄여서 plt라고 사용할 것입니다.\n",
    "import matplotlib.pyplot as plt\n",
    "\n",
    "# 그래프의 크기를 설정합니다. 가로 10, 세로 5\n",
    "plt.figure(figsize = (10, 5))\n",
    "\n",
    "# seaborn의 scatterplot을 활용하여 n_estimators, learning_rate와 score(log loss)간의 상관관계를 시각화합니다.\n",
    "# 주의: 이 코드는 seaborn의 버전이 0.9 이상이어야 합니다. 만일 실행이 되자 않는다면 seaborn의 버전을 업그레이트 해주세요.\n",
    "plot = sns.scatterplot(data=history, x=\"n_estimators\", y=\"learning_rate\", size=\"test\", sizes=(20,500))\n",
    "# x축을 로그스케일로 바꿉니다. \n",
    "plot.set(yscale=\"log\")\n",
    "# x축의 범위를 0.00003에서 3.0까지로 지정해줍니다. \n",
    "plot.set(ylim=(0.00003,3.0))\n",
    "# 범례를 출력합니다. \n",
    "plt.legend()"
   ]
  },
  {
   "cell_type": "markdown",
   "metadata": {},
   "source": [
    "여기서 원의 크기가 작을수록 log loss값이 작은 것이므로, 더 학습이 잘 된 것입니다. \n",
    "\n",
    "```n_estimators```가 클수록, ```learning_rate```는 0.1부근에서 학습이 가장 잘 된 것을 확인할 수 있습니다.\n",
    "\n",
    "(```n_estimators```가 더 커질수록, 최적의 학습을 위한 ```learning_rate```값은 조금씩 작아집니다!)"
   ]
  },
  {
   "cell_type": "markdown",
   "metadata": {},
   "source": [
    "* 이 외, GradientBoostingClassifier의 더욱 다양한 hyperparameter들에 대한 설명은 [이 곳 링크](https://scikit-learn.org/stable/modules/generated/sklearn.ensemble.GradientBoostingClassifier.html)에서 확인하실 수 있습니다."
   ]
  }
 ],
 "metadata": {
  "kernelspec": {
   "display_name": "Python 3",
   "language": "python",
   "name": "python3"
  },
  "language_info": {
   "codemirror_mode": {
    "name": "ipython",
    "version": 3
   },
   "file_extension": ".py",
   "mimetype": "text/x-python",
   "name": "python",
   "nbconvert_exporter": "python",
   "pygments_lexer": "ipython3",
   "version": "3.7.6"
  }
 },
 "nbformat": 4,
 "nbformat_minor": 4
}
