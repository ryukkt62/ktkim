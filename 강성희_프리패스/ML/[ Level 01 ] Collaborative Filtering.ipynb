{
 "cells": [
  {
   "cell_type": "code",
   "execution_count": 1,
   "metadata": {},
   "outputs": [
    {
     "data": {
      "text/html": [
       "<style>.container {width:100% !important;}</style>"
      ],
      "text/plain": [
       "<IPython.core.display.HTML object>"
      ]
     },
     "metadata": {},
     "output_type": "display_data"
    }
   ],
   "source": [
    "from IPython.core.display import display, HTML\n",
    "display(HTML(\"<style>.container {width:100% !important;}</style>\"))"
   ]
  },
  {
   "cell_type": "markdown",
   "metadata": {},
   "source": [
    "# Collaborative Filtering\n",
    "\n",
    "### 내가 이 상품을 사면 만족스러울 것 같아? 아니면 안만족스러울 것 같아? 를 예측하는 알고리즘"
   ]
  },
  {
   "cell_type": "code",
   "execution_count": 2,
   "metadata": {},
   "outputs": [],
   "source": [
    "import numpy as np\n",
    "import pandas as pd"
   ]
  },
  {
   "cell_type": "markdown",
   "metadata": {},
   "source": [
    "## Load Dataset"
   ]
  },
  {
   "cell_type": "code",
   "execution_count": 3,
   "metadata": {},
   "outputs": [
    {
     "data": {
      "text/html": [
       "<div>\n",
       "<style scoped>\n",
       "    .dataframe tbody tr th:only-of-type {\n",
       "        vertical-align: middle;\n",
       "    }\n",
       "\n",
       "    .dataframe tbody tr th {\n",
       "        vertical-align: top;\n",
       "    }\n",
       "\n",
       "    .dataframe thead th {\n",
       "        text-align: right;\n",
       "    }\n",
       "</style>\n",
       "<table border=\"1\" class=\"dataframe\">\n",
       "  <thead>\n",
       "    <tr style=\"text-align: right;\">\n",
       "      <th></th>\n",
       "      <th>사람</th>\n",
       "      <th>책</th>\n",
       "      <th>평점</th>\n",
       "    </tr>\n",
       "  </thead>\n",
       "  <tbody>\n",
       "    <tr>\n",
       "      <th>0</th>\n",
       "      <td>민지</td>\n",
       "      <td>백설공주</td>\n",
       "      <td>5.0</td>\n",
       "    </tr>\n",
       "    <tr>\n",
       "      <th>1</th>\n",
       "      <td>민지</td>\n",
       "      <td>신데렐라</td>\n",
       "      <td>4.0</td>\n",
       "    </tr>\n",
       "    <tr>\n",
       "      <th>2</th>\n",
       "      <td>민지</td>\n",
       "      <td>어린왕자</td>\n",
       "      <td>1.0</td>\n",
       "    </tr>\n",
       "    <tr>\n",
       "      <th>3</th>\n",
       "      <td>민지</td>\n",
       "      <td>흥부전</td>\n",
       "      <td>3.0</td>\n",
       "    </tr>\n",
       "    <tr>\n",
       "      <th>4</th>\n",
       "      <td>현우</td>\n",
       "      <td>노인과바다</td>\n",
       "      <td>3.0</td>\n",
       "    </tr>\n",
       "  </tbody>\n",
       "</table>\n",
       "</div>"
      ],
      "text/plain": [
       "   사람      책   평점\n",
       "0  민지   백설공주  5.0\n",
       "1  민지   신데렐라  4.0\n",
       "2  민지   어린왕자  1.0\n",
       "3  민지    흥부전  3.0\n",
       "4  현우  노인과바다  3.0"
      ]
     },
     "execution_count": 3,
     "metadata": {},
     "output_type": "execute_result"
    }
   ],
   "source": [
    "ratings_url = 'https://bit.ly/dsml-01-ratings'\n",
    "\n",
    "data = pd.read_csv(ratings_url)\n",
    "\n",
    "data.head()"
   ]
  },
  {
   "cell_type": "code",
   "execution_count": 4,
   "metadata": {},
   "outputs": [
    {
     "data": {
      "text/html": [
       "<div>\n",
       "<style scoped>\n",
       "    .dataframe tbody tr th:only-of-type {\n",
       "        vertical-align: middle;\n",
       "    }\n",
       "\n",
       "    .dataframe tbody tr th {\n",
       "        vertical-align: top;\n",
       "    }\n",
       "\n",
       "    .dataframe thead th {\n",
       "        text-align: right;\n",
       "    }\n",
       "</style>\n",
       "<table border=\"1\" class=\"dataframe\">\n",
       "  <thead>\n",
       "    <tr style=\"text-align: right;\">\n",
       "      <th>책</th>\n",
       "      <th>노인과바다</th>\n",
       "      <th>백설공주</th>\n",
       "      <th>신데렐라</th>\n",
       "      <th>어린왕자</th>\n",
       "      <th>콩쥐팥쥐</th>\n",
       "      <th>흥부전</th>\n",
       "    </tr>\n",
       "    <tr>\n",
       "      <th>사람</th>\n",
       "      <th></th>\n",
       "      <th></th>\n",
       "      <th></th>\n",
       "      <th></th>\n",
       "      <th></th>\n",
       "      <th></th>\n",
       "    </tr>\n",
       "  </thead>\n",
       "  <tbody>\n",
       "    <tr>\n",
       "      <th>민수</th>\n",
       "      <td>3.0</td>\n",
       "      <td>4.0</td>\n",
       "      <td>4.0</td>\n",
       "      <td>3.0</td>\n",
       "      <td>4.0</td>\n",
       "      <td>NaN</td>\n",
       "    </tr>\n",
       "    <tr>\n",
       "      <th>민지</th>\n",
       "      <td>NaN</td>\n",
       "      <td>5.0</td>\n",
       "      <td>4.0</td>\n",
       "      <td>1.0</td>\n",
       "      <td>NaN</td>\n",
       "      <td>3.0</td>\n",
       "    </tr>\n",
       "    <tr>\n",
       "      <th>지민</th>\n",
       "      <td>4.0</td>\n",
       "      <td>1.0</td>\n",
       "      <td>NaN</td>\n",
       "      <td>5.0</td>\n",
       "      <td>2.0</td>\n",
       "      <td>3.0</td>\n",
       "    </tr>\n",
       "    <tr>\n",
       "      <th>지연</th>\n",
       "      <td>5.0</td>\n",
       "      <td>NaN</td>\n",
       "      <td>3.0</td>\n",
       "      <td>4.0</td>\n",
       "      <td>3.0</td>\n",
       "      <td>3.0</td>\n",
       "    </tr>\n",
       "    <tr>\n",
       "      <th>현우</th>\n",
       "      <td>3.0</td>\n",
       "      <td>NaN</td>\n",
       "      <td>2.0</td>\n",
       "      <td>NaN</td>\n",
       "      <td>1.0</td>\n",
       "      <td>2.0</td>\n",
       "    </tr>\n",
       "  </tbody>\n",
       "</table>\n",
       "</div>"
      ],
      "text/plain": [
       "책   노인과바다  백설공주  신데렐라  어린왕자  콩쥐팥쥐  흥부전\n",
       "사람                                    \n",
       "민수    3.0   4.0   4.0   3.0   4.0  NaN\n",
       "민지    NaN   5.0   4.0   1.0   NaN  3.0\n",
       "지민    4.0   1.0   NaN   5.0   2.0  3.0\n",
       "지연    5.0   NaN   3.0   4.0   3.0  3.0\n",
       "현우    3.0   NaN   2.0   NaN   1.0  2.0"
      ]
     },
     "execution_count": 4,
     "metadata": {},
     "output_type": "execute_result"
    }
   ],
   "source": [
    "ratings = pd.pivot_table(data, index = '사람', columns = '책', values = '평점')\n",
    "\n",
    "ratings"
   ]
  },
  {
   "cell_type": "markdown",
   "metadata": {},
   "source": [
    "## 코사인 유사도 계산하기"
   ]
  },
  {
   "cell_type": "code",
   "execution_count": 5,
   "metadata": {},
   "outputs": [
    {
     "data": {
      "text/plain": [
       "0.9235481451827989"
      ]
     },
     "execution_count": 5,
     "metadata": {},
     "output_type": "execute_result"
    }
   ],
   "source": [
    "u = np.array([3, 4, 3])\n",
    "v = np.array([3, 2, 4])\n",
    "\n",
    "uvdot = (u * v).sum()\n",
    "\n",
    "norm1 = (u ** 2).sum()\n",
    "norm2 = (v ** 2).sum()\n",
    "\n",
    "score = uvdot / np.sqrt(norm1 * norm2)\n",
    "\n",
    "score"
   ]
  },
  {
   "cell_type": "code",
   "execution_count": 6,
   "metadata": {},
   "outputs": [
    {
     "data": {
      "text/plain": [
       "array([4.])"
      ]
     },
     "execution_count": 6,
     "metadata": {},
     "output_type": "execute_result"
    }
   ],
   "source": [
    "# 평점을 안남긴 경우가 있는 경우\n",
    "\n",
    "u = np.array([np.nan, 4, 3])\n",
    "v = np.array([3, 2, np.nan])\n",
    "\n",
    "# np.isfinite()= ~np.isnan()\n",
    "# u와 v 모두 True인 경우만 살림\n",
    "mask = np.isfinite(u) & np.isfinite(v)\n",
    "\n",
    "u = u[mask]\n",
    "u"
   ]
  },
  {
   "cell_type": "code",
   "execution_count": 7,
   "metadata": {},
   "outputs": [
    {
     "data": {
      "text/plain": [
       "0.8944271909999159"
      ]
     },
     "execution_count": 7,
     "metadata": {},
     "output_type": "execute_result"
    }
   ],
   "source": [
    "# mask를 적용하고 계산해야 정확함\n",
    "# 모듈화\n",
    "\n",
    "def get_cosine_similarity(u, v):\n",
    "    mask = np.isfinite(u) & np.isfinite(v)\n",
    "\n",
    "    u = u[mask]\n",
    "    v = v[mask]\n",
    "\n",
    "    uvdot = (u * v).sum()\n",
    "\n",
    "    norm1 = (u ** 2).sum()\n",
    "    norm2 = (v ** 2).sum()\n",
    "\n",
    "    score = uvdot / np.sqrt(norm1 * norm2)\n",
    "\n",
    "    return score\n",
    "\n",
    "u = np.array([np.nan, 4, 3])\n",
    "v = np.array([3, 2, 4])\n",
    "\n",
    "get_cosine_similarity(u, v)"
   ]
  },
  {
   "cell_type": "code",
   "execution_count": 8,
   "metadata": {},
   "outputs": [
    {
     "data": {
      "text/plain": [
       "0.9398272507881658"
      ]
     },
     "execution_count": 8,
     "metadata": {},
     "output_type": "execute_result"
    }
   ],
   "source": [
    "u = ratings.loc['민수']\n",
    "v = ratings.loc['민지']\n",
    "\n",
    "get_cosine_similarity(u, v)"
   ]
  },
  {
   "cell_type": "code",
   "execution_count": 9,
   "metadata": {},
   "outputs": [
    {
     "data": {
      "text/plain": [
       "[('민수', '민수'),\n",
       " ('민수', '민지'),\n",
       " ('민수', '지민'),\n",
       " ('민수', '지연'),\n",
       " ('민수', '현우'),\n",
       " ('민지', '민수'),\n",
       " ('민지', '민지'),\n",
       " ('민지', '지민'),\n",
       " ('민지', '지연'),\n",
       " ('민지', '현우'),\n",
       " ('지민', '민수'),\n",
       " ('지민', '민지'),\n",
       " ('지민', '지민'),\n",
       " ('지민', '지연'),\n",
       " ('지민', '현우'),\n",
       " ('지연', '민수'),\n",
       " ('지연', '민지'),\n",
       " ('지연', '지민'),\n",
       " ('지연', '지연'),\n",
       " ('지연', '현우'),\n",
       " ('현우', '민수'),\n",
       " ('현우', '민지'),\n",
       " ('현우', '지민'),\n",
       " ('현우', '지연'),\n",
       " ('현우', '현우')]"
      ]
     },
     "execution_count": 9,
     "metadata": {},
     "output_type": "execute_result"
    }
   ],
   "source": [
    "# 모든 사람에 대한 경우 구하기\n",
    "\n",
    "from itertools import product\n",
    "\n",
    "index_combinations = list(product(ratings.index, repeat = 2))\n",
    "\n",
    "index_combinations"
   ]
  },
  {
   "cell_type": "code",
   "execution_count": 10,
   "metadata": {},
   "outputs": [
    {
     "data": {
      "text/html": [
       "<div>\n",
       "<style scoped>\n",
       "    .dataframe tbody tr th:only-of-type {\n",
       "        vertical-align: middle;\n",
       "    }\n",
       "\n",
       "    .dataframe tbody tr th {\n",
       "        vertical-align: top;\n",
       "    }\n",
       "\n",
       "    .dataframe thead th {\n",
       "        text-align: right;\n",
       "    }\n",
       "</style>\n",
       "<table border=\"1\" class=\"dataframe\">\n",
       "  <thead>\n",
       "    <tr style=\"text-align: right;\">\n",
       "      <th>v</th>\n",
       "      <th>민수</th>\n",
       "      <th>민지</th>\n",
       "      <th>지민</th>\n",
       "      <th>지연</th>\n",
       "      <th>현우</th>\n",
       "    </tr>\n",
       "    <tr>\n",
       "      <th>u</th>\n",
       "      <th></th>\n",
       "      <th></th>\n",
       "      <th></th>\n",
       "      <th></th>\n",
       "      <th></th>\n",
       "    </tr>\n",
       "  </thead>\n",
       "  <tbody>\n",
       "    <tr>\n",
       "      <th>민수</th>\n",
       "      <td>1.000000</td>\n",
       "      <td>0.939827</td>\n",
       "      <td>0.813206</td>\n",
       "      <td>0.938986</td>\n",
       "      <td>0.876523</td>\n",
       "    </tr>\n",
       "    <tr>\n",
       "      <th>민지</th>\n",
       "      <td>0.939827</td>\n",
       "      <td>1.000000</td>\n",
       "      <td>0.542857</td>\n",
       "      <td>0.840841</td>\n",
       "      <td>0.989949</td>\n",
       "    </tr>\n",
       "    <tr>\n",
       "      <th>지민</th>\n",
       "      <td>0.813206</td>\n",
       "      <td>0.542857</td>\n",
       "      <td>1.000000</td>\n",
       "      <td>0.974406</td>\n",
       "      <td>0.992583</td>\n",
       "    </tr>\n",
       "    <tr>\n",
       "      <th>지연</th>\n",
       "      <td>0.938986</td>\n",
       "      <td>0.840841</td>\n",
       "      <td>0.974406</td>\n",
       "      <td>1.000000</td>\n",
       "      <td>0.980581</td>\n",
       "    </tr>\n",
       "    <tr>\n",
       "      <th>현우</th>\n",
       "      <td>0.876523</td>\n",
       "      <td>0.989949</td>\n",
       "      <td>0.992583</td>\n",
       "      <td>0.980581</td>\n",
       "      <td>1.000000</td>\n",
       "    </tr>\n",
       "  </tbody>\n",
       "</table>\n",
       "</div>"
      ],
      "text/plain": [
       "v         민수        민지        지민        지연        현우\n",
       "u                                                   \n",
       "민수  1.000000  0.939827  0.813206  0.938986  0.876523\n",
       "민지  0.939827  1.000000  0.542857  0.840841  0.989949\n",
       "지민  0.813206  0.542857  1.000000  0.974406  0.992583\n",
       "지연  0.938986  0.840841  0.974406  1.000000  0.980581\n",
       "현우  0.876523  0.989949  0.992583  0.980581  1.000000"
      ]
     },
     "execution_count": 10,
     "metadata": {},
     "output_type": "execute_result"
    }
   ],
   "source": [
    "from itertools import product\n",
    "\n",
    "# 모듈화\n",
    "def get_cosine_similarity_table(ratings):\n",
    "    index_combinations = list(product(ratings.index, repeat = 2))\n",
    "\n",
    "    similarity_list = []\n",
    "\n",
    "    for uname, vname in index_combinations:\n",
    "        # 이렇게 해도 됌\n",
    "        # u, v = ratings.loc[uname], ratings.loc[vname]\n",
    "        u = ratings.loc[uname]\n",
    "        v = ratings.loc[vname]\n",
    "\n",
    "        score = get_cosine_similarity(u, v)\n",
    "\n",
    "        #{}는 dictionary\n",
    "        similarity = {\n",
    "            'u': uname,\n",
    "            'v': vname,\n",
    "            'score': score,\n",
    "        }\n",
    "\n",
    "        similarity_list.append(similarity)\n",
    "\n",
    "    similarity_list = pd.DataFrame(similarity_list)\n",
    "\n",
    "    similarity_table = pd.pivot_table(similarity_list, index = 'u', columns = 'v', values = 'score')\n",
    "\n",
    "    return similarity_table\n",
    "\n",
    "similarity_table = get_cosine_similarity_table(ratings)\n",
    "\n",
    "similarity_table"
   ]
  },
  {
   "cell_type": "markdown",
   "metadata": {},
   "source": [
    "## 평점 예측하기"
   ]
  },
  {
   "cell_type": "code",
   "execution_count": 11,
   "metadata": {},
   "outputs": [
    {
     "data": {
      "text/plain": [
       "3.671361398092429"
      ]
     },
     "execution_count": 11,
     "metadata": {},
     "output_type": "execute_result"
    }
   ],
   "source": [
    "def predict_rating(user_name, book_name):\n",
    "    # 민지의 노인과바다의 평점을 예측하는 것이므로 민지는 빼야함, 어차피 Nan값\n",
    "    # 자기자신은 제거\n",
    "    # similarity도 민지는 1.0이 나옴\n",
    "    neighbors_ratings = ratings[book_name].drop(index = user_name)\n",
    "    neighbors_similarity = similarity_table[user_name].drop(index = user_name)\n",
    "\n",
    "    nominator = (neighbors_ratings * neighbors_similarity).sum()\n",
    "    denominator = neighbors_similarity.sum()\n",
    "\n",
    "    score = nominator / denominator\n",
    "    return score\n",
    "\n",
    "predict_rating('민지', '노인과바다')"
   ]
  },
  {
   "cell_type": "code",
   "execution_count": 12,
   "metadata": {},
   "outputs": [
    {
     "data": {
      "text/plain": [
       "2.7543750620420546"
      ]
     },
     "execution_count": 12,
     "metadata": {},
     "output_type": "execute_result"
    }
   ],
   "source": [
    "predict_rating('민수', '흥부전')"
   ]
  },
  {
   "cell_type": "code",
   "execution_count": 13,
   "metadata": {},
   "outputs": [
    {
     "data": {
      "text/html": [
       "<div>\n",
       "<style scoped>\n",
       "    .dataframe tbody tr th:only-of-type {\n",
       "        vertical-align: middle;\n",
       "    }\n",
       "\n",
       "    .dataframe tbody tr th {\n",
       "        vertical-align: top;\n",
       "    }\n",
       "\n",
       "    .dataframe thead th {\n",
       "        text-align: right;\n",
       "    }\n",
       "</style>\n",
       "<table border=\"1\" class=\"dataframe\">\n",
       "  <thead>\n",
       "    <tr style=\"text-align: right;\">\n",
       "      <th>book</th>\n",
       "      <th>노인과바다</th>\n",
       "      <th>백설공주</th>\n",
       "      <th>신데렐라</th>\n",
       "      <th>어린왕자</th>\n",
       "      <th>콩쥐팥쥐</th>\n",
       "      <th>흥부전</th>\n",
       "    </tr>\n",
       "    <tr>\n",
       "      <th>user</th>\n",
       "      <th></th>\n",
       "      <th></th>\n",
       "      <th></th>\n",
       "      <th></th>\n",
       "      <th></th>\n",
       "      <th></th>\n",
       "    </tr>\n",
       "  </thead>\n",
       "  <tbody>\n",
       "    <tr>\n",
       "      <th>민수</th>\n",
       "      <td>NaN</td>\n",
       "      <td>NaN</td>\n",
       "      <td>NaN</td>\n",
       "      <td>NaN</td>\n",
       "      <td>NaN</td>\n",
       "      <td>2.754375</td>\n",
       "    </tr>\n",
       "    <tr>\n",
       "      <th>민지</th>\n",
       "      <td>3.671361</td>\n",
       "      <td>NaN</td>\n",
       "      <td>NaN</td>\n",
       "      <td>NaN</td>\n",
       "      <td>2.522275</td>\n",
       "      <td>NaN</td>\n",
       "    </tr>\n",
       "    <tr>\n",
       "      <th>지민</th>\n",
       "      <td>NaN</td>\n",
       "      <td>NaN</td>\n",
       "      <td>3.109381</td>\n",
       "      <td>NaN</td>\n",
       "      <td>NaN</td>\n",
       "      <td>NaN</td>\n",
       "    </tr>\n",
       "    <tr>\n",
       "      <th>지연</th>\n",
       "      <td>NaN</td>\n",
       "      <td>2.392236</td>\n",
       "      <td>NaN</td>\n",
       "      <td>NaN</td>\n",
       "      <td>NaN</td>\n",
       "      <td>NaN</td>\n",
       "    </tr>\n",
       "    <tr>\n",
       "      <th>현우</th>\n",
       "      <td>NaN</td>\n",
       "      <td>2.460760</td>\n",
       "      <td>NaN</td>\n",
       "      <td>3.256756</td>\n",
       "      <td>NaN</td>\n",
       "      <td>NaN</td>\n",
       "    </tr>\n",
       "  </tbody>\n",
       "</table>\n",
       "</div>"
      ],
      "text/plain": [
       "book     노인과바다      백설공주      신데렐라      어린왕자      콩쥐팥쥐       흥부전\n",
       "user                                                            \n",
       "민수         NaN       NaN       NaN       NaN       NaN  2.754375\n",
       "민지    3.671361       NaN       NaN       NaN  2.522275       NaN\n",
       "지민         NaN       NaN  3.109381       NaN       NaN       NaN\n",
       "지연         NaN  2.392236       NaN       NaN       NaN       NaN\n",
       "현우         NaN  2.460760       NaN  3.256756       NaN       NaN"
      ]
     },
     "execution_count": 13,
     "metadata": {},
     "output_type": "execute_result"
    }
   ],
   "source": [
    "# 모든 유저와 모든 상품에 대해\n",
    "\n",
    "def predict_rating_table(ratings):\n",
    "    rating_combinations = list(product(ratings.index, ratings.columns))\n",
    "\n",
    "    rating_list = []\n",
    "\n",
    "    for user_name, book_name in rating_combinations:\n",
    "        score = predict_rating(user_name, book_name)\n",
    "        rating_predict = {\n",
    "            'user': user_name,\n",
    "            'book': book_name,\n",
    "            'score': score\n",
    "        }\n",
    "\n",
    "        rating_list.append(rating_predict)\n",
    "\n",
    "    rating_list = pd.DataFrame(rating_list)\n",
    "\n",
    "    rating_table = pd.pivot_table(rating_list, index = 'user', columns = 'book', values = 'score')\n",
    "\n",
    "    rating_table = rating_table[ratings.isnull()]\n",
    "\n",
    "    return rating_table\n",
    "\n",
    "rating_table = predict_rating_table(ratings)\n",
    "rating_table"
   ]
  },
  {
   "cell_type": "markdown",
   "metadata": {},
   "source": [
    "## 실제 사용해보기"
   ]
  },
  {
   "cell_type": "markdown",
   "metadata": {},
   "source": [
    "### Case 1. 지금 민지에게 가장 추천하고 싶은 책은?"
   ]
  },
  {
   "cell_type": "code",
   "execution_count": 14,
   "metadata": {},
   "outputs": [
    {
     "data": {
      "text/plain": [
       "Index(['노인과바다'], dtype='object', name='book')"
      ]
     },
     "execution_count": 14,
     "metadata": {},
     "output_type": "execute_result"
    }
   ],
   "source": [
    "def predict_book(user_name, k = 1):\n",
    "    prediction_list = rating_table.loc[user_name].sort_values(ascending = False)\n",
    "    prediction_list = prediction_list.head(k).index\n",
    "\n",
    "    return prediction_list\n",
    "\n",
    "predict_book('민지')"
   ]
  },
  {
   "cell_type": "code",
   "execution_count": 15,
   "metadata": {},
   "outputs": [
    {
     "data": {
      "text/plain": [
       "Index(['어린왕자', '백설공주'], dtype='object', name='book')"
      ]
     },
     "execution_count": 15,
     "metadata": {},
     "output_type": "execute_result"
    }
   ],
   "source": [
    "predict_book('현우', k = 2)"
   ]
  },
  {
   "cell_type": "markdown",
   "metadata": {},
   "source": [
    "### Case 2. 지금 백설공주 책에 가장 관심 있을 것 같은 사용자는?"
   ]
  },
  {
   "cell_type": "code",
   "execution_count": 16,
   "metadata": {},
   "outputs": [
    {
     "data": {
      "text/plain": [
       "Index(['현우', '지연'], dtype='object', name='user')"
      ]
     },
     "execution_count": 16,
     "metadata": {},
     "output_type": "execute_result"
    }
   ],
   "source": [
    "def predict_user(book_name, k = 1):\n",
    "    prediction_list = rating_table[book_name].sort_values(ascending = False)\n",
    "    \n",
    "    prediction_list = prediction_list.head(k).index\n",
    "    \n",
    "    return prediction_list\n",
    "\n",
    "predict_user('백설공주', k = 2)"
   ]
  },
  {
   "cell_type": "code",
   "execution_count": 17,
   "metadata": {},
   "outputs": [
    {
     "data": {
      "text/plain": [
       "Index(['민지'], dtype='object', name='user')"
      ]
     },
     "execution_count": 17,
     "metadata": {},
     "output_type": "execute_result"
    }
   ],
   "source": [
    "predict_user('노인과바다')"
   ]
  },
  {
   "cell_type": "markdown",
   "metadata": {},
   "source": [
    "## User_based가 있고 Item_based가 있는데 \n",
    "## 보통 Item_based를 많이 씀\n",
    "* User는 이용자가 많으면 많을수록 몇백만까지 늘어나지만\n",
    "\n",
    "\n",
    "* Item의 개수는 즉, 상품의 개수는 늘어나는 데 한계가 있음"
   ]
  },
  {
   "cell_type": "markdown",
   "metadata": {},
   "source": [
    "## 보통 User based면 Cosine, Item based면 Pearson 씀\n",
    "\n",
    "## Cosine Similarity와 Pearson Correlation Coefficient 둘 다 써보고 좋은거 쓰기"
   ]
  },
  {
   "cell_type": "markdown",
   "metadata": {},
   "source": [
    "## baseline보정이 평균보정보다 항상 좋은건 아님 이거 역시 마찬가지로\n",
    "\n",
    "## 두 개 다 써보고 판단"
   ]
  }
 ],
 "metadata": {
  "kernelspec": {
   "display_name": "Python 3",
   "language": "python",
   "name": "python3"
  },
  "language_info": {
   "codemirror_mode": {
    "name": "ipython",
    "version": 3
   },
   "file_extension": ".py",
   "mimetype": "text/x-python",
   "name": "python",
   "nbconvert_exporter": "python",
   "pygments_lexer": "ipython3",
   "version": "3.7.6"
  }
 },
 "nbformat": 4,
 "nbformat_minor": 4
}
