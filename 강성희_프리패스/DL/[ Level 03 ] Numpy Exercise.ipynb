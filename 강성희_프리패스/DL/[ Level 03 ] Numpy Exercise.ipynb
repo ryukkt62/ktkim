{
 "cells": [
  {
   "cell_type": "markdown",
   "metadata": {
    "colab_type": "text",
    "id": "pUc94XyChiwr"
   },
   "source": [
    "# 딥러닝 온라인 1:1 과외반 <Level 3> 과제\n",
    "\n",
    "(이 쥬피터 노트북은 다음의 링크 <b>https://bit.ly/dsd-0301</b> 에서 다운받으실 수 있습니다)"
   ]
  },
  {
   "cell_type": "markdown",
   "metadata": {
    "colab_type": "text",
    "id": "Urq_758vhiwu"
   },
   "source": [
    "넘파이(Numpy) 패키지는 Numerical Python의 줄임말로, 딥러닝 분야에서 매우 유용하게 사용되는 패키지입니다. 딥러닝 분야뿐만 아니라 데이터 분석에도 핵심적으로 사용되는 패키지이므로 필수적으로 이해하고 있어야 합니다. \n",
    "\n",
    "넘파이(Numpy)가 자주 사용되는 이유는 딥러닝에 사용되는 데이터구조인 벡터, 행렬 그리고 3차원 이상 텐서를 표현하고 활용할 수 있도록 여러가지 기능을 제공해주기 때문입니다.\n",
    "벡터를 표현하기위해 ```numpy.array```를 선언할 수 있고, 행렬을 표현하기 위해 ```numpy.matrix```를 선언할 수 있으며 이를 이용하면 사칙연산을 포함한 다양한 함수들을 사용할 수 있는데요, 예를들면 ```numpy.zeros()```, ```numpy.sum()```, ```numpy.mean()```, ```numpy.argmax()```를 포함한 유용한 함수들이 무수히 많습니다. 또한 벡터화함으로써 딥러닝의 실행속도를 개선하거나 코드를 간결하게 줄여주기도 합니다.\n",
    "\n",
    "그러므로 넘파이(Numpy)패키지의 다양한 함수에 익숙해지는 것은 무엇보다도 중요합니다. 하기에 제시한 15개의 문제를 프로그래밍 언어 파이썬(```Python```)과 파이썬의 넘파이(Numpy) 패키지를 활용해 풀어주세요.\n",
    "\n",
    "문제를 풀 때 다른 자료를 참고하거나, 구글에 검색하는 것 모두 허용합니다. (문제 중에는 구글에 검색하지 않으면 풀 수 없는 문제도 준비해놓았습니다) 관련자료는 [Numpy tutorial](https://numpy.org/devdocs/user/quickstart.html)을 강력 추천합니다. 또는 이전 수업에서 학습한 내용을 참고하는 것도 적극 추천합니다."
   ]
  },
  {
   "cell_type": "markdown",
   "metadata": {
    "colab_type": "text",
    "id": "qXFPaKRshiwv"
   },
   "source": [
    "### 넘파이(Numpy) 불러오기\n",
    "\n",
    "먼저 넘파이(Numpy) 패키지를 불러오겠습니다. 패키지를 불러올 때는 ```import```를 사용합니다.  \n",
    "\n",
    "넘파이(Numpy) 패키지를 파이썬에서 사용할 때는 관용적으로 ```np```라는 이름을 사용하곤 합니다. 우리도 np라는 이름으로 불러와서 실습을 진행해 볼건데요, 이렇게 패키지 이름을 지정해주면 함수를 사용할 때 좀 더 간략하게 ```numpy.sum()``` 대신 ```np.sum()```으로 사용할 수 있습니다."
   ]
  },
  {
   "cell_type": "markdown",
   "metadata": {
    "colab_type": "text",
    "id": "L13jYdCghiww"
   },
   "source": [
    "**1. Numpy패키지를 np라는 이름으로 불러오세요.**"
   ]
  },
  {
   "cell_type": "code",
   "execution_count": null,
   "metadata": {
    "colab": {},
    "colab_type": "code",
    "id": "pdvHUT0whiwx"
   },
   "outputs": [],
   "source": [
    "# numpy를 np라는 이름으로 import 해옵니다.\n",
    "import numpy as np"
   ]
  },
  {
   "cell_type": "markdown",
   "metadata": {
    "colab_type": "text",
    "id": "7_40nPw0hiw0"
   },
   "source": [
    "### 벡터 표현하기\n",
    "\n",
    "벡터를 표현하기 위해서 넘파이(Numpy)에서 제공해주는 배열(```array```)을 이용할 수 있습니다.  \n",
    "어떤 함수를 사용하는지에 따라 배열을 생성할 때 직접 값을 초기화 할지 0으로 모든 값을 초기화 할지 등을 정할 수 있습니다. 배열 생성에 관한 자세한 정보는 [다음의 링크](https://numpy.org/devdocs/user/quickstart.html#array-creation)를 참고해주세요. 행렬을 생성할 때도 모두 응용될 수 있습니다."
   ]
  },
  {
   "cell_type": "markdown",
   "metadata": {
    "colab_type": "text",
    "id": "WRoWgxeQhiw0"
   },
   "source": [
    "**2. 크기가 15이고 모든 값이 0으로 채워진 배열을 하나 생성하세요.**\n",
    "\n",
    "최종적으로 다음의 결과가 나와야 합니다.\n",
    "```\n",
    "array([0., 0., 0., 0., 0., 0., 0., 0., 0., 0., 0., 0., 0., 0., 0.])\n",
    "```"
   ]
  },
  {
   "cell_type": "code",
   "execution_count": null,
   "metadata": {
    "colab": {},
    "colab_type": "code",
    "id": "bUqH3shwhiw1",
    "outputId": "a8636e1b-e400-4057-9865-4bf3ae0147e1"
   },
   "outputs": [
    {
     "data": {
      "text/plain": [
       "array([0., 0., 0., 0., 0., 0., 0., 0., 0., 0., 0., 0., 0., 0., 0.])"
      ]
     },
     "execution_count": 3,
     "metadata": {
      "tags": []
     },
     "output_type": "execute_result"
    }
   ],
   "source": [
    "# numpy의 zeros함수를 사용하여 크기가 15이고 0으로 채워진 배열을 생성합니다.\n",
    "# 그리고 이 결과를 data2변수에 할당합니다.\n",
    "data2 = np.zeros(15)\n",
    "\n",
    "# data2를 출력합니다.\n",
    "data2"
   ]
  },
  {
   "cell_type": "markdown",
   "metadata": {
    "colab_type": "text",
    "id": "TSwNEWe4hiw5"
   },
   "source": [
    "**2-1 위에서 생성한 생성한 데이터의 크기를 출력하세요.**\n",
    " \n",
    "최종적으로 15가 출력됩니다. 크기를 출력할 때는 파이썬의 [len](https://wikidocs.net/32#len)을 쓰기도 하지만, 넘파이(Numpy)의 [size](https://docs.scipy.org/doc/numpy/reference/generated/numpy.ndarray.size.html)를 사용하기도 합니다."
   ]
  },
  {
   "cell_type": "code",
   "execution_count": null,
   "metadata": {
    "colab": {},
    "colab_type": "code",
    "id": "yfjZ6Rgohiw5",
    "outputId": "2cf90b75-fbee-4383-ce61-5d7be2f830fa"
   },
   "outputs": [
    {
     "data": {
      "text/plain": [
       "15"
      ]
     },
     "execution_count": 5,
     "metadata": {
      "tags": []
     },
     "output_type": "execute_result"
    }
   ],
   "source": [
    "# numpy의 size함수를 이용하여 data2의 크기를 출력합니다.\n",
    "np.size(data2)"
   ]
  },
  {
   "cell_type": "markdown",
   "metadata": {
    "colab_type": "text",
    "id": "OnvCE-vOhiw8"
   },
   "source": [
    "### 행렬 표현하기"
   ]
  },
  {
   "cell_type": "markdown",
   "metadata": {
    "colab_type": "text",
    "id": "aX8GaTXUhiw9"
   },
   "source": [
    "**3. 1행이 100, 200 이고 2행이 300, 400인 행렬을 생성하세요.**\n",
    "\n",
    "Numpy에서 행렬을 표현할 때는 ```matrix```함수를 이용할 수 있습니다. 최종적으로 다음의 결과가 나와야 합니다.\n",
    "```\n",
    "matrix([[100, 200],  \n",
    "        [300, 400]])  \n",
    "```"
   ]
  },
  {
   "cell_type": "code",
   "execution_count": null,
   "metadata": {
    "colab": {},
    "colab_type": "code",
    "id": "dIz5kGd-hiw9",
    "outputId": "9de88ce6-55de-41bf-b05a-73d34a101bd2"
   },
   "outputs": [
    {
     "data": {
      "text/plain": [
       "matrix([[100, 200],\n",
       "        [300, 400]])"
      ]
     },
     "execution_count": 5,
     "metadata": {
      "tags": []
     },
     "output_type": "execute_result"
    }
   ],
   "source": [
    "# numpy의 matrix함수를 사용하여 1행이 100, 200 2행이 300, 400인 행렬을 생성합니다.\n",
    "# 그리고 이 결과를 data3변수에 할당합니다.\n",
    "data3 = np.matrix([[100, 200], [300, 400]])\n",
    "\n",
    "# data3를 출력합니다.\n",
    "data3"
   ]
  },
  {
   "cell_type": "markdown",
   "metadata": {
    "colab_type": "text",
    "id": "m_xCZneshixA"
   },
   "source": [
    "**3-1 생성한 데이터가 몇행 몇열인지 출력하세요.**\n",
    "\n",
    "실행 결과로 ```(2, 2)```가 출력되어야 합니다. 보통 이런 경우에는 넘파이(Numpy)의 [shape](https://docs.scipy.org/doc/numpy/reference/generated/numpy.ndarray.shape.html)함수를 사용합니다."
   ]
  },
  {
   "cell_type": "code",
   "execution_count": null,
   "metadata": {
    "colab": {},
    "colab_type": "code",
    "id": "nFaZDV9yhixB",
    "outputId": "1c9c0b0a-8f2c-4341-fca1-9c7f9a02bc39"
   },
   "outputs": [
    {
     "data": {
      "text/plain": [
       "(2, 2)"
      ]
     },
     "execution_count": 7,
     "metadata": {
      "tags": []
     },
     "output_type": "execute_result"
    }
   ],
   "source": [
    "# numpy의 shape함수를 이용하여 data3의 형태를 출력합니다.\n",
    "np.shape(data3)"
   ]
  },
  {
   "cell_type": "markdown",
   "metadata": {
    "colab_type": "text",
    "id": "1fPlVa9UhixD"
   },
   "source": [
    "### 벡터와 행렬 응용하기\n",
    "\n",
    "지금부터는 딥러닝에 활용되기 위한 넘파이(Numpy)의 기본적인 기능을 알아보겠습니다.   \n",
    "\n",
    "사용할 데이터들을 깔끔하게 전처리하고 딥러닝 알고리즘을 효율적으로 구현하기 위해서는 Numpy에서 제공하는 기능들을 잘 숙지하여 활용하는 것이 좋습니다.   \n",
    "\n",
    "벡터와 행렬 구조에서 인덱싱(indexing)과 슬라이싱(slicing)을 익히고 어떤 유용한 함수들이 있는지 알아보겠습니다."
   ]
  },
  {
   "cell_type": "markdown",
   "metadata": {
    "colab_type": "text",
    "id": "o9gXCoeRhixE"
   },
   "source": [
    "**4. 크기가 10이고 모든 값이 0으로 채워진 배열을 생성한 뒤 1번째, 2번째 10번째 값을 각각 1, 2, 10으로 수정하세요.**\n",
    "\n",
    "넘파이(Numpy)에서 제공하는 ```array``` 형식은 파이썬의 리스트처럼 index를 이용할 수 있습니다. 자세한 정보는 [다음의 링크](https://numpy.org/devdocs/user/quickstart.html#indexing-slicing-and-iterating)를 참고하세요.\n",
    "\n",
    "최종적으로 다음의 결과가 나와야 합니다.\n",
    "```\n",
    "array([ 1.,  2.,  0.,  0.,  0.,  0.,  0.,  0.,  0., 10.])\n",
    "```"
   ]
  },
  {
   "cell_type": "code",
   "execution_count": null,
   "metadata": {
    "colab": {},
    "colab_type": "code",
    "id": "_NuhCgSNhixE",
    "outputId": "9a850301-3f21-44c8-fa7f-38415f7a9cba"
   },
   "outputs": [
    {
     "data": {
      "text/plain": [
       "array([ 1.,  2.,  0.,  0.,  0.,  0.,  0.,  0.,  0., 10.])"
      ]
     },
     "execution_count": 17,
     "metadata": {
      "tags": []
     },
     "output_type": "execute_result"
    }
   ],
   "source": [
    "# numpy의 zeros함수를 사용하여 크기가 10이고 0으로 채워진 배열을 생성합니다.\n",
    "# 그리고 이 결과를 data4변수에 할당합니다.\n",
    "data4 = np.zeros(10)\n",
    "\n",
    "# data4의 0번째칸에 1을 넣습니다.\n",
    "data4[0] = 1\n",
    "\n",
    "# data4의 1번째칸에 2을 넣습니다.\n",
    "data4[1] = 2\n",
    "\n",
    "# data4의 9번째칸에 10을 넣습니다.\n",
    "data4[9] = 10\n",
    "\n",
    "# data4를 출력합니다.\n",
    "data4"
   ]
  },
  {
   "cell_type": "markdown",
   "metadata": {
    "colab_type": "text",
    "id": "AMd4PDxnhixH"
   },
   "source": [
    "**5. 4번에서 생성한 배열에서 값이 0이 아닌 index를 출력해주세요.**\n",
    "\n",
    "이 경우에는 넘파이(Numpy)의 [nonzero](https://docs.scipy.org/doc/numpy/reference/generated/numpy.nonzero.html)를 사용합니다. 최종적으로 다음의 결과가 나와야 합니다.\n",
    "```\n",
    "array([0, 1, 9])\n",
    "```"
   ]
  },
  {
   "cell_type": "code",
   "execution_count": null,
   "metadata": {
    "colab": {},
    "colab_type": "code",
    "id": "8IG5fms5hixI",
    "outputId": "3a3c28c9-3268-48d1-c2d1-924087315a3f"
   },
   "outputs": [
    {
     "data": {
      "text/plain": [
       "(array([0, 1, 9]),)"
      ]
     },
     "execution_count": 9,
     "metadata": {
      "tags": []
     },
     "output_type": "execute_result"
    }
   ],
   "source": [
    "# numpy의 nonzero함수를 사용하여 data4에서 값이 0이 아닌 index를 찾아 출력합니다.\n",
    "np.nonzero(data4)"
   ]
  },
  {
   "cell_type": "markdown",
   "metadata": {
    "colab_type": "text",
    "id": "FajZoAAdhixJ"
   },
   "source": [
    "**5-1. 4번에서 생성한 배열의 index를 거꾸로 출력해주세요.**\n",
    "\n",
    "자세한 사항은 넘파이(Numpy)의 [indexing](https://docs.scipy.org/doc/numpy/reference/arrays.indexing.html) 관련 문서를 살펴보세요. 만일 이 문서에서도 정답을 찾을 수 없으면, 구글에서 검색해보시는걸 추천 드립니다. (예시 키워드: Numpy reverse indexing) 최종적으로 다음의 결과가 나와야 합니다.\n",
    "```\n",
    "array([10.,  0.,  0.,  0.,  0.,  0.,  0.,  0.,  2.,  1.])\n",
    "```"
   ]
  },
  {
   "cell_type": "code",
   "execution_count": null,
   "metadata": {
    "colab": {},
    "colab_type": "code",
    "id": "ia8Z5odmhixK",
    "outputId": "67234d54-ec2e-4fc4-eb95-6f68b2adbdad"
   },
   "outputs": [
    {
     "data": {
      "text/plain": [
       "array([10.,  0.,  0.,  0.,  0.,  0.,  0.,  0.,  2.,  1.])"
      ]
     },
     "execution_count": 10,
     "metadata": {
      "tags": []
     },
     "output_type": "execute_result"
    }
   ],
   "source": [
    "# data4의 값을 거꾸로 출력합니다.\n",
    "data4[::-1]"
   ]
  },
  {
   "cell_type": "markdown",
   "metadata": {
    "colab_type": "text",
    "id": "RxGcxm8shixM"
   },
   "source": [
    "**6. 10부터 44까지의 정수가 담긴 배열을 생성하세요.**\n",
    "\n",
    "보통 이런 경우는 넘파이(Numpy)의 [arange](https://docs.scipy.org/doc/numpy/reference/generated/numpy.arange.html)를 사용합니다. 최종적으로 다음의 결과가 나와야 합니다.\n",
    "\n",
    "```\n",
    "array([10, 11, 12, 13, 14, 15, 16, 17, 18, 19, 20, 21, 22, 23, 24, 25, 26,\n",
    "       27, 28, 29, 30, 31, 32, 33, 34, 35, 36, 37, 38, 39, 40, 41, 42, 43,\n",
    "       44])\n",
    "```"
   ]
  },
  {
   "cell_type": "code",
   "execution_count": null,
   "metadata": {
    "colab": {},
    "colab_type": "code",
    "id": "TjhQHlZHhixM",
    "outputId": "dd766966-c371-4efc-b7e7-573c28fb6fa7"
   },
   "outputs": [
    {
     "data": {
      "text/plain": [
       "array([10, 11, 12, 13, 14, 15, 16, 17, 18, 19, 20, 21, 22, 23, 24, 25, 26,\n",
       "       27, 28, 29, 30, 31, 32, 33, 34, 35, 36, 37, 38, 39, 40, 41, 42, 43,\n",
       "       44])"
      ]
     },
     "execution_count": 15,
     "metadata": {
      "tags": []
     },
     "output_type": "execute_result"
    }
   ],
   "source": [
    "# numpy의 arange함수를 사용하여 10부터 44까지의 정수가 담긴 배열을 생성합니다.\n",
    "data6 = np.arange(10, 45)\n",
    "\n",
    "# data6을 출력합니다.\n",
    "data6"
   ]
  },
  {
   "cell_type": "markdown",
   "metadata": {
    "colab_type": "text",
    "id": "gCkf7O0AhixO"
   },
   "source": [
    "**7. 6번에서 생성한 배열을 행이 7개인 행렬의 모양으로 바꿔주세요.**\n",
    "\n",
    "이런 경우에는 보통 넘파이(Numpy)의 [reshape](https://docs.scipy.org/doc/numpy/reference/generated/numpy.reshape.html)를 사용합니다. 결과는 다음과 같습니다.  "
   ]
  },
  {
   "cell_type": "code",
   "execution_count": null,
   "metadata": {
    "colab": {},
    "colab_type": "code",
    "id": "qG6zh957hixP",
    "outputId": "fbf667e2-c324-46b8-b169-fec04e65fe36"
   },
   "outputs": [
    {
     "data": {
      "text/plain": [
       "array([[10, 11, 12, 13, 14],\n",
       "       [15, 16, 17, 18, 19],\n",
       "       [20, 21, 22, 23, 24],\n",
       "       [25, 26, 27, 28, 29],\n",
       "       [30, 31, 32, 33, 34],\n",
       "       [35, 36, 37, 38, 39],\n",
       "       [40, 41, 42, 43, 44]])"
      ]
     },
     "execution_count": 17,
     "metadata": {
      "tags": []
     },
     "output_type": "execute_result"
    }
   ],
   "source": [
    "# numpy의 reshape함수를 사용하여 행이 7개인 행렬로 바꿔줍니다.\n",
    "data6.reshape(7, -1)"
   ]
  },
  {
   "cell_type": "markdown",
   "metadata": {
    "colab_type": "text",
    "id": "gx6xeq-phixQ"
   },
   "source": [
    "**8. 랜덤한 값이 담긴 4x3크기의 행렬을 생성하세요.**\n",
    "\n",
    "자세한 사항은 넘파이(Numpy)의 [Random sampling](https://docs.scipy.org/doc/numpy-1.14.0/reference/routines.random.html) 문서를 참고하세요. 예를 들어 다음의 결과가 나와야 합니다. (4x3 크기만 일치하면 될 뿐, 랜덤 값이기 때문에 내부 값은 달라도 큰 문제 없습니다)\n",
    "\n",
    "```\n",
    "array([[0.4402027 , 0.95203021, 0.05768148],\n",
    "       [0.46816255, 0.71225697, 0.23287108],\n",
    "       [0.67228134, 0.81530935, 0.29613427],\n",
    "       [0.34000567, 0.86244685, 0.31680388]])\n",
    "```"
   ]
  },
  {
   "cell_type": "code",
   "execution_count": null,
   "metadata": {
    "colab": {},
    "colab_type": "code",
    "id": "j9rBtIU0hixR",
    "outputId": "2066f2d6-d224-4954-eace-14a061891106"
   },
   "outputs": [
    {
     "data": {
      "text/plain": [
       "array([[0.4402027 , 0.95203021, 0.05768148],\n",
       "       [0.46816255, 0.71225697, 0.23287108],\n",
       "       [0.67228134, 0.81530935, 0.29613427],\n",
       "       [0.34000567, 0.86244685, 0.31680388]])"
      ]
     },
     "execution_count": 18,
     "metadata": {
      "tags": []
     },
     "output_type": "execute_result"
    }
   ],
   "source": [
    "# numpy의 random.random함수를 사용하여 행의 크기가 4, 열의 크기가 3인 행렬을 만들고 랜덤한 수로 초기화 합니다.\n",
    "data8 = np.random.random((4, 3))\n",
    "\n",
    "# data8을 출력합니다.\n",
    "data8"
   ]
  },
  {
   "cell_type": "markdown",
   "metadata": {
    "colab_type": "text",
    "id": "HMDyaisqhixT"
   },
   "source": [
    "**9. 8번에서 생성한 행렬의 값 중 최솟값과 최대값을 각각 출력해주세요.**\n",
    "\n",
    "자세한 사항은 [다음의 링크](https://jakevdp.github.io/PythonDataScienceHandbook/02.04-computation-on-arrays-aggregates.html)를 참고해주세요."
   ]
  },
  {
   "cell_type": "code",
   "execution_count": null,
   "metadata": {
    "colab": {},
    "colab_type": "code",
    "id": "u7pXLRF6hixU",
    "outputId": "08819a4d-e3e6-4437-f04f-6a0fe5cf44b4"
   },
   "outputs": [
    {
     "data": {
      "text/plain": [
       "0.09837452338682229"
      ]
     },
     "execution_count": 12,
     "metadata": {
      "tags": []
     },
     "output_type": "execute_result"
    }
   ],
   "source": [
    "# numpy의 min함수를 사용하여 data8의 최솟값을 출력합니다.\n",
    "data8.min()"
   ]
  },
  {
   "cell_type": "code",
   "execution_count": null,
   "metadata": {
    "colab": {},
    "colab_type": "code",
    "id": "S4h8orRphixW",
    "outputId": "6f5b0664-923b-458c-f241-0ea71770fa6b"
   },
   "outputs": [
    {
     "data": {
      "text/plain": [
       "0.952030206481001"
      ]
     },
     "execution_count": 19,
     "metadata": {
      "tags": []
     },
     "output_type": "execute_result"
    }
   ],
   "source": [
    "# numpy의 max함수를 사용하여 data8의 최대값을 출력합니다.\n",
    "data8.max()"
   ]
  },
  {
   "cell_type": "markdown",
   "metadata": {
    "colab_type": "text",
    "id": "ibqJkgO1hixY"
   },
   "source": [
    "**9-1. 8번에서 생성한 행렬에서 각 행의 최대값을 나타내는 열이 몇번째 열인지 출력해주세요.**\n",
    "\n",
    "이런 경우에는 보통 [argmax](https://docs.scipy.org/doc/numpy/reference/generated/numpy.argmax.html)라는 기능을 사용합니다. 최종적으로 실행결과로 4개의 숫자값이 나와야 합니다."
   ]
  },
  {
   "cell_type": "code",
   "execution_count": null,
   "metadata": {
    "colab": {},
    "colab_type": "code",
    "id": "5ZIzsNIahixY",
    "outputId": "14e18170-baad-4be8-c6dd-2f4b2a5623bf"
   },
   "outputs": [
    {
     "data": {
      "text/plain": [
       "array([1, 1, 1, 1])"
      ]
     },
     "execution_count": 22,
     "metadata": {
      "tags": []
     },
     "output_type": "execute_result"
    }
   ],
   "source": [
    "# numpy의 argmax함수를 사용하여 data8에서 최대값을 가진 index를 출력합니다.\n",
    "# axis=1 옵셥을 주어 각 행의 최대값을 구해줍니다.\n",
    "data8.argmax(axis=1)"
   ]
  },
  {
   "cell_type": "markdown",
   "metadata": {
    "colab_type": "text",
    "id": "r0A_cBOehixa"
   },
   "source": [
    "**10. 8번에서 생성한 행렬 값의 평균값(mean)과 합계(sum)를 각각 출력해주세요.**\n",
    "\n",
    "자세한 사항은 [다음의 링크](https://www.pythonprogramming.in/numpy-aggregate-and-statistical-functions.html)를 참고해주세요."
   ]
  },
  {
   "cell_type": "code",
   "execution_count": null,
   "metadata": {
    "colab": {},
    "colab_type": "code",
    "id": "obl1Wx09hixb",
    "outputId": "eaec7e34-f140-48f7-8552-e2f054dc7c89"
   },
   "outputs": [
    {
     "data": {
      "text/plain": [
       "0.5138488625135942"
      ]
     },
     "execution_count": 21,
     "metadata": {
      "tags": []
     },
     "output_type": "execute_result"
    }
   ],
   "source": [
    "# numpy의 mean함수를 사용하여 data8의 평균값을 출력합니다.\n",
    "data8.mean()"
   ]
  },
  {
   "cell_type": "code",
   "execution_count": null,
   "metadata": {
    "colab": {},
    "colab_type": "code",
    "id": "IEEaNa5-hixe",
    "outputId": "84f66ade-9c60-4d56-b5d1-9ae6c3d7118c"
   },
   "outputs": [
    {
     "data": {
      "text/plain": [
       "6.16618635016313"
      ]
     },
     "execution_count": 20,
     "metadata": {
      "tags": []
     },
     "output_type": "execute_result"
    }
   ],
   "source": [
    "# numpy의 sum함수를 사용하여 data8의 합계를 출력합니다.\n",
    "data8.sum()"
   ]
  },
  {
   "cell_type": "markdown",
   "metadata": {
    "colab_type": "text",
    "id": "Wz7KEuSghixg"
   },
   "source": [
    "**11. 8번에서 생성한 행렬과 ```[1, 2, 3, 4]```가 담긴 넘파이(Numpy) 배열의 내적(dot product)을 구하세요.**\n",
    "\n",
    "\n",
    "앞서 공부한대로, 넘파이(Numpy)의 [dot](https://docs.scipy.org/doc/numpy-1.15.1/reference/generated/numpy.dot.html)을 실행하면 됩니다. 실행결과로 3개의 숫자값이 나와야 합니다."
   ]
  },
  {
   "cell_type": "code",
   "execution_count": null,
   "metadata": {
    "colab": {},
    "colab_type": "code",
    "id": "5SK_apzVhixg",
    "outputId": "d838ddd6-efe3-4548-e2f4-aa589e93845b"
   },
   "outputs": [
    {
     "data": {
      "text/plain": [
       "array([4.75339452, 8.27225958, 2.67904196])"
      ]
     },
     "execution_count": 23,
     "metadata": {
      "tags": []
     },
     "output_type": "execute_result"
    }
   ],
   "source": [
    "# numpy의 array를 이용하여 1, 2, 3, 4가 담긴 배열을 선언합니다.\n",
    "# 그리고 이 결과를 data11변수에 할당합니다.\n",
    "data11 = np.array([1, 2, 3, 4])\n",
    "\n",
    "# numpy의 dot을 이용하여 data8과 data11의 내적을 구합니다.\n",
    "# data8을 전치하여 내적연산의 형태를 맞춰줍니다.\n",
    "np.dot(data8.T, data11) "
   ]
  },
  {
   "cell_type": "markdown",
   "metadata": {
    "colab_type": "text",
    "id": "ipx4S9OYhixi"
   },
   "source": [
    "**12. 0부터 9사이의 랜덤한 정수값이 담긴 배열 2개를 생성하세요.**\n",
    "\n",
    "자세한 사항은 넘파이(Numpy)의 [Random sampling](https://docs.scipy.org/doc/numpy-1.14.0/reference/routines.random.html) 문서를 참고하세요. 최종적으로 다음의 결과가 출력되어야 합니다.\n",
    "```\n",
    "[6 2 7 9 7 8 8 9 8 2] [8 5 7 1 5 7 2 4 4 8]\n",
    "```"
   ]
  },
  {
   "cell_type": "code",
   "execution_count": null,
   "metadata": {
    "colab": {},
    "colab_type": "code",
    "id": "rsSyhOmJhixi",
    "outputId": "8e052df9-ab14-4bd7-ccae-af9d2ee48f91"
   },
   "outputs": [
    {
     "name": "stdout",
     "output_type": "stream",
     "text": [
      "[6 3 2 6 1 4 5 5 7 4] [5 1 3 4 3 0 4 7 5 5]\n"
     ]
    }
   ],
   "source": [
    "# numpy의 random.randint를 사용하여 크기가 10이고, 0부터 9사이의 랜덤한 수로 초기화하여 배열을 생성합니다.\n",
    "# 그리고 이 결과를 A와 B에 각각 할당합니다.\n",
    "A = np.random.randint(0, 10, 10)\n",
    "B = np.random.randint(0, 10, 10)\n",
    "\n",
    "# A와 B를 출력합니다.\n",
    "print(A, B)"
   ]
  },
  {
   "cell_type": "markdown",
   "metadata": {
    "colab_type": "text",
    "id": "erFWK5YXhixl"
   },
   "source": [
    "**12-1 12번에서 생성한 두 배열에서 공통된 값을 출력하세요.**\n",
    "\n",
    "이 경우에는 넘파이(Numpy)의 [intersect1d](https://docs.scipy.org/doc/numpy/reference/generated/numpy.intersect1d.html)를 사용합니다. 최종적으로 다음의 결과가 출력되어야 합니다.\n",
    "\n",
    "```\n",
    "array([2, 7, 8])\n",
    "```"
   ]
  },
  {
   "cell_type": "code",
   "execution_count": null,
   "metadata": {
    "colab": {},
    "colab_type": "code",
    "id": "4Sp-fExjhixl",
    "outputId": "84545ce8-0a57-4174-e52a-28f59fc9b7d3"
   },
   "outputs": [
    {
     "data": {
      "text/plain": [
       "array([1, 3, 4, 5, 7])"
      ]
     },
     "execution_count": 12,
     "metadata": {
      "tags": []
     },
     "output_type": "execute_result"
    }
   ],
   "source": [
    "# numpy의 intersect1d함수를 이용하여 두 배열의 교집합을 출력합니다.\n",
    "np.intersect1d(A, B)"
   ]
  },
  {
   "cell_type": "markdown",
   "metadata": {
    "colab_type": "text",
    "id": "oGynFI0Ghixn"
   },
   "source": [
    "**13. 다음 그림과 같이 테두리가 1이고 안은 0으로 채워진 5x5크기의 행렬을 생성하세요. 단, 슬라이싱을 사용하세요.**\n",
    "\n",
    "\n",
    "넘파이(Numpy)의 [ones](https://docs.scipy.org/doc/numpy/reference/generated/numpy.ones.html)함수를 사용하여 5X5행렬을 생성한 뒤 슬라이싱으로 0을 채워 넣습니다. 슬라이싱을 하는 방법은 파이썬 리스트를 슬라이싱 하는 것과 매우 유사합니다. 슬라이싱에 대한 자세한 정보는 [다음의 링크](https://numpy.org/devdocs/user/quickstart.html#indexing-slicing-and-iterating)를 참고하세요. 최종적으로 다음의 결과가 나와야 합니다.\n",
    "\n",
    "```\n",
    "    [1., 1., 1., 1., 1.]  \n",
    "    [1., 0., 0., 0., 1.]  \n",
    "    [1., 0., 0., 0., 1.]  \n",
    "    [1., 0., 0., 0., 1.]  \n",
    "    [1., 1., 1., 1., 1.]  \n",
    "```"
   ]
  },
  {
   "cell_type": "code",
   "execution_count": null,
   "metadata": {
    "colab": {},
    "colab_type": "code",
    "id": "YHbJBHeqhixo",
    "outputId": "e3a40d81-5cbc-4b83-cc0b-112efb772881"
   },
   "outputs": [
    {
     "data": {
      "text/plain": [
       "array([[1., 1., 1., 1., 1.],\n",
       "       [1., 0., 0., 0., 1.],\n",
       "       [1., 0., 0., 0., 1.],\n",
       "       [1., 0., 0., 0., 1.],\n",
       "       [1., 1., 1., 1., 1.]])"
      ]
     },
     "execution_count": 13,
     "metadata": {
      "tags": []
     },
     "output_type": "execute_result"
    }
   ],
   "source": [
    "# numpy의 ones함수를 사용하여 행의 크기가 5, 열의 크기가 5이고 모든 값이 1로 채워진 행렬을 생성합니다.\n",
    "data13 = np.ones((5, 5))\n",
    "\n",
    "# 행의 1번째 칸부터 -1번째 칸까지, 열의 1번째 칸부터 -1번째 칸까지 0으로 변경해줍니다.\n",
    "data13[1:-1, 1:-1] = 0\n",
    "\n",
    "# data13을 출력합니다.\n",
    "data13"
   ]
  },
  {
   "cell_type": "markdown",
   "metadata": {
    "colab_type": "text",
    "id": "jUNWWCVmhixp"
   },
   "source": [
    "**14. 다음 그림과 같이 0, 1이 반복되는 5x5크기의 행렬을 생성하세요.**\n",
    "\n",
    "넘파이(Numpy)의 [zeros](https://docs.scipy.org/doc/numpy/reference/generated/numpy.zeros.html) 함수를 사용하여 5X5행렬을 생성한 뒤 슬라이싱으로 1을 채워 넣습니다. 슬라이싱을 하는 방법은 파이썬 리스트를 슬라이싱 하는 것과 매우 유사합니다. 슬라이싱에 대한 자세한 정보는 [다음의 링크](https://numpy.org/devdocs/user/quickstart.html#indexing-slicing-and-iterating)를 참고하세요. 최종적으로 다음의 결과가 나와야 합니다.\n",
    "\n",
    "```\n",
    "    [0., 1., 0., 1., 0.]\n",
    "    [1., 0., 1., 0., 1.]\n",
    "    [0., 1., 0., 1., 0.]\n",
    "    [1., 0., 1., 0., 1.]\n",
    "    [0., 1., 0., 1., 0.]\n",
    "```"
   ]
  },
  {
   "cell_type": "code",
   "execution_count": null,
   "metadata": {
    "colab": {},
    "colab_type": "code",
    "id": "vdDGcHsphixq",
    "outputId": "70499443-acd3-4f59-d71a-d2dc490bd09a"
   },
   "outputs": [
    {
     "data": {
      "text/plain": [
       "array([[0., 1., 0., 1., 0.],\n",
       "       [1., 0., 1., 0., 1.],\n",
       "       [0., 1., 0., 1., 0.],\n",
       "       [1., 0., 1., 0., 1.],\n",
       "       [0., 1., 0., 1., 0.]])"
      ]
     },
     "execution_count": 15,
     "metadata": {
      "tags": []
     },
     "output_type": "execute_result"
    }
   ],
   "source": [
    "# numpy의 zeros함수를 사용하여 행의 크기가 5, 열의 크기가 5이고 모든 값이 0으로 채워진 행렬을 생성합니다.\n",
    "data14 = np.zeros((5, 5))\n",
    "\n",
    "# 행의 두번째칸(index : 1)부터 마지막칸까지 2칸단위로, 열의 첫번째칸부터 마지막칸까지 2칸단위로 1을 넣습니다.\n",
    "data14[1::2, ::2] = 1\n",
    "\n",
    "# 행의 첫번째칸부터 마지막칸까지 2칸단위로, 열의 두번째칸(index : 1)부터 마지막칸까지 2칸단위로 1을 넣습니다.\n",
    "data14[::2, 1::2] = 1\n",
    "\n",
    "# data14를 출력합니다.\n",
    "data14"
   ]
  },
  {
   "cell_type": "markdown",
   "metadata": {
    "colab_type": "text",
    "id": "rCOfsfR8hixr"
   },
   "source": [
    "### 날짜 표현하기"
   ]
  },
  {
   "cell_type": "markdown",
   "metadata": {
    "colab_type": "text",
    "id": "NVooJp6Ohixs"
   },
   "source": [
    "**15. 오늘 날짜와 내일 날짜를 출력하세요. (형식 : YYYY-MM-DD)**\n",
    "\n",
    "넘파이(Numpy)에서는 [datetime64](https://docs.scipy.org/doc/numpy/reference/arrays.datetime.html)라는 데이터 타입으로 날짜를 표현하는 기능을 기본적으로 제공하고 있습니다. 이를 활용하여 오늘 날짜와 내일 날짜를 직접 표현해보세요. Datetime에 대한 자세한 정보는 [다음의 링크](https://docs.scipy.org/doc/numpy/reference/arrays.datetime.html)를 참고하세요."
   ]
  },
  {
   "cell_type": "code",
   "execution_count": null,
   "metadata": {
    "colab": {},
    "colab_type": "code",
    "id": "Z8GQ6ZaAhixs",
    "outputId": "44197056-dd84-4e3d-ad71-e3946f156cfe"
   },
   "outputs": [
    {
     "name": "stdout",
     "output_type": "stream",
     "text": [
      "2019-11-13 2019-11-14\n"
     ]
    }
   ],
   "source": [
    "# numpy의 datetime64함수를 사용합니다.\n",
    "# 옵션으로 'today'를 적으면 오늘 날짜를 나타낼 수 있습니다.\n",
    "today = np.datetime64('today')\n",
    "\n",
    "# timedelta64함수의 옵션으로 1, 'D'를 적으면 하루를 의미합니다.\n",
    "# 오늘 날짜에 하루를 더해 내일 날짜를 나타낼 수 있습니다.\n",
    "tomorrow = np.datetime64('today') + np.timedelta64(1, 'D')\n",
    "\n",
    "# today와 tomorrow변수를 출력합니다.\n",
    "print(today, tomorrow)"
   ]
  },
  {
   "cell_type": "markdown",
   "metadata": {
    "colab_type": "text",
    "id": "CMGvVtYjhixu"
   },
   "source": [
    "## 제출\n",
    "\n",
    "과제를 다 끝내셨으면 http://bit.ly/ds-assignment 에서 안내에 따라 과제를 제출하여 주세요! 과제를 제출해주시면 검토 결과를 드리고 다음 레벨에 초대해드립니다. \n",
    "\n",
    "과제 제출 후에 늦어도 24시간 이내에는 회신을 드립니다. 다만 과제의 난이도나 풀이에 따라 다소 시간이 걸릴 수 있다는 점 양해 부탁드립니다. 혹시나 다음 레벨로 초대를 못 받은 분들은 채널에 있는 튜터분에게 문의 주시면 다음 채널을 오픈해드립니다.\n",
    "\n",
    "수업이나 과제 관련 질문, 수료증 문의 등은 담당 튜터(조교)에게 문의 주세요. 영수증 발급 등의 문의는 support@dsschool.co.kr 로 메일 주시면 담당자분이 응대해주실 겁니다. 기타 궁금한 사항은 슬랙으로 문의 주세요!"
   ]
  },
  {
   "cell_type": "code",
   "execution_count": null,
   "metadata": {
    "colab": {},
    "colab_type": "code",
    "id": "F4hvTLLKhixv"
   },
   "outputs": [],
   "source": []
  }
 ],
 "metadata": {
  "colab": {
   "name": "0301_numpy-exercise(solution).ipynb",
   "provenance": []
  },
  "kernelspec": {
   "display_name": "Python 3",
   "language": "python",
   "name": "python3"
  },
  "language_info": {
   "codemirror_mode": {
    "name": "ipython",
    "version": 3
   },
   "file_extension": ".py",
   "mimetype": "text/x-python",
   "name": "python",
   "nbconvert_exporter": "python",
   "pygments_lexer": "ipython3",
   "version": "3.7.6"
  }
 },
 "nbformat": 4,
 "nbformat_minor": 4
}
