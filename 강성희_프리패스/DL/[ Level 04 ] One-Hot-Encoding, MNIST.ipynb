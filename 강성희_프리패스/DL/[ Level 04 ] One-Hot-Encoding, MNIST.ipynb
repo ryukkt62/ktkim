{
 "cells": [
  {
   "cell_type": "markdown",
   "metadata": {
    "colab_type": "text",
    "id": "Lh5ToNORHiln"
   },
   "source": [
    "## Prerequisites"
   ]
  },
  {
   "cell_type": "markdown",
   "metadata": {
    "colab_type": "text",
    "id": "bMai6SQYHilo"
   },
   "source": [
    "먼저 이번 과제에서 사용할 패키지들을 가져오도록 하겠습니다. 지난 과제와 마찬가지로, 우선 Numpy와 Pandas를 불러옵니다."
   ]
  },
  {
   "cell_type": "code",
   "execution_count": 0,
   "metadata": {
    "colab": {},
    "colab_type": "code",
    "id": "Q_pmpn7XHilp"
   },
   "outputs": [],
   "source": [
    "import numpy as np\n",
    "import pandas as pd"
   ]
  },
  {
   "cell_type": "markdown",
   "metadata": {
    "colab_type": "text",
    "id": "K_c-9OkzHils"
   },
   "source": [
    "MNIST 데이터의 경우 압축파일의 형태로 다운받아 처리할 수 있습니다. 그러나 이를 파이썬으로 처음부터 처리하기에는 귀찮은 점이 많습니다. 파이썬의 딥러닝 라이브러리들은 대부분 MNIST 데이터들을 자체적으로 가져오는 함수를 가지고 있습니다. 따라서 이번 과제에서는 다른 패키지를 통해 데이터를 가져오도록 하겠습니다. 특히 그 중에서도 Keras라는 라이브러리를 사용할 것입니다.\n",
    "\n",
    "Keras는 Tensorflow라는 또 다른 딥러닝 라이브러리를 사용하기 편하게 만들어준 것입니다. 따라서 우리는 총 두 개, Tensorflow와 Keras를 설치할 것입니다. 사용하시는 환경에 따라서 설치하는데 시간이 좀 걸릴 수도 있으니 기다려주세요."
   ]
  },
  {
   "cell_type": "code",
   "execution_count": 0,
   "metadata": {
    "colab": {},
    "colab_type": "code",
    "id": "iaJ2yaMiHils",
    "outputId": "477267bc-82fd-4092-cd33-bc674b79c9a6"
   },
   "outputs": [
    {
     "name": "stdout",
     "output_type": "stream",
     "text": [
      "Requirement already satisfied: tensorflow in c:\\programdata\\anaconda3\\lib\\site-packages (1.14.0)\n",
      "Requirement already satisfied: keras-preprocessing>=1.0.5 in c:\\programdata\\anaconda3\\lib\\site-packages (from tensorflow) (1.1.0)\n",
      "Requirement already satisfied: absl-py>=0.7.0 in c:\\programdata\\anaconda3\\lib\\site-packages (from tensorflow) (0.7.1)\n",
      "Requirement already satisfied: numpy<2.0,>=1.14.5 in c:\\programdata\\anaconda3\\lib\\site-packages (from tensorflow) (1.16.2)\n",
      "Requirement already satisfied: astor>=0.6.0 in c:\\programdata\\anaconda3\\lib\\site-packages (from tensorflow) (0.8.0)\n",
      "Requirement already satisfied: google-pasta>=0.1.6 in c:\\programdata\\anaconda3\\lib\\site-packages (from tensorflow) (0.1.7)\n",
      "Requirement already satisfied: tensorflow-estimator<1.15.0rc0,>=1.14.0rc0 in c:\\programdata\\anaconda3\\lib\\site-packages (from tensorflow) (1.14.0)\n",
      "Requirement already satisfied: grpcio>=1.8.6 in c:\\programdata\\anaconda3\\lib\\site-packages (from tensorflow) (1.23.0)\n",
      "Requirement already satisfied: termcolor>=1.1.0 in c:\\programdata\\anaconda3\\lib\\site-packages (from tensorflow) (1.1.0)\n",
      "Requirement already satisfied: wrapt>=1.11.1 in c:\\programdata\\anaconda3\\lib\\site-packages (from tensorflow) (1.11.1)\n",
      "Requirement already satisfied: wheel>=0.26 in c:\\programdata\\anaconda3\\lib\\site-packages (from tensorflow) (0.33.1)\n",
      "Requirement already satisfied: keras-applications>=1.0.6 in c:\\programdata\\anaconda3\\lib\\site-packages (from tensorflow) (1.0.8)\n",
      "Requirement already satisfied: gast>=0.2.0 in c:\\programdata\\anaconda3\\lib\\site-packages (from tensorflow) (0.2.2)\n",
      "Requirement already satisfied: six>=1.10.0 in c:\\programdata\\anaconda3\\lib\\site-packages (from tensorflow) (1.12.0)\n",
      "Requirement already satisfied: protobuf>=3.6.1 in c:\\programdata\\anaconda3\\lib\\site-packages (from tensorflow) (3.9.1)\n",
      "Requirement already satisfied: tensorboard<1.15.0,>=1.14.0 in c:\\programdata\\anaconda3\\lib\\site-packages (from tensorflow) (1.14.0)\n",
      "Requirement already satisfied: h5py in c:\\programdata\\anaconda3\\lib\\site-packages (from keras-applications>=1.0.6->tensorflow) (2.9.0)\n",
      "Requirement already satisfied: setuptools in c:\\programdata\\anaconda3\\lib\\site-packages (from protobuf>=3.6.1->tensorflow) (41.1.0)\n",
      "Requirement already satisfied: werkzeug>=0.11.15 in c:\\programdata\\anaconda3\\lib\\site-packages (from tensorboard<1.15.0,>=1.14.0->tensorflow) (0.14.1)\n",
      "Requirement already satisfied: markdown>=2.6.8 in c:\\programdata\\anaconda3\\lib\\site-packages (from tensorboard<1.15.0,>=1.14.0->tensorflow) (3.1.1)\n"
     ]
    }
   ],
   "source": [
    "# 파이썬을 아나콘다로 설치한 경우, 아래 명령어 대신 아나콘다 네비게이터(Anaconda Navigator)를 실행한 뒤\n",
    "# 좌측의 환경(Environment) 탭에서 설치할 수 있습니다.\n",
    "!pip install tensorflow"
   ]
  },
  {
   "cell_type": "code",
   "execution_count": 0,
   "metadata": {
    "colab": {},
    "colab_type": "code",
    "id": "GU-VT__gHilv",
    "outputId": "9c0c1af5-9209-4d61-bed4-d913a41ae9f3"
   },
   "outputs": [
    {
     "name": "stdout",
     "output_type": "stream",
     "text": [
      "Requirement already satisfied: keras in c:\\programdata\\anaconda3\\lib\\site-packages (2.2.4)\n",
      "Requirement already satisfied: keras-applications>=1.0.6 in c:\\programdata\\anaconda3\\lib\\site-packages (from keras) (1.0.8)\n",
      "Requirement already satisfied: pyyaml in c:\\programdata\\anaconda3\\lib\\site-packages (from keras) (5.1)\n",
      "Requirement already satisfied: numpy>=1.9.1 in c:\\programdata\\anaconda3\\lib\\site-packages (from keras) (1.16.2)\n",
      "Requirement already satisfied: scipy>=0.14 in c:\\programdata\\anaconda3\\lib\\site-packages (from keras) (1.2.1)\n",
      "Requirement already satisfied: six>=1.9.0 in c:\\programdata\\anaconda3\\lib\\site-packages (from keras) (1.12.0)\n",
      "Requirement already satisfied: keras-preprocessing>=1.0.5 in c:\\programdata\\anaconda3\\lib\\site-packages (from keras) (1.1.0)\n",
      "Requirement already satisfied: h5py in c:\\programdata\\anaconda3\\lib\\site-packages (from keras) (2.9.0)\n"
     ]
    }
   ],
   "source": [
    "# 파이썬을 아나콘다로 설치한 경우, 아래 명령어 대신 아나콘다 네비게이터(Anaconda Navigator)를 실행한 뒤\n",
    "# 좌측의 환경(Environment) 탭에서 설치할 수 있습니다.\n",
    "!pip install keras"
   ]
  },
  {
   "cell_type": "markdown",
   "metadata": {
    "colab_type": "text",
    "id": "skoT1QBYHilx"
   },
   "source": [
    "## MNIST Dataset\n",
    "\n",
    "이번 과제는 [MNIST 필기체 데이터셋](http://yann.lecun.com/exdb/mnist/)을 활용하여 필기체 이미지를 인식하는 이미지 인식 알고리즘을 Single-layer Neural Network로 작성합니다.\n",
    "\n",
    "가로 28px, 세로 28px의 필기체 이미지가 주어지며, 필기체는 숫자 0부터 9까지 총 10개의 Label로 구성되어 있습니다. 이미지는 컬러가 없는 흑백 데이터이며, 한 픽셀의 값은 0 ~ 255 입니다. (0일수록 어둡고, 255일수록 밝습니다)\n",
    "\n",
    "데이터는 60,000개의 Train 데이터와 10,000개의 Test 데이터가 주어지는데, Train 데이터로 Single-layer Neural Network를 학습한 뒤 Test 데이터로 정확도(accuracy)를 측정합니다. 각 변수의 세부 정보는 다음과 같습니다.\n",
    "\n",
    "  * **X_train**: **Train 데이터의 Feature** 입니다. 가로 28px, 세로 28px, 총 60,000개의 데이터로 구성되어 있습니다. 픽셀 하나의 값은 0 ~ 255 입니다. (0일수록 어둡고, 255일수록 밝습니다)\n",
    "  * **y_train**: **Train 데이터의 Label** 입니다. 총 60,000 개이며, 이미지가 어떤 숫자를 나타내는지가 적혀 있습니다. 값은 0부터 9까지 입니다.\n",
    "  * **X_test**: **Test 데이터의 Feature** 입니다. 가로 28px, 세로 28px, 총 10,000개의 데이터로 구성되어 있습니다. 픽셀 하나의 값은 0 ~ 255 입니다. (0일수록 어둡고, 255일수록 밝습니다)\n",
    "  * **y_test**: **Test 데이터의 Label** 입니다. 총 10,000 개이며, 이미지가 어떤 숫자를 나타내는지가 적혀 있습니다. 값은 0부터 9까지 입니다.\n",
    "  \n",
    "** 주의 사항 **\n",
    "  * 이전에 Iris Dataset 문제를 풀었던 코드를 조금만 응용하면 매우 쉽게 MNIST 데이터셋 문제를 풀 수 있습니다.\n",
    "  * accuracy가 잘 올라가지 않고 그 이유를 잘 모르겠다면, Loss Function(=Cross Entropy)를 병행해서 사용해보세요. 앞서 언급드린대로 Loss Function은 \"학습이 잘 될수록 0에 수렴하고, 학습이 잘 되지 않을수록 무한대로 발산합니다.\" 즉, Loss Function을 사용할 때 결과가 무한대로 발산하고 있다면 무언가 제대로 풀리지 않고 있다는 것입니다."
   ]
  },
  {
   "cell_type": "markdown",
   "metadata": {
    "colab_type": "text",
    "id": "8tHJI_qRHily"
   },
   "source": [
    "위에서 다운받은 라이브러리로 MNIST 데이터를 불러오도록 하겠습니다. 데이터를 자체적으로 다운받아 처리하니 마찬가지로 시간이 좀 걸릴 수 있습니다."
   ]
  },
  {
   "cell_type": "code",
   "execution_count": 0,
   "metadata": {
    "colab": {},
    "colab_type": "code",
    "id": "bEriAbFBHilz",
    "outputId": "10d11878-bcce-4619-9baa-5049f6e08ec9"
   },
   "outputs": [
    {
     "name": "stderr",
     "output_type": "stream",
     "text": [
      "Using TensorFlow backend.\n"
     ]
    },
    {
     "name": "stdout",
     "output_type": "stream",
     "text": [
      "(60000, 28, 28) (10000, 28, 28)\n",
      "(60000,) (10000,)\n"
     ]
    }
   ],
   "source": [
    "from keras.datasets import mnist\n",
    "\n",
    "((X_train, y_train), (X_test, y_test)) = mnist.load_data() # 데이터를 불러옵니다.\n",
    "\n",
    "# 불러온 데이터가 어떠한 형태인지 출력합니다.\n",
    "print(X_train.shape, X_test.shape)\n",
    "print(y_train.shape, y_test.shape)"
   ]
  },
  {
   "cell_type": "markdown",
   "metadata": {
    "colab_type": "text",
    "id": "XwSuxg5bHil0"
   },
   "source": [
    "Train 데이터는 총 6만개, Test 데이터는 총 만 개가 있음을 볼 수 있습니다. 몇 개를 가져와 어떤 형태로 데이터가 생겼는지 확인해보겠습니다.\n",
    "\n",
    "간단한 시각화를 위해서 matplotlib을 사용하도록 하겠습니다."
   ]
  },
  {
   "cell_type": "code",
   "execution_count": 0,
   "metadata": {
    "colab": {},
    "colab_type": "code",
    "id": "d-jamp1FHil1",
    "outputId": "76ae4fc4-5436-4d98-e636-8097abf9b6b5"
   },
   "outputs": [
    {
     "name": "stdout",
     "output_type": "stream",
     "text": [
      "[5 0 4 1 9 2 1 3 1 4]\n"
     ]
    },
    {
     "data": {
      "text/plain": [
       "<matplotlib.image.AxesImage at 0x1c6f0df2e48>"
      ]
     },
     "execution_count": 5,
     "metadata": {
      "tags": []
     },
     "output_type": "execute_result"
    },
    {
     "data": {
      "text/plain": [
       "<Figure size 432x288 with 0 Axes>"
      ]
     },
     "metadata": {
      "tags": []
     },
     "output_type": "display_data"
    },
    {
     "data": {
      "image/png": "[encoded data removed]",
      "text/plain": [
       "<Figure size 1296x576 with 10 Axes>"
      ]
     },
     "metadata": {
      "needs_background": "light",
      "tags": []
     },
     "output_type": "display_data"
    }
   ],
   "source": [
    "# matplotlib을 불러옵니다.\n",
    "%matplotlib inline\n",
    "import matplotlib.pyplot as plt\n",
    "\n",
    "# mnist 데이터는 흑백의 데이터니 이를 명시해주겠습니다.\n",
    "plt.gray()\n",
    "\n",
    "# 비교를 위해서 정답 label을 가져옵니다. 곧 각 X는 각 y와 같아야합니다.\n",
    "print(y_train[0:10])\n",
    "\n",
    "# 10개를 가져와 시각화합니다.\n",
    "figures, axes = plt.subplots(nrows=2, ncols=5)\n",
    "figures.set_size_inches(18, 8)\n",
    "\n",
    "axes[0][0].matshow(X_train[0])\n",
    "axes[0][1].matshow(X_train[1])\n",
    "axes[0][2].matshow(X_train[2])\n",
    "axes[0][3].matshow(X_train[3])\n",
    "axes[0][4].matshow(X_train[4])\n",
    "axes[1][0].matshow(X_train[5])\n",
    "axes[1][1].matshow(X_train[6])\n",
    "axes[1][2].matshow(X_train[7])\n",
    "axes[1][3].matshow(X_train[8])\n",
    "axes[1][4].matshow(X_train[9])"
   ]
  },
  {
   "cell_type": "markdown",
   "metadata": {
    "colab_type": "text",
    "id": "9L7DEpOnHil3"
   },
   "source": [
    "lable은 0~9의 숫자로 저장되어 있다는 것을 확인할 수 있습니다."
   ]
  },
  {
   "cell_type": "markdown",
   "metadata": {
    "colab_type": "text",
    "id": "fauoJaO3Hil4"
   },
   "source": [
    "## Preprocessing\n",
    "\n",
    "본격적으로 학습을 시작하기 전에, 몇 가지 간단한 전처리를 해주겠습니다. Train과 Test의 데이터들은 28 x 28의 2차원 데이터입니다. 우리는 아직 2차원 등의 고차원 데이터를 다루는 법을 배우지 않았으므로, 여기에서는 2차원의 데이터를 1차원으로 처리해주도록 하겠습니다."
   ]
  },
  {
   "cell_type": "code",
   "execution_count": 0,
   "metadata": {
    "colab": {},
    "colab_type": "code",
    "id": "Y2cec-JnHil4",
    "outputId": "17ed2aad-c489-44be-ec54-c6a7965eed0a"
   },
   "outputs": [
    {
     "name": "stdout",
     "output_type": "stream",
     "text": [
      "(60000, 784) (10000, 784)\n"
     ]
    }
   ],
   "source": [
    "X_train = X_train.reshape(60000, 28 * 28) # X_train = (60000, 28, 28)입니다. 이를 1차원으로 바꿔줍니다\n",
    "X_test = X_test.reshape(10000, 28 * 28)\n",
    "\n",
    "print(X_train.shape, X_test.shape)"
   ]
  },
  {
   "cell_type": "markdown",
   "metadata": {
    "colab_type": "text",
    "id": "hBbGf_JaHil6"
   },
   "source": [
    "이제 28x28의 2차원 데이터는 784의 1차원 데이터가 되었습니다. 이제는 Iris 데이터와 비슷한 방식으로 처리해줄 수 있죠. 손글씨가 어떤 숫자인지 확인할 수 있는 feature(column)가 총 784개 있다고 생각할 수 있습니다. 또한 저번과 마찬가지로 lable을 One-hot encoding해주도록 하겠습니다. 지난 과제에서는 Numpy를 이용해 이를 처리했는데요, Keras에도 비슷한 역할을 하는 함수가 있으니, 이번에는 이를 이용해보겠습니다."
   ]
  },
  {
   "cell_type": "code",
   "execution_count": 0,
   "metadata": {
    "colab": {},
    "colab_type": "code",
    "id": "gp640mX1Hil7",
    "outputId": "f7ccda3d-7912-498c-a183-8e4becf4abe1"
   },
   "outputs": [
    {
     "name": "stdout",
     "output_type": "stream",
     "text": [
      "(60000, 10)\n",
      "(10000, 10)\n"
     ]
    }
   ],
   "source": [
    "from keras.utils import to_categorical\n",
    "\n",
    "# One hot encoding을 합니다.\n",
    "# np.eye(10)[y_train]과 동일합니다.\n",
    "y_train_hot = to_categorical(y_train)\n",
    "\n",
    "# np.eye(10)[y_test]와 동일합니다.\n",
    "y_test_hot = to_categorical(y_test)\n",
    "\n",
    "print(y_train_hot.shape)\n",
    "print(y_test_hot.shape)"
   ]
  },
  {
   "cell_type": "code",
   "execution_count": 0,
   "metadata": {
    "colab": {},
    "colab_type": "code",
    "id": "5bp4lSJtHil9",
    "outputId": "6d435df3-f506-4e20-9a30-c62b43c0cb3f"
   },
   "outputs": [
    {
     "name": "stdout",
     "output_type": "stream",
     "text": [
      "[5 0 4 1 9 2 1 3 1 4]\n",
      "[[0. 0. 0. 0. 0. 1. 0. 0. 0. 0.]\n",
      " [1. 0. 0. 0. 0. 0. 0. 0. 0. 0.]\n",
      " [0. 0. 0. 0. 1. 0. 0. 0. 0. 0.]\n",
      " [0. 1. 0. 0. 0. 0. 0. 0. 0. 0.]\n",
      " [0. 0. 0. 0. 0. 0. 0. 0. 0. 1.]\n",
      " [0. 0. 1. 0. 0. 0. 0. 0. 0. 0.]\n",
      " [0. 1. 0. 0. 0. 0. 0. 0. 0. 0.]\n",
      " [0. 0. 0. 1. 0. 0. 0. 0. 0. 0.]\n",
      " [0. 1. 0. 0. 0. 0. 0. 0. 0. 0.]\n",
      " [0. 0. 0. 0. 1. 0. 0. 0. 0. 0.]]\n"
     ]
    }
   ],
   "source": [
    "print(y_train[0:10])\n",
    "print(y_train_hot[0:10])"
   ]
  },
  {
   "cell_type": "markdown",
   "metadata": {
    "colab_type": "text",
    "id": "N1nKL5grHil_"
   },
   "source": [
    "실행한 결과, One-hot encoding되어 있음을 볼 수 있습니다."
   ]
  },
  {
   "cell_type": "markdown",
   "metadata": {
    "colab_type": "text",
    "id": "Vjif7GG1HimA"
   },
   "source": [
    "### Define Sigmoid\n",
    "\n",
    "저번과 마찬가지로 시그모이드를 이용해 문제를 풀어보겠습니다. 시그모이드를 정의해줍니다."
   ]
  },
  {
   "cell_type": "code",
   "execution_count": 0,
   "metadata": {
    "colab": {},
    "colab_type": "code",
    "id": "WeNfNi2iHimB"
   },
   "outputs": [],
   "source": [
    "def sigmoid(x):\n",
    "    return 1 / (1 + np.exp(-x))"
   ]
  },
  {
   "cell_type": "code",
   "execution_count": 0,
   "metadata": {
    "colab": {},
    "colab_type": "code",
    "id": "aN9cefvHHimC",
    "outputId": "b16d0f00-54aa-4ebe-9578-082f9fb0c4a9"
   },
   "outputs": [
    {
     "data": {
      "text/plain": [
       "[<matplotlib.lines.Line2D at 0x1c6f109c7f0>]"
      ]
     },
     "execution_count": 10,
     "metadata": {
      "tags": []
     },
     "output_type": "execute_result"
    },
    {
     "data": {
      "image/png": "[encoded data removed]",
      "text/plain": [
       "<Figure size 432x288 with 1 Axes>"
      ]
     },
     "metadata": {
      "needs_background": "light",
      "tags": []
     },
     "output_type": "display_data"
    }
   ],
   "source": [
    "xx = np.linspace(-10, 10, num=21)\n",
    "yy = sigmoid(xx)\n",
    "\n",
    "plt.plot(xx, yy)"
   ]
  },
  {
   "cell_type": "markdown",
   "metadata": {
    "colab_type": "text",
    "id": "79AIL7BaHimE"
   },
   "source": [
    "### Define Cross-Entropy\n",
    "\n",
    "분류 문제에서는 Cross Entropy라는 Loss를 사용합니다. 이를 식으로 표현하면 아래와 같습니다.\n",
    "\n",
    "$$\\text{Cross Entropy} = \\sum_i {- y_i * \\log(\\hat{y}_i)} $$\n",
    "\n",
    "$y_i$는 0 또는 1의 값을 갖는, One-hot Encoding된 정답이며, $\\hat{y}_i$는 네트워크가 만들어낸 예측치입니다. 정답일 때(곧 $y_i$가 1일 때) 우리의 모델이 예측한 값이 1에 가까울수록(곧 데이터가 이 분류에 속할 것이라고 예측한 확률이 1에 가까울수록) loss는 줄어들게 됩니다."
   ]
  },
  {
   "cell_type": "code",
   "execution_count": 0,
   "metadata": {
    "colab": {},
    "colab_type": "code",
    "id": "HLCzCmYpHimF"
   },
   "outputs": [],
   "source": [
    "def cross_entropy(actual, predict, eps=1e-15):\n",
    "    # 실제 값과 예측 값을 Numpy 배열로 바꿔줍니다.\n",
    "    actual = np.array(actual)\n",
    "    predict = np.array(predict)\n",
    "    \n",
    "    # 0이 log에 들어가게 되면 무한대로 발산해버릴 수 있으니  아주 작은 값을 넣어 이를 방지합니다.\n",
    "    clipped_predict = np.minimum(np.maximum(predict, eps), 1 - eps)\n",
    "    \n",
    "    # 실질적인 Loss를 계산합니다\n",
    "    loss = actual * np.log(clipped_predict) + (1 - actual) * np.log(1 - clipped_predict)\n",
    "    \n",
    "    return -1.0 * loss.mean()"
   ]
  },
  {
   "cell_type": "markdown",
   "metadata": {
    "colab_type": "text",
    "id": "mchaEJ9jHimG"
   },
   "source": [
    "### Gradient Descent\n",
    "\n",
    "이제 본격적으로 학습을 진행하도록 해보겠습니다. 총 feature는 784개이며, 이 feature들을 이용해 우리는 10개의 lable(0~9) 중에 데이터가 어디에 속하는지를 예측해야 합니다."
   ]
  },
  {
   "cell_type": "code",
   "execution_count": 0,
   "metadata": {
    "colab": {},
    "colab_type": "code",
    "id": "b7BbHcTfHimH",
    "outputId": "8732da4f-3d2e-40eb-ce75-12932aa94b97"
   },
   "outputs": [
    {
     "name": "stdout",
     "output_type": "stream",
     "text": [
      " 0 loss = 19.05107, accuracy = 0.05248\n",
      "10 loss = 1.86755, accuracy = 0.63193\n",
      "20 loss = 1.45916, accuracy = 0.79518\n",
      "----------------------------------------\n",
      "22 loss = 1.22255, accuracy = 0.80008\n"
     ]
    }
   ],
   "source": [
    "num_epoch = 100\n",
    "learning_rate = 1.0\n",
    "\n",
    "num_data = X_train.shape[0]\n",
    "\n",
    "w = np.random.uniform(low=-1.0, high=1.0, size=(784, 10)) # w와 b를 초기화합니다. 784개의 feature를 사용해 10개의 lable을 예측해야하므로 784, 10입니다\n",
    "b = np.random.uniform(low=-1.0, high=1.0, size=10)\n",
    "\n",
    "for epoch in range(num_epoch):\n",
    "    # y의 예측치를 만들어냅니다.\n",
    "    y_predict_hot = X_train.dot(w) + b \n",
    "    y_predict_hot = sigmoid(y_predict_hot)\n",
    "    \n",
    "    # 이들 중 가장 높은 확률을 갖는 lable을 선택합니다.\n",
    "    y_predict = np.argmax(y_predict_hot, axis=1)\n",
    "    \n",
    "    # 정확도를 계산합니다\n",
    "    accuracy = (y_predict == y_train).mean()\n",
    "    if accuracy > 0.80:\n",
    "        break\n",
    "    \n",
    "    # 현재의 예측치와 정답을 이용해 Loss를 계산합니다.\n",
    "    loss = cross_entropy(y_train_hot, y_predict_hot)\n",
    "    \n",
    "    # 일정 시간이 지나면 학습의 경과를 출력합니다.\n",
    "    if epoch % 10 == 0:\n",
    "        print(\"{0:2} loss = {1:.5f}, accuracy = {2:.5f}\".format(epoch, loss, accuracy))\n",
    "        \n",
    "    # 경사하강법에 따라 w와 b를 최적화합니다.\n",
    "    w = w - learning_rate * X_train.T.dot(y_predict_hot - y_train_hot) / num_data\n",
    "    b = b - learning_rate * (y_predict_hot - y_train_hot).mean()\n",
    "\n",
    "print(\"----\" * 10)\n",
    "print(\"{0:2} loss = {1:.5f}, accuracy = {2:.5f}\".format(epoch, loss, accuracy))"
   ]
  },
  {
   "cell_type": "markdown",
   "metadata": {
    "colab_type": "text",
    "id": "qnOmisfzHimI"
   },
   "source": [
    "## Evaluate\n",
    "\n",
    "학습이 끝났으니 모델이 잘 동작하고 있는지 확인해봅시다."
   ]
  },
  {
   "cell_type": "markdown",
   "metadata": {
    "colab_type": "text",
    "id": "cferQhqCHimJ"
   },
   "source": [
    "### Train\n",
    "\n",
    "pandas를 이용해 실제 정답과 예측치를 비교하고, 정확도를 계산해봅니다."
   ]
  },
  {
   "cell_type": "code",
   "execution_count": 0,
   "metadata": {
    "colab": {},
    "colab_type": "code",
    "id": "KAXp5HDVHimK",
    "outputId": "d9b8eabe-8d70-43c2-8ac1-788ec36151bc"
   },
   "outputs": [
    {
     "name": "stdout",
     "output_type": "stream",
     "text": [
      "Accuracy(train) = 0.80008\n",
      "(60000, 2)\n"
     ]
    },
    {
     "data": {
      "text/html": [
       "<div>\n",
       "<style scoped>\n",
       "    .dataframe tbody tr th:only-of-type {\n",
       "        vertical-align: middle;\n",
       "    }\n",
       "\n",
       "    .dataframe tbody tr th {\n",
       "        vertical-align: top;\n",
       "    }\n",
       "\n",
       "    .dataframe thead th {\n",
       "        text-align: right;\n",
       "    }\n",
       "</style>\n",
       "<table border=\"1\" class=\"dataframe\">\n",
       "  <thead>\n",
       "    <tr style=\"text-align: right;\">\n",
       "      <th></th>\n",
       "      <th>actual</th>\n",
       "      <th>predict</th>\n",
       "    </tr>\n",
       "  </thead>\n",
       "  <tbody>\n",
       "    <tr>\n",
       "      <th>0</th>\n",
       "      <td>5</td>\n",
       "      <td>3</td>\n",
       "    </tr>\n",
       "    <tr>\n",
       "      <th>1</th>\n",
       "      <td>0</td>\n",
       "      <td>0</td>\n",
       "    </tr>\n",
       "    <tr>\n",
       "      <th>2</th>\n",
       "      <td>4</td>\n",
       "      <td>4</td>\n",
       "    </tr>\n",
       "    <tr>\n",
       "      <th>3</th>\n",
       "      <td>1</td>\n",
       "      <td>1</td>\n",
       "    </tr>\n",
       "    <tr>\n",
       "      <th>4</th>\n",
       "      <td>9</td>\n",
       "      <td>4</td>\n",
       "    </tr>\n",
       "    <tr>\n",
       "      <th>5</th>\n",
       "      <td>2</td>\n",
       "      <td>2</td>\n",
       "    </tr>\n",
       "    <tr>\n",
       "      <th>6</th>\n",
       "      <td>1</td>\n",
       "      <td>1</td>\n",
       "    </tr>\n",
       "    <tr>\n",
       "      <th>7</th>\n",
       "      <td>3</td>\n",
       "      <td>3</td>\n",
       "    </tr>\n",
       "    <tr>\n",
       "      <th>8</th>\n",
       "      <td>1</td>\n",
       "      <td>1</td>\n",
       "    </tr>\n",
       "    <tr>\n",
       "      <th>9</th>\n",
       "      <td>4</td>\n",
       "      <td>4</td>\n",
       "    </tr>\n",
       "  </tbody>\n",
       "</table>\n",
       "</div>"
      ],
      "text/plain": [
       "   actual  predict\n",
       "0       5        3\n",
       "1       0        0\n",
       "2       4        4\n",
       "3       1        1\n",
       "4       9        4\n",
       "5       2        2\n",
       "6       1        1\n",
       "7       3        3\n",
       "8       1        1\n",
       "9       4        4"
      ]
     },
     "execution_count": 13,
     "metadata": {
      "tags": []
     },
     "output_type": "execute_result"
    }
   ],
   "source": [
    "# y의 예측치를 만들어냅니다.\n",
    "y_predict_hot = X_train.dot(w) + b\n",
    "y_predict_hot = sigmoid(y_predict_hot)\n",
    "y_predict = np.argmax(y_predict_hot, axis=1)\n",
    "\n",
    "# 새로운 DataFrame을 만들어 실제값과 예측치를 저장합니다.\n",
    "train_result = pd.DataFrame({'actual': y_train, 'predict': y_predict})\n",
    "\n",
    "# 정확도를 계산합니다.\n",
    "train_accuracy = (train_result[\"actual\"] == train_result[\"predict\"]).mean()\n",
    "\n",
    "print(\"Accuracy(train) = {0:.5f}\".format(train_accuracy))\n",
    "\n",
    "print(train_result.shape)\n",
    "train_result.head(10)"
   ]
  },
  {
   "cell_type": "markdown",
   "metadata": {
    "colab_type": "text",
    "collapsed": true,
    "id": "13_Uw8c9HimL"
   },
   "source": [
    "### Test\n",
    "\n",
    "Test 데이터는 학습 과정에서는 보지못한 새로운 데이터입니다. 이러한 데이터에 대해서도 정확하게 동작하는지 확인해봅시다."
   ]
  },
  {
   "cell_type": "code",
   "execution_count": 0,
   "metadata": {
    "colab": {},
    "colab_type": "code",
    "id": "G2CS3T5cHimM",
    "outputId": "7df2e760-079b-454b-a716-06b62dc49b65"
   },
   "outputs": [
    {
     "name": "stdout",
     "output_type": "stream",
     "text": [
      "Accuracy(test) = 0.80930\n",
      "(10000, 2)\n"
     ]
    },
    {
     "data": {
      "text/html": [
       "<div>\n",
       "<style scoped>\n",
       "    .dataframe tbody tr th:only-of-type {\n",
       "        vertical-align: middle;\n",
       "    }\n",
       "\n",
       "    .dataframe tbody tr th {\n",
       "        vertical-align: top;\n",
       "    }\n",
       "\n",
       "    .dataframe thead th {\n",
       "        text-align: right;\n",
       "    }\n",
       "</style>\n",
       "<table border=\"1\" class=\"dataframe\">\n",
       "  <thead>\n",
       "    <tr style=\"text-align: right;\">\n",
       "      <th></th>\n",
       "      <th>actual</th>\n",
       "      <th>predict</th>\n",
       "    </tr>\n",
       "  </thead>\n",
       "  <tbody>\n",
       "    <tr>\n",
       "      <th>0</th>\n",
       "      <td>7</td>\n",
       "      <td>7</td>\n",
       "    </tr>\n",
       "    <tr>\n",
       "      <th>1</th>\n",
       "      <td>2</td>\n",
       "      <td>2</td>\n",
       "    </tr>\n",
       "    <tr>\n",
       "      <th>2</th>\n",
       "      <td>1</td>\n",
       "      <td>1</td>\n",
       "    </tr>\n",
       "    <tr>\n",
       "      <th>3</th>\n",
       "      <td>0</td>\n",
       "      <td>0</td>\n",
       "    </tr>\n",
       "    <tr>\n",
       "      <th>4</th>\n",
       "      <td>4</td>\n",
       "      <td>4</td>\n",
       "    </tr>\n",
       "    <tr>\n",
       "      <th>5</th>\n",
       "      <td>1</td>\n",
       "      <td>1</td>\n",
       "    </tr>\n",
       "    <tr>\n",
       "      <th>6</th>\n",
       "      <td>4</td>\n",
       "      <td>4</td>\n",
       "    </tr>\n",
       "    <tr>\n",
       "      <th>7</th>\n",
       "      <td>9</td>\n",
       "      <td>9</td>\n",
       "    </tr>\n",
       "    <tr>\n",
       "      <th>8</th>\n",
       "      <td>5</td>\n",
       "      <td>0</td>\n",
       "    </tr>\n",
       "    <tr>\n",
       "      <th>9</th>\n",
       "      <td>9</td>\n",
       "      <td>7</td>\n",
       "    </tr>\n",
       "  </tbody>\n",
       "</table>\n",
       "</div>"
      ],
      "text/plain": [
       "   actual  predict\n",
       "0       7        7\n",
       "1       2        2\n",
       "2       1        1\n",
       "3       0        0\n",
       "4       4        4\n",
       "5       1        1\n",
       "6       4        4\n",
       "7       9        9\n",
       "8       5        0\n",
       "9       9        7"
      ]
     },
     "execution_count": 14,
     "metadata": {
      "tags": []
     },
     "output_type": "execute_result"
    }
   ],
   "source": [
    "# y에 대한 예측값을 만들어냅니다.\n",
    "y_predict_hot = X_test.dot(w) + b\n",
    "y_predict_hot = sigmoid(y_predict_hot)\n",
    "y_predict = np.argmax(y_predict_hot, axis=1)\n",
    "\n",
    "# 위와 마찬가지로 결과를 저장합니다.\n",
    "test_result = pd.DataFrame({'actual': y_test, 'predict': y_predict})\n",
    "\n",
    "# 정확도를 계산합니다.\n",
    "test_accuracy = (test_result[\"actual\"] == test_result[\"predict\"]).mean()\n",
    "\n",
    "print(\"Accuracy(test) = {0:.5f}\".format(test_accuracy))\n",
    "\n",
    "print(test_result.shape)\n",
    "test_result.head(10)"
   ]
  },
  {
   "cell_type": "markdown",
   "metadata": {
    "colab_type": "text",
    "collapsed": true,
    "id": "zQjv6a2LHimT"
   },
   "source": [
    "### Softmax\n",
    "\n",
    "저번 과제와 마찬가지로 이번에는 Softmax를 이용해 위 문제를 풀어봅시다."
   ]
  },
  {
   "cell_type": "code",
   "execution_count": 0,
   "metadata": {
    "colab": {},
    "colab_type": "code",
    "id": "D5aGTKgsHimV"
   },
   "outputs": [],
   "source": [
    "w = np.random.uniform(low=-1.0, high=1.0, size=(784, 10)) # w와 b를 초기화합니다. 784개의 feature를 사용해 10개의 lable을 예측해야하므로 784, 10입니다\n",
    "b = np.random.uniform(low=-1.0, high=1.0, size=10)"
   ]
  },
  {
   "cell_type": "code",
   "execution_count": 0,
   "metadata": {
    "colab": {},
    "colab_type": "code",
    "id": "1fCxJPFvHimX",
    "outputId": "acb7b5b4-2f2a-41ec-97b1-dc6c5ad2a87f"
   },
   "outputs": [
    {
     "data": {
      "text/plain": [
       "array([[ 0.71341523, -0.626549  , -0.64787983, ..., -0.43486017,\n",
       "        -0.6239121 ,  0.75698642],\n",
       "       [-0.59631273,  0.75780757,  0.32758923, ..., -0.98524954,\n",
       "        -0.37375131, -0.36575011],\n",
       "       [-0.67526355, -0.82955662,  0.65797531, ..., -0.49727887,\n",
       "         0.16146508,  0.65087637],\n",
       "       ...,\n",
       "       [-0.14217025,  0.67090446,  0.94342769, ..., -0.12588928,\n",
       "         0.32343919,  0.97544709],\n",
       "       [ 0.44854104,  0.50266872,  0.27349303, ...,  0.13224367,\n",
       "        -0.36709759, -0.54022302],\n",
       "       [-0.24245775,  0.1052888 , -0.83576179, ..., -0.54245903,\n",
       "         0.09068826, -0.04366315]])"
      ]
     },
     "execution_count": 27,
     "metadata": {
      "tags": []
     },
     "output_type": "execute_result"
    }
   ],
   "source": [
    "w"
   ]
  },
  {
   "cell_type": "code",
   "execution_count": 0,
   "metadata": {
    "colab": {},
    "colab_type": "code",
    "id": "VQdfw4ADHimc",
    "outputId": "ec8f192a-ae56-46df-9871-504f0281cdca"
   },
   "outputs": [
    {
     "name": "stderr",
     "output_type": "stream",
     "text": [
      "C:\\ProgramData\\Anaconda3\\lib\\site-packages\\ipykernel_launcher.py:5: RuntimeWarning: invalid value encountered in true_divide\n",
      "  \"\"\"\n"
     ]
    },
    {
     "data": {
      "text/plain": [
       "array([[nan,  0., nan,  0.,  0.,  0.,  0.,  0.,  0.,  0.],\n",
       "       [nan,  0., nan,  0.,  0.,  0.,  0.,  0.,  0., nan]])"
      ]
     },
     "execution_count": 29,
     "metadata": {
      "tags": []
     },
     "output_type": "execute_result"
    }
   ],
   "source": [
    "def softmax(x):\n",
    "    c = np.median(x)\n",
    "    exp_x = np.exp(x - c)\n",
    "    sum_exp_x = np.sum(exp_x, axis=1, keepdims=True)\n",
    "    return exp_x / sum_exp_x\n",
    "\n",
    "y_pr = softmax(X_train[:2].dot(w) + b)\n",
    "y_pr"
   ]
  },
  {
   "cell_type": "code",
   "execution_count": 0,
   "metadata": {
    "colab": {},
    "colab_type": "code",
    "id": "EmMHOsA9Hime",
    "outputId": "2921b498-a755-40b1-e41e-ff500583e814"
   },
   "outputs": [
    {
     "name": "stderr",
     "output_type": "stream",
     "text": [
      "C:\\ProgramData\\Anaconda3\\lib\\site-packages\\ipykernel_launcher.py:5: RuntimeWarning: invalid value encountered in true_divide\n",
      "  \"\"\"\n"
     ]
    },
    {
     "name": "stdout",
     "output_type": "stream",
     "text": [
      " 0 loss = nan, accuracy = 0.09872\n"
     ]
    },
    {
     "ename": "KeyboardInterrupt",
     "evalue": "",
     "output_type": "error",
     "traceback": [
      "\u001b[1;31m---------------------------------------------------------------------------\u001b[0m",
      "\u001b[1;31mKeyboardInterrupt\u001b[0m                         Traceback (most recent call last)",
      "\u001b[1;32m<ipython-input-18-c0cc94069b3a>\u001b[0m in \u001b[0;36m<module>\u001b[1;34m\u001b[0m\n\u001b[0;32m     28\u001b[0m \u001b[1;33m\u001b[0m\u001b[0m\n\u001b[0;32m     29\u001b[0m     \u001b[1;31m# 경사하강법에 따라 w와 b를 최적화합니다.\u001b[0m\u001b[1;33m\u001b[0m\u001b[1;33m\u001b[0m\u001b[1;33m\u001b[0m\u001b[0m\n\u001b[1;32m---> 30\u001b[1;33m     \u001b[0mw\u001b[0m \u001b[1;33m=\u001b[0m \u001b[0mw\u001b[0m \u001b[1;33m-\u001b[0m \u001b[0mlearning_rate\u001b[0m \u001b[1;33m*\u001b[0m \u001b[0mX_train\u001b[0m\u001b[1;33m.\u001b[0m\u001b[0mT\u001b[0m\u001b[1;33m.\u001b[0m\u001b[0mdot\u001b[0m\u001b[1;33m(\u001b[0m\u001b[0my_predict_hot\u001b[0m \u001b[1;33m-\u001b[0m \u001b[0my_train_hot\u001b[0m\u001b[1;33m)\u001b[0m \u001b[1;33m/\u001b[0m \u001b[0mnum_data\u001b[0m\u001b[1;33m\u001b[0m\u001b[1;33m\u001b[0m\u001b[0m\n\u001b[0m\u001b[0;32m     31\u001b[0m     \u001b[0mb\u001b[0m \u001b[1;33m=\u001b[0m \u001b[0mb\u001b[0m \u001b[1;33m-\u001b[0m \u001b[0mlearning_rate\u001b[0m \u001b[1;33m*\u001b[0m \u001b[1;33m(\u001b[0m\u001b[0my_predict_hot\u001b[0m \u001b[1;33m-\u001b[0m \u001b[0my_train_hot\u001b[0m\u001b[1;33m)\u001b[0m\u001b[1;33m.\u001b[0m\u001b[0mmean\u001b[0m\u001b[1;33m(\u001b[0m\u001b[1;33m)\u001b[0m\u001b[1;33m\u001b[0m\u001b[1;33m\u001b[0m\u001b[0m\n\u001b[0;32m     32\u001b[0m \u001b[1;33m\u001b[0m\u001b[0m\n",
      "\u001b[1;31mKeyboardInterrupt\u001b[0m: "
     ]
    }
   ],
   "source": [
    "num_epoch = 100\n",
    "learning_rate = 1.0\n",
    "\n",
    "num_data = X_train.shape[0]\n",
    "\n",
    "w = np.random.uniform(low=-1.0, high=1.0, size=(784, 10)) # w와 b를 초기화합니다. 784개의 feature를 사용해 10개의 lable을 예측해야하므로 784, 10입니다\n",
    "b = np.random.uniform(low=-1.0, high=1.0, size=10)\n",
    "\n",
    "for epoch in range(num_epoch):\n",
    "    # y의 예측치를 만들어냅니다.\n",
    "    y_predict_hot = X_train.dot(w) + b \n",
    "    y_predict_hot = softmax(y_predict_hot)\n",
    "    \n",
    "    # 이들 중 가장 높은 확률을 갖는 lable을 선택합니다.\n",
    "    y_predict = np.argmax(y_predict_hot, axis=1)\n",
    "    \n",
    "    # 정확도를 계산합니다\n",
    "    accuracy = (y_predict == y_train).mean()\n",
    "    if accuracy > 0.80:\n",
    "        break\n",
    "    \n",
    "    # 현재의 예측치와 정답을 이용해 Loss를 계산합니다.\n",
    "    loss = cross_entropy(y_train_hot, y_predict_hot)\n",
    "    \n",
    "    # 일정 시간이 지나면 학습의 경과를 출력합니다.\n",
    "    if epoch % 10 == 0:\n",
    "        print(\"{0:2} loss = {1:.5f}, accuracy = {2:.5f}\".format(epoch, loss, accuracy))\n",
    "        \n",
    "    # 경사하강법에 따라 w와 b를 최적화합니다.\n",
    "    w = w - learning_rate * X_train.T.dot(y_predict_hot - y_train_hot) / num_data\n",
    "    b = b - learning_rate * (y_predict_hot - y_train_hot).mean()\n",
    "\n",
    "print(\"----\" * 10)\n",
    "print(\"{0:2} loss = {1:.5f}, accuracy = {2:.5f}\".format(epoch, loss, accuracy))"
   ]
  },
  {
   "cell_type": "code",
   "execution_count": 0,
   "metadata": {
    "colab": {},
    "colab_type": "code",
    "id": "Qlm50S1NHimi"
   },
   "outputs": [],
   "source": [
    "y_predict_hot"
   ]
  },
  {
   "cell_type": "code",
   "execution_count": 0,
   "metadata": {
    "colab": {},
    "colab_type": "code",
    "id": "YJpc99YeHimk"
   },
   "outputs": [],
   "source": []
  }
 ],
 "metadata": {
  "colab": {
   "name": "02_03-single-layer-neural-network-for-mnist-dataset(solution).ipynb",
   "provenance": [],
   "version": "0.3.2"
  },
  "kernelspec": {
   "display_name": "Python 3",
   "language": "python",
   "name": "python3"
  },
  "language_info": {
   "codemirror_mode": {
    "name": "ipython",
    "version": 3
   },
   "file_extension": ".py",
   "mimetype": "text/x-python",
   "name": "python",
   "nbconvert_exporter": "python",
   "pygments_lexer": "ipython3",
   "version": "3.7.6"
  }
 },
 "nbformat": 4,
 "nbformat_minor": 1
}
