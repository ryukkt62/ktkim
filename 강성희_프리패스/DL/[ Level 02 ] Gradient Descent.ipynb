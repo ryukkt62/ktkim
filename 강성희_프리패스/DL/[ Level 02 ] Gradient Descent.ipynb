{
 "cells": [
  {
   "cell_type": "code",
   "execution_count": 3,
   "metadata": {},
   "outputs": [
    {
     "data": {
      "text/html": [
       "<style>.container {width:100% !important;}</style>"
      ],
      "text/plain": [
       "<IPython.core.display.HTML object>"
      ]
     },
     "metadata": {},
     "output_type": "display_data"
    }
   ],
   "source": [
    "from IPython.core.display import display, HTML\n",
    "display(HTML(\"<style>.container {width:100% !important;}</style>\"))"
   ]
  },
  {
   "cell_type": "code",
   "execution_count": 4,
   "metadata": {},
   "outputs": [],
   "source": [
    "import numpy as np"
   ]
  },
  {
   "cell_type": "markdown",
   "metadata": {},
   "source": [
    "## Load Dataset"
   ]
  },
  {
   "cell_type": "code",
   "execution_count": 21,
   "metadata": {},
   "outputs": [
    {
     "name": "stdout",
     "output_type": "stream",
     "text": [
      "(100,)\n",
      "(100,)\n"
     ]
    },
    {
     "data": {
      "text/plain": [
       "array([-0.42526215,  0.44839951, -0.11159805, -0.95119646, -0.87801353,\n",
       "       -0.03304079, -0.39676658,  0.95724596, -0.35195719,  0.55537481])"
      ]
     },
     "execution_count": 21,
     "metadata": {},
     "output_type": "execute_result"
    }
   ],
   "source": [
    "x1 = np.random.uniform(low = -1.0, high = 1.0, size = 100) # uniform은 uniform 분포를 나타냄\n",
    "x2 = np.random.uniform(low = -1.0, high = 1.0, size = 100)\n",
    "\n",
    "print(x1.shape)\n",
    "print(x2.shape)\n",
    "x1[:10]"
   ]
  },
  {
   "cell_type": "code",
   "execution_count": 22,
   "metadata": {},
   "outputs": [
    {
     "name": "stdout",
     "output_type": "stream",
     "text": [
      "(100,)\n"
     ]
    },
    {
     "data": {
      "text/plain": [
       "array([-0.40323899,  0.43033723, -0.38195303, -0.14403763, -0.64163391,\n",
       "        0.23008483,  0.33151907,  0.60801531, -0.31379884, -0.00908041])"
      ]
     },
     "execution_count": 22,
     "metadata": {},
     "output_type": "execute_result"
    }
   ],
   "source": [
    "# y = wx에서 x가 0일 때 y가 0이 아닐 때를 만들지 못함\n",
    "# 그래서 bias 추가\n",
    "\n",
    "y = 0.3 * x1 + 0.5 * x2 + 0.1\n",
    "\n",
    "print(y.shape)\n",
    "y[:10]"
   ]
  },
  {
   "cell_type": "markdown",
   "metadata": {},
   "source": [
    "## Random Search"
   ]
  },
  {
   "cell_type": "code",
   "execution_count": 30,
   "metadata": {},
   "outputs": [
    {
     "name": "stdout",
     "output_type": "stream",
     "text": [
      "0, w1 = -0.639972, w2 =  0.370387, b = -0.912914, error =  0.917283\n",
      "1, w1 =  0.892839, w2 =  0.738958, b =  0.194166, error =  0.348088\n",
      "39, w1 =  0.512684, w2 =  0.512305, b =  0.336056, error =  0.336042\n",
      "59, w1 =  0.878138, w2 =  0.633746, b =  0.221926, error =  0.333276\n",
      "62, w1 =  0.302416, w2 =  0.879563, b =  0.001894, error =  0.191440\n",
      "298, w1 =  0.469840, w2 =  0.461630, b = -0.055312, error =  0.094074\n",
      "1541, w1 =  0.160940, w2 =  0.650324, b = -0.006584, error =  0.087698\n",
      "2478, w1 =  0.199530, w2 =  0.590209, b = -0.057157, error =  0.079383\n",
      "2762, w1 =  0.273556, w2 =  0.627251, b = -0.033428, error =  0.067964\n",
      "3726, w1 =  0.313752, w2 =  0.590036, b = -0.005119, error =  0.046210\n",
      "9705, w1 =  0.313613, w2 =  0.459406, b = -0.020153, error =  0.025335\n",
      "43260, w1 =  0.268974, w2 =  0.466139, b = -0.006614, error =  0.023702\n",
      "75341, w1 =  0.295810, w2 =  0.527674, b = -0.001535, error =  0.013962\n",
      "150480, w1 =  0.302936, w2 =  0.524942, b =  0.004086, error =  0.013115\n",
      "319187, w1 =  0.280170, w2 =  0.518133, b =  0.008209, error =  0.013040\n",
      "323699, w1 =  0.283138, w2 =  0.496429, b = -0.004088, error =  0.009009\n",
      "359435, w1 =  0.303976, w2 =  0.512804, b =  0.002952, error =  0.007360\n",
      "610061, w1 =  0.313758, w2 =  0.503089, b = -0.000323, error =  0.007329\n",
      "--------------------------------------------------\n",
      "610061, w1 =  0.313758, w2 =  0.503089, b = -0.000323, error =  0.007329\n"
     ]
    }
   ],
   "source": [
    "# Random Search: 아무거나 계속 넣어봐서 찾는 것\n",
    "\n",
    "num_epoch = 1000000\n",
    "\n",
    "best_error  = 9999\n",
    "best_w1 = None\n",
    "best_w2 = None\n",
    "best_b = None\n",
    "best_epoch = None\n",
    "\n",
    "for epoch in range(num_epoch):\n",
    "    w1 = np.random.uniform(low = -1.0, high = 1.0)\n",
    "    w2 = np.random.uniform(low = -1.0, high = 1.0)\n",
    "    b = np.random.uniform(low = -1.0, high = 1.0)\n",
    "    \n",
    "    y_predict = w1 * x1 + w2 * x2 + b\n",
    "    \n",
    "    error = np.abs(y_predict - y).mean()\n",
    "    \n",
    "    if error < best_error:\n",
    "        best_error = error\n",
    "        best_w1 = w1\n",
    "        best_w2 = w2\n",
    "        best_b = b\n",
    "        best_epoch = epoch\n",
    "        print(f\"{best_epoch}, w1 = {best_w1: .6f}, w2 = {best_w2: .6f}, b = {best_b: .6f}, error = {best_error: .6f}\")\n",
    "        \n",
    "print('-----' * 10)\n",
    "print(f\"{best_epoch}, w1 = {best_w1: .6f}, w2 = {best_w2: .6f}, b = {best_b: .6f}, error = {best_error: .6f}\")"
   ]
  },
  {
   "cell_type": "code",
   "execution_count": 8,
   "metadata": {},
   "outputs": [
    {
     "data": {
      "text/plain": [
       "0.0"
      ]
     },
     "execution_count": 8,
     "metadata": {},
     "output_type": "execute_result"
    }
   ],
   "source": [
    "y_example = [-1, 0, +1]\n",
    "y_predict_example = [+1, -1, 0]\n",
    "\n",
    "# 아래처럼 하면 에러남\n",
    "# y_example - y_predict_example\n",
    "\n",
    "# np배열로 바꿔줘야 함\n",
    "y_example = np.array(y_example)\n",
    "y_predict_example = np.array(y_predict_example)\n",
    "\n",
    "# 실제로 y_example과 y_predict_example 은 같지 않지만 error는 0이 나옴\n",
    "error = (y_predict_example - y_example).mean()\n",
    "error"
   ]
  },
  {
   "cell_type": "code",
   "execution_count": 9,
   "metadata": {},
   "outputs": [
    {
     "data": {
      "text/plain": [
       "1.3333333333333333"
      ]
     },
     "execution_count": 9,
     "metadata": {},
     "output_type": "execute_result"
    }
   ],
   "source": [
    "# 그래서 절대값 사용\n",
    "\n",
    "error = np.abs(y_predict_example - y_example).mean()\n",
    "error"
   ]
  },
  {
   "cell_type": "markdown",
   "metadata": {},
   "source": [
    "## h-step search"
   ]
  },
  {
   "cell_type": "code",
   "execution_count": 10,
   "metadata": {},
   "outputs": [
    {
     "name": "stdout",
     "output_type": "stream",
     "text": [
      "0, w1 =  0.715588, error =  0.209229\n",
      "1, w1 =  0.615588, error =  0.158884\n",
      "2, w1 =  0.515588, error =  0.108539\n",
      "3, w1 =  0.415588, error =  0.058193\n",
      "4, w1 =  0.315588, error =  0.007848\n",
      "--------------------------------------------------\n",
      "5, w1 =  0.315588, error =  0.007848\n"
     ]
    }
   ],
   "source": [
    "# num_epoch = 100\n",
    "# h = 0.1\n",
    "\n",
    "# w1 = np.random.uniform(low = -1.0, high = 1.0)\n",
    "\n",
    "# for epoch in range(num_epoch):\n",
    "#     y_predict = w1 * x1\n",
    "    \n",
    "#     current_error = np.abs(y_predict - y).mean()\n",
    "    \n",
    "#     y_predict = (w1 + h) * x1\n",
    "#     h_plus_error = np.abs(y_predict - y).mean()\n",
    "    \n",
    "#     if h_plus_error < current_error:\n",
    "#         w1 = w1 + h\n",
    "#         print(f\"{epoch}, w1 = {w1: .6f}, error = {h_plus_error: .6f}\")\n",
    "#         continue\n",
    "        \n",
    "#     y_predict = (w1 - h) * x1\n",
    "#     h_minus_error = np.abs(y_predict - y).mean()\n",
    "    \n",
    "#     if h_minus_error < current_error:\n",
    "#         w1 = w1 - h\n",
    "#         print(f\"{epoch}, w1 = {w1: .6f}, error = {h_minus_error: .6f}\")\n",
    "#         continue\n",
    "    \n",
    "#     break\n",
    "\n",
    "# print('-----' * 10)\n",
    "# print(f\"{epoch}, w1 = {w1: .6f}, error = {current_error: .6f}\")"
   ]
  },
  {
   "cell_type": "markdown",
   "metadata": {},
   "source": [
    "## Random Search는 초기값이 -1과 +1사이가 아니면 못찾음\n",
    "## 반면 h-step search는 찾을 수 있음"
   ]
  },
  {
   "cell_type": "markdown",
   "metadata": {},
   "source": [
    "## h-step의 단점: h를 우리가 정해줘야 함"
   ]
  },
  {
   "cell_type": "markdown",
   "metadata": {},
   "source": [
    "## Gradient Descent"
   ]
  },
  {
   "cell_type": "code",
   "execution_count": 42,
   "metadata": {},
   "outputs": [
    {
     "name": "stdout",
     "output_type": "stream",
     "text": [
      "0, w1 =  0.653745, w2 =  0.338901, b = -0.866571, error =  0.875603\n",
      "1, w1 =  0.537467, w2 =  0.424130, b =  0.009032, error =  0.114711\n",
      "2, w1 =  0.460071, w2 =  0.441212, b =  0.004462, error =  0.077683\n",
      "3, w1 =  0.408150, w2 =  0.455371, b =  0.003387, error =  0.052745\n",
      "4, w1 =  0.373234, w2 =  0.466565, b =  0.002532, error =  0.035996\n",
      "5, w1 =  0.349699, w2 =  0.475211, b =  0.001874, error =  0.024662\n",
      "6, w1 =  0.333798, w2 =  0.481775, b =  0.001376, error =  0.016934\n",
      "7, w1 =  0.323030, w2 =  0.486692, b =  0.001004, error =  0.011662\n",
      "8, w1 =  0.315722, w2 =  0.490337, b =  0.000728, error =  0.008052\n",
      "9, w1 =  0.310753, w2 =  0.493017, b =  0.000526, error =  0.005568\n",
      "10, w1 =  0.307367, w2 =  0.494974, b =  0.000378, error =  0.003860\n",
      "11, w1 =  0.305055, w2 =  0.496395, b =  0.000271, error =  0.002682\n",
      "12, w1 =  0.303474, w2 =  0.497422, b =  0.000194, error =  0.001866\n",
      "13, w1 =  0.302391, w2 =  0.498161, b =  0.000138, error =  0.001299\n",
      "14, w1 =  0.301648, w2 =  0.498691, b =  0.000098, error =  0.000905\n",
      "15, w1 =  0.301137, w2 =  0.499070, b =  0.000070, error =  0.000631\n",
      "--------------------------------------------------\n",
      "16, w1 =  0.300785, w2 =  0.499341, b =  0.000049, error =  0.000440\n"
     ]
    }
   ],
   "source": [
    "num_epoch = 100\n",
    "learning_rate = 1.0\n",
    "\n",
    "w1 = np.random.uniform(low = -1.0, high = 1.0)\n",
    "w2  = np.random.uniform(low = -1.0, high = 1.0)\n",
    "b = np.random.uniform(low = -1.0, high = 1.0)\n",
    "\n",
    "for epoch in range(num_epoch):\n",
    "    y_predict = w1 * x1 + w2 * x2 + b\n",
    "    \n",
    "    error = np.abs(y_predict - y).mean()\n",
    "    \n",
    "    if error < 0.0005:\n",
    "        break\n",
    "    \n",
    "    print(f\"{epoch}, w1 = {w1: .6f}, w2 = {w2: .6f}, b = {b: .6f}, error = {error: .6f}\")\n",
    "    \n",
    "    # w1과 w2는 초기값도, 목표값도 다르므로 업데이트를 다르게 해줘야함\n",
    "    # y_predict-y에 x1과 x2를 각각 곱해줌\n",
    "    w1 = w1 - learning_rate * ((y_predict - y)*x1).mean()\n",
    "    w2 = w2 - learning_rate * ((y_predict - y)*x2).mean()\n",
    "    b = b - learning_rate * (y_predict - y).mean()\n",
    "    \n",
    "print('-----' * 10)\n",
    "print(f\"{epoch}, w1 = {w1: .6f}, w2 = {w2: .6f}, b = {b: .6f}, error = {error: .6f}\")"
   ]
  }
 ],
 "metadata": {
  "kernelspec": {
   "display_name": "Python 3",
   "language": "python",
   "name": "python3"
  },
  "language_info": {
   "codemirror_mode": {
    "name": "ipython",
    "version": 3
   },
   "file_extension": ".py",
   "mimetype": "text/x-python",
   "name": "python",
   "nbconvert_exporter": "python",
   "pygments_lexer": "ipython3",
   "version": "3.7.6"
  }
 },
 "nbformat": 4,
 "nbformat_minor": 4
}
