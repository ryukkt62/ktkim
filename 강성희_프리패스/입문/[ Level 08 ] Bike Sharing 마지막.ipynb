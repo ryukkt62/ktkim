{
 "cells": [
  {
   "cell_type": "code",
   "execution_count": 1,
   "metadata": {},
   "outputs": [
    {
     "data": {
      "text/html": [
       "<style>.container {width:100% !important;}</style>"
      ],
      "text/plain": [
       "<IPython.core.display.HTML object>"
      ]
     },
     "metadata": {},
     "output_type": "display_data"
    }
   ],
   "source": [
    "from IPython.core.display import display, HTML\n",
    "display(HTML(\"<style>.container {width:100% !important;}</style>\"))"
   ]
  },
  {
   "cell_type": "markdown",
   "metadata": {
    "colab_type": "text",
    "id": "b3dgXmoHGrgY"
   },
   "source": [
    "## Bike Sharing Demand\n",
    "\n",
    "## 데이터분석과 시각화, 머신러닝 알고리즘으로 시간당 자전거 대여량을 예측하기\n",
    "\n",
    "(이 쥬피터 노트북은 다음의 링크 https://bit.ly/ds-bike-0401 에서 다운받을 수 있습니다.)\n",
    "\n",
    "이번 캐글 경진대회는 시간당 자전거 대여량을 예측하는 [Bike Sharing Demand](https://www.kaggle.com/c/bike-sharing-demand) 입니다. 워싱턴 D.C 소재의 자전거 대여 스타트업 [Capital Bikeshare](https://www.capitalbikeshare.com/)의 데이터를 활용하여, 특정 시간대에 얼마나 많은 사람들이 자전거를 대여하는지 예측하는 것이 목표입니다.\n",
    "\n",
    "사람들이 자전거를 대여하는데는 많은 요소가 관여되어 있을 겁니다. 가령 시간(새벽보다 낮에 많이 빌리겠죠), 날씨(비가 오면 자전거를 대여하지 않을 겁니다), 근무일(근무 시간에는 자전거를 대여하지 않겠죠) 등. 이런 모든 요소를 조합하여 워싱턴 D.C의 자전거 교통량을 예측해주세요. 이번 경진대회에서는 기존까지 배웠던 프로그래밍 언어와 인공지능&머신러닝 능력 외에도, 자전거 렌탈 시장에 대한 약간의 전문지식, 그리고 일반인의 기초 상식을 총동원 할 수 있습니다.\n",
    "\n",
    "저번 [Titanic: Machine Learning from Disaster](https://www.kaggle.com/c/titanic/) 경진대회와 마찬가지로, 이번에도 프로그래밍 언어 파이썬([Python](https://www.python.org/)), 데이터 분석 패키지 판다스([Pandas](https://pandas.pydata.org/)), 그리고 머신러닝&인공지능 라이브러리인 싸이킷런([scikit-learn](scikit-learn.org))을 사용합니다. 여기에 더불어, 이번에는 데이터 시각화 패키지 [matplotlib](https://matplotlib.org/)와 [Seaborn](https://seaborn.pydata.org/)을 본격적으로 활용해볼 것입니다.\n",
    "\n",
    "## 컬럼 설명\n",
    "\n",
    "(데이터는 [다음의 링크](https://www.kaggle.com/c/bike-sharing-demand/data)에서 다운받으실 수 있습니다)\n",
    "\n",
    "  * **datetime** - 시간. 연-월-일 시:분:초 로 표현합니다. (가령 2011-01-01 00:00:00은 2011년 1월 1일 0시 0분 0초)\n",
    "  * **season** - 계절. 봄(1), 여름(2), 가을(3), 겨울(4) 순으로 표현합니다.\n",
    "  * **holiday** - 공휴일. 1이면 공휴일이며, 0이면 공휴일이 아닙니다.\n",
    "  * **workingday** - 근무일. 1이면 근무일이며, 0이면 근무일이 아닙니다.\n",
    "  * **weather** - 날씨. 1 ~ 4 사이의 값을 가지며, 구체적으로는 다음과 같습니다.\n",
    "    * 1: 아주 깨끗한 날씨입니다. 또는 아주 약간의 구름이 끼어있습니다.\n",
    "    * 2: 약간의 안개와 구름이 끼어있는 날씨입니다.\n",
    "    * 3: 약간의 눈, 비가 오거나 천둥이 칩니다.\n",
    "    * 4: 아주 많은 비가 오거나 우박이 내립니다.\n",
    "  * **temp** - 온도. 섭씨(Celsius)로 적혀있습니다.\n",
    "  * **atemp** - 체감 온도. 마찬가지로 섭씨(Celsius)로 적혀있습니다.\n",
    "  * **humidity** - 습도.\n",
    "  * **windspeed** - 풍속.\n",
    "  * **casual** - 비회원(non-registered)의 자전거 대여량.\n",
    "  * **registered** - 회원(registered)의 자전거 대여량.\n",
    "  * **count** - 총 자전거 대여랑. 비회원(casual) + 회원(registered)과 동일합니다."
   ]
  },
  {
   "cell_type": "code",
   "execution_count": 394,
   "metadata": {
    "colab": {},
    "colab_type": "code",
    "id": "zADXskG5GrgZ"
   },
   "outputs": [],
   "source": [
    "# 파이썬의 데이터 분석 패키지 Pandas(pandas.pydata.org) 를 읽어옵니다.\n",
    "# Pandas는 쉽게 말해 파이썬으로 엑셀을 다룰 수 있는 툴이라고 보시면 됩니다.\n",
    "# 이 패키지를 앞으로는 pd라는 축약어로 사용하겠습니다.\n",
    "import pandas as pd"
   ]
  },
  {
   "cell_type": "markdown",
   "metadata": {
    "colab_type": "text",
    "id": "fQzjz9xqGrgc"
   },
   "source": [
    "## Load Dataset\n",
    "\n",
    "언제나처럼 모든 데이터 분석의 시작은 주어진 데이터를 읽어오는 것입니다. [판다스(Pandas)](https://pandas.pydata.org/)의 [read_csv](https://pandas.pydata.org/pandas-docs/stable/generated/pandas.read_csv.html)를 활용하여 [Bike Sharing Demand](https://www.kaggle.com/c/bike-sharing-demand) 경진대회에서 제공하는 두 개의 데이터(train, test)를 읽어오겠습니다. ([다운로드 링크](https://www.kaggle.com/c/bike-sharing-demand/data))\n",
    "\n",
    "앞서 [Titanic: Machine Learning from Disaster](https://www.kaggle.com/c/titanic/) 경진대회와 마찬가지로, 여기에서도 파일의 경로를 지정하는 방법에 주의하셔야 합니다. 만일 read_csv를 실행할 때 (**FileNotFoundError**)라는 이름의 에러가 난다면 경로가 제대로 지정이 되지 않은 것입니다. **파일의 경로를 지정하는 법이 생각나지 않는다면 [다음의 링크](http://88240.tistory.com/122)를 통해 경로를 지정하는 법을 복습한 뒤 다시 시도해주세요.**"
   ]
  },
  {
   "cell_type": "code",
   "execution_count": 395,
   "metadata": {
    "colab": {},
    "colab_type": "code",
    "id": "Y0cT0cd4Grgc",
    "outputId": "f61182b2-ff26-4a1a-8d18-e69fad180d7b"
   },
   "outputs": [
    {
     "name": "stdout",
     "output_type": "stream",
     "text": [
      "(10886, 12)\n"
     ]
    },
    {
     "data": {
      "text/html": [
       "<div>\n",
       "<style scoped>\n",
       "    .dataframe tbody tr th:only-of-type {\n",
       "        vertical-align: middle;\n",
       "    }\n",
       "\n",
       "    .dataframe tbody tr th {\n",
       "        vertical-align: top;\n",
       "    }\n",
       "\n",
       "    .dataframe thead th {\n",
       "        text-align: right;\n",
       "    }\n",
       "</style>\n",
       "<table border=\"1\" class=\"dataframe\">\n",
       "  <thead>\n",
       "    <tr style=\"text-align: right;\">\n",
       "      <th></th>\n",
       "      <th>datetime</th>\n",
       "      <th>season</th>\n",
       "      <th>holiday</th>\n",
       "      <th>workingday</th>\n",
       "      <th>weather</th>\n",
       "      <th>temp</th>\n",
       "      <th>atemp</th>\n",
       "      <th>humidity</th>\n",
       "      <th>windspeed</th>\n",
       "      <th>casual</th>\n",
       "      <th>registered</th>\n",
       "      <th>count</th>\n",
       "    </tr>\n",
       "  </thead>\n",
       "  <tbody>\n",
       "    <tr>\n",
       "      <th>0</th>\n",
       "      <td>2011-01-01 00:00:00</td>\n",
       "      <td>1</td>\n",
       "      <td>0</td>\n",
       "      <td>0</td>\n",
       "      <td>1</td>\n",
       "      <td>9.84</td>\n",
       "      <td>14.395</td>\n",
       "      <td>81</td>\n",
       "      <td>0.0</td>\n",
       "      <td>3</td>\n",
       "      <td>13</td>\n",
       "      <td>16</td>\n",
       "    </tr>\n",
       "    <tr>\n",
       "      <th>1</th>\n",
       "      <td>2011-01-01 01:00:00</td>\n",
       "      <td>1</td>\n",
       "      <td>0</td>\n",
       "      <td>0</td>\n",
       "      <td>1</td>\n",
       "      <td>9.02</td>\n",
       "      <td>13.635</td>\n",
       "      <td>80</td>\n",
       "      <td>0.0</td>\n",
       "      <td>8</td>\n",
       "      <td>32</td>\n",
       "      <td>40</td>\n",
       "    </tr>\n",
       "    <tr>\n",
       "      <th>2</th>\n",
       "      <td>2011-01-01 02:00:00</td>\n",
       "      <td>1</td>\n",
       "      <td>0</td>\n",
       "      <td>0</td>\n",
       "      <td>1</td>\n",
       "      <td>9.02</td>\n",
       "      <td>13.635</td>\n",
       "      <td>80</td>\n",
       "      <td>0.0</td>\n",
       "      <td>5</td>\n",
       "      <td>27</td>\n",
       "      <td>32</td>\n",
       "    </tr>\n",
       "    <tr>\n",
       "      <th>3</th>\n",
       "      <td>2011-01-01 03:00:00</td>\n",
       "      <td>1</td>\n",
       "      <td>0</td>\n",
       "      <td>0</td>\n",
       "      <td>1</td>\n",
       "      <td>9.84</td>\n",
       "      <td>14.395</td>\n",
       "      <td>75</td>\n",
       "      <td>0.0</td>\n",
       "      <td>3</td>\n",
       "      <td>10</td>\n",
       "      <td>13</td>\n",
       "    </tr>\n",
       "    <tr>\n",
       "      <th>4</th>\n",
       "      <td>2011-01-01 04:00:00</td>\n",
       "      <td>1</td>\n",
       "      <td>0</td>\n",
       "      <td>0</td>\n",
       "      <td>1</td>\n",
       "      <td>9.84</td>\n",
       "      <td>14.395</td>\n",
       "      <td>75</td>\n",
       "      <td>0.0</td>\n",
       "      <td>0</td>\n",
       "      <td>1</td>\n",
       "      <td>1</td>\n",
       "    </tr>\n",
       "  </tbody>\n",
       "</table>\n",
       "</div>"
      ],
      "text/plain": [
       "              datetime  season  holiday  workingday  weather  temp   atemp  \\\n",
       "0  2011-01-01 00:00:00       1        0           0        1  9.84  14.395   \n",
       "1  2011-01-01 01:00:00       1        0           0        1  9.02  13.635   \n",
       "2  2011-01-01 02:00:00       1        0           0        1  9.02  13.635   \n",
       "3  2011-01-01 03:00:00       1        0           0        1  9.84  14.395   \n",
       "4  2011-01-01 04:00:00       1        0           0        1  9.84  14.395   \n",
       "\n",
       "   humidity  windspeed  casual  registered  count  \n",
       "0        81        0.0       3          13     16  \n",
       "1        80        0.0       8          32     40  \n",
       "2        80        0.0       5          27     32  \n",
       "3        75        0.0       3          10     13  \n",
       "4        75        0.0       0           1      1  "
      ]
     },
     "execution_count": 395,
     "metadata": {},
     "output_type": "execute_result"
    }
   ],
   "source": [
    "# 판다스의 read_csv로 train.csv 파일을 읽어옵니다.\n",
    "# 여기서 datetime은 특별히 날짜로 해석하기 위해 parse_dates 옵션에 넣어줍니다.\n",
    "# 읽어온 데이터를 train이라는 이름의 변수에 할당합니다.\n",
    "train = pd.read_csv(\"data/train.csv\")\n",
    "\n",
    "# train 변수에 할당된 데이터의 행렬 사이즈를 출력합니다.\n",
    "# 출력은 (row, column) 으로 표시됩니다.\n",
    "print(train.shape)\n",
    "\n",
    "# head()로 train 데이터의 상위 5개를 띄웁니다.\n",
    "train.head()"
   ]
  },
  {
   "cell_type": "code",
   "execution_count": 396,
   "metadata": {
    "colab": {},
    "colab_type": "code",
    "id": "OsXpjlU-Grgg",
    "outputId": "cf2210fb-c170-4fe0-bacb-bceed610dd0b"
   },
   "outputs": [
    {
     "name": "stdout",
     "output_type": "stream",
     "text": [
      "(6493, 9)\n"
     ]
    },
    {
     "data": {
      "text/html": [
       "<div>\n",
       "<style scoped>\n",
       "    .dataframe tbody tr th:only-of-type {\n",
       "        vertical-align: middle;\n",
       "    }\n",
       "\n",
       "    .dataframe tbody tr th {\n",
       "        vertical-align: top;\n",
       "    }\n",
       "\n",
       "    .dataframe thead th {\n",
       "        text-align: right;\n",
       "    }\n",
       "</style>\n",
       "<table border=\"1\" class=\"dataframe\">\n",
       "  <thead>\n",
       "    <tr style=\"text-align: right;\">\n",
       "      <th></th>\n",
       "      <th>datetime</th>\n",
       "      <th>season</th>\n",
       "      <th>holiday</th>\n",
       "      <th>workingday</th>\n",
       "      <th>weather</th>\n",
       "      <th>temp</th>\n",
       "      <th>atemp</th>\n",
       "      <th>humidity</th>\n",
       "      <th>windspeed</th>\n",
       "    </tr>\n",
       "  </thead>\n",
       "  <tbody>\n",
       "    <tr>\n",
       "      <th>0</th>\n",
       "      <td>2011-01-20 00:00:00</td>\n",
       "      <td>1</td>\n",
       "      <td>0</td>\n",
       "      <td>1</td>\n",
       "      <td>1</td>\n",
       "      <td>10.66</td>\n",
       "      <td>11.365</td>\n",
       "      <td>56</td>\n",
       "      <td>26.0027</td>\n",
       "    </tr>\n",
       "    <tr>\n",
       "      <th>1</th>\n",
       "      <td>2011-01-20 01:00:00</td>\n",
       "      <td>1</td>\n",
       "      <td>0</td>\n",
       "      <td>1</td>\n",
       "      <td>1</td>\n",
       "      <td>10.66</td>\n",
       "      <td>13.635</td>\n",
       "      <td>56</td>\n",
       "      <td>0.0000</td>\n",
       "    </tr>\n",
       "    <tr>\n",
       "      <th>2</th>\n",
       "      <td>2011-01-20 02:00:00</td>\n",
       "      <td>1</td>\n",
       "      <td>0</td>\n",
       "      <td>1</td>\n",
       "      <td>1</td>\n",
       "      <td>10.66</td>\n",
       "      <td>13.635</td>\n",
       "      <td>56</td>\n",
       "      <td>0.0000</td>\n",
       "    </tr>\n",
       "    <tr>\n",
       "      <th>3</th>\n",
       "      <td>2011-01-20 03:00:00</td>\n",
       "      <td>1</td>\n",
       "      <td>0</td>\n",
       "      <td>1</td>\n",
       "      <td>1</td>\n",
       "      <td>10.66</td>\n",
       "      <td>12.880</td>\n",
       "      <td>56</td>\n",
       "      <td>11.0014</td>\n",
       "    </tr>\n",
       "    <tr>\n",
       "      <th>4</th>\n",
       "      <td>2011-01-20 04:00:00</td>\n",
       "      <td>1</td>\n",
       "      <td>0</td>\n",
       "      <td>1</td>\n",
       "      <td>1</td>\n",
       "      <td>10.66</td>\n",
       "      <td>12.880</td>\n",
       "      <td>56</td>\n",
       "      <td>11.0014</td>\n",
       "    </tr>\n",
       "  </tbody>\n",
       "</table>\n",
       "</div>"
      ],
      "text/plain": [
       "              datetime  season  holiday  workingday  weather   temp   atemp  \\\n",
       "0  2011-01-20 00:00:00       1        0           1        1  10.66  11.365   \n",
       "1  2011-01-20 01:00:00       1        0           1        1  10.66  13.635   \n",
       "2  2011-01-20 02:00:00       1        0           1        1  10.66  13.635   \n",
       "3  2011-01-20 03:00:00       1        0           1        1  10.66  12.880   \n",
       "4  2011-01-20 04:00:00       1        0           1        1  10.66  12.880   \n",
       "\n",
       "   humidity  windspeed  \n",
       "0        56    26.0027  \n",
       "1        56     0.0000  \n",
       "2        56     0.0000  \n",
       "3        56    11.0014  \n",
       "4        56    11.0014  "
      ]
     },
     "execution_count": 396,
     "metadata": {},
     "output_type": "execute_result"
    }
   ],
   "source": [
    "# train.csv 파일을 읽어온 방식과 동일하게 test.csv를 읽어옵니다.\n",
    "# 이후 이 데이터를 test라는 이름의 변수에 저장합니다.\n",
    "test = pd.read_csv(\"data/test.csv\")\n",
    "\n",
    "# 마찬가지로 행렬(row, column) 사이즈를 출력하고\n",
    "print(test.shape)\n",
    "\n",
    "# 전체 test 데이터에서 상위 5개만 출력합니다.\n",
    "test.head()"
   ]
  },
  {
   "cell_type": "markdown",
   "metadata": {
    "colab_type": "text",
    "id": "A7v7VaYIGrgi"
   },
   "source": [
    "## Preprocessing\n",
    "\n",
    "데이터를 읽어왔으면, 이 데이터를 편하게 분석하고 머신러닝 알고리즘에 집어넣기 위해 간단한 전처리(Preprocessing) 작업을 진행하겠습니다.\n",
    "\n",
    "[Bike Sharing Demand](https://www.kaggle.com/c/bike-sharing-demand)는 편리하게도 대부분의 데이터가 전처리 되어있습니다. (가령 season 컬럼은 봄을 spring이라 표현하지 않고 1이라고 표현합니다) 그러므로 [Titanic: Machine Learning from Disaster](https://www.kaggle.com/c/titanic/) 경진대회와는 달리 간단한 전처리만 끝내면 바로 머신러닝 모델에 데이터를 집어넣을 수 있습니다."
   ]
  },
  {
   "cell_type": "markdown",
   "metadata": {
    "colab_type": "text",
    "id": "AIaepuq3Grgj"
   },
   "source": [
    "### Parse datetime\n",
    "\n",
    "먼저 **날짜(datetime)** 컬럼을 전처리 하겠습니다.\n",
    "\n",
    "날짜 컬럼은 얼핏 보면 여러개의 숫자로 구성되어 있습니다. (ex: 2011-01-01 00:00:00) 하지만 결론적으로 숫자는 아니며, 판다스에서는 문자열(object) 또는 날짜(datetime64)로 인식합니다. (값에 하이픈(-)과 콜론(:)이 있기 때문입니다) 그러므로 날짜(datetime) 컬럼을 사용하기 위해서는 머신러닝 알고리즘이 이해할 수 있는 방식으로 전처리를 해줘야 합니다.\n",
    "\n",
    "날짜(datetime) 컬럼을 전처리하는 가장 쉬운 방법은 연, 월, 일, 시, 분, 초를 따로 나누는 것입니다. 가령 2011-01-01 00:00:00은 2011년 1월 1일 0시 0분 0초라고 볼 수 있으므로, 2011, 1, 1, 0, 0, 0으로 따로 나누면 총 6개의 숫자가 됩니다. 즉, **날짜(datetime) 컬럼을 여섯개의 다른 컬럼으로 나누어주는 것이 날짜 컬럼을 전처리하는 핵심입니다**."
   ]
  },
  {
   "cell_type": "code",
   "execution_count": 397,
   "metadata": {
    "colab": {},
    "colab_type": "code",
    "id": "oRWrpv0vGrgj",
    "outputId": "8f32d954-8638-465b-a7e4-a82e6cb63b84"
   },
   "outputs": [
    {
     "name": "stdout",
     "output_type": "stream",
     "text": [
      "(10886, 18)\n"
     ]
    },
    {
     "data": {
      "text/html": [
       "<div>\n",
       "<style scoped>\n",
       "    .dataframe tbody tr th:only-of-type {\n",
       "        vertical-align: middle;\n",
       "    }\n",
       "\n",
       "    .dataframe tbody tr th {\n",
       "        vertical-align: top;\n",
       "    }\n",
       "\n",
       "    .dataframe thead th {\n",
       "        text-align: right;\n",
       "    }\n",
       "</style>\n",
       "<table border=\"1\" class=\"dataframe\">\n",
       "  <thead>\n",
       "    <tr style=\"text-align: right;\">\n",
       "      <th></th>\n",
       "      <th>datetime</th>\n",
       "      <th>datetime-year</th>\n",
       "      <th>datetime-month</th>\n",
       "      <th>datetime-day</th>\n",
       "      <th>datetime-hour</th>\n",
       "      <th>datetime-minute</th>\n",
       "      <th>datetime-second</th>\n",
       "    </tr>\n",
       "  </thead>\n",
       "  <tbody>\n",
       "    <tr>\n",
       "      <th>0</th>\n",
       "      <td>2011-01-01 00:00:00</td>\n",
       "      <td>2011</td>\n",
       "      <td>1</td>\n",
       "      <td>1</td>\n",
       "      <td>0</td>\n",
       "      <td>0</td>\n",
       "      <td>0</td>\n",
       "    </tr>\n",
       "    <tr>\n",
       "      <th>1</th>\n",
       "      <td>2011-01-01 01:00:00</td>\n",
       "      <td>2011</td>\n",
       "      <td>1</td>\n",
       "      <td>1</td>\n",
       "      <td>1</td>\n",
       "      <td>0</td>\n",
       "      <td>0</td>\n",
       "    </tr>\n",
       "    <tr>\n",
       "      <th>2</th>\n",
       "      <td>2011-01-01 02:00:00</td>\n",
       "      <td>2011</td>\n",
       "      <td>1</td>\n",
       "      <td>1</td>\n",
       "      <td>2</td>\n",
       "      <td>0</td>\n",
       "      <td>0</td>\n",
       "    </tr>\n",
       "    <tr>\n",
       "      <th>3</th>\n",
       "      <td>2011-01-01 03:00:00</td>\n",
       "      <td>2011</td>\n",
       "      <td>1</td>\n",
       "      <td>1</td>\n",
       "      <td>3</td>\n",
       "      <td>0</td>\n",
       "      <td>0</td>\n",
       "    </tr>\n",
       "    <tr>\n",
       "      <th>4</th>\n",
       "      <td>2011-01-01 04:00:00</td>\n",
       "      <td>2011</td>\n",
       "      <td>1</td>\n",
       "      <td>1</td>\n",
       "      <td>4</td>\n",
       "      <td>0</td>\n",
       "      <td>0</td>\n",
       "    </tr>\n",
       "  </tbody>\n",
       "</table>\n",
       "</div>"
      ],
      "text/plain": [
       "             datetime  datetime-year  datetime-month  datetime-day  \\\n",
       "0 2011-01-01 00:00:00           2011               1             1   \n",
       "1 2011-01-01 01:00:00           2011               1             1   \n",
       "2 2011-01-01 02:00:00           2011               1             1   \n",
       "3 2011-01-01 03:00:00           2011               1             1   \n",
       "4 2011-01-01 04:00:00           2011               1             1   \n",
       "\n",
       "   datetime-hour  datetime-minute  datetime-second  \n",
       "0              0                0                0  \n",
       "1              1                0                0  \n",
       "2              2                0                0  \n",
       "3              3                0                0  \n",
       "4              4                0                0  "
      ]
     },
     "execution_count": 397,
     "metadata": {},
     "output_type": "execute_result"
    }
   ],
   "source": [
    "# 판다스(Pandas)의 to_datetime을 활용해 datetime 컬럼의 타입을 문자열(String)에서 날짜/시간(datetime) 데이터로 다룹니다.\n",
    "train[\"datetime\"] = pd.to_datetime(train[\"datetime\"])\n",
    "\n",
    "# train 데이터에 연, 월, 일, 시, 분, 초를 나타내는 새로운 컬럼을 생성합니다.\n",
    "# 각각의 이름을 datetime-year/month/day/hour/minute/second라고 가정합니다.\n",
    "# 이 컬럼에 날짜(datetime) 컬럼의 dt(datetime의 약자입니다) 옵션을 활용하여 연월일시분초를 따로 넣어줍니다.\n",
    "train[\"datetime-year\"] = train[\"datetime\"].dt.year\n",
    "train[\"datetime-month\"] = train[\"datetime\"].dt.month\n",
    "train[\"datetime-day\"] = train[\"datetime\"].dt.day\n",
    "train[\"datetime-hour\"] = train[\"datetime\"].dt.hour\n",
    "train[\"datetime-minute\"] = train[\"datetime\"].dt.minute\n",
    "train[\"datetime-second\"] = train[\"datetime\"].dt.second\n",
    "\n",
    "# train 변수에 할당된 데이터의 행렬 사이즈를 출력합니다.\n",
    "# 출력은 (row, column) 으로 표시됩니다.\n",
    "print(train.shape)\n",
    "\n",
    "# .head()로 train 데이터의 상위 5개를 띄우되,\n",
    "# datetime과 이와 연관된 나머지 일곱 개의 컬럼만을 출력합니다.\n",
    "train[[\"datetime\", \"datetime-year\", \"datetime-month\", \"datetime-day\", \"datetime-hour\", \"datetime-minute\", \"datetime-second\"]].head()"
   ]
  },
  {
   "cell_type": "code",
   "execution_count": 398,
   "metadata": {
    "colab": {},
    "colab_type": "code",
    "id": "uqf7ZOOwGrgl",
    "outputId": "b140f675-0188-4484-d72e-b337000cbaa6"
   },
   "outputs": [
    {
     "name": "stdout",
     "output_type": "stream",
     "text": [
      "(6493, 15)\n"
     ]
    },
    {
     "data": {
      "text/html": [
       "<div>\n",
       "<style scoped>\n",
       "    .dataframe tbody tr th:only-of-type {\n",
       "        vertical-align: middle;\n",
       "    }\n",
       "\n",
       "    .dataframe tbody tr th {\n",
       "        vertical-align: top;\n",
       "    }\n",
       "\n",
       "    .dataframe thead th {\n",
       "        text-align: right;\n",
       "    }\n",
       "</style>\n",
       "<table border=\"1\" class=\"dataframe\">\n",
       "  <thead>\n",
       "    <tr style=\"text-align: right;\">\n",
       "      <th></th>\n",
       "      <th>datetime</th>\n",
       "      <th>datetime-year</th>\n",
       "      <th>datetime-month</th>\n",
       "      <th>datetime-day</th>\n",
       "      <th>datetime-hour</th>\n",
       "      <th>datetime-minute</th>\n",
       "      <th>datetime-second</th>\n",
       "    </tr>\n",
       "  </thead>\n",
       "  <tbody>\n",
       "    <tr>\n",
       "      <th>0</th>\n",
       "      <td>2011-01-20 00:00:00</td>\n",
       "      <td>2011</td>\n",
       "      <td>1</td>\n",
       "      <td>20</td>\n",
       "      <td>0</td>\n",
       "      <td>0</td>\n",
       "      <td>0</td>\n",
       "    </tr>\n",
       "    <tr>\n",
       "      <th>1</th>\n",
       "      <td>2011-01-20 01:00:00</td>\n",
       "      <td>2011</td>\n",
       "      <td>1</td>\n",
       "      <td>20</td>\n",
       "      <td>1</td>\n",
       "      <td>0</td>\n",
       "      <td>0</td>\n",
       "    </tr>\n",
       "    <tr>\n",
       "      <th>2</th>\n",
       "      <td>2011-01-20 02:00:00</td>\n",
       "      <td>2011</td>\n",
       "      <td>1</td>\n",
       "      <td>20</td>\n",
       "      <td>2</td>\n",
       "      <td>0</td>\n",
       "      <td>0</td>\n",
       "    </tr>\n",
       "    <tr>\n",
       "      <th>3</th>\n",
       "      <td>2011-01-20 03:00:00</td>\n",
       "      <td>2011</td>\n",
       "      <td>1</td>\n",
       "      <td>20</td>\n",
       "      <td>3</td>\n",
       "      <td>0</td>\n",
       "      <td>0</td>\n",
       "    </tr>\n",
       "    <tr>\n",
       "      <th>4</th>\n",
       "      <td>2011-01-20 04:00:00</td>\n",
       "      <td>2011</td>\n",
       "      <td>1</td>\n",
       "      <td>20</td>\n",
       "      <td>4</td>\n",
       "      <td>0</td>\n",
       "      <td>0</td>\n",
       "    </tr>\n",
       "  </tbody>\n",
       "</table>\n",
       "</div>"
      ],
      "text/plain": [
       "             datetime  datetime-year  datetime-month  datetime-day  \\\n",
       "0 2011-01-20 00:00:00           2011               1            20   \n",
       "1 2011-01-20 01:00:00           2011               1            20   \n",
       "2 2011-01-20 02:00:00           2011               1            20   \n",
       "3 2011-01-20 03:00:00           2011               1            20   \n",
       "4 2011-01-20 04:00:00           2011               1            20   \n",
       "\n",
       "   datetime-hour  datetime-minute  datetime-second  \n",
       "0              0                0                0  \n",
       "1              1                0                0  \n",
       "2              2                0                0  \n",
       "3              3                0                0  \n",
       "4              4                0                0  "
      ]
     },
     "execution_count": 398,
     "metadata": {},
     "output_type": "execute_result"
    }
   ],
   "source": [
    "# train 데이터와 마찬가지로 test 데이터의 datetime 컬럼도 마찬가지로 문자열(String)에서 날짜/시간(datetime) 데이터로 다룹니다.\n",
    "test[\"datetime\"] = pd.to_datetime(test[\"datetime\"])\n",
    "\n",
    "# test 데이터와 train 데이터와 동일하게 연, 월, 일, 시, 분, 초 컬럼을 생성합니다.\n",
    "test[\"datetime-year\"] = test[\"datetime\"].dt.year\n",
    "test[\"datetime-month\"] = test[\"datetime\"].dt.month\n",
    "test[\"datetime-day\"] = test[\"datetime\"].dt.day\n",
    "test[\"datetime-hour\"] = test[\"datetime\"].dt.hour\n",
    "test[\"datetime-minute\"] = test[\"datetime\"].dt.minute\n",
    "test[\"datetime-second\"] = test[\"datetime\"].dt.second\n",
    "\n",
    "# test 변수에 할당된 데이터의 행렬 사이즈를 출력합니다.\n",
    "# 출력은 (row, column) 으로 표시됩니다.\n",
    "print(test.shape)\n",
    "\n",
    "# .head()로 test 데이터의 상위 5개를 띄우되,\n",
    "# datetime과 이와 연관된 나머지 일곱 개의 컬럼만을 출력합니다.\n",
    "test[[\"datetime\", \"datetime-year\", \"datetime-month\", \"datetime-day\", \"datetime-hour\", \"datetime-minute\", \"datetime-second\"]].head()"
   ]
  },
  {
   "cell_type": "markdown",
   "metadata": {
    "colab_type": "text",
    "id": "xZt0mW-cGrgo"
   },
   "source": [
    "## Explore\n",
    "\n",
    "전처리(Preprocesing)를 끝냈으면 그 다음에는 데이터를 분석해보겠습니다.\n",
    "\n",
    "주어진 데이터를 시각화나 분석 툴을 통해 다양한 관점에서 이해하는 과정을 탐험적 데이터 분석([Exploratory Data Analysis](https://en.wikipedia.org/wiki/Exploratory_data_analysis))이라고 합니다. 저번 타이타닉 문제와 마찬가지로, 이번에도 파이썬의 데이터 시각화 패키지인 ([matplotlib](https://matplotlib.org))와 [seaborn](https://seaborn.pydata.org/) 을 활용해서 분석해보겠습니다."
   ]
  },
  {
   "cell_type": "code",
   "execution_count": 399,
   "metadata": {
    "colab": {},
    "colab_type": "code",
    "id": "0L4wrmSRGrgo"
   },
   "outputs": [],
   "source": [
    "# matplotlib로 실행하는 모든 시각화를 자동으로 쥬피터 노트북에 띄웁니다.\n",
    "# seaborn 도 결국에는 matplotlib를 기반으로 동작하기 때문에, seaborn으로 실행하는 모든 시각화도 마찬가지로 쥬피터 노트북에 자동적으로 띄워집니다.\n",
    "%matplotlib inline\n",
    "\n",
    "# 데이터 시각화 패키지 seaborn을 로딩합니다. 앞으로는 줄여서 sns라고 사용할 것입니다.\n",
    "import seaborn as sns\n",
    "\n",
    "# 데이터 시각화 패키지 matplotlib를 로딩합니다. 앞으로는 줄여서 plt라고 사용할 것입니다.\n",
    "import matplotlib.pyplot as plt"
   ]
  },
  {
   "cell_type": "markdown",
   "metadata": {
    "colab_type": "text",
    "id": "tsMX8kEHGrgr"
   },
   "source": [
    "### datetime\n",
    "\n",
    "먼저 분석할 컬럼은 **날짜(datetime)** 컬럼입니다. 날짜 컬럼은 [Bike Sharing Demand](https://www.kaggle.com/c/bike-sharing-demand) 경진대회의 핵심 컬럼이라고 볼 수 있으며, 이번 경진대회에서 상위 성적을 올리고 싶다면 날짜 컬럼을 완벽하게 이해하는 것이 무엇보다도 중요합니다.\n",
    "\n",
    "먼저 연/월/일/시/분/초에 따른 자전거 대여량을 시각화 해보겠습니다."
   ]
  },
  {
   "cell_type": "markdown",
   "metadata": {
    "colab_type": "text",
    "id": "b9ycym0IGrgr"
   },
   "source": [
    "### Q1-1) 시각화를 하기 전에 어떤 그림이 나올 것으로 예상하시나요? 최소 3가지 아이디어를 생각해보세요.\n",
    "\n",
    "**주의**: 이 내용은 반드시 **시각화를 하기 전에 작성하셔야 합니다.** 그래야 시각화 결과와 본인의 아이디어를 비교해서 차이를 발견할 수 있습니다.\n",
    "\n",
    "1. 일단 분(```Dates-minute```), 초(```Dates-second```)는 자전거 대여량을 판가름하는데 별 영향이 없을 것 같습니다. 가령 현재 시간이 37분이면 자전거를 대여하고, 43분이면 자전거를 대여하지 않는 행동을 하지는 않을 것입니다. 그러므로 countplot으로 시각화를 해보면, 마치 [Uniform Distribution](https://m.blog.naver.com/running_p/90179231685)과 같은 모양이 나올 것 같습니다.\n",
    "\n",
    "1. 그리고 일(```Dates-day```)도 비슷합니다. 하지만 일(```Dates-day```)은 분과 초와는 다르게, 1) 2월에는 28일 이후가 존재하지 않기 때문에, 29, 30, 31일은 다른 날보다 데이터가 적을 수도 있습니다. (예외적으로 2012년은 2월 29일이 있습니다), 비슷하게 2) 31일의 경우에는 다른 날에 비해 데이터가 절반밖에 되지 않을 것입니다. 하지만 우리는 데이터의 갯수보다는 날짜별 자전거의 평균 대여량이 중요하기 때문에, 실제 분석에는 큰 영향을 미치지 않을 것으로 예상합니다.\n",
    "\n",
    "1. 이런 사항 외에도, 사람의 행동 패턴 상으로 날짜나 시간이라는 개념이 자전거를 대여하는데 중요한 영향을 미칠 것 같습니다. 가령 1) 시간(hour)을 기준으로 새벽보다는 오후에 사람들이 자전거를 많이 빌릴것이며, 2) 월(month)을 기준으로 추운 여름보다는 따뜻한 봄이나 가을, 내지는 더운 여름이 더 많이 빌릴 것 같습니다.\n",
    "\n"
   ]
  },
  {
   "cell_type": "markdown",
   "metadata": {
    "colab_type": "text",
    "id": "-XEZa7t_Grgs"
   },
   "source": [
    "자, 그럼 위 예상과 실제 데이터가 일치하는지 데이터 시각화를 통해 살펴보도록 하겠습니다."
   ]
  },
  {
   "cell_type": "code",
   "execution_count": 400,
   "metadata": {
    "colab": {},
    "colab_type": "code",
    "id": "Joim7GN8Grgs",
    "outputId": "5bf1da03-fae0-4360-f235-731d6178ac9a"
   },
   "outputs": [
    {
     "data": {
      "text/plain": [
       "<matplotlib.axes._subplots.AxesSubplot at 0x245cc464848>"
      ]
     },
     "execution_count": 400,
     "metadata": {},
     "output_type": "execute_result"
    },
    {
     "data": {
      "image/png": "[encoded data removed]",
      "text/plain": [
       "<Figure size 1296x576 with 6 Axes>"
      ]
     },
     "metadata": {
      "needs_background": "light"
     },
     "output_type": "display_data"
    }
   ],
   "source": [
    "# matplotlib의 subplots를 사용합니다. 이 함수는 여러 개의 시각화를 한 화면에 띄울 수 있도록 합니다.\n",
    "# 이번에는 2x3으로 총 6개의 시각화를 한 화면에 띄웁니다.\n",
    "figure, ((ax1, ax2, ax3), (ax4, ax5, ax6)) = plt.subplots(nrows=2, ncols=3)\n",
    "\n",
    "# 시각화의 전체 사이즈는 18x8로 설정합니다.\n",
    "figure.set_size_inches(18, 8)\n",
    "\n",
    "# seaborn의 barplot으로 subplots의 각 구역에\n",
    "# 연, 월, 일, 시, 분, 초 별 자전거 대여량을 출력합니다.\n",
    "sns.barplot(data=train, x=\"datetime-year\", y=\"count\", ax=ax1)\n",
    "sns.barplot(data=train, x=\"datetime-month\", y=\"count\", ax=ax2)\n",
    "sns.barplot(data=train, x=\"datetime-day\", y=\"count\", ax=ax3)\n",
    "sns.barplot(data=train, x=\"datetime-hour\", y=\"count\", ax=ax4)\n",
    "sns.barplot(data=train, x=\"datetime-minute\", y=\"count\", ax=ax5)\n",
    "sns.barplot(data=train, x=\"datetime-second\", y=\"count\", ax=ax6)"
   ]
  },
  {
   "cell_type": "markdown",
   "metadata": {
    "colab_type": "text",
    "id": "asBpDvzVGrgv"
   },
   "source": [
    "### Q1-2) 이 시각화로 발견할 수 있는 사실은 어떤 게 있을까요? 그리고 앞서 우리의 예상과 어떤 차이가 있나요?\n",
    "\n",
    "**datetime-year**\n",
    "  * 2011년도의 자전거 대여량보다 2012년도의 자전거 대여량이 더 높습니다. 이는 [Bike Sharing Demand](https://www.kaggle.com/c/bike-sharing-demand) 경진대회를 주최한 [Capital Bikeshare](https://www.capitalbikeshare.com/)사가 꾸준히 성장하고 있다고 간주할 수 있습니다.\n",
    "\n",
    "**datetime-month**\n",
    "  * 주로 여름(6~8월)에 자전거를 많이 빌리며, 겨울(12~2월)에는 자전거를 많이 빌리지 않습니다.\n",
    "  * 같은 겨울이라도 12월의 자전거 대여량이 1월의 자전거 대여량보다 두 배 가까이 높아 보입니다. 하지만 여기에는 숨겨진 비밀이 있는데, 다음에 나올 다른 시각화에서 자세히 살펴보겠습니다.\n",
    "  \n",
    "**datetime-day**\n",
    "  * x축을 자세히 보면 1일부터 19일까지밖에 없습니다. 20일은 어디에 있을까요? 바로 test 데이터에 있습니다. 이 시각화에서 알 수 있는 내용은, train 데이터와 test 데이터를 나누는 기준이 되는 컬럼이 바로 ```datetime-day```라는 것입니다. 그러므로 21일 이후의 자전거 대여량에 대해서는 우리도 알 수 없고, 머신러닝 알고리즘도 알지 못할 것입니다.\n",
    "\n",
    "**datetime-hour**\n",
    "  * 새벽 시간에는 사람들이 자전거를 빌리지 않으며, 오후 시간에 상대적으로 자전거를 많이 빌립니다.\n",
    "  * 특이하게도 두 부분에서 사람들이 자전거를 특별히 많이 빌리는 현상이 있습니다. 바로 출근 시간(7~9시)과 퇴근 시간(16시~19시) 입니다.\n",
    "  * 물론 출퇴근시간이 아닌 다른 시간대에 자전거를 빌리는 경우도 존재합니다. 이는 다음에 나올 다른 시각화에서 자세히 살펴보겠습니다.\n",
    "\n",
    "**datetime-minute** & **datetime-second**\n",
    "  * 이 두 컬럼은 x축이 모두 0으로 되어있습니다. 즉, **datetime-minute**과 **datetime-second**은 기록되고 있지 않다는 사실을 알 수 있습니다."
   ]
  },
  {
   "cell_type": "markdown",
   "metadata": {
    "colab_type": "text",
    "id": "xFXfXhszGrgv"
   },
   "source": [
    "자, 이제 더 중요한 사실에 대해서 고민해 보도록 하겠습니다.\n",
    "\n",
    "우리에게 중요한건 데이터에 어떤 특징이 있는지 발견하는 것도 있지만, **이 특징을 활용해 앞으로 사용할 머신러닝 알고리즘을 개선시킬 수 있는가?**가 더 중요합니다. 또한 개선을 한다면 구체적으로 어떤 방식으로 개선하는지도 중요하겠죠."
   ]
  },
  {
   "cell_type": "markdown",
   "metadata": {
    "colab_type": "text",
    "id": "5SLOYGHkGrgv"
   },
   "source": [
    "### Q1-3) 이 사실을 통해 어떻게 예측 모델을 개선할 수 있을까요? 최소 3가지 아이디어를 내보세요.\n",
    "\n",
    "1. 먼저 분(```datetime-minute```)과 초(```datetime-second```)는 기록되지 않기 때문에 굳이 사용할 필요가 없을 것 같습니다. 차후에 머신러닝 알고리즘에 적용할 때, 이 부분은 feature에서 제거해도 될 것 같습니다.\n",
    "2. 앞서 설명한대로, train 데이터와 test 데이터를 나누는 기준이 되는 컬럼이 바로 일(```datetime-day```) 컬럼입니다. 이런 경우 **datetime-day**를 feature로 집어넣으면 머신러닝 알고리즘이 과적합([overfitting](https://hyperdot.wordpress.com/2017/02/06/%EA%B3%BC%EC%A0%81%ED%95%A9overfitting/)) 되는 현상이 일어날 수 있습니다. 그러므로 train 데이터와 test 데이터를 나누는 기준이 되는 컬럼이 있으면, 이 컬럼은 feature로 사용하지 않는 것이 좋을 것 같습니다.\n",
    "3. 이외에도 시(```datetime-hour```)컬럼을 보면 출퇴근시간에 사람들이 자전거를 많이 빌린다는 사실을 알 수 있습니다. 그렇다면, 만일 머신러닝 알고리즘이 출퇴근시간이라는 개념을 이해하지 못한다고 하면 이를 별도의 feature로 넣어주면 성능 향상을 꾀할 수 있을 듯 합니다. (다만 아쉽게도, ```workingday```라는 컬럼이 이 역할을 대신하고 있을 것입니다)"
   ]
  },
  {
   "cell_type": "markdown",
   "metadata": {
    "colab_type": "text",
    "id": "HWIH3sO2Grgw"
   },
   "source": [
    "### weather 컬럼 분석\n",
    "\n",
    "그 다음 분석하고 싶은 컬럼은 날씨를 나타내는 ```weather``` 컬럼입니다. 이 컬럼을 다음의 값을 가지며, 구체적인 설명은 다음과 같습니다.\n",
    "\n",
    "  * 1: 아주 깨끗한 날씨입니다. 또는 아주 약간의 구름이 끼어있습니다.\n",
    "  * 2: 약간의 안개와 구름이 끼어있는 날씨입니다.\n",
    "  * 3: 약간의 눈, 비가 오거나 천둥이 칩니다.\n",
    "  * 4: 아주 많은 비가 오거나 우박이 내립니다.\n",
    "\n",
    "이 데이터를 엑셀 분석, 내지는 시각화하여 weather에 따라 자전거 대여량이 어떻게 변하는지 살펴보도록 하겠습니다.\n",
    "\n"
   ]
  },
  {
   "cell_type": "markdown",
   "metadata": {
    "colab_type": "text",
    "id": "HITbzMgiGrgw"
   },
   "source": [
    "### Q2-1) 시각화를 하기 전에 어떤 그림이 나올 것으로 예상하시나요? 최소 3가지 아이디어를 생각해보세요.\n",
    "\n",
    "**주의**: 이 내용은 반드시 **시각화를 하기 전에 작성하셔야 합니다.** 그래야 시각화 결과와 본인의 아이디어를 비교해서 차이를 발견할 수 있습니다.\n",
    "\n",
    "1. 일단 당연하지만 안 좋은 날씨일수록 자전거 대여량이 낮아질 것 같습니다. 1(깨끗한 날씨)의 경우보다 4(아주 많은 비나 우박이 오는 날씨)인 경우에 자전거를 덜 빌릴 것입니다.\n",
    "2. 그리고 값이 숫자(1, 2, 3, 4)로 되어있지만, 실제로는 수의 높고 낮은 관계가 존재하지 않을 것입니다. (이를 전문용어로 연속형(continuous) 데이터 vs 범주형(categorical) 데이터라고 합니다) 그러므로 보이는 것과는 다르게, 실제로는 범주형(categorical) 데이터로 처리해야 할 것입니다.\n",
    "3. 아주 심하진 않겠지만, 날씨마다의 편차가 있을 것입니다. 가령 어떤 날은 날씨가 좋아도 안 빌리고, 어떤 날은 날씨가 안 좋아도 많이 빌릴 수도 있습니다."
   ]
  },
  {
   "cell_type": "markdown",
   "metadata": {
    "colab_type": "text",
    "id": "5hqcAZrQGrgx"
   },
   "source": [
    "이번에도 위 예상과 실제 데이터가 일치하는지 데이터 시각화를 통해 살펴보도록 하겠습니다."
   ]
  },
  {
   "cell_type": "code",
   "execution_count": 401,
   "metadata": {
    "colab": {},
    "colab_type": "code",
    "id": "U37qJcJRGrgx",
    "outputId": "915da74e-783e-4b52-8f2d-0e72fde941ca"
   },
   "outputs": [
    {
     "data": {
      "text/plain": [
       "<matplotlib.axes._subplots.AxesSubplot at 0x245cccc4ac8>"
      ]
     },
     "execution_count": 401,
     "metadata": {},
     "output_type": "execute_result"
    },
    {
     "data": {
      "image/png": "[encoded data removed]",
      "text/plain": [
       "<Figure size 432x288 with 1 Axes>"
      ]
     },
     "metadata": {
      "needs_background": "light"
     },
     "output_type": "display_data"
    }
   ],
   "source": [
    "# seaborn의 barplot으로 날씨(weather) 데이터를 시각화합니다.\n",
    "# x축에는 날씨(weather) 데이터를, y축에는 자전거 대여량(count)을 출력합니다.\n",
    "sns.barplot(data=train, x=\"weather\", y=\"count\")"
   ]
  },
  {
   "cell_type": "markdown",
   "metadata": {
    "colab_type": "text",
    "id": "KSEjqRQwGrgz"
   },
   "source": [
    "### Q2-2) 이 시각화로 발견할 수 있는 사실은 어떤 게 있을까요? 그리고 앞서 우리의 예상과 어떤 차이가 있나요?\n",
    "\n",
    "1. 앞서 생각한대로 날씨(```weather```)가 안 좋을수록 자전거 대여량이 낮아지는 현상을 발견할 수 있었습니다. 즉, 날씨(```weather```)값이 3보다 2가, 2보다 1이 더 자전거를 많이 빌리는 현상이 보입니다.\n",
    "2. 하지만 굉장히 특이하게도 날씨가 4인 경우, 즉 아주 많은 비가 오거나 우박이 내리는 경우에 자전거를 많이 빌리는 현상이 보입니다. 심지어는 날씨가 2인 경우(약간의 안개나 구름)에 못지 않게 자전거를 많이 빌리는 사실을 알 수 있습니다.\n",
    "3. 그리고 시각화에서 신뢰 구간(confidence interval)을 상징하는 검은색 세로 선이 날씨가 4인 경우에는 보이지 않습니다. 추측컨데 날씨가 4인 경우에는 일반적인 분포와는 다소 다른 현상이 일어나고 있다고 판단할 수 있습니다."
   ]
  },
  {
   "cell_type": "markdown",
   "metadata": {
    "colab_type": "text",
    "id": "7JMhO8enGrgz"
   },
   "source": [
    "### Q2-3) 이 사실을 통해 어떻게 예측 모델을 개선할 수 있을까요? 최소 3가지 아이디어를 내보세요.\n",
    "\n",
    "1. 날씨(```weather```) 컬럼값이 1 ~ 3인 것만 봤을 때, 이 컬럼을 머신러닝 알고리즘에 feature로 넣으면 우리가 별도의 룰을 설정해주지 않아도 머신러닝 알고리즘이 알아서 날씨(```weather```)에 따른 자전거 대여량의 변화량을 예측할 수 있을 것 같습니다. 아마도 날씨가 좋을 수록(1에 가까울수록) 자전거를 많이 빌리고, 안 좋을수록(3에 가까울수록) 자전거를 덜 빌릴 것 같습니다.\n",
    "1. 하지만 신뢰 구간(confidence interval)을 보면 알 수 있듯이, 날씨(```weather```) 컬럼값이 4인 경우는 매우 부족합니다. (train 데이터 10,886개 기준 1개 밖에 없음) 그러므로 이 데이터를 제거하거나, 날씨(```weather```) 컬럼값이 4인 경우는 3으로 바꿔주면 머신러닝 알고리즘이 상대적으로 모수가 적은 데이터를 가지고 조건을 만들려는 시도를 하지 않기 때문에, 미묘하지만 성능 향상이 있을 것으로 예상합니다.\n",
    "1. 또한 날씨(```weather```) 컬럼은 연속적(continuous)인 것 처럼 보이지만, 범주형(categorical) 데이터같은 느낌도 있습니다. 그렇기 때문에, 마치 타이타닉 경진대회에서 선착장(```Embarked```) 컬럼을 One Hot Encoding했던 것 처럼, 이 컬럼도 One Hot Encoding을 한다면 머신러닝 알고리즘이 이 데이터를 범주형(categorical) 값으로 인식하여 성능이 좋아질 가능성이 있습니다."
   ]
  },
  {
   "cell_type": "markdown",
   "metadata": {
    "colab_type": "text",
    "id": "kipgFNbSGrg0"
   },
   "source": [
    "### windspeed 컬럼 분석\n",
    "\n",
    "그 다음 분석하고 싶은 컬럼은 날씨를 나타내는 풍속을 나타내는 ```windspeed``` 컬럼입니다. 이 컬럼은 0에서 56까지의 값을 가집니다. 이 데이터도 시각화 해보도록 하겠습니다."
   ]
  },
  {
   "cell_type": "markdown",
   "metadata": {
    "colab_type": "text",
    "id": "MZ2HIp1-Grg1"
   },
   "source": [
    "### Q3-1) 시각화를 하기 전에 어떤 그림이 나올 것으로 예상하시나요? 최소 3가지 아이디어를 생각해보세요.\n",
    "\n",
    "1. 이 데이터는 연속형(continuous) 자료이므로 분포를 시각화하면 전형적인 [정규 분포](https://ko.wikipedia.org/wiki/%EC%A0%95%EA%B7%9C_%EB%B6%84%ED%8F%AC)가 나올 것입니다.\n",
    "2. 하지만 이 데이터는 현실 세계의 데이터이기 때문에, 이론처럼 완벽한 정규 분포가 나오지는 않을 것입니다. 아마도 추측컨데 1) 몇몇 아웃라이어가 존재하거나, 2) 바람이 특별하게 많이 불어서 분포의 오른쪽이 길게 늘어지는 현상이 생길 것 같습니다.\n",
    "3. 그리고 추측컨데 바람이 너무 많이 불면 사람들이 자전거를 덜 빌릴 것으로 예상합니다."
   ]
  },
  {
   "cell_type": "markdown",
   "metadata": {
    "colab_type": "text",
    "id": "Jj1bbfp6Grg1"
   },
   "source": [
    "위 예상과 실제 데이터가 일치하는지 다시 한 번 살펴보도록 하겠습니다."
   ]
  },
  {
   "cell_type": "code",
   "execution_count": 402,
   "metadata": {
    "colab": {},
    "colab_type": "code",
    "id": "o8R1qbOOGrg2",
    "outputId": "ccf9b504-c343-46f5-a714-67b05cb31705"
   },
   "outputs": [
    {
     "data": {
      "text/plain": [
       "<matplotlib.axes._subplots.AxesSubplot at 0x245cc961ac8>"
      ]
     },
     "execution_count": 402,
     "metadata": {},
     "output_type": "execute_result"
    },
    {
     "data": {
      "image/png": "[encoded data removed]",
      "text/plain": [
       "<Figure size 1296x288 with 1 Axes>"
      ]
     },
     "metadata": {
      "needs_background": "light"
     },
     "output_type": "display_data"
    }
   ],
   "source": [
    "# matplotlib를 활용해 그래프의 사이즈를 가로로 길게(18) 늘리고, 세로로 짧게(4) 줄입니다.\n",
    "plt.figure(figsize = (18, 4))\n",
    "\n",
    "# seaborn의 distplot으로 풍속(windspeed) 데이터를 시각화합니다.\n",
    "# windspeed 데이터의 전체 분포(distribution)을 시각화합니다.\n",
    "sns.distplot(train[\"windspeed\"])"
   ]
  },
  {
   "cell_type": "code",
   "execution_count": 403,
   "metadata": {
    "colab": {},
    "colab_type": "code",
    "id": "XoeE0XQnGrg4",
    "outputId": "6d1084dc-aed9-49bf-f49f-39266ef41851"
   },
   "outputs": [
    {
     "data": {
      "text/plain": [
       "<matplotlib.axes._subplots.AxesSubplot at 0x245cc957dc8>"
      ]
     },
     "execution_count": 403,
     "metadata": {},
     "output_type": "execute_result"
    },
    {
     "data": {
      "image/png": "[encoded data removed]",
      "text/plain": [
       "<Figure size 1296x288 with 1 Axes>"
      ]
     },
     "metadata": {
      "needs_background": "light"
     },
     "output_type": "display_data"
    }
   ],
   "source": [
    "# matplotlib를 활용해 그래프의 사이즈를 가로로 길게(18) 늘리고, 세로로 짧게(4) 줄입니다.\n",
    "plt.figure(figsize = (18, 4))\n",
    "\n",
    "# seaborn의 pointplot으로 풍속(windspeed)에 따른 자전거 대여량의 변화를 시각화합니다.\n",
    "# x축에는 풍속(windspeed)을, y축에는 자전거 대여량(count)을 집어넣습니다.\n",
    "sns.pointplot(data = train, x=\"windspeed\", y=\"count\")"
   ]
  },
  {
   "cell_type": "code",
   "execution_count": 404,
   "metadata": {
    "colab": {},
    "colab_type": "code",
    "id": "YLMMXzkqGrg6",
    "outputId": "d55b31e1-f30b-49ef-f8f7-bd2b69436bf5"
   },
   "outputs": [
    {
     "name": "stdout",
     "output_type": "stream",
     "text": [
      "[0.    0.003 0.998 0.001 1.    0.998 0.001 0.998 0.001 0.003 0.003 0.999\n",
      " 0.999 0.003 0.002 0.998 0.997 0.001 0.001 0.001 0.999 0.997 0.999 0.002\n",
      " 0.002 0.001 0.997 0.999]\n"
     ]
    },
    {
     "data": {
      "text/plain": [
       "<matplotlib.axes._subplots.AxesSubplot at 0x245cc963108>"
      ]
     },
     "execution_count": 404,
     "metadata": {},
     "output_type": "execute_result"
    },
    {
     "data": {
      "image/png": "[encoded data removed]",
      "text/plain": [
       "<Figure size 432x288 with 1 Axes>"
      ]
     },
     "metadata": {
      "needs_background": "light"
     },
     "output_type": "display_data"
    }
   ],
   "source": [
    "# 풍속(windspeed)데이터에서 소수점이 아닌 나머지를 제거합니다.\n",
    "# 가령 풍속이 16.9979일 경우, 이를 정수형(int)으로 변환하여 16으로 만든 뒤 두 개를 뺍니다. (그러면 0.9979가 나옵니다)\n",
    "# 이를 windspeed(point)라는 이름의 새로운 컬럼에 할당합니다.\n",
    "train[\"windspeed(point)\"] = train[\"windspeed\"] - train[\"windspeed\"].astype('int')\n",
    "\n",
    "# windspeed(point) 컬럼의 중복을 제거하여 종류를 출력합니다.\n",
    "# 간결할 형태로 출력하기 위해, 소수점 3자리로 줄입니다.\n",
    "print(train[\"windspeed(point)\"].unique().round(3))\n",
    "\n",
    "# seaborn의 distplot으로 풍속(windspeed) 데이터를 시각화합니다.\n",
    "# windspeed 데이터의 전체 분포(distribution)을 시각화합니다.\n",
    "sns.distplot(train[\"windspeed(point)\"])"
   ]
  },
  {
   "cell_type": "markdown",
   "metadata": {
    "colab_type": "text",
    "id": "KkEbSJEzGrg8"
   },
   "source": [
    "### Q3-2) 이 시각화로 발견할 수 있는 사실은 어떤 게 있을까요? 그리고 앞서 우리의 예상과 어떤 차이가 있나요?\n",
    "\n",
    "1. 분포는 전반적으로 정규 분포가 나오지만, 1) 값이 연속적(continuous)이지 않고 듬성듬성 떨어져 있습니다. 즉, 이 데이터는 연속형(continuous) 데이터가 아닌 범주형(categorical) 데이터에 가까워 보입니다.\n",
    "2. 더 특이한건, 풍속이 0인 경우가 굉장히 많으며, 정규 분포가 이상하게 보일 정도로 비중이 높습니다.\n",
    "3. 또한 풍속이 과하게 높을수록 자전거를 덜 빌리는 현상이 보이는 것 같은데, 이는 전반적으로 모수가 부족한 듯 하여 신뢰도가 높지 않습니다. 다만 풍속이 낮을 경우에 전반적으로 자전거 대여량이 낮은 현상이 보입니다. (이는 우리가 예상하지 못한 현상입니다)"
   ]
  },
  {
   "cell_type": "markdown",
   "metadata": {
    "colab_type": "text",
    "id": "M3hOo3ISGrg8"
   },
   "source": [
    "### Q3-3) 이 사실을 통해 어떻게 예측 모델을 개선할 수 있을까요? 최소 3가지 아이디어를 내보세요.\n",
    "\n",
    "1. 이 풍속(windspeed) 데이터를 머신러닝 알고리즘에 집어넣으면 머신러닝 알고리즘의 풍속에 따른 자전거 대여량의 변화를 스스로 판단할 수 있을 것 같습니다. 더 정확히는, 풍속이 낮거나 높을수록 자전거를 덜 빌리고, 풍속이 적당할 때 자전거를 더 많이 빌린다는 사실을 알 수 있습니다.\n",
    "1. 풍속(windspeed)이 0인 경우는, 실제로는 풍속이 0이 아니라 값이 비어있을(NaN) 가능성이 있습니다. 이 경우에는 풍속(windspeed) 데이터를 머신러닝 알고리즘에 그대로 집어넣을 경우, 실제로는 바람이 불었지만 머신러닝 알고리즘 입장에서는 바람이 불지 않았다고 간주할 수 있습니다. 이 문제를 해결해준다면 머신러닝 알고리즘의 성능을 크게 끌어올릴 수 있을 것 같습니다.\n",
    "1. 또한 풍속(windspeed)의 소수점을 자세히 보시면, 0.001xx, 0.002xx, 0.003xx나, 0.999xx, 0.998xx, 0.997xx가 대부분입니다. 즉, 이 값은 실수형(float)이 아닌 정수형(int)이라고 간주할 수 있습니다. 알고리즘에 따라 다르겠지만, 풍속(windspeed) 데이터를 그대로 넣지 않고 반올림한 뒤 정수형(int) 데이터로 넣어주면 더 좋은 결과가 나올 수도 있습니다."
   ]
  },
  {
   "cell_type": "markdown",
   "metadata": {
    "colab_type": "text",
    "id": "Zqg_G0ceGrg9"
   },
   "source": [
    "### temp\n",
    "\n",
    "이번에 분석할 데이터는 온도(```temp```) 컬럼입니다. 여기서부터는 제가 직접 하지 않고, 여러분들을 위한 과제로 제공하겠습니다. 앞서 컬럼들을 분석했던 것 처럼, 온도(```temp```) 컬럼도 직접 분석해보세요. \n",
    "\n",
    "힌트: 온도(```temp```) 컬럼만으로 좋은 분석 결과가 나오지 않는다면, 체감온도(```atemp```)를 포함한 다른 컬럼을 활용하여 시각화해보세요. 시각화는 [lmplot](https://seaborn.pydata.org/generated/seaborn.lmplot.html?highlight=lmplot#seaborn.lmplot)이나 [scatterplot](https://seaborn.pydata.org/generated/seaborn.scatterplot.html?highlight=scatterplot#seaborn.scatterplot)을 사용하면 직관적인 시각화를 할 수 있을 것입니다. (단 ```scatterplot```은 seaborn의 버전이 낮으면 실행되지 않으니 이 점 주의해주세요. 이 경우는 버전을 업그레이드 한 뒤 사용하시면 됩니다)"
   ]
  },
  {
   "cell_type": "markdown",
   "metadata": {
    "colab_type": "text",
    "id": "OOwheAnxGrg9"
   },
   "source": [
    "### Q4-1) 온도(```temp```) 컬럼을 시각화 하기 전에 어떤 그림이 나올 것으로 예상하시나요?\n",
    "주의: 이 내용은 반드시 시각화를 하기 전에 작성하셔야 합니다. 그래야 시각화 결과와 본인의 아이디어를 비교해서 차이를 발견할 수 있습니다.\n",
    "\n",
    "1. 풍속(```windspeed```) 데이터와 마찬가지로, 이 데이터는 연속형(continuous) 자료이므로 분포를 시각화하면 전형적인 [정규 분포](https://ko.wikipedia.org/wiki/%EC%A0%95%EA%B7%9C_%EB%B6%84%ED%8F%AC)가 나올 것입니다.\n",
    "1. 또한 온도(```temp```)가 높으면 자전거를 덜 빌릴 것 같고, 정 반대로 온도가 낮으면 자전거를 많이 빌릴 것 같습니다. (하지만 온도가 너무 낮은 경우는 자전거를 덜 빌릴 것 같습니다)\n",
    "1. 온도(```temp```)와 체감온도(```atemp```)는 서로 상관관계가 높으며, 사실상 거의 같은 성향의 데이터라고 간주할 수 있습니다."
   ]
  },
  {
   "cell_type": "markdown",
   "metadata": {
    "colab_type": "text",
    "id": "RPYn97EYGrg-"
   },
   "source": [
    "### temp 컬럼 시각화하기"
   ]
  },
  {
   "cell_type": "code",
   "execution_count": 405,
   "metadata": {
    "colab": {},
    "colab_type": "code",
    "id": "frb1KbZnGrg-",
    "outputId": "82fd6258-0456-4585-9697-d5841f10cd7d"
   },
   "outputs": [
    {
     "data": {
      "text/plain": [
       "<seaborn.axisgrid.FacetGrid at 0x245ccbb0308>"
      ]
     },
     "execution_count": 405,
     "metadata": {},
     "output_type": "execute_result"
    },
    {
     "data": {
      "image/png": "[encoded data removed]",
      "text/plain": [
       "<Figure size 360x360 with 1 Axes>"
      ]
     },
     "metadata": {
      "needs_background": "light"
     },
     "output_type": "display_data"
    }
   ],
   "source": [
    "# seaborn의 lmplot으로 온도(temp)와 체감온도(atemp)의 상관관계를 시각화합니다.\n",
    "# 여기서 추세선을 그리지 않기 위해 fit_reg 옵션은 False로 줍니다.\n",
    "sns.lmplot(data=train, x=\"temp\", y=\"atemp\", fit_reg=False)"
   ]
  },
  {
   "cell_type": "code",
   "execution_count": 406,
   "metadata": {
    "colab": {},
    "colab_type": "code",
    "id": "NjHPnLPDGrhA",
    "outputId": "0f179fd2-0483-419a-8d9e-ee16921fe91f"
   },
   "outputs": [
    {
     "data": {
      "text/plain": [
       "array([ 9.84,  9.02,  8.2 , 13.12, 15.58, 14.76, 17.22, 18.86, 18.04,\n",
       "       16.4 , 13.94, 12.3 , 10.66,  6.56,  5.74,  7.38,  4.92, 11.48,\n",
       "        4.1 ,  3.28,  2.46, 21.32, 22.96, 23.78, 24.6 , 19.68, 22.14,\n",
       "       20.5 , 27.06, 26.24, 25.42, 27.88, 28.7 , 30.34, 31.16, 29.52,\n",
       "       33.62, 35.26, 36.9 , 32.8 , 31.98, 34.44, 36.08, 37.72, 38.54,\n",
       "        1.64,  0.82, 39.36, 41.  ])"
      ]
     },
     "execution_count": 406,
     "metadata": {},
     "output_type": "execute_result"
    }
   ],
   "source": [
    "# 온도(temp)의 종류를 출력합니다. 생각보다 종류가 많지 않습니다.\n",
    "train[\"temp\"].unique()"
   ]
  },
  {
   "cell_type": "code",
   "execution_count": 407,
   "metadata": {
    "colab": {},
    "colab_type": "code",
    "id": "yck8mrm_GrhD",
    "outputId": "cd4423c5-383c-43db-9773-7e88c09afb8d"
   },
   "outputs": [
    {
     "data": {
      "text/plain": [
       "array([14.395, 13.635, 12.88 , 17.425, 19.695, 16.665, 21.21 , 22.725,\n",
       "       21.97 , 20.455, 11.365, 10.605,  9.85 ,  8.335,  6.82 ,  5.305,\n",
       "        6.06 ,  9.09 , 12.12 ,  7.575, 15.91 ,  3.03 ,  3.79 ,  4.545,\n",
       "       15.15 , 18.18 , 25.   , 26.515, 27.275, 29.545, 23.485, 25.76 ,\n",
       "       31.06 , 30.305, 24.24 , 18.94 , 31.82 , 32.575, 33.335, 28.79 ,\n",
       "       34.85 , 35.605, 37.12 , 40.15 , 41.665, 40.91 , 39.395, 34.09 ,\n",
       "       28.03 , 36.365, 37.88 , 42.425, 43.94 , 38.635,  1.515,  0.76 ,\n",
       "        2.275, 43.18 , 44.695, 45.455])"
      ]
     },
     "execution_count": 407,
     "metadata": {},
     "output_type": "execute_result"
    }
   ],
   "source": [
    "# 체감온도(atemp)의 종류를 출력합니다. 생각보다 종류가 많지 않습니다.\n",
    "train[\"atemp\"].unique()"
   ]
  },
  {
   "cell_type": "code",
   "execution_count": 408,
   "metadata": {
    "colab": {},
    "colab_type": "code",
    "id": "I4zY1swxGrhE",
    "outputId": "a80e823b-f4a8-4124-a8ff-48db13de4258"
   },
   "outputs": [
    {
     "data": {
      "text/plain": [
       "<matplotlib.axes._subplots.AxesSubplot at 0x245cd06a788>"
      ]
     },
     "execution_count": 408,
     "metadata": {},
     "output_type": "execute_result"
    },
    {
     "data": {
      "image/png": "[encoded data removed]",
      "text/plain": [
       "<Figure size 864x864 with 1 Axes>"
      ]
     },
     "metadata": {
      "needs_background": "light"
     },
     "output_type": "display_data"
    }
   ],
   "source": [
    "# 온도(temp)와 체감온도(atemp)는 반올림하여\n",
    "# 각각 temp(int)와 atemp(int)라는 이름의 새로운 컬럼에 할당합니다.\n",
    "train[\"temp(int)\"] = train[\"temp\"].round()\n",
    "train[\"atemp(int)\"] = train[\"atemp\"].round()\n",
    "\n",
    "# matplotlib를 활용해 그래프의 사이즈를 가로로 길게(18) 늘리고, 세로로 짧게(4) 줄입니다.\n",
    "plt.figure(figsize = (12, 12))\n",
    "\n",
    "# 이번에는 scatterplot을 활용해 온도(temp), 체감온도(atemp),\n",
    "# 그리고 풍속(windspeed)과 자전거 대여량(count)간의 상관관계를 시각화합니다.\n",
    "# 주의: 이 코드는 seaborn의 버전이 0.9 이상이어야 합니다. 만일 실행이 되지 않는다면 seaborn의 버전을 업그레이드 해주세요.\n",
    "sns.scatterplot(data=train, x=\"temp(int)\", y=\"atemp(int)\", hue=\"windspeed\", size=\"count\", sizes=(0, 150))"
   ]
  },
  {
   "cell_type": "code",
   "execution_count": 409,
   "metadata": {
    "colab": {},
    "colab_type": "code",
    "id": "4m1ZClauGrhG",
    "outputId": "43dd707b-b9df-48a1-8671-ff02a81c2332"
   },
   "outputs": [
    {
     "data": {
      "text/html": [
       "<div>\n",
       "<style scoped>\n",
       "    .dataframe tbody tr th:only-of-type {\n",
       "        vertical-align: middle;\n",
       "    }\n",
       "\n",
       "    .dataframe tbody tr th {\n",
       "        vertical-align: top;\n",
       "    }\n",
       "\n",
       "    .dataframe thead th {\n",
       "        text-align: right;\n",
       "    }\n",
       "</style>\n",
       "<table border=\"1\" class=\"dataframe\">\n",
       "  <thead>\n",
       "    <tr style=\"text-align: right;\">\n",
       "      <th></th>\n",
       "      <th>temp(int)</th>\n",
       "      <th>atemp(int)</th>\n",
       "      <th>temp(difference)</th>\n",
       "    </tr>\n",
       "  </thead>\n",
       "  <tbody>\n",
       "    <tr>\n",
       "      <th>0</th>\n",
       "      <td>10.0</td>\n",
       "      <td>14.0</td>\n",
       "      <td>-4.0</td>\n",
       "    </tr>\n",
       "    <tr>\n",
       "      <th>1</th>\n",
       "      <td>9.0</td>\n",
       "      <td>14.0</td>\n",
       "      <td>-5.0</td>\n",
       "    </tr>\n",
       "    <tr>\n",
       "      <th>2</th>\n",
       "      <td>9.0</td>\n",
       "      <td>14.0</td>\n",
       "      <td>-5.0</td>\n",
       "    </tr>\n",
       "    <tr>\n",
       "      <th>3</th>\n",
       "      <td>10.0</td>\n",
       "      <td>14.0</td>\n",
       "      <td>-4.0</td>\n",
       "    </tr>\n",
       "    <tr>\n",
       "      <th>4</th>\n",
       "      <td>10.0</td>\n",
       "      <td>14.0</td>\n",
       "      <td>-4.0</td>\n",
       "    </tr>\n",
       "  </tbody>\n",
       "</table>\n",
       "</div>"
      ],
      "text/plain": [
       "   temp(int)  atemp(int)  temp(difference)\n",
       "0       10.0        14.0              -4.0\n",
       "1        9.0        14.0              -5.0\n",
       "2        9.0        14.0              -5.0\n",
       "3       10.0        14.0              -4.0\n",
       "4       10.0        14.0              -4.0"
      ]
     },
     "execution_count": 409,
     "metadata": {},
     "output_type": "execute_result"
    }
   ],
   "source": [
    "# 정수형(int)으로 변환한 온도(temp)와 체감온도(atemp)를 빼서\n",
    "# 두 값의 차이를 나타내는 temp(difference)라는 새로운 컬럼을 추가합니다.\n",
    "train[\"temp(difference)\"] = train[\"temp(int)\"] - train[\"atemp(int)\"]\n",
    "\n",
    "# 정수형(int)으로 변환한 온도(temp)와 체감온도(atemp), 그리고 temp(difference)를 출력합니다.\n",
    "train[[\"temp(int)\", \"atemp(int)\", \"temp(difference)\"]].head()"
   ]
  },
  {
   "cell_type": "code",
   "execution_count": 410,
   "metadata": {
    "colab": {},
    "colab_type": "code",
    "id": "a-4ps8taGrhI",
    "outputId": "6b32905b-c2dc-4532-8d1e-69611333b48b"
   },
   "outputs": [
    {
     "data": {
      "text/plain": [
       "<matplotlib.axes._subplots.AxesSubplot at 0x245cd06bb48>"
      ]
     },
     "execution_count": 410,
     "metadata": {},
     "output_type": "execute_result"
    },
    {
     "data": {
      "image/png": "[encoded data removed]",
      "text/plain": [
       "<Figure size 1296x288 with 1 Axes>"
      ]
     },
     "metadata": {
      "needs_background": "light"
     },
     "output_type": "display_data"
    }
   ],
   "source": [
    "# matplotlib를 활용해 그래프의 사이즈를 가로로 길게(18) 늘리고, 세로로 짧게(4) 줄입니다.\n",
    "plt.figure(figsize = (18, 4))\n",
    "\n",
    "# seaborn의 point으로 temp(difference)에 따른 자전거 변화량을 시각화합니다.\n",
    "sns.pointplot(data=train, x=\"temp(difference)\", y=\"count\")"
   ]
  },
  {
   "cell_type": "code",
   "execution_count": 411,
   "metadata": {
    "colab": {},
    "colab_type": "code",
    "id": "_9Qxx6QhGrhK",
    "outputId": "70bc1a16-13d6-43cb-d52b-ce4af14e75d7"
   },
   "outputs": [
    {
     "data": {
      "text/plain": [
       "-4.0     5106\n",
       "-3.0     2097\n",
       "-2.0     1415\n",
       "-5.0     1049\n",
       "-1.0      509\n",
       "-6.0      405\n",
       " 0.0      219\n",
       " 1.0       32\n",
       "-7.0       21\n",
       " 22.0       5\n",
       "-8.0        5\n",
       " 14.0       5\n",
       " 2.0        4\n",
       " 16.0       3\n",
       " 15.0       3\n",
       " 18.0       3\n",
       " 23.0       2\n",
       " 17.0       1\n",
       " 13.0       1\n",
       " 19.0       1\n",
       "Name: temp(difference), dtype: int64"
      ]
     },
     "execution_count": 411,
     "metadata": {},
     "output_type": "execute_result"
    }
   ],
   "source": [
    "# temp(difference)의 종류와 그 개수를 출력합니다.\n",
    "# -6 부터 0을 제외한 나머지는 모수가 부족하므로, 이를 하나로 합쳐줘도 될 것 같습니다.\n",
    "train[\"temp(difference)\"].value_counts()"
   ]
  },
  {
   "cell_type": "code",
   "execution_count": 412,
   "metadata": {
    "colab": {},
    "colab_type": "code",
    "id": "Wlfo56I6GrhM",
    "outputId": "dd6f04b9-af2d-4343-93d4-1c8578c84d5c"
   },
   "outputs": [
    {
     "data": {
      "text/plain": [
       "<matplotlib.axes._subplots.AxesSubplot at 0x245cd2f9f08>"
      ]
     },
     "execution_count": 412,
     "metadata": {},
     "output_type": "execute_result"
    },
    {
     "data": {
      "image/png": "[encoded data removed]",
      "text/plain": [
       "<Figure size 1296x288 with 1 Axes>"
      ]
     },
     "metadata": {
      "needs_background": "light"
     },
     "output_type": "display_data"
    }
   ],
   "source": [
    "# temp(difference)가 -6보다 작은 데이터는 -6으로 통일시켜줍니다.\n",
    "train.loc[train[\"temp(difference)\"] < -6, \"temp(difference)\"] = -6\n",
    "\n",
    "# 비슷하게, temp(difference)가 0보다 큰 데이터는 0으로 통일시켜줍니다.\n",
    "train.loc[train[\"temp(difference)\"] >  0, \"temp(difference)\"] = 0\n",
    "\n",
    "# matplotlib를 활용해 그래프의 사이즈를 가로로 길게(18) 늘리고, 세로로 짧게(4) 줄입니다.\n",
    "plt.figure(figsize = (18, 4))\n",
    "\n",
    "# seaborn의 pointplot으로 temp(difference)에 따른 자전거 변화량을 시각화합니다.\n",
    "sns.pointplot(data=train, x=\"temp(difference)\", y=\"count\")"
   ]
  },
  {
   "cell_type": "markdown",
   "metadata": {
    "colab_type": "text",
    "id": "bB6Tb_GPGrhN"
   },
   "source": [
    "### Q4-2) 이 시각화로 발견할 수 있는 사실은 어떤 게 있을까요? 그리고 앞서 우리의 예상과 어떤 차이가 있나요?\n",
    "\n",
    "1. 앞서 예상과 마찬가지로, 온도(```temp```)와 체감온도(```atemp```)는 연속형(continuous)인 데이터이며, 서로 상관관계가 높다는 사실을 알 수 있습니다.\n",
    "1. 또한 온도(```temp```)나 체감온도(```atemp```)가 낮을수록 자전거를 덜 빌리고, 높을수록 자전거를 많이 빌린다는 사실을 알 수 있습니다.\n",
    "1. 하지만 가끔 온도(```temp```)에 비해서 체감온도(```atemp```)가 상대적으로 높거나 낮은 경우가 있는데, 특히나 체감온도(```atemp```)가 온도(```temp```)보다 높을 경우 자전거를 더 많이 빌린다는 현상을 알 수 있습니다."
   ]
  },
  {
   "cell_type": "markdown",
   "metadata": {
    "colab_type": "text",
    "id": "ruNojgzKGrhO"
   },
   "source": [
    "### Q4-3) 이 사실을 통해 어떻게 예측 모델을 개선할 수 있을까요? 최소 3가지 아이디어를 내보세요.\n",
    "1. 온도(```temp```) 컬럼이 자전거 대여량을 예측하는데 도움이 된다는 사실을 알 수 있습니다. 이 컬럼을 머신러닝 알고리즘에 넣어주면 머신러닝 알고리즘이 온도에 따른 자전거 대여량의 변화량을 예측하면서 성능이 올라갈 것으로 보입니다.\n",
    "\n",
    "1. 또한 비슷하게 체감온도(```atemp```)도 자전거 대여량을 예측하는데 도움이 됩니다. 다만 온도(```temp```)와 체감온도(```atemp```)는 서로 비슷한 성향을 가지기 때문에, 두 컬럼 모두를 넣는건 둘 중 하나만 넣는 것에 비해 머신러닝 알고리즘의 성능을 향상시키는데 큰 도움을 주지는 못할 것입니다.\n",
    "\n",
    "1. 또한 온도(```temp```)와 체감온도(```atemp```)의 차이가 자전거 대여량을 예측하는데 도움이 된다는 새로운 사실을 알 수 있었습니다. 이 정보를 머신러닝 알고리즘에 넣어주면 머신러닝의 성능 향상을 꾀할 수 있을 것으로 보입니다."
   ]
  },
  {
   "cell_type": "markdown",
   "metadata": {
    "colab_type": "text",
    "id": "r6R1-BSDGrhO"
   },
   "source": [
    "### datetime-dayofweek\n",
    "\n",
    "이번에 분석할 데이터는 요일을 나타내는 데이터, 일명 ```datetime-dayofweek```입니다. 이 데이터는 현재 feature로 가지고 있지만, 날짜와 시간을 나타내는 ```datetime``` 컬럼에서 추출할 수 있습니다. (ex: ```train[\"datetime\"].dt.day_name()```) 앞서 분석과 마찬가지로, 날짜 컬럼도 탐험적 데이터 분석을 통해 분석해보겠습니다."
   ]
  },
  {
   "cell_type": "code",
   "execution_count": 413,
   "metadata": {
    "colab": {},
    "colab_type": "code",
    "id": "sgMYw5J7GrhO",
    "outputId": "f83c6b76-8e5e-42f6-a0e5-8472cf259bfb"
   },
   "outputs": [
    {
     "name": "stdout",
     "output_type": "stream",
     "text": [
      "(10886, 24)\n"
     ]
    },
    {
     "data": {
      "text/html": [
       "<div>\n",
       "<style scoped>\n",
       "    .dataframe tbody tr th:only-of-type {\n",
       "        vertical-align: middle;\n",
       "    }\n",
       "\n",
       "    .dataframe tbody tr th {\n",
       "        vertical-align: top;\n",
       "    }\n",
       "\n",
       "    .dataframe thead th {\n",
       "        text-align: right;\n",
       "    }\n",
       "</style>\n",
       "<table border=\"1\" class=\"dataframe\">\n",
       "  <thead>\n",
       "    <tr style=\"text-align: right;\">\n",
       "      <th></th>\n",
       "      <th>datetime</th>\n",
       "      <th>datetime-dayofweek</th>\n",
       "      <th>datetime-dayofweek(int)</th>\n",
       "    </tr>\n",
       "  </thead>\n",
       "  <tbody>\n",
       "    <tr>\n",
       "      <th>0</th>\n",
       "      <td>2011-01-01 00:00:00</td>\n",
       "      <td>Saturday</td>\n",
       "      <td>5</td>\n",
       "    </tr>\n",
       "    <tr>\n",
       "      <th>1</th>\n",
       "      <td>2011-01-01 01:00:00</td>\n",
       "      <td>Saturday</td>\n",
       "      <td>5</td>\n",
       "    </tr>\n",
       "    <tr>\n",
       "      <th>2</th>\n",
       "      <td>2011-01-01 02:00:00</td>\n",
       "      <td>Saturday</td>\n",
       "      <td>5</td>\n",
       "    </tr>\n",
       "    <tr>\n",
       "      <th>3</th>\n",
       "      <td>2011-01-01 03:00:00</td>\n",
       "      <td>Saturday</td>\n",
       "      <td>5</td>\n",
       "    </tr>\n",
       "    <tr>\n",
       "      <th>4</th>\n",
       "      <td>2011-01-01 04:00:00</td>\n",
       "      <td>Saturday</td>\n",
       "      <td>5</td>\n",
       "    </tr>\n",
       "  </tbody>\n",
       "</table>\n",
       "</div>"
      ],
      "text/plain": [
       "             datetime datetime-dayofweek  datetime-dayofweek(int)\n",
       "0 2011-01-01 00:00:00           Saturday                        5\n",
       "1 2011-01-01 01:00:00           Saturday                        5\n",
       "2 2011-01-01 02:00:00           Saturday                        5\n",
       "3 2011-01-01 03:00:00           Saturday                        5\n",
       "4 2011-01-01 04:00:00           Saturday                        5"
      ]
     },
     "execution_count": 413,
     "metadata": {},
     "output_type": "execute_result"
    }
   ],
   "source": [
    "# train 데이터에 요일을 나타내는 새로운 컬럼을 생성합니다.\n",
    "# 이 컬럼의 이름을 datetime-dayofweek이라고 가정합니다.\n",
    "# 이 컬럼에 날짜(datetime) 컬럼의 dt(datetime의 약자입니다) 옵션을 활용하여 요일 정보를 따로 넣어줍니다.\n",
    "train[\"datetime-dayofweek\"] = train[\"datetime\"].dt.day_name()\n",
    "\n",
    "# 차후 이 정보를 머신러닝 알고리즘에 집어넣기 위해, 요일을 숫자로 변환한 dayofweek를 사용합니다.\n",
    "# 이 값은 0(월요일) ~ 6(일요일) 사이의 값을 가집니다.\n",
    "# 이를 datetime-dayofweek(int)라는 이름의 변수에 할당합니다.\n",
    "train[\"datetime-dayofweek(int)\"] = train[\"datetime\"].dt.dayofweek\n",
    "\n",
    "# train 변수에 할당된 데이터의 행렬 사이즈를 출력합니다.\n",
    "# 출력은 (row, column) 으로 표시됩니다.\n",
    "print(train.shape)\n",
    "\n",
    "# .head()로 train 데이터의 상위 5개를 띄우되,\n",
    "# datetime 컬럼과 요일 컬럼만 출력합니다.\n",
    "train[[\"datetime\", \"datetime-dayofweek\", \"datetime-dayofweek(int)\"]].head()"
   ]
  },
  {
   "cell_type": "code",
   "execution_count": 414,
   "metadata": {
    "colab": {},
    "colab_type": "code",
    "id": "1hsTleuSGrhQ",
    "outputId": "02f58d11-2041-4609-a30e-948f4914f1d3"
   },
   "outputs": [
    {
     "name": "stdout",
     "output_type": "stream",
     "text": [
      "(6493, 17)\n"
     ]
    },
    {
     "data": {
      "text/html": [
       "<div>\n",
       "<style scoped>\n",
       "    .dataframe tbody tr th:only-of-type {\n",
       "        vertical-align: middle;\n",
       "    }\n",
       "\n",
       "    .dataframe tbody tr th {\n",
       "        vertical-align: top;\n",
       "    }\n",
       "\n",
       "    .dataframe thead th {\n",
       "        text-align: right;\n",
       "    }\n",
       "</style>\n",
       "<table border=\"1\" class=\"dataframe\">\n",
       "  <thead>\n",
       "    <tr style=\"text-align: right;\">\n",
       "      <th></th>\n",
       "      <th>datetime</th>\n",
       "      <th>datetime-dayofweek</th>\n",
       "      <th>datetime-dayofweek(int)</th>\n",
       "    </tr>\n",
       "  </thead>\n",
       "  <tbody>\n",
       "    <tr>\n",
       "      <th>0</th>\n",
       "      <td>2011-01-20 00:00:00</td>\n",
       "      <td>Thursday</td>\n",
       "      <td>3</td>\n",
       "    </tr>\n",
       "    <tr>\n",
       "      <th>1</th>\n",
       "      <td>2011-01-20 01:00:00</td>\n",
       "      <td>Thursday</td>\n",
       "      <td>3</td>\n",
       "    </tr>\n",
       "    <tr>\n",
       "      <th>2</th>\n",
       "      <td>2011-01-20 02:00:00</td>\n",
       "      <td>Thursday</td>\n",
       "      <td>3</td>\n",
       "    </tr>\n",
       "    <tr>\n",
       "      <th>3</th>\n",
       "      <td>2011-01-20 03:00:00</td>\n",
       "      <td>Thursday</td>\n",
       "      <td>3</td>\n",
       "    </tr>\n",
       "    <tr>\n",
       "      <th>4</th>\n",
       "      <td>2011-01-20 04:00:00</td>\n",
       "      <td>Thursday</td>\n",
       "      <td>3</td>\n",
       "    </tr>\n",
       "  </tbody>\n",
       "</table>\n",
       "</div>"
      ],
      "text/plain": [
       "             datetime datetime-dayofweek  datetime-dayofweek(int)\n",
       "0 2011-01-20 00:00:00           Thursday                        3\n",
       "1 2011-01-20 01:00:00           Thursday                        3\n",
       "2 2011-01-20 02:00:00           Thursday                        3\n",
       "3 2011-01-20 03:00:00           Thursday                        3\n",
       "4 2011-01-20 04:00:00           Thursday                        3"
      ]
     },
     "execution_count": 414,
     "metadata": {},
     "output_type": "execute_result"
    }
   ],
   "source": [
    "# train 데이터와 마찬가지로 test 데이터의 datetime 컬럼에서 요일(dayofweek)정보를 뽑아냅니다.\n",
    "test[\"datetime-dayofweek\"] = test[\"datetime\"].dt.day_name()\n",
    "\n",
    "# 마찬가지로 숫자화된 요일 정보도 같이 가져옵니다.\n",
    "test[\"datetime-dayofweek(int)\"] = test[\"datetime\"].dt.dayofweek\n",
    "\n",
    "# test 변수에 할당된 데이터의 행렬 사이즈를 출력합니다.\n",
    "# 출력은 (row, column) 으로 표시됩니다.\n",
    "print(test.shape)\n",
    "\n",
    "# .head()로 test 데이터의 상위 5개를 띄우되,\n",
    "# datetime 컬럼과 요일(datetime-dayofweek) 컬럼만 출력합니다.\n",
    "test[[\"datetime\", \"datetime-dayofweek\", \"datetime-dayofweek(int)\"]].head()"
   ]
  },
  {
   "cell_type": "markdown",
   "metadata": {
    "colab_type": "text",
    "id": "AWTc5mjhGrhS"
   },
   "source": [
    "### Q5-1) 요일(datetime-dayofweek) 컬럼을 시각화 하기 전에 어떤 그림이 나올 것으로 예상하시나요?\n",
    "\n",
    "주의: 이 내용은 반드시 시각화를 하기 전에 작성하셔야 합니다. 그래야 시각화 결과와 본인의 아이디어를 비교해서 차이를 발견할 수 있습니다.\n",
    "\n",
    "1. 사람의 생활 패턴은 주중이냐/주말이냐에 따라 극명하게 달라집니다. 그런 의미에서 요일(```datetime-dayofweek```) 컬럼을 시각화하면 어떤 요일이냐에 따라서 자전거 대여량이 다르게 시각화될 것 같습니다.\n",
    "2. 하지만 비슷한 성향을 가진 근무일(```workingday```, 사실상 주중/주말을 나타냅니다) 컬럼과는 달리, 요일(```datetime-dayofweek```) 컬럼은 같은 주말이라고 하더라도 토/일의 차이, 같은 주중이라고 하더라도 월/수/금의 차이가 드러날 것입니다.\n",
    "3. 그리고 사람의 구체적인 생활 패턴에 따라 자전거의 대여량이 달라질 것으로 예상합니다. 가령 출퇴근을 하는 날이냐(출퇴근 시간에 많이 빌릴 것으로 예상합니다), 주말에 노는 날이냐(주중 낮에 많이 빌릴 것으로 예상합니다)에 따라 자전거 대여량이 달라질 것입니다.\n",
    "\n",
    "위 예상과 실제 데이터가 일치하는지 시각화를 통해 분석해보도록 하겠습니다."
   ]
  },
  {
   "cell_type": "markdown",
   "metadata": {
    "colab_type": "text",
    "id": "MxEidZgKGrhT"
   },
   "source": [
    "### datetime-dayofweek 컬럼 시각화하기"
   ]
  },
  {
   "cell_type": "code",
   "execution_count": 415,
   "metadata": {
    "colab": {},
    "colab_type": "code",
    "id": "pxl2ubSLGrhT",
    "outputId": "f280a68b-0551-4176-cd33-f39a14f9a787"
   },
   "outputs": [
    {
     "data": {
      "text/plain": [
       "<matplotlib.axes._subplots.AxesSubplot at 0x245cc722088>"
      ]
     },
     "execution_count": 415,
     "metadata": {},
     "output_type": "execute_result"
    },
    {
     "data": {
      "image/png": "[encoded data removed]",
      "text/plain": [
       "<Figure size 1296x288 with 1 Axes>"
      ]
     },
     "metadata": {
      "needs_background": "light"
     },
     "output_type": "display_data"
    }
   ],
   "source": [
    "# matplotlib를 활용해 그래프의 사이즈를 가로로 길게(18) 늘리고, 세로로 짧게(4) 줄입니다.\n",
    "plt.figure(figsize = (18, 4))\n",
    "\n",
    "# seaborn의 pointplot으로 시간(datetime-hour)에 따른 자전거 변화량을 시각화합니다.\n",
    "sns.pointplot(data=train, x=\"datetime-hour\", y=\"count\")"
   ]
  },
  {
   "cell_type": "code",
   "execution_count": 416,
   "metadata": {
    "colab": {},
    "colab_type": "code",
    "id": "MpR3kPIDGrhV",
    "outputId": "a7d31f28-264b-42c7-caa4-f6f80e2fff8f"
   },
   "outputs": [
    {
     "data": {
      "text/plain": [
       "<matplotlib.axes._subplots.AxesSubplot at 0x245cd2fa988>"
      ]
     },
     "execution_count": 416,
     "metadata": {},
     "output_type": "execute_result"
    },
    {
     "data": {
      "image/png": "[encoded data removed]",
      "text/plain": [
       "<Figure size 1296x288 with 1 Axes>"
      ]
     },
     "metadata": {
      "needs_background": "light"
     },
     "output_type": "display_data"
    }
   ],
   "source": [
    "# matplotlib를 활용해 그래프의 사이즈를 가로로 길게(18) 늘리고, 세로로 짧게(4) 줄입니다.\n",
    "plt.figure(figsize = (18, 4))\n",
    "\n",
    "# seaborn의 pointplot으로 근무일 여부(workingday)와 시간(datetime-hour)에 따른 자전거 변화량을 시각화합니다.\n",
    "# 확실히 근무하는 날과 근무하지 않는 날의 자전거 대여량이 명확하게 차이가 납니다.\n",
    "sns.pointplot(data=train, x=\"datetime-hour\", y=\"count\", hue=\"workingday\")"
   ]
  },
  {
   "cell_type": "code",
   "execution_count": 417,
   "metadata": {
    "colab": {},
    "colab_type": "code",
    "id": "VVfL4aBMGrhX",
    "outputId": "8c27c32a-8586-465a-9395-0ae2ca98d825"
   },
   "outputs": [
    {
     "data": {
      "text/plain": [
       "<matplotlib.axes._subplots.AxesSubplot at 0x245cc7d8888>"
      ]
     },
     "execution_count": 417,
     "metadata": {},
     "output_type": "execute_result"
    },
    {
     "data": {
      "image/png": "[encoded data removed]",
      "text/plain": [
       "<Figure size 1296x288 with 1 Axes>"
      ]
     },
     "metadata": {
      "needs_background": "light"
     },
     "output_type": "display_data"
    }
   ],
   "source": [
    "# matplotlib를 활용해 그래프의 사이즈를 가로로 길게(18) 늘리고, 세로로 짧게(4) 줄입니다.\n",
    "plt.figure(figsize = (18, 4))\n",
    "\n",
    "# 시각화할 때 요일의 순서를 명확하게 지정하기 위해, 월~일까지의 영어 호칭을 리스트로 담습니다.\n",
    "# 이를 dayofweek_order라는 이름의 변수에 할당합니다.\n",
    "dayofweek_order = [\"Monday\", \"Tuesday\", \"Wednesday\", \"Thursday\", \"Friday\", \"Saturday\", \"Sunday\"]\n",
    "\n",
    "# seaborn의 pointplot으로 요일(datetime-dayofweek)과 시간(datetime-hour)에 따른 자전거 변화량을 시각화합니다.\n",
    "# 여기서 hue의 값을 dayofweek_order에 지정된 순서대로 출력하게 합니다.\n",
    "sns.pointplot(data=train, x=\"datetime-hour\", y=\"count\", hue=\"datetime-dayofweek\", hue_order=dayofweek_order)"
   ]
  },
  {
   "cell_type": "markdown",
   "metadata": {
    "colab_type": "text",
    "id": "mknKUPo1GrhZ"
   },
   "source": [
    "### Q5-2) 이 시각화로 발견할 수 있는 사실은 어떤 게 있을까요? 그리고 앞서 우리의 예상과 어떤 차이가 있나요?\n",
    "\n",
    "확실히 주중/주말을 나누는 ```workingday``` 컬럼에 비해, 구체적인 요일을 나타내는 ```datetime-dayofweek``` 컬럼이 더 디테일한 자전거 변화량을 나타낸다는 사실을 알 수 있습니다. 구체적으로는\n",
    "\n",
    "1. 같은 주말이라고 하더라도 일요일이 토요일보다 자전거 대여량이 낮습니다. 이는 추측컨데 일요일은 다음 날이 근무일(월요일)이므로, 레크레이션이나 액티비티를 즐기고 싶다면 토요일에 즐기고 싶다는 사실이 드러난게 아닐까 생각합니다.\n",
    "1. 비슷한 관점에서, 같은 주중이라도 금요일이 퇴근하는 시간대(18시 ~ 20시)에 자전거 대여량이 다른 주중에 비해 낮습니다. 이는 추측컨데 다음 날이 휴일(토요일)이므로, 금요일 밤을 즐기기 위해 차를 몰고 왔거나, 음주 후 차량이나 자전거를 이용할 수 없어서 다른 대중교통(버스, 지하철, 택시 등)을 이용한게 아닐까 생각합니다.\n",
    "1. 또한 금요일은 같은 주중이라고 하더라도 오후 시간대(10시 ~ 16시)에 자전거 대여량이 높습니다. 그리고 그 다음 높은 주중이 월요일입니다. 이는 금요일과 월요일은 주중임에도 불구하고 주말과 끼여있는 요일이기 때문에, 주말의 성향을 어느정도 타는게 아닐까 생각합니다.\n"
   ]
  },
  {
   "cell_type": "markdown",
   "metadata": {
    "colab_type": "text",
    "id": "MgzxUtZ0GrhZ"
   },
   "source": [
    "### Q5-3) 이 사실을 통해 어떻게 예측 모델을 개선할 수 있을까요? 최소 3가지 아이디어를 내보세요.\n",
    "\n",
    "1. 일단 요일(```datetime-dayofweek```) 컬럼을 머신러닝 모델에 집어넣으면, 머신러닝 모델이 요일에 따른 자전거 변화량의 차이를 이해하기 시작하면서 성능이 올라갈 것으로 예상합니다.\n",
    "2. 구체적으로는 같은 주말이라고 하더라도 토요일과 일요일의 차이, 같은 주중이라고 하더라도 수요일과 월요일의 차이를 이해하기 시작할 것입니다. 이런 점에서 근무일(```workingday```)컬럼만 넣는 것 보다 요일(```datetime-dayofweek```) 컬럼을 넣는 것이 더 좋은 성능을 낼 것입니다.\n",
    "3. 그리고 이 데이터는 연속적(continuous) 데이터가 아닌 범주형(categorical) 데이터입니다. 그 의미는, 이 데이터를 그대로 넣지 않고 타이타닉 경진대회의 선착장(```Embarked```) 컬럼과 같이 One Hot Encoding을 해서 넣어주는게 머신러닝 알고리즘이 이해하기 쉽고, 더 좋은 성능을 낼 것으로 예상합니다."
   ]
  },
  {
   "cell_type": "markdown",
   "metadata": {
    "colab_type": "text",
    "id": "_j21ZcOJGrhZ"
   },
   "source": [
    "### casual & registered\n",
    "\n",
    "이번에 분석할 데이터는 비회원과 회원을 나타내는 데이터, ```casual```과 ```registered``` 컬럼입니다. 이 컬럼을 자전거 대여량을 나타내는 ```count``` 컬럼과 거의 유사합니다. (실제로 ```casual``` 컬럼값과 ```registered``` 컬럼값을 더하면 ```count``` 컬럼값이 나옵니다)\n",
    "\n",
    "하지만 아쉽게도 이 컬럼은 train 데이터에는 있지만 test 데이터에는 없습니다. 그러므로 이 데이터를 머신러닝 모델의 feature로 쓰는건 불가능합니다. 그렇다고 label로 쓰기에는, 우리가 맞춰야 하는 정답(=label)은 ```count``` 컬럼이죠. 하지만 그럼에도 불구하고, 이 두 개의 컬럼은 ```count``` 컬럼과 밀접한 연관이 있기 때문에, 잘 분석하고 이용한다면 머신러닝 모델의 성능을 크게 끌어올릴 수 있을 것 같습니다."
   ]
  },
  {
   "cell_type": "markdown",
   "metadata": {
    "colab_type": "text",
    "id": "rwtADrI4Grha"
   },
   "source": [
    "### Q6-1) ```casual```과 ```registered```  컬럼을 시각화 하기 전에 어떤 그림이 나올 것으로 예상하시나요?\n",
    "\n",
    "주의: 이 내용은 반드시 시각화를 하기 전에 작성하셔야 합니다. 그래야 시각화 결과와 본인의 아이디어를 비교해서 차이를 발견할 수 있습니다.\n",
    "\n",
    "1. 일단 두 개의 컬럼은 자전거 대여량을 나타내는 ```count``` 컬럼과 유사하므로, 시각화를 하면 거의 유사한 패턴이 나올 것으로 생각합니다.\n",
    "1. 하지만 두 회원간의 자전거 대여 성향이 다르기 때문에, 자전거를 대여하는 시기나 타이밍에 있어서 미묘하게 차이가 나지 않을까 합니다.\n",
    "1. 그리고 회원의 자전거 대여량에 해당하는 ```registered```에 비해, 비회원의 자전거 대여량에 해당하는 ```casual``` 컬럼이 더 패턴을 찾기 어려울 것입니다. (비회원이라는건 그만큼 비정기적으로 자전거를 대여하는 것이기 때문에) 이 점을 감안해서 분석하는게 좋을 것 같습니다.\n",
    "\n",
    "위 예상과 실제 데이터가 일치하는지 시각화를 통해 분석해보도록 하겠습니다."
   ]
  },
  {
   "cell_type": "markdown",
   "metadata": {
    "colab_type": "text",
    "id": "_gea7x9FGrha"
   },
   "source": [
    "### casual과 registered 컬럼 시각화하기"
   ]
  },
  {
   "cell_type": "code",
   "execution_count": 418,
   "metadata": {
    "colab": {},
    "colab_type": "code",
    "id": "xLdLj7y6Grhb",
    "outputId": "7922f15a-ec29-47ea-8de2-b9e3a318cb81"
   },
   "outputs": [
    {
     "data": {
      "text/plain": [
       "<matplotlib.axes._subplots.AxesSubplot at 0x245cc803fc8>"
      ]
     },
     "execution_count": 418,
     "metadata": {},
     "output_type": "execute_result"
    },
    {
     "data": {
      "image/png": "[encoded data removed]",
      "text/plain": [
       "<Figure size 1296x288 with 1 Axes>"
      ]
     },
     "metadata": {
      "needs_background": "light"
     },
     "output_type": "display_data"
    }
   ],
   "source": [
    "# matplotlib를 활용해 그래프의 사이즈를 가로로 길게(18) 늘리고, 세로로 짧게(4) 줄입니다.\n",
    "plt.figure(figsize = (18, 4))\n",
    "\n",
    "# seaborn의 pointplot으로 근무일 여부(workingday)와 시간(datetime-hour)에 따른 자전거 변화량을 시각화합니다.\n",
    "sns.pointplot(data=train, x=\"datetime-hour\", y=\"count\", hue=\"workingday\")"
   ]
  },
  {
   "cell_type": "code",
   "execution_count": 419,
   "metadata": {},
   "outputs": [
    {
     "data": {
      "text/html": [
       "<div>\n",
       "<style scoped>\n",
       "    .dataframe tbody tr th:only-of-type {\n",
       "        vertical-align: middle;\n",
       "    }\n",
       "\n",
       "    .dataframe tbody tr th {\n",
       "        vertical-align: top;\n",
       "    }\n",
       "\n",
       "    .dataframe thead th {\n",
       "        text-align: right;\n",
       "    }\n",
       "</style>\n",
       "<table border=\"1\" class=\"dataframe\">\n",
       "  <thead>\n",
       "    <tr style=\"text-align: right;\">\n",
       "      <th></th>\n",
       "      <th>casual</th>\n",
       "      <th>registered</th>\n",
       "      <th>count</th>\n",
       "    </tr>\n",
       "  </thead>\n",
       "  <tbody>\n",
       "    <tr>\n",
       "      <th>0</th>\n",
       "      <td>3</td>\n",
       "      <td>13</td>\n",
       "      <td>16</td>\n",
       "    </tr>\n",
       "    <tr>\n",
       "      <th>1</th>\n",
       "      <td>8</td>\n",
       "      <td>32</td>\n",
       "      <td>40</td>\n",
       "    </tr>\n",
       "    <tr>\n",
       "      <th>2</th>\n",
       "      <td>5</td>\n",
       "      <td>27</td>\n",
       "      <td>32</td>\n",
       "    </tr>\n",
       "    <tr>\n",
       "      <th>3</th>\n",
       "      <td>3</td>\n",
       "      <td>10</td>\n",
       "      <td>13</td>\n",
       "    </tr>\n",
       "    <tr>\n",
       "      <th>4</th>\n",
       "      <td>0</td>\n",
       "      <td>1</td>\n",
       "      <td>1</td>\n",
       "    </tr>\n",
       "    <tr>\n",
       "      <th>...</th>\n",
       "      <td>...</td>\n",
       "      <td>...</td>\n",
       "      <td>...</td>\n",
       "    </tr>\n",
       "    <tr>\n",
       "      <th>10881</th>\n",
       "      <td>7</td>\n",
       "      <td>329</td>\n",
       "      <td>336</td>\n",
       "    </tr>\n",
       "    <tr>\n",
       "      <th>10882</th>\n",
       "      <td>10</td>\n",
       "      <td>231</td>\n",
       "      <td>241</td>\n",
       "    </tr>\n",
       "    <tr>\n",
       "      <th>10883</th>\n",
       "      <td>4</td>\n",
       "      <td>164</td>\n",
       "      <td>168</td>\n",
       "    </tr>\n",
       "    <tr>\n",
       "      <th>10884</th>\n",
       "      <td>12</td>\n",
       "      <td>117</td>\n",
       "      <td>129</td>\n",
       "    </tr>\n",
       "    <tr>\n",
       "      <th>10885</th>\n",
       "      <td>4</td>\n",
       "      <td>84</td>\n",
       "      <td>88</td>\n",
       "    </tr>\n",
       "  </tbody>\n",
       "</table>\n",
       "<p>10886 rows × 3 columns</p>\n",
       "</div>"
      ],
      "text/plain": [
       "       casual  registered  count\n",
       "0           3          13     16\n",
       "1           8          32     40\n",
       "2           5          27     32\n",
       "3           3          10     13\n",
       "4           0           1      1\n",
       "...       ...         ...    ...\n",
       "10881       7         329    336\n",
       "10882      10         231    241\n",
       "10883       4         164    168\n",
       "10884      12         117    129\n",
       "10885       4          84     88\n",
       "\n",
       "[10886 rows x 3 columns]"
      ]
     },
     "execution_count": 419,
     "metadata": {},
     "output_type": "execute_result"
    }
   ],
   "source": [
    "train[['casual', 'registered', 'count']]"
   ]
  },
  {
   "cell_type": "markdown",
   "metadata": {},
   "source": [
    "## Casual과 registered는 feature로 쓸 수 없음. 테스트 데이터셋에 없기 때문"
   ]
  },
  {
   "cell_type": "code",
   "execution_count": 420,
   "metadata": {
    "colab": {},
    "colab_type": "code",
    "id": "Rj95qlqxGrhd",
    "outputId": "490dc40e-173c-4721-bc47-5f1f2104d741"
   },
   "outputs": [
    {
     "data": {
      "text/plain": [
       "<matplotlib.axes._subplots.AxesSubplot at 0x245ce0a76c8>"
      ]
     },
     "execution_count": 420,
     "metadata": {},
     "output_type": "execute_result"
    },
    {
     "data": {
      "image/png": "[encoded data removed]",
      "text/plain": [
       "<Figure size 1296x288 with 1 Axes>"
      ]
     },
     "metadata": {
      "needs_background": "light"
     },
     "output_type": "display_data"
    }
   ],
   "source": [
    "# matplotlib를 활용해 그래프의 사이즈를 가로로 길게(18) 늘리고, 세로로 짧게(4) 줄입니다.\n",
    "plt.figure(figsize = (18, 4))\n",
    "\n",
    "# seaborn의 pointplot으로 근무일 여부(workingday)와 시간(datetime-hour)에 따른 비회원의 자전거 변화량(casual)을 시각화합니다.\n",
    "sns.pointplot(data=train, x=\"datetime-hour\", y=\"casual\", hue=\"workingday\")"
   ]
  },
  {
   "cell_type": "code",
   "execution_count": 421,
   "metadata": {
    "colab": {},
    "colab_type": "code",
    "id": "Dn5HCIrHGrhf",
    "outputId": "89db18a4-28d2-4b68-cb3c-246dc16a0f55"
   },
   "outputs": [
    {
     "data": {
      "text/plain": [
       "<matplotlib.axes._subplots.AxesSubplot at 0x245ce16d9c8>"
      ]
     },
     "execution_count": 421,
     "metadata": {},
     "output_type": "execute_result"
    },
    {
     "data": {
      "image/png": "[encoded data removed]",
      "text/plain": [
       "<Figure size 1296x288 with 1 Axes>"
      ]
     },
     "metadata": {
      "needs_background": "light"
     },
     "output_type": "display_data"
    }
   ],
   "source": [
    "# matplotlib를 활용해 그래프의 사이즈를 가로로 길게(18) 늘리고, 세로로 짧게(4) 줄입니다.\n",
    "plt.figure(figsize = (18, 4))\n",
    "\n",
    "# seaborn의 pointplot으로 근무일 여부(workingday)와 시간(datetime-hour)에 따른 회원의 자전거 변화량(registered)을 시각화합니다.\n",
    "sns.pointplot(data=train, x=\"datetime-hour\", y=\"registered\", hue=\"workingday\")"
   ]
  },
  {
   "cell_type": "markdown",
   "metadata": {
    "colab_type": "text",
    "id": "X5SeiBHFGrhg"
   },
   "source": [
    "### Q6-2) 이 시각화로 발견할 수 있는 사실은 어떤 게 있을까요? 그리고 앞서 우리의 예상과 어떤 차이가 있나요?\n",
    "\n",
    "1. 시간(```datetime-hour```)에 따른 자전거 대여량의 변화량을 비교해보니, 비회원과 회원의 차이가 극명하게 난다는 사실을 알 수 있습니다.\n",
    "2. 구체적으로는, 회원(```registered```)은 주로 출퇴근할때 자전거를 빌리고, 비회원(```casual```)은 주로 주말에 놀 때 자전거를 빌린다는 사실을 알 수 있습니다.\n",
    "3. 그리고 시각화의 세로축(y축)을 보면 비회원(```casual```)보다는 회원(```registered```)이 자전거를 더 많이 빌린다는 사실을 알 수 있습니다."
   ]
  },
  {
   "cell_type": "markdown",
   "metadata": {
    "colab_type": "text",
    "id": "elnnSlJBGrhh"
   },
   "source": [
    "### Q6-3) 이 사실을 통해 어떻게 예측 모델을 개선할 수 있을까요? 최소 3가지 아이디어를 내보세요.\n",
    "\n",
    "1. 일단 아쉽게도, 비회원(```casual```)과 회원(```registered```) 정보는 test 데이터에 넣을 수 없기 때문에 feature로 활용할 수 없습니다.\n",
    "2. 하지만 다른 방식을 통해서 유사하게 이 데이터를 쓸 수 있을 것 같습니다. 가령 머신러닝 모델로 자전거 대여량을 나타내는(```count```) 컬럼을 예측하는게 아닌, 비회원(```casual```)과 회원(```registered```) 컬럼을 각각 label로 간주하고 예측한 뒤 이를 더하는 것도 방법입니다.\n",
    "3. 내지는 비회원(```casual```) 컬럼의 값이 작고 패턴을 예측하기 어렵기 때문에, 비회원(```casual```), 회원(```registered```), 그리고 ```count``` 컬럼까지 총 3개를 동시에 예측해서 이를 섞어쓰는 것도 가능합니다."
   ]
  },
  {
   "cell_type": "markdown",
   "metadata": {
    "colab_type": "text",
    "id": "SxEeTeK4Grhh"
   },
   "source": [
    "### datetime-year & datetime-month"
   ]
  },
  {
   "cell_type": "markdown",
   "metadata": {
    "colab_type": "text",
    "id": "59E4jfjDGrhh"
   },
   "source": [
    "이번에 추가로 분석할 데이터는 연도와 월을 나타내는 데이터, ```datetime-year```와 ```datetime-month``` 컬럼입니다. 이 컬럼은 앞서 Q1)에서 분석한 적이 있지만, 이번 기회에 더 깊게 살펴보도록 하겠습니다 하겠습니다. 특히나 이 두 개의 컬럼에서 보고 싶은 것은 이 경진대회를 주최한 자전거 대여 스타트업 [Capital Bikeshare](https://www.capitalbikeshare.com/)의 트렌드입니다. 자전거 대여량의 트렌드가 상승하는지, 하강하는지를 살펴본 뒤 이를 머신러닝 알고리즘에 적용할 방법을 살펴보겠습니다."
   ]
  },
  {
   "cell_type": "markdown",
   "metadata": {
    "colab_type": "text",
    "id": "g4zcjb73Grhi"
   },
   "source": [
    "### Q7-1) ```datetime-year```와 ```datetime-month```  컬럼을 시각화 하기 전에 어떤 그림이 나올 것으로 예상하시나요?\n",
    "\n",
    "주의: 이 내용은 반드시 시각화를 하기 전에 작성하셔야 합니다. 그래야 시각화 결과와 본인의 아이디어를 비교해서 차이를 발견할 수 있습니다.\n",
    "\n",
    "1. 여기서 연도(```datetime-year```)의 경우는 전반적인 트렌드가 상승하는지 하강하는지, 월(```datetime-month```)의 경우에는 트렌드와 더불어 계절(봄, 여름, 가을, 겨울)을 볼 수 있을 것입니다.\n",
    "1. 그리고 연도와 월을 따로 보는 것 보다, 붙여서 보는 것이 트렌드의 디테일함을 보는데 더 유리할 것 같습니다.\n",
    "\n",
    "위 예상과 실제 데이터가 일치하는지 시각화를 통해 분석해보도록 하겠습니다."
   ]
  },
  {
   "cell_type": "markdown",
   "metadata": {
    "colab_type": "text",
    "id": "woRSoGZyGrhi"
   },
   "source": [
    "### ```datetime-year```와 ```datetime-month``` 컬럼 시각화하기"
   ]
  },
  {
   "cell_type": "code",
   "execution_count": 422,
   "metadata": {
    "colab": {},
    "colab_type": "code",
    "id": "aUEJuD5JGrhi",
    "outputId": "f9163925-db01-4cca-c38e-d90c34d37006"
   },
   "outputs": [
    {
     "name": "stdout",
     "output_type": "stream",
     "text": [
      "(10886, 25)\n"
     ]
    },
    {
     "data": {
      "text/html": [
       "<div>\n",
       "<style scoped>\n",
       "    .dataframe tbody tr th:only-of-type {\n",
       "        vertical-align: middle;\n",
       "    }\n",
       "\n",
       "    .dataframe tbody tr th {\n",
       "        vertical-align: top;\n",
       "    }\n",
       "\n",
       "    .dataframe thead th {\n",
       "        text-align: right;\n",
       "    }\n",
       "</style>\n",
       "<table border=\"1\" class=\"dataframe\">\n",
       "  <thead>\n",
       "    <tr style=\"text-align: right;\">\n",
       "      <th></th>\n",
       "      <th>datetime</th>\n",
       "      <th>datetime-year_month</th>\n",
       "    </tr>\n",
       "  </thead>\n",
       "  <tbody>\n",
       "    <tr>\n",
       "      <th>0</th>\n",
       "      <td>2011-01-01 00:00:00</td>\n",
       "      <td>2011-1</td>\n",
       "    </tr>\n",
       "    <tr>\n",
       "      <th>1</th>\n",
       "      <td>2011-01-01 01:00:00</td>\n",
       "      <td>2011-1</td>\n",
       "    </tr>\n",
       "    <tr>\n",
       "      <th>2</th>\n",
       "      <td>2011-01-01 02:00:00</td>\n",
       "      <td>2011-1</td>\n",
       "    </tr>\n",
       "    <tr>\n",
       "      <th>3</th>\n",
       "      <td>2011-01-01 03:00:00</td>\n",
       "      <td>2011-1</td>\n",
       "    </tr>\n",
       "    <tr>\n",
       "      <th>4</th>\n",
       "      <td>2011-01-01 04:00:00</td>\n",
       "      <td>2011-1</td>\n",
       "    </tr>\n",
       "  </tbody>\n",
       "</table>\n",
       "</div>"
      ],
      "text/plain": [
       "             datetime datetime-year_month\n",
       "0 2011-01-01 00:00:00              2011-1\n",
       "1 2011-01-01 01:00:00              2011-1\n",
       "2 2011-01-01 02:00:00              2011-1\n",
       "3 2011-01-01 03:00:00              2011-1\n",
       "4 2011-01-01 04:00:00              2011-1"
      ]
     },
     "execution_count": 422,
     "metadata": {},
     "output_type": "execute_result"
    }
   ],
   "source": [
    "# 연도(datetime-year)와 월(datetime-month)를 앞뒤로 붙인 datetime-year_month라는 이름의 컬럼을 추가합니다.\n",
    "# 이 컬럼에는 2011년 1월부터 2012년 12월까지 총 24개의 값이 들어가있습니다.\n",
    "train[\"datetime-year_month\"] = train[\"datetime-year\"].astype('str') + '-' + train[\"datetime-month\"].astype('str')\n",
    "\n",
    "# train 변수에 할당된 데이터의 행렬 사이즈를 출력합니다.\n",
    "# 출력은 (row, column) 으로 표시됩니다.\n",
    "print(train.shape)\n",
    "\n",
    "# head()로 train 데이터의 datetime과 datetime-year_month컬럼의 상위 5개를 띄웁니다.\n",
    "train[[\"datetime\", \"datetime-year_month\"]].head()"
   ]
  },
  {
   "cell_type": "code",
   "execution_count": 423,
   "metadata": {
    "colab": {},
    "colab_type": "code",
    "id": "i-exT7wmGrhk",
    "outputId": "130a6039-bfbf-4ce5-c441-9674935f70e3"
   },
   "outputs": [
    {
     "data": {
      "text/plain": [
       "<matplotlib.axes._subplots.AxesSubplot at 0x245ce5bca48>"
      ]
     },
     "execution_count": 423,
     "metadata": {},
     "output_type": "execute_result"
    },
    {
     "data": {
      "image/png": "[encoded data removed]",
      "text/plain": [
       "<Figure size 1296x288 with 1 Axes>"
      ]
     },
     "metadata": {
      "needs_background": "light"
     },
     "output_type": "display_data"
    }
   ],
   "source": [
    "# matplotlib를 활용해 그래프의 사이즈를 가로로 길게(18) 늘리고, 세로로 짧게(4) 줄입니다.\n",
    "plt.figure(figsize = (18, 4))\n",
    "\n",
    "# seaborn의 barplot으로 2011년 1월부터 2012년 12월까지의 자젼거 대여량의 변화량을 시각화합니다.\n",
    "sns.barplot(data=train, x=\"datetime-year_month\", y=\"count\")"
   ]
  },
  {
   "cell_type": "markdown",
   "metadata": {
    "colab_type": "text",
    "id": "MWRU7oCFGrhm"
   },
   "source": [
    "### Q7-2) 이 시각화로 발견할 수 있는 사실은 어떤 게 있을까요? 그리고 앞서 우리의 예상과 어떤 차이가 있나요?\n",
    "\n",
    "1. 가장 처음 알 수 있는 것은, 이 회사가 전반적으로 성장하고 있다는 것입니다. (=자전거 대여량이 올라감) 2011년도 1월에 비해, 2012년도 12월에는 자전거 대여량이 현격하게 증가하는 것이 보입니다.\n",
    "2. 그리고 월(```datetime-month```)만 놓고 보면 얼핏 12월이 1월보다 자전거 대여량이 높아 보였지만, 연도와 월을 합쳐서 보니 12월이 1월보다 자전거 대여량이 높은 이유는 트렌드의 차이라는 것을 알 수 있습니다. 즉, 12월이라고 자전거를 1월보다 많이 빌려야 하는 특별한 이유는 보이지 않습니다."
   ]
  },
  {
   "cell_type": "markdown",
   "metadata": {
    "colab_type": "text",
    "id": "hTxIkmmiGrhm"
   },
   "source": [
    "### Q7-3) 이 사실을 통해 어떻게 예측 모델을 개선할 수 있을까요?\n",
    "\n",
    "1. 가장 큰 사실은, 머신러닝 모델이 이 트렌드를 파악하기 어렵다는 것입니다. 가령 머신러닝 모델 입장에서는 월(```datetime-month```)을 feature로 받았을 경우 단순히 \"12월이 1월보다 자전거 대여량이 높으니 12월일 경우는 자전거 대여량을 높게 예측해야겠다.\"라고 오해할 수도 있습니다.\n",
    "2. 그런 의미에서, 이 트렌드의 개념을 반영해줄 필요가 있습니다. 이는 여러가지 방법이 있는데, 1) 트렌드에 맞게 자전거 대여량(```count```)을 보정해주거나, 2) 2011년 1월부터 2012년 12월까지의 24개의 기간을 머신러닝 모델에 넣어주는(즉, 연과 월을 따로 넣지 않고 붙여서 함께 넣어주는) 방법이 있을 것으로 보입니다.\n",
    "3. 아니면 정 반대로, 이 트렌드를 이해하지 못하고 오해할 소지가 있다면 이를 사전에 배제해주는 것도 방법입니다. 이를 위한 가장 쉬운 방법은 월(```datetime-month```)을 feature에서 제거해주는 것입니다."
   ]
  },
  {
   "cell_type": "markdown",
   "metadata": {},
   "source": [
    "## count"
   ]
  },
  {
   "cell_type": "code",
   "execution_count": 424,
   "metadata": {},
   "outputs": [
    {
     "data": {
      "text/plain": [
       "977"
      ]
     },
     "execution_count": 424,
     "metadata": {},
     "output_type": "execute_result"
    }
   ],
   "source": [
    "train['count'].max()"
   ]
  },
  {
   "cell_type": "code",
   "execution_count": 425,
   "metadata": {},
   "outputs": [
    {
     "data": {
      "text/plain": [
       "<matplotlib.axes._subplots.AxesSubplot at 0x245ce87d8c8>"
      ]
     },
     "execution_count": 425,
     "metadata": {},
     "output_type": "execute_result"
    },
    {
     "data": {
      "image/png": "[encoded data removed]",
      "text/plain": [
       "<Figure size 432x288 with 1 Axes>"
      ]
     },
     "metadata": {
      "needs_background": "light"
     },
     "output_type": "display_data"
    }
   ],
   "source": [
    "sns.distplot(train['count'])"
   ]
  },
  {
   "cell_type": "markdown",
   "metadata": {},
   "source": [
    "### RMSLE의  log때문에 Cliping 전략이 먹힌다고 하면, RandomForest를 학습시킬 때부터 log를 넣어줄 수 있음"
   ]
  },
  {
   "cell_type": "code",
   "execution_count": 426,
   "metadata": {},
   "outputs": [
    {
     "data": {
      "text/plain": [
       "<matplotlib.axes._subplots.AxesSubplot at 0x245ce886c88>"
      ]
     },
     "execution_count": 426,
     "metadata": {},
     "output_type": "execute_result"
    },
    {
     "data": {
      "image/png": "[encoded data removed]",
      "text/plain": [
       "<Figure size 432x288 with 1 Axes>"
      ]
     },
     "metadata": {
      "needs_background": "light"
     },
     "output_type": "display_data"
    }
   ],
   "source": [
    "sns.distplot(np.log(train['count'] + 1))"
   ]
  },
  {
   "cell_type": "markdown",
   "metadata": {
    "colab_type": "text",
    "id": "xer9456MGrhn"
   },
   "source": [
    "## Train\n",
    "\n",
    "이제 분석을 통해 발견한 인사이트를 활용해보겠습니다.\n",
    "\n",
    "이전 경진대회와 마찬가지로, 이번에도 머신러닝 알고리즘을 사용하겠습니다. 이번에도 변함없이 [지도학습(Supervised Learning)](http://solarisailab.com/archives/1785) 알고리즘을 사용할 계획이기 때문에, 데이터를 Label(맞춰야 하는 정답)과 Feature(Label을 맞추는데 도움이 되는 값들)로 나눌 필요가 있습니다.\n",
    "\n",
    "이번 경진대회에서는 다음의 컬럼들을 Feature와 Label로 활용할 것입니다.\n",
    "\n",
    "  * **Feature**: 1) 계절(```season```), 2) 공휴일(```holiday```), 3) 근무일(```workingday```), 4) 날씨(```weather```), 5) 온도(```temp```), 6) 체감 온도(```atemp```), 7) 습도(```humidity```), 8) 풍속(```windspeed```), 9) 연(```datetime-year```), 10) 시(```datetime-hour```), 11) 요일(```datetime-dayofweek(int)```) 입니다.\n",
    "  \n",
    "  * **Label**: 자전거 대여량(```count```)을 사용합니다.\n",
    "  \n",
    "이를 통해 train 데이터와 test 데이터를 다음의 세 가지 형태의 값으로 나눌 것입니다.\n",
    "\n",
    "  * **X_train**: train 데이터의 feature 입니다. 줄여서 X_train이라고 부릅니다.\n",
    "  * **X_test**: test 데이터의 feature 입니다. 마찬가지로 줄여서 X_test라고 부릅니다.\n",
    "  * **y_train**: train 데이터의 label 입니다. 마찬가지로 줄여서 y_train이라고 부릅니다."
   ]
  },
  {
   "cell_type": "code",
   "execution_count": 427,
   "metadata": {
    "colab": {},
    "colab_type": "code",
    "id": "eYrMUTVBGrhn",
    "outputId": "6ab25c84-a613-476b-d072-c109b15e3f22"
   },
   "outputs": [
    {
     "data": {
      "text/plain": [
       "['season',\n",
       " 'holiday',\n",
       " 'workingday',\n",
       " 'weather',\n",
       " 'temp',\n",
       " 'atemp',\n",
       " 'humidity',\n",
       " 'windspeed',\n",
       " 'datetime-year',\n",
       " 'datetime-hour',\n",
       " 'datetime-dayofweek(int)']"
      ]
     },
     "execution_count": 427,
     "metadata": {},
     "output_type": "execute_result"
    }
   ],
   "source": [
    "# 총 11개의 컬럼을 feature를 지정합니다.\n",
    "# 이 11개의 컬럼명을 feature_names라는 이름의 파이썬 리스트(list)로 만들어 변수에 할당합니다.\n",
    "feature_names = [\"season\", \"holiday\", \"workingday\", \"weather\",\n",
    "                 \"temp\", \"atemp\", \"humidity\", \"windspeed\",\n",
    "                 \"datetime-year\", \"datetime-hour\", \"datetime-dayofweek(int)\"]\n",
    "feature_names"
   ]
  },
  {
   "cell_type": "code",
   "execution_count": 428,
   "metadata": {
    "colab": {},
    "colab_type": "code",
    "id": "HxfHTqtmGrhp",
    "outputId": "61792a33-72da-4e11-f427-cc5c4cbf1d1c"
   },
   "outputs": [
    {
     "name": "stdout",
     "output_type": "stream",
     "text": [
      "(10886, 11)\n"
     ]
    },
    {
     "data": {
      "text/html": [
       "<div>\n",
       "<style scoped>\n",
       "    .dataframe tbody tr th:only-of-type {\n",
       "        vertical-align: middle;\n",
       "    }\n",
       "\n",
       "    .dataframe tbody tr th {\n",
       "        vertical-align: top;\n",
       "    }\n",
       "\n",
       "    .dataframe thead th {\n",
       "        text-align: right;\n",
       "    }\n",
       "</style>\n",
       "<table border=\"1\" class=\"dataframe\">\n",
       "  <thead>\n",
       "    <tr style=\"text-align: right;\">\n",
       "      <th></th>\n",
       "      <th>season</th>\n",
       "      <th>holiday</th>\n",
       "      <th>workingday</th>\n",
       "      <th>weather</th>\n",
       "      <th>temp</th>\n",
       "      <th>atemp</th>\n",
       "      <th>humidity</th>\n",
       "      <th>windspeed</th>\n",
       "      <th>datetime-year</th>\n",
       "      <th>datetime-hour</th>\n",
       "      <th>datetime-dayofweek(int)</th>\n",
       "    </tr>\n",
       "  </thead>\n",
       "  <tbody>\n",
       "    <tr>\n",
       "      <th>0</th>\n",
       "      <td>1</td>\n",
       "      <td>0</td>\n",
       "      <td>0</td>\n",
       "      <td>1</td>\n",
       "      <td>9.84</td>\n",
       "      <td>14.395</td>\n",
       "      <td>81</td>\n",
       "      <td>0.0</td>\n",
       "      <td>2011</td>\n",
       "      <td>0</td>\n",
       "      <td>5</td>\n",
       "    </tr>\n",
       "    <tr>\n",
       "      <th>1</th>\n",
       "      <td>1</td>\n",
       "      <td>0</td>\n",
       "      <td>0</td>\n",
       "      <td>1</td>\n",
       "      <td>9.02</td>\n",
       "      <td>13.635</td>\n",
       "      <td>80</td>\n",
       "      <td>0.0</td>\n",
       "      <td>2011</td>\n",
       "      <td>1</td>\n",
       "      <td>5</td>\n",
       "    </tr>\n",
       "    <tr>\n",
       "      <th>2</th>\n",
       "      <td>1</td>\n",
       "      <td>0</td>\n",
       "      <td>0</td>\n",
       "      <td>1</td>\n",
       "      <td>9.02</td>\n",
       "      <td>13.635</td>\n",
       "      <td>80</td>\n",
       "      <td>0.0</td>\n",
       "      <td>2011</td>\n",
       "      <td>2</td>\n",
       "      <td>5</td>\n",
       "    </tr>\n",
       "    <tr>\n",
       "      <th>3</th>\n",
       "      <td>1</td>\n",
       "      <td>0</td>\n",
       "      <td>0</td>\n",
       "      <td>1</td>\n",
       "      <td>9.84</td>\n",
       "      <td>14.395</td>\n",
       "      <td>75</td>\n",
       "      <td>0.0</td>\n",
       "      <td>2011</td>\n",
       "      <td>3</td>\n",
       "      <td>5</td>\n",
       "    </tr>\n",
       "    <tr>\n",
       "      <th>4</th>\n",
       "      <td>1</td>\n",
       "      <td>0</td>\n",
       "      <td>0</td>\n",
       "      <td>1</td>\n",
       "      <td>9.84</td>\n",
       "      <td>14.395</td>\n",
       "      <td>75</td>\n",
       "      <td>0.0</td>\n",
       "      <td>2011</td>\n",
       "      <td>4</td>\n",
       "      <td>5</td>\n",
       "    </tr>\n",
       "  </tbody>\n",
       "</table>\n",
       "</div>"
      ],
      "text/plain": [
       "   season  holiday  workingday  weather  temp   atemp  humidity  windspeed  \\\n",
       "0       1        0           0        1  9.84  14.395        81        0.0   \n",
       "1       1        0           0        1  9.02  13.635        80        0.0   \n",
       "2       1        0           0        1  9.02  13.635        80        0.0   \n",
       "3       1        0           0        1  9.84  14.395        75        0.0   \n",
       "4       1        0           0        1  9.84  14.395        75        0.0   \n",
       "\n",
       "   datetime-year  datetime-hour  datetime-dayofweek(int)  \n",
       "0           2011              0                        5  \n",
       "1           2011              1                        5  \n",
       "2           2011              2                        5  \n",
       "3           2011              3                        5  \n",
       "4           2011              4                        5  "
      ]
     },
     "execution_count": 428,
     "metadata": {},
     "output_type": "execute_result"
    }
   ],
   "source": [
    "# feature_names를 활용해 train 데이터의 feature를 가져옵니다.\n",
    "# 이를 X_train이라는 이름의 변수에 할당합니다.\n",
    "X_train = train[feature_names]\n",
    "\n",
    "# X_train 변수에 할당된 데이터의 행렬 사이즈를 출력합니다.\n",
    "# 출력은 (row, column) 으로 표시됩니다.\n",
    "print(X_train.shape)\n",
    "\n",
    "# X_train 데이터의 상위 5개를 띄웁니다.\n",
    "X_train.head()"
   ]
  },
  {
   "cell_type": "code",
   "execution_count": 429,
   "metadata": {
    "colab": {},
    "colab_type": "code",
    "id": "fltjKgGRGrhr",
    "outputId": "2b6bf2fd-0779-4232-a52a-8643b42b74d8"
   },
   "outputs": [
    {
     "name": "stdout",
     "output_type": "stream",
     "text": [
      "(6493, 11)\n"
     ]
    },
    {
     "data": {
      "text/html": [
       "<div>\n",
       "<style scoped>\n",
       "    .dataframe tbody tr th:only-of-type {\n",
       "        vertical-align: middle;\n",
       "    }\n",
       "\n",
       "    .dataframe tbody tr th {\n",
       "        vertical-align: top;\n",
       "    }\n",
       "\n",
       "    .dataframe thead th {\n",
       "        text-align: right;\n",
       "    }\n",
       "</style>\n",
       "<table border=\"1\" class=\"dataframe\">\n",
       "  <thead>\n",
       "    <tr style=\"text-align: right;\">\n",
       "      <th></th>\n",
       "      <th>season</th>\n",
       "      <th>holiday</th>\n",
       "      <th>workingday</th>\n",
       "      <th>weather</th>\n",
       "      <th>temp</th>\n",
       "      <th>atemp</th>\n",
       "      <th>humidity</th>\n",
       "      <th>windspeed</th>\n",
       "      <th>datetime-year</th>\n",
       "      <th>datetime-hour</th>\n",
       "      <th>datetime-dayofweek(int)</th>\n",
       "    </tr>\n",
       "  </thead>\n",
       "  <tbody>\n",
       "    <tr>\n",
       "      <th>0</th>\n",
       "      <td>1</td>\n",
       "      <td>0</td>\n",
       "      <td>1</td>\n",
       "      <td>1</td>\n",
       "      <td>10.66</td>\n",
       "      <td>11.365</td>\n",
       "      <td>56</td>\n",
       "      <td>26.0027</td>\n",
       "      <td>2011</td>\n",
       "      <td>0</td>\n",
       "      <td>3</td>\n",
       "    </tr>\n",
       "    <tr>\n",
       "      <th>1</th>\n",
       "      <td>1</td>\n",
       "      <td>0</td>\n",
       "      <td>1</td>\n",
       "      <td>1</td>\n",
       "      <td>10.66</td>\n",
       "      <td>13.635</td>\n",
       "      <td>56</td>\n",
       "      <td>0.0000</td>\n",
       "      <td>2011</td>\n",
       "      <td>1</td>\n",
       "      <td>3</td>\n",
       "    </tr>\n",
       "    <tr>\n",
       "      <th>2</th>\n",
       "      <td>1</td>\n",
       "      <td>0</td>\n",
       "      <td>1</td>\n",
       "      <td>1</td>\n",
       "      <td>10.66</td>\n",
       "      <td>13.635</td>\n",
       "      <td>56</td>\n",
       "      <td>0.0000</td>\n",
       "      <td>2011</td>\n",
       "      <td>2</td>\n",
       "      <td>3</td>\n",
       "    </tr>\n",
       "    <tr>\n",
       "      <th>3</th>\n",
       "      <td>1</td>\n",
       "      <td>0</td>\n",
       "      <td>1</td>\n",
       "      <td>1</td>\n",
       "      <td>10.66</td>\n",
       "      <td>12.880</td>\n",
       "      <td>56</td>\n",
       "      <td>11.0014</td>\n",
       "      <td>2011</td>\n",
       "      <td>3</td>\n",
       "      <td>3</td>\n",
       "    </tr>\n",
       "    <tr>\n",
       "      <th>4</th>\n",
       "      <td>1</td>\n",
       "      <td>0</td>\n",
       "      <td>1</td>\n",
       "      <td>1</td>\n",
       "      <td>10.66</td>\n",
       "      <td>12.880</td>\n",
       "      <td>56</td>\n",
       "      <td>11.0014</td>\n",
       "      <td>2011</td>\n",
       "      <td>4</td>\n",
       "      <td>3</td>\n",
       "    </tr>\n",
       "  </tbody>\n",
       "</table>\n",
       "</div>"
      ],
      "text/plain": [
       "   season  holiday  workingday  weather   temp   atemp  humidity  windspeed  \\\n",
       "0       1        0           1        1  10.66  11.365        56    26.0027   \n",
       "1       1        0           1        1  10.66  13.635        56     0.0000   \n",
       "2       1        0           1        1  10.66  13.635        56     0.0000   \n",
       "3       1        0           1        1  10.66  12.880        56    11.0014   \n",
       "4       1        0           1        1  10.66  12.880        56    11.0014   \n",
       "\n",
       "   datetime-year  datetime-hour  datetime-dayofweek(int)  \n",
       "0           2011              0                        3  \n",
       "1           2011              1                        3  \n",
       "2           2011              2                        3  \n",
       "3           2011              3                        3  \n",
       "4           2011              4                        3  "
      ]
     },
     "execution_count": 429,
     "metadata": {},
     "output_type": "execute_result"
    }
   ],
   "source": [
    "# feature_names를 활용해 test 데이터의 feature를 가져옵니다.\n",
    "# 이를 X_test라는 이름의 변수에 할당합니다.\n",
    "X_test = test[feature_names]\n",
    "\n",
    "# X_test 변수에 할당된 데이터의 행렬 사이즈를 출력합니다.\n",
    "# 출력은 (row, column) 으로 표시됩니다.\n",
    "print(X_test.shape)\n",
    "\n",
    "# X_test 데이터의 상위 5개를 띄웁니다.\n",
    "X_test.head()"
   ]
  },
  {
   "cell_type": "code",
   "execution_count": 430,
   "metadata": {
    "colab": {},
    "colab_type": "code",
    "id": "1g26lZQ2Grhu",
    "outputId": "e5a34e7d-c501-4f4e-ada8-5ed8b1224315"
   },
   "outputs": [
    {
     "name": "stdout",
     "output_type": "stream",
     "text": [
      "(10886,)\n"
     ]
    },
    {
     "data": {
      "text/plain": [
       "0    16\n",
       "1    40\n",
       "2    32\n",
       "3    13\n",
       "4     1\n",
       "Name: count, dtype: int64"
      ]
     },
     "execution_count": 430,
     "metadata": {},
     "output_type": "execute_result"
    }
   ],
   "source": [
    "# train 데이터의 첫 번째 label에 해당하는 자전거 대여량(count)을 가져옵니다.\n",
    "# 이를 y_train_count이라는 이름의 변수에 할당합니다.\n",
    "y_train_count = train[\"count\"]\n",
    "\n",
    "# y_train_count 변수에 할당된 데이터의 사이즈를 출력합니다.\n",
    "# 출력은 (row, column) 으로 표시되나, column이 없기 때문에 (row,) 형태로 표시될 것입니다.\n",
    "print(y_train_count.shape)\n",
    "\n",
    "# y_train_count 데이터의 상위 5개를 띄웁니다.\n",
    "y_train_count.head()"
   ]
  },
  {
   "cell_type": "code",
   "execution_count": 431,
   "metadata": {
    "colab": {},
    "colab_type": "code",
    "id": "ii1UBE9BGrhw",
    "outputId": "691ca761-3c5c-4f5f-e399-f6352a274781"
   },
   "outputs": [
    {
     "name": "stdout",
     "output_type": "stream",
     "text": [
      "(10886,)\n"
     ]
    },
    {
     "data": {
      "text/plain": [
       "0    2.833213\n",
       "1    3.713572\n",
       "2    3.496508\n",
       "3    2.639057\n",
       "4    0.693147\n",
       "Name: count, dtype: float64"
      ]
     },
     "execution_count": 431,
     "metadata": {},
     "output_type": "execute_result"
    }
   ],
   "source": [
    "# 파이썬의 선형대수 패키지인 Numpy를 가져옵니다.\n",
    "# 이를 줄여서 np라는 축약어로 사용합니다.\n",
    "import numpy as np\n",
    "\n",
    "# y_train_count에 log + 1 연산을 합니다.\n",
    "# 이를 y_train_log_count라는 이름의 변수에 할당합니다.\n",
    "y_train_log_count = np.log(y_train_count + 1)\n",
    "\n",
    "# y_train_log_count 변수에 할당된 데이터의 사이즈를 출력합니다.\n",
    "# 출력은 (row, column) 으로 표시되나, column이 없기 때문에 (row,) 형태로 표시될 것입니다.\n",
    "print(y_train_log_count.shape)\n",
    "\n",
    "# y_train_log_count 데이터의 상위 5개를 띄웁니다.\n",
    "y_train_log_count.head()"
   ]
  },
  {
   "cell_type": "markdown",
   "metadata": {},
   "source": [
    "## casual과 registered를 feature로 쓸 수 없음. 테스트 데이터 셋에 없기 때문\n",
    "\n",
    "## 그래서 casual과 registered의 패턴을 파악할 수 없음\n",
    "\n",
    "## 해결책: casual과 registered를 label로 사용하여 예측함\n",
    "\n",
    "## casual만 예측하면 casual만의 패턴을 파악할 수 있고, registered만 예측하면 registered만의 패턴을 파악할 수 있음"
   ]
  },
  {
   "cell_type": "code",
   "execution_count": 432,
   "metadata": {
    "colab": {},
    "colab_type": "code",
    "id": "A3TiJxkDGrhz",
    "outputId": "96979828-97bf-48a1-fd76-4f3b04e9ae70"
   },
   "outputs": [
    {
     "name": "stdout",
     "output_type": "stream",
     "text": [
      "(10886,)\n"
     ]
    },
    {
     "data": {
      "text/plain": [
       "0    3\n",
       "1    8\n",
       "2    5\n",
       "3    3\n",
       "4    0\n",
       "Name: casual, dtype: int64"
      ]
     },
     "execution_count": 432,
     "metadata": {},
     "output_type": "execute_result"
    }
   ],
   "source": [
    "# train 데이터의 두 번째 label에 해당하는 비회원의 자전거 대여량(casual)을 가져옵니다.\n",
    "# 이를 y_train_casual이라는 이름의 변수에 할당합니다.\n",
    "y_train_casual = train[\"casual\"]\n",
    "\n",
    "# y_train_casual 변수에 할당된 데이터의 사이즈를 출력합니다.\n",
    "# 출력은 (row, column) 으로 표시되나, column이 없기 때문에 (row,) 형태로 표시될 것입니다.\n",
    "print(y_train_casual.shape)\n",
    "\n",
    "# y_train_casual 데이터의 상위 5개를 띄웁니다.\n",
    "y_train_casual.head()"
   ]
  },
  {
   "cell_type": "code",
   "execution_count": 433,
   "metadata": {
    "colab": {},
    "colab_type": "code",
    "id": "qz958oSJGrh1",
    "outputId": "12a6ba42-bb69-44c4-d306-2fc157e2de8c"
   },
   "outputs": [
    {
     "name": "stdout",
     "output_type": "stream",
     "text": [
      "(10886,)\n"
     ]
    },
    {
     "data": {
      "text/plain": [
       "0    1.386294\n",
       "1    2.197225\n",
       "2    1.791759\n",
       "3    1.386294\n",
       "4    0.000000\n",
       "Name: casual, dtype: float64"
      ]
     },
     "execution_count": 433,
     "metadata": {},
     "output_type": "execute_result"
    }
   ],
   "source": [
    "# y_train_casual에 log + 1 연산을 합니다.\n",
    "# 이를 y_train_log_casual라는 이름의 변수에 할당합니다.\n",
    "y_train_log_casual = np.log(y_train_casual + 1)\n",
    "\n",
    "# y_train_log_casual 변수에 할당된 데이터의 사이즈를 출력합니다.\n",
    "# 출력은 (row, column) 으로 표시되나, column이 없기 때문에 (row,) 형태로 표시될 것입니다.\n",
    "print(y_train_log_casual.shape)\n",
    "\n",
    "# y_train_log_casual 데이터의 상위 5개를 띄웁니다.\n",
    "y_train_log_casual.head()"
   ]
  },
  {
   "cell_type": "code",
   "execution_count": 434,
   "metadata": {
    "colab": {},
    "colab_type": "code",
    "id": "eykqFPJmGrh3",
    "outputId": "171170d9-2973-4f9f-d112-e7df574a2476"
   },
   "outputs": [
    {
     "name": "stdout",
     "output_type": "stream",
     "text": [
      "(10886,)\n"
     ]
    },
    {
     "data": {
      "text/plain": [
       "0    13\n",
       "1    32\n",
       "2    27\n",
       "3    10\n",
       "4     1\n",
       "Name: registered, dtype: int64"
      ]
     },
     "execution_count": 434,
     "metadata": {},
     "output_type": "execute_result"
    }
   ],
   "source": [
    "# train 데이터의 세 번째 label에 해당하는 회원의 자전거 대여량(registered)을 가져옵니다.\n",
    "# 이를 y_train_registered이라는 이름의 변수에 할당합니다.\n",
    "y_train_registered = train[\"registered\"]\n",
    "\n",
    "# y_train_registered 변수에 할당된 데이터의 사이즈를 출력합니다.\n",
    "# 출력은 (row, column) 으로 표시되나, column이 없기 때문에 (row,) 형태로 표시될 것입니다.\n",
    "print(y_train_registered.shape)\n",
    "\n",
    "# y_train_registered 데이터의 상위 5개를 띄웁니다.\n",
    "y_train_registered.head()"
   ]
  },
  {
   "cell_type": "code",
   "execution_count": 435,
   "metadata": {
    "colab": {},
    "colab_type": "code",
    "id": "cS8oY8sBGrh7",
    "outputId": "050cef08-133f-4248-f619-a7aa40e03054"
   },
   "outputs": [
    {
     "name": "stdout",
     "output_type": "stream",
     "text": [
      "(10886,)\n"
     ]
    },
    {
     "data": {
      "text/plain": [
       "0    2.639057\n",
       "1    3.496508\n",
       "2    3.332205\n",
       "3    2.397895\n",
       "4    0.693147\n",
       "Name: registered, dtype: float64"
      ]
     },
     "execution_count": 435,
     "metadata": {},
     "output_type": "execute_result"
    }
   ],
   "source": [
    "# y_train_registered에 log + 1 연산을 합니다.\n",
    "# 이를 y_train_log_registered라는 이름의 변수에 할당합니다.\n",
    "y_train_log_registered = np.log(y_train_registered + 1)\n",
    "\n",
    "# y_train_log_registered 변수에 할당된 데이터의 사이즈를 출력합니다.\n",
    "# 출력은 (row, column) 으로 표시되나, column이 없기 때문에 (row,) 형태로 표시될 것입니다.\n",
    "print(y_train_log_registered.shape)\n",
    "\n",
    "# y_train_log_registered 데이터의 상위 5개를 띄웁니다.\n",
    "y_train_log_registered.head()"
   ]
  },
  {
   "cell_type": "markdown",
   "metadata": {
    "colab_type": "text",
    "id": "WtWITvRlGrh9"
   },
   "source": [
    "### Use Random Forest\n",
    "\n",
    "X_train, X_test, y_train 데이터를 만들었으면, 이제 이 데이터를 활용하여 머신러닝 알고리즘을 학습시켜 보겠습니다.\n",
    "\n",
    "이번에 사용할 알고리즘은 랜덤 포레스트(Random Forest)입니다. 랜덤 포레스트는 의사결정나무(Decision Tree)의 업그레이드 버전이라고 볼 수 있는데, 대부분의 경우 의사결정나무보다 더 좋은 성능을 보장합니다. 알고리즘의 동작 원리는 다음과 같습니다.\n",
    "\n",
    "  1. 먼저 전체 데이터가 아니라, 데이터의 일부분을 랜덤하게 가져옵니다. 이를 랜덤 샘플링, 또는 베깅([bootstrap aggregating](https://en.wikipedia.org/wiki/Bootstrap_aggregating))이라고 합니다. 이렇게 랜덤 샘플링한 데이터로 의사결정나무(Decision Tree)를 하나 만듭니다.\n",
    "  2. 1번의 방식을 사용하면 이론적으로 무제한의 다양한 트리를 만들 수 있습니다. 이 트리를 지정한 갯수만큼 생성합니다.\n",
    "  3. 생성한 트리끼리 투표를 합니다. 가령 타이타닉 승객 데이터를 제공했을 때, 1,000개의 트리 중 700개가 생존/300개가 사망했다고 하면 해당 승객은 생존했다고 가정합니다. 정 반대로 400개가 생존/600개가 사망했다고 하면 해당 승객은 사망했다고 가정합니다.\n",
    "  \n",
    "이러한 방식을 거치면 의사결정나무(Decision Tree)보다 더 강력한 알고리즘을 구현할 수 있습니다. (자세한 설명은 [다음의 링크](http://swalloow.tistory.com/92)를 참고 바랍니다)\n",
    "\n",
    "그런 의미에서, 이번에도 파이썬의 머신러닝 패키지인 [scikit-learn](scikit-learn.org)에서 랜덤 포레스트([RandomForestRegressor](https://scikit-learn.org/stable/modules/generated/sklearn.ensemble.RandomForestRegressor.html))를 가져오겠습니다."
   ]
  },
  {
   "cell_type": "code",
   "execution_count": 436,
   "metadata": {
    "colab": {},
    "colab_type": "code",
    "id": "Yrh9n3wnGrh9",
    "outputId": "3e09ccfb-1330-4dc8-f32c-cbaf87b3fca8"
   },
   "outputs": [
    {
     "data": {
      "text/plain": [
       "RandomForestRegressor(bootstrap=True, ccp_alpha=0.0, criterion='mse',\n",
       "                      max_depth=None, max_features='auto', max_leaf_nodes=None,\n",
       "                      max_samples=None, min_impurity_decrease=0.0,\n",
       "                      min_impurity_split=None, min_samples_leaf=1,\n",
       "                      min_samples_split=2, min_weight_fraction_leaf=0.0,\n",
       "                      n_estimators=10, n_jobs=-1, oob_score=False,\n",
       "                      random_state=37, verbose=0, warm_start=False)"
      ]
     },
     "execution_count": 436,
     "metadata": {},
     "output_type": "execute_result"
    }
   ],
   "source": [
    "# scikit-learn 패키지의 ensemble 모듈에 있는 RandomForestRegressor를 가지고 옵니다.\n",
    "from sklearn.ensemble import RandomForestRegressor\n",
    "\n",
    "# RandomForestRegressor에서 가장 중요한 파라미터\n",
    "# n_estimators: 트리의 개수\n",
    "# max_depth: 트리의 깊이\n",
    "# max_features: feature 샘플, column 추출, max_features가 70이면 feature 중 70%만 써!, 트리마다 random이므로 결국엔 전체 feature를 사용\n",
    "# 요 3개의 best값을 찾으면 tree의 값은 언제나 좋아진다!\n",
    "\n",
    "# n_estimators는 높을수록 좋음. 그러나 어느순간되면 정체됨. 10번째 tree를 만드나 1000번째 tree를 만드나 소요되는 시간은 동일. 컴퓨터가 버틸 수 있는 한도내에서 max가 좋음\n",
    "# max_depth는 너무 높아도 안좋고 너무 낮아도 안좋음. 특정조건에서 100%가 나와도 그 조건에서의 인원수가 너무 적으면 신뢰할 수 없음. 너무 깊으면 어느 depth아래서부터는 신뢰할 수 없는 조건임\n",
    "# max_features도 너무 높아도 안좋고 너무 낮아도 안좋음. 너무 낮은거 보다 높은게 좋기는 함\n",
    "\n",
    "# best 파라미터를 찾는 방법은 종류별로 다 넣고, 다 cross validation 해보고 cross validation 값이 제일 좋은것 선택\n",
    "\n",
    "# RandomForestRegressor를 생성합니다. 실행할 때는 다음의 옵션이 들어갑니다.\n",
    "# 1) n_estimators. 트리의 개수입니다. 10을 넣으면 10개의 트리를 생성합니다.\n",
    "# 2) n_jobs. 병렬처리 여부입니다. -1을 대입하면 컴퓨터에 존재하는 모든 코어(Core, ex: 듀얼코어, 쿼드코어)를 전부 활용합니다.\n",
    "# 3) random_state. 랜덤포레스트의 결  과가 랜덤하게 나오는 것을 고정하는 옵션입니다. 아무 숫자나 넣어주면 됩니다. (공학 용어에서 쓰이는 Seed Number와 동일한 개념입니다)\n",
    "model = RandomForestRegressor(n_estimators=10,\n",
    "                              n_jobs=-1,\n",
    "                              random_state=37)\n",
    "model"
   ]
  },
  {
   "cell_type": "markdown",
   "metadata": {},
   "source": [
    "## Evaluate\n",
    "\n",
    "머신러닝 모델과 측정 공식을 정의했으면, 이제는 이 두 개를 활용하여 모델의 성능을 평가하겠습니다.\n",
    "\n",
    "머신러닝 모델의 성능을 평가하는 방식은 크게 두 가지, 1) Hold Out Validation과 2) Cross Validation입니다. 두 방식 모두 장단점이 있지만,\\\n",
    "이번 경진대회에서는 Cross Validation을 사용하겠습니다.\n",
    "\n",
    "우리에게 기쁜 소식은, scikit-learn에 Cross Validation을 자동화한 모듈이 존재한다는 것입니다. 이 모듈을 cross val predict라고 합니다.\\\n",
    "cross_val_predict를 활용하여 모델의 성능을 평가하겠습니다"
   ]
  },
  {
   "cell_type": "code",
   "execution_count": 437,
   "metadata": {},
   "outputs": [
    {
     "data": {
      "text/plain": [
       "(array([3.35095963, 3.2493955 , 2.97471203, ..., 5.24315777, 5.10998674,\n",
       "        4.76519066]),\n",
       " array([1.8236277 , 1.43932469, 1.4575985 , ..., 2.47804043, 2.93263989,\n",
       "        2.3390682 ]),\n",
       " array([3.23148645, 3.08831678, 2.9211119 , ..., 5.30062985, 5.08311981,\n",
       "        4.57021882]))"
      ]
     },
     "execution_count": 437,
     "metadata": {},
     "output_type": "execute_result"
    }
   ],
   "source": [
    "# scikit-learn의  model_selection 모듈에서 cross_val_predict라는 이름의 함수를 가져옵니다.\n",
    "# 이 함수는 Cross Validation의 모든 기능을 한 번에 실행합니다.\n",
    "from sklearn.model_selection import cross_val_predict\n",
    "\n",
    "# cross_val_predict를 실행합니다. 실행할 때는 다음의 옵션이 들어갑니다.\n",
    "# 1) model. 점수를 측정할 머신러닝 모델(현재는 Random Forest)이 들어갑니다.\n",
    "# 2) X_train. train 데이터의 feature 입니다.\n",
    "# 3) y_train. train 데이터의 label입니다.\n",
    "# 4) cv. Cross Validation에서 데이터를 조각낼(split) 갯수입니다. 총 20조각을 내야하기 때문에 20을 대입합니다.\n",
    "# 마지막으로, 이 함수의 실행 결과를 y_predict 이라는 이름의 새로운 변수에 할당합니다.\n",
    "\n",
    "y_predict_log_count = cross_val_predict(model, X_train, y_train_log_count, cv = 20)\n",
    "y_predict_log_casual = cross_val_predict(model, X_train, y_train_log_casual, cv = 20)\n",
    "y_predict_log_registered = cross_val_predict(model,X_train, y_train_log_registered, cv = 20)\n",
    "\n",
    "y_predict_log_count, y_predict_log_casual, y_predict_log_registered\n",
    "#y_predict = y_predict_casual + y_predict_registered\n",
    "\n",
    "# y_predict 변수에 할당된 데이터의 사이즈를 출력합니다.\n",
    "# 출력은 (row, column)으로 표시되나, column이 없기 때문에 (row,) 형태로 표시될 것입니다.\n",
    "#print(y_predict.shape)\n",
    "\n",
    "# y_predict를 출력합니다. 데이터의 개수가 많기 때문에 전체가 아닌 일부만 예시로 출력될 것입니다.\n",
    "#y_predict"
   ]
  },
  {
   "cell_type": "code",
   "execution_count": 438,
   "metadata": {},
   "outputs": [
    {
     "data": {
      "text/plain": [
       "(array([ 27.53009891,  24.77475437,  18.58398288, ..., 188.26682119,\n",
       "        164.66815775, 116.35348967]),\n",
       " array([ 5.19428877,  3.2178465 ,  3.29563118, ..., 10.91788754,\n",
       "        17.77713475,  9.37156786]),\n",
       " array([ 24.31726196,  20.94011687,  17.56191503, ..., 199.46303218,\n",
       "        160.27642379,  95.5652377 ]))"
      ]
     },
     "execution_count": 438,
     "metadata": {},
     "output_type": "execute_result"
    }
   ],
   "source": [
    "y_predict_count = np.exp(y_predict_log_count) - 1\n",
    "y_predict_casual = np.exp(y_predict_log_casual) - 1\n",
    "y_predict_registered = np.exp(y_predict_log_registered) - 1\n",
    "\n",
    "y_predict_count, y_predict_casual, y_predict_registered"
   ]
  },
  {
   "cell_type": "code",
   "execution_count": 439,
   "metadata": {},
   "outputs": [
    {
     "name": "stdout",
     "output_type": "stream",
     "text": [
      "(10886,)\n"
     ]
    },
    {
     "data": {
      "text/plain": [
       "array([ 28.50361224,  24.46441515,  19.68797302, ..., 199.01695152,\n",
       "       171.23011261, 110.49779872])"
      ]
     },
     "execution_count": 439,
     "metadata": {},
     "output_type": "execute_result"
    }
   ],
   "source": [
    "# casual은 모수가 부족해서 패턴을 파악하기가 어려움\n",
    "# 기하평균 방법을 사용(제곱한다음에 루트씌우기)\n",
    "# trend적인 면모가 있을 때나 전반적인 비율이 중요할 때 기하평균을 사용\n",
    "# casual과 registered가 count에서 어느정도의 비율을 차지하는지도 볼 수 있고,\n",
    "# 전반적인 트렌드적인 면모도 있으므로 기하평균 사용\n",
    "# 참고: 산술평균은 더해서 2로 나누기\n",
    "\n",
    "y_predict = np.sqrt((y_predict_casual + y_predict_registered) * y_predict_count)\n",
    "\n",
    "print(y_predict.shape)\n",
    "y_predict"
   ]
  },
  {
   "cell_type": "markdown",
   "metadata": {
    "colab_type": "text",
    "id": "xc6gSbF7m5vy"
   },
   "source": [
    "### Evaluate\n",
    "\n",
    "머신러닝 모델을 학습시키기 전에, 측정 공식(Evaluation Metric)을 통해 학습한 모델의 성능이 얼마나 뛰어난지 정량적으로 측정해보겠습니다. 이번 [Bike Sharing Demand](https://www.kaggle.com/c/bike-sharing-demand) 경진대회에서 사용하는 측정 공식은 Root Mean Squared Logarithmic Error ([RMSLE](https://www.kaggle.com/c/bike-sharing-demand#evaluation)) 입니다.\n",
    "\n",
    "$$ \\sqrt{\\frac{1}{n} \\sum_{i=1}^n (\\log(p_i + 1) - \\log(a_i+1))^2 } $$\n",
    "\n",
    "이 공식은 정답($a_i$, actual)과 예측값($p_i$, predict)의 차이가 크면 클수록 **페널티를 덜 주는** 방식으로 동작합니다. (```log(count + 1)```이 그 역할을 합니다) 이 점을 감안하여 파이썬과 [numpy](), [scikit-learn]()으로 **RSMLE** 공식을 구현해보겠습니다."
   ]
  },
  {
   "cell_type": "code",
   "execution_count": 440,
   "metadata": {
    "colab": {},
    "colab_type": "code",
    "id": "N5BgJjAcm5vy",
    "outputId": "1914d9d0-fef9-4cf2-b3d5-666afe8cc48b"
   },
   "outputs": [
    {
     "name": "stdout",
     "output_type": "stream",
     "text": [
      "Score = 0.36229\n"
     ]
    }
   ],
   "source": [
    "# numpy라는 패키지를 불러옵니다.\n",
    "# 이 패키지는 선형대수(linear algebra) 패키지라고 불리는데,\n",
    "# 현재는 간단하게 '수학 연산을 편하게 해주는 패키지'라고 이해하시면 됩니다.\n",
    "import numpy as np\n",
    "\n",
    "# scikit-learn 패키지의 metrics 모듈에서 mean_squared_log_error 함수를 가지고 옵니다.\n",
    "# RMSLE를 바로 계산하는 함수는 없기 때문에 mean_squared_log_error를 사용하여 RMSLE를 계산합니다.\n",
    "# mean_squared_log_error 함수는 RMSLE에서 루트가 없는 것과 같은 MSLE(Mean Squared Logarithmic Error)를 계산합니다.\n",
    "from sklearn.metrics import mean_squared_log_error\n",
    "\n",
    "# mean_squared_log_error에 y_predict와 y_train을 넣어 MSLE를 계산합니다.\n",
    "# 계산한 결과를 msle란 이름의 새로운 변수에 할당합니다.\n",
    "msle = mean_squared_log_error(y_train, y_predict)\n",
    "\n",
    "# RMSLE 공식에 쓰여진대로 msle에 루트(sqrt)를 씌웁니다.\n",
    "# 계산한 결과를 score란 이름의 새로운 변수에 할당합니다.\n",
    "score = np.sqrt(msle)\n",
    "\n",
    "# score 변수에 할당한 점수를 출력합니다.\n",
    "print(\"Score = {0:.5f}\".format(score))"
   ]
  },
  {
   "cell_type": "markdown",
   "metadata": {},
   "source": [
    "## count를 y_predict로 할 때보다 casual과 registered를 각각 구하고 합친게 더 점수가 좋음"
   ]
  },
  {
   "cell_type": "markdown",
   "metadata": {},
   "source": [
    "## Fit\n",
    "\n",
    "머신러닝 모델을 가져왔으면, 이제 가져온 머신러닝 모델을 학습할 시간입니다.\n",
    "\n",
    "scikit-learn에 있는 머신러닝 알고리즘에는 크게 두 가지 기능이 있습니다.\n",
    "\n",
    "  * **fit**: 머신러닝 알고리즘을 학습시킵니다. 학습이라는 건 쉽게 말해 \"머신러닝 알고리즘이 스스로 데이터에서 패턴을 찾는 행위\"를 학습한다고 하며, 전문용어로 traning 내지는 fitting한다고 하기 때문에 fit이라는 표현을 사용합니다. fit을 하기 위해서는 train 데이터가 필요하며, 정확히는 train 데이터의 feature(X_train)와 label(y_train)이 필요합니다.\n",
    "  * **predict**: **fit**이 끝나면, 이후에 **predict**를 통해 예측을 할 수 있습니다. predict를 하기 위해서는 test 데이터가 필요하며, 정확히는 test 데이터의 feature(X_test)가 필요합니다."
   ]
  },
  {
   "cell_type": "code",
   "execution_count": 441,
   "metadata": {},
   "outputs": [
    {
     "data": {
      "text/plain": [
       "(array([2.5564644 , 1.57250531, 1.50556224, ..., 4.76445734, 4.5947709 ,\n",
       "        3.8745501 ]),\n",
       " array([0.71546154, 0.40943446, 0.7742402 , ..., 1.69935644, 1.18186771,\n",
       "        0.7624619 ]),\n",
       " array([2.45827458, 1.60333544, 0.82656502, ..., 4.76286235, 4.45755938,\n",
       "        3.76491269]))"
      ]
     },
     "execution_count": 441,
     "metadata": {},
     "output_type": "execute_result"
    }
   ],
   "source": [
    "# 머신러닝 알고리즘을 학습(fitting)합니다.\n",
    "# 학습에는 fit 이라는 기능을 사용하며, train 데이터의 feature(X_train)와 label(y_train)을 집어넣습니다.\n",
    "model.fit(X_train, y_train_log_count)\n",
    "log_count_predictions = model.predict(X_test)\n",
    "\n",
    "model.fit(X_train, y_train_log_casual)\n",
    "log_casual_predictions = model.predict(X_test)\n",
    "\n",
    "model.fit(X_train, y_train_log_registered)\n",
    "log_registered_predictions = model.predict(X_test)\n",
    "\n",
    "log_count_predictions, log_casual_predictions, log_registered_predictions"
   ]
  },
  {
   "cell_type": "code",
   "execution_count": 442,
   "metadata": {},
   "outputs": [
    {
     "data": {
      "text/plain": [
       "(array([ 11.89016218,   3.81870542,   3.50668676, ..., 116.26746365,\n",
       "         97.96545998,  47.16102568]),\n",
       " array([1.04513037, 0.50596585, 1.16894354, ..., 4.47042571, 2.2604581 ,\n",
       "        1.14354693]),\n",
       " array([ 10.68463322,   3.96958056,   1.28545474, ..., 116.08057237,\n",
       "         85.27668354,  42.15993728]))"
      ]
     },
     "execution_count": 442,
     "metadata": {},
     "output_type": "execute_result"
    }
   ],
   "source": [
    "count_predictions = np.exp(log_count_predictions) - 1\n",
    "casual_predictions = np.exp(log_casual_predictions) - 1\n",
    "registered_predictions = np.exp(log_registered_predictions) - 1\n",
    "\n",
    "count_predictions, casual_predictions, registered_predictions"
   ]
  },
  {
   "cell_type": "code",
   "execution_count": 443,
   "metadata": {},
   "outputs": [
    {
     "name": "stdout",
     "output_type": "stream",
     "text": [
      "(6493,)\n"
     ]
    },
    {
     "data": {
      "text/plain": [
       "array([ 11.80969057,   4.13410127,   2.93373584, ..., 118.38985931,\n",
       "        92.60462378,  45.19111341])"
      ]
     },
     "execution_count": 443,
     "metadata": {},
     "output_type": "execute_result"
    }
   ],
   "source": [
    "predictions = np.sqrt((casual_predictions + registered_predictions) * count_predictions)\n",
    "\n",
    "print(predictions.shape)\n",
    "predictions  "
   ]
  },
  {
   "cell_type": "markdown",
   "metadata": {},
   "source": [
    "## Submit\n",
    "\n",
    "머신러닝 알고리즘을 활용해서 우리는 test 데이터에 있는 자전거 대여량(count)을 예측하였습니다. 이제 우리에게 남은 건 이를 캐글([kaggle](http://kaggle.com/))이 권장하는 제출(submission) 포멧에 맞게 정리한 뒤 파일로 저장하는 것입니다.\n",
    "\n",
    "캐글의 [Bike Sharing Demand](https://www.kaggle.com/c/bike-sharing-demand) 경진대회에서는 **sampleSubmission.csv**라는 제출 포멧을 제공합니다. ([다운로드 링크](https://www.kaggle.com/c/bike-sharing-demand/data)) 우리는 우리가 예측한 값을 이 제출 포멧에 맞게 집어넣고 저장할 것입니다."
   ]
  },
  {
   "cell_type": "code",
   "execution_count": 444,
   "metadata": {},
   "outputs": [
    {
     "name": "stdout",
     "output_type": "stream",
     "text": [
      "(6493, 2)\n"
     ]
    },
    {
     "data": {
      "text/html": [
       "<div>\n",
       "<style scoped>\n",
       "    .dataframe tbody tr th:only-of-type {\n",
       "        vertical-align: middle;\n",
       "    }\n",
       "\n",
       "    .dataframe tbody tr th {\n",
       "        vertical-align: top;\n",
       "    }\n",
       "\n",
       "    .dataframe thead th {\n",
       "        text-align: right;\n",
       "    }\n",
       "</style>\n",
       "<table border=\"1\" class=\"dataframe\">\n",
       "  <thead>\n",
       "    <tr style=\"text-align: right;\">\n",
       "      <th></th>\n",
       "      <th>datetime</th>\n",
       "      <th>count</th>\n",
       "    </tr>\n",
       "  </thead>\n",
       "  <tbody>\n",
       "    <tr>\n",
       "      <th>0</th>\n",
       "      <td>2011-01-20 00:00:00</td>\n",
       "      <td>0</td>\n",
       "    </tr>\n",
       "    <tr>\n",
       "      <th>1</th>\n",
       "      <td>2011-01-20 01:00:00</td>\n",
       "      <td>0</td>\n",
       "    </tr>\n",
       "    <tr>\n",
       "      <th>2</th>\n",
       "      <td>2011-01-20 02:00:00</td>\n",
       "      <td>0</td>\n",
       "    </tr>\n",
       "    <tr>\n",
       "      <th>3</th>\n",
       "      <td>2011-01-20 03:00:00</td>\n",
       "      <td>0</td>\n",
       "    </tr>\n",
       "    <tr>\n",
       "      <th>4</th>\n",
       "      <td>2011-01-20 04:00:00</td>\n",
       "      <td>0</td>\n",
       "    </tr>\n",
       "  </tbody>\n",
       "</table>\n",
       "</div>"
      ],
      "text/plain": [
       "              datetime  count\n",
       "0  2011-01-20 00:00:00      0\n",
       "1  2011-01-20 01:00:00      0\n",
       "2  2011-01-20 02:00:00      0\n",
       "3  2011-01-20 03:00:00      0\n",
       "4  2011-01-20 04:00:00      0"
      ]
     },
     "execution_count": 444,
     "metadata": {},
     "output_type": "execute_result"
    }
   ],
   "source": [
    "# 캐글이 제공하는 제출 포멧(sampleSubmission.csv)을 읽어옵니다.\n",
    "# 이를 submission 이라는 이름의 변수에 할당합니다.\n",
    "submission = pd.read_csv(\"data/sampleSubmission.csv\")\n",
    "\n",
    "# submission 변수에 할당된 데이터의 행렬 사이즈를 출력합니다.\n",
    "# 출력은 (row, column) 으로 표시됩니다.\n",
    "print(submission.shape)\n",
    "\n",
    "# submission 데이터의 상위 5개를 띄웁니다.\n",
    "submission.head()"
   ]
  },
  {
   "cell_type": "code",
   "execution_count": 445,
   "metadata": {},
   "outputs": [
    {
     "name": "stdout",
     "output_type": "stream",
     "text": [
      "(6493, 2)\n"
     ]
    },
    {
     "data": {
      "text/html": [
       "<div>\n",
       "<style scoped>\n",
       "    .dataframe tbody tr th:only-of-type {\n",
       "        vertical-align: middle;\n",
       "    }\n",
       "\n",
       "    .dataframe tbody tr th {\n",
       "        vertical-align: top;\n",
       "    }\n",
       "\n",
       "    .dataframe thead th {\n",
       "        text-align: right;\n",
       "    }\n",
       "</style>\n",
       "<table border=\"1\" class=\"dataframe\">\n",
       "  <thead>\n",
       "    <tr style=\"text-align: right;\">\n",
       "      <th></th>\n",
       "      <th>datetime</th>\n",
       "      <th>count</th>\n",
       "    </tr>\n",
       "  </thead>\n",
       "  <tbody>\n",
       "    <tr>\n",
       "      <th>0</th>\n",
       "      <td>2011-01-20 00:00:00</td>\n",
       "      <td>11.809691</td>\n",
       "    </tr>\n",
       "    <tr>\n",
       "      <th>1</th>\n",
       "      <td>2011-01-20 01:00:00</td>\n",
       "      <td>4.134101</td>\n",
       "    </tr>\n",
       "    <tr>\n",
       "      <th>2</th>\n",
       "      <td>2011-01-20 02:00:00</td>\n",
       "      <td>2.933736</td>\n",
       "    </tr>\n",
       "    <tr>\n",
       "      <th>3</th>\n",
       "      <td>2011-01-20 03:00:00</td>\n",
       "      <td>2.753031</td>\n",
       "    </tr>\n",
       "    <tr>\n",
       "      <th>4</th>\n",
       "      <td>2011-01-20 04:00:00</td>\n",
       "      <td>2.397869</td>\n",
       "    </tr>\n",
       "  </tbody>\n",
       "</table>\n",
       "</div>"
      ],
      "text/plain": [
       "              datetime      count\n",
       "0  2011-01-20 00:00:00  11.809691\n",
       "1  2011-01-20 01:00:00   4.134101\n",
       "2  2011-01-20 02:00:00   2.933736\n",
       "3  2011-01-20 03:00:00   2.753031\n",
       "4  2011-01-20 04:00:00   2.397869"
      ]
     },
     "execution_count": 445,
     "metadata": {},
     "output_type": "execute_result"
    }
   ],
   "source": [
    "# 제출 포멧(submission)의 자전거 대여량(count) 컬럼에 우리의 예측값(predictions)를 집어넣습니다.\n",
    "# 두 데이터 모두 길이가 6493개로 동일하기 때문에, 등호(=)를 통해 쉽게 예측값을 넣을 수 있습니다.\n",
    "submission[\"count\"] = predictions\n",
    "\n",
    "# submission 변수에 할당된 데이터의 행렬 사이즈를 출력합니다.\n",
    "# 출력은 (row, column) 으로 표시됩니다.\n",
    "print(submission.shape)\n",
    "\n",
    "# submission 데이터의 상위 5개를 띄웁니다.\n",
    "submission.head()"
   ]
  },
  {
   "cell_type": "code",
   "execution_count": 446,
   "metadata": {},
   "outputs": [],
   "source": [
    "# 마지막으로 submission 변수에 들어간 값을 csv 형식의 데이터로 저장합니다.\n",
    "submission.to_csv(\"data/baseline-script.csv\", index=False)"
   ]
  },
  {
   "cell_type": "markdown",
   "metadata": {},
   "source": [
    "# Tip\n",
    "\n",
    "지금은 try and error를 하지만 나중엔 시간 대비 효율을 높이기 위해 확실한 방법으로 점수를 올려야함\n",
    "\n",
    "1. 제일 먼저 label을 분석해야함. label은 어떻게 분포되어 있나, 최소값과 최대값은 얼마인가, 평균은 얼마인가 등등\\\n",
    "시각화를 할 때, x축이나 y축이나 hue 중에 하나는 label을 넣어야함. label이 어떻게 변하는지 파악 가능\\\n",
    "label을 다 분석한 뒤, 나머지 분석\n",
    "\n",
    "2. 측정공식을 잘 봐야함. 측정공식이 사실상 잘했는지 못했는지를 판단하는 기준이기 때문\\\n",
    "측정공식이 특이하면 특이할수록 힌트가 있음. 측정공식을 괜히 어려운걸 사용하지는 않음\\\n",
    "분명 사용한 이유가 있음\n",
    "\n",
    "RMSLE는 틀릴거면 확실하게 틀려라. 조금씩 많이 틀리는 것 보다 하나 확실하게 틀리는게 나음\n",
    "\n",
    "Cliping: 예외적인 데이터 삭제하거나 변경. bike sharing 같은 경우 900대가 넘어가는 경우는 매우 적음. 그러므로 900대 이상은 자르거나 변경. 만약 test data에서 900대가 넘어가는 게 있으면 못맞춤. 정답과 예측값의 차이가 커짐. 그러나 900대가 넘어가는 이런 예외적인 상황을 맞추느라 희생되는 다른 부분들이 사라지면서 점수가 더 좋아질 수도 있음\n",
    "\n",
    "측정공식이 RMSLE인 경우 이런 Cliping 전략이 먹힐 수 있음. 왜냐하면 틀릴거면 확실하게 틀리고 맞출거면 확실하게 맞추는게 좋으므로\n",
    "\n",
    "bike sharing 같은 경우 측정공식을 보고 predictions에 log를 처음부터 씌워줘서 예측할 수 있음"
   ]
  },
  {
   "cell_type": "markdown",
   "metadata": {},
   "source": [
    "파라미터를 스스로 찾아주는 알고리즘이 머신러닝\n",
    "\n",
    "알고리즘이 스스로 찾을 수 없어, 사람이 찾아주는 게 하이퍼 파라미터"
   ]
  },
  {
   "cell_type": "markdown",
   "metadata": {
    "colab_type": "text",
    "id": "jetG6OLnGriA"
   },
   "source": [
    "## Hyperparameter Tuning"
   ]
  },
  {
   "cell_type": "markdown",
   "metadata": {
    "colab_type": "text",
    "id": "UHrMOiUiGriA"
   },
   "source": [
    "랜덤 포레스트(Random Forest)를 사용하기로 마음 먹었으면, 이번에는 이 랜덤포레스트의 하이퍼패러미터를 튜닝해보겠습니다.\n",
    "\n",
    "머신러닝 모델에는 다양한 옵션이 있으며, 이 옵션을 통해 모델의 성능을 끌어올릴 수 있습니다. 이 옵션들을 전문용어로 하이퍼패러미터(Hyperparameter)라고 부릅니다. 만일 적절한 하이퍼패러미터를 찾아서 모델에 적용할 수 있다면 모델의 성능을 한 층 더 끌어올릴 수 있습니다. 이를 **하이퍼패러미터 튜닝(Hyperparamter Tuning)**이라고 합니다.\n",
    "\n",
    "어떻게 하면 가장 좋은 하이퍼패러미터를 찾을 수 있을까요? 답은 간단합니다. 이론상으로 존재 가능한 모든 하이퍼패러미터 범위에서 랜덤하게 찾아서 Cross Validation을 해보면 됩니다. 이 방식을 랜덤 서치(Random Search)라고 합니다.\n",
    "\n",
    "<img src=\"http://cs231n.github.io/assets/nn3/gridsearchbad.jpeg\" alt=\"Random Search for Hyper-Parameter Optimization\" style=\"width: 360px;\"/>\n",
    "\n",
    "<p style=\"text-align: center;\">\n",
    "  <small>\n",
    "    위 그림과 같이, Grid Search를 활용하면 가장 좋은 성능을 내는 하이퍼패러미터를 찾기 어렵습니다. 이런 경우는 Random Search를 사용합니다.\n",
    "  </small>\n",
    "</p>\n",
    "<p style=\"text-align: center;\">\n",
    "  <small>\n",
    "    (see <a href=\"http://www.jmlr.org/papers/volume13/bergstra12a/bergstra12a.pdf\">Random Search for Hyper-Parameter Optimization</a>)\n",
    "  </small>\n",
    "</p>\n",
    "\n",
    "하지만 랜덤 서치(Random Search)는 현실적으로 시간이 오래 걸리기 때문에, 랜덤 서치(Random Search)를 응용한 다른 하이퍼패러미터 튜닝 방식을 사용하겠습니다. 바로 **Coarse & Fine Search** 입니다.\n",
    "\n",
    "Coarse & Fine Search는 크게 1) Coarse Search와 2) Fine Search로 동작합니다\n",
    "\n",
    "먼저 **Coarse Search**에서는 Random Search를 하되, 이론상으로 존재 가능한 모든 하이퍼패러미터 범위를 집어넣습니다. 이렇게 Random Search를 하면 가장 좋은 하이퍼패러미터를 찾는 것은 어렵지만, **좋지 않은 하이퍼패러미터를 정렬해서 후순위로 놓을 수 있습니다.**\n",
    "\n",
    "이를 통해 좋지 않은 하이퍼패러미터를 버린 뒤 다시 한 번 Random Search를 하는 것을 **Fine Search**라고 합니다."
   ]
  },
  {
   "cell_type": "markdown",
   "metadata": {
    "colab_type": "text",
    "id": "KHnAe8vhGriB"
   },
   "source": [
    "### Random Search(Coarse)"
   ]
  },
  {
   "cell_type": "markdown",
   "metadata": {},
   "source": [
    "Random Search(Coarse)란 이론상으로 존재가능한 하이퍼파라미터 범위안에서 계속 random search 하는 것. 가장 좋은 하이퍼파라미터를 찾는 것은 어려움. 너무 범위가 넓어서 불가능. 대신에 찾은 다음, 점수가 좋은 순대로 정렬하면 가장 안좋은 하이퍼파라미터는 바닥에 깔 수 있음. 이것이 Coarse의 역할"
   ]
  },
  {
   "cell_type": "code",
   "execution_count": 447,
   "metadata": {
    "colab": {},
    "colab_type": "code",
    "id": "vqvtvqs-GriB",
    "outputId": "fd77300d-0e23-4dd0-94b3-36a21ba5a8a2"
   },
   "outputs": [
    {
     "name": "stdout",
     "output_type": "stream",
     "text": [
      " 0 n_estimators = 300, max_depth = 18, max_features = 0.667445, Score = 0.35186\n",
      " 1 n_estimators = 300, max_depth = 28, max_features = 0.937095, Score = 0.35007\n",
      " 2 n_estimators = 300, max_depth = 87, max_features = 0.885345, Score = 0.34942\n",
      " 3 n_estimators = 300, max_depth = 27, max_features = 0.273721, Score = 0.42478\n",
      " 4 n_estimators = 300, max_depth =  2, max_features = 0.395028, Score = 0.92200\n",
      " 5 n_estimators = 300, max_depth = 75, max_features = 0.258723, Score = 0.49061\n",
      " 6 n_estimators = 300, max_depth = 24, max_features = 0.911596, Score = 0.34995\n",
      " 7 n_estimators = 300, max_depth = 85, max_features = 0.501006, Score = 0.36635\n",
      " 8 n_estimators = 300, max_depth = 84, max_features = 0.977178, Score = 0.35001\n",
      " 9 n_estimators = 300, max_depth = 10, max_features = 0.826441, Score = 0.37338\n",
      "10 n_estimators = 300, max_depth = 66, max_features = 0.880324, Score = 0.34942\n",
      "11 n_estimators = 300, max_depth = 74, max_features = 0.105423, Score = 0.58466\n",
      "12 n_estimators = 300, max_depth = 10, max_features = 0.892611, Score = 0.37338\n",
      "13 n_estimators = 300, max_depth = 85, max_features = 0.165610, Score = 0.58466\n",
      "14 n_estimators = 300, max_depth =  9, max_features = 0.358740, Score = 0.52515\n",
      "15 n_estimators = 300, max_depth = 71, max_features = 0.684432, Score = 0.35140\n",
      "16 n_estimators = 300, max_depth =  3, max_features = 0.843217, Score = 0.74318\n",
      "17 n_estimators = 300, max_depth = 16, max_features = 0.777272, Score = 0.35008\n",
      "18 n_estimators = 300, max_depth = 35, max_features = 0.855635, Score = 0.34943\n",
      "19 n_estimators = 300, max_depth = 83, max_features = 0.120011, Score = 0.58466\n",
      "20 n_estimators = 300, max_depth = 45, max_features = 0.238756, Score = 0.49061\n",
      "21 n_estimators = 300, max_depth = 59, max_features = 0.992454, Score = 0.35001\n",
      "22 n_estimators = 300, max_depth = 29, max_features = 0.969588, Score = 0.35005\n",
      "23 n_estimators = 300, max_depth = 84, max_features = 0.991060, Score = 0.35001\n",
      "24 n_estimators = 300, max_depth = 96, max_features = 0.925200, Score = 0.35001\n",
      "25 n_estimators = 300, max_depth = 58, max_features = 0.504644, Score = 0.36635\n",
      "26 n_estimators = 300, max_depth = 43, max_features = 0.790772, Score = 0.34967\n",
      "27 n_estimators = 300, max_depth = 13, max_features = 0.940923, Score = 0.35147\n",
      "28 n_estimators = 300, max_depth = 83, max_features = 0.538275, Score = 0.36635\n",
      "29 n_estimators = 300, max_depth = 80, max_features = 0.583977, Score = 0.35721\n",
      "30 n_estimators = 300, max_depth = 14, max_features = 0.973922, Score = 0.35031\n",
      "31 n_estimators = 300, max_depth = 85, max_features = 0.736760, Score = 0.34967\n",
      "32 n_estimators = 300, max_depth = 82, max_features = 0.148980, Score = 0.58466\n",
      "33 n_estimators = 300, max_depth =  8, max_features = 0.665138, Score = 0.44221\n",
      "34 n_estimators = 300, max_depth = 32, max_features = 0.486466, Score = 0.36629\n",
      "35 n_estimators = 300, max_depth = 75, max_features = 0.797886, Score = 0.34967\n",
      "36 n_estimators = 300, max_depth = 17, max_features = 0.416469, Score = 0.38843\n",
      "37 n_estimators = 300, max_depth = 91, max_features = 0.260638, Score = 0.49061\n",
      "38 n_estimators = 300, max_depth = 43, max_features = 0.319759, Score = 0.42487\n",
      "39 n_estimators = 300, max_depth = 16, max_features = 0.463581, Score = 0.36825\n",
      "40 n_estimators = 300, max_depth = 28, max_features = 0.263314, Score = 0.48933\n",
      "41 n_estimators = 300, max_depth = 27, max_features = 0.139592, Score = 0.58339\n",
      "42 n_estimators = 300, max_depth = 70, max_features = 0.663890, Score = 0.35140\n",
      "43 n_estimators = 300, max_depth = 90, max_features = 0.828870, Score = 0.34942\n",
      "44 n_estimators = 300, max_depth = 32, max_features = 0.754819, Score = 0.34967\n",
      "45 n_estimators = 300, max_depth = 86, max_features = 0.234675, Score = 0.49061\n",
      "46 n_estimators = 300, max_depth = 23, max_features = 0.314804, Score = 0.42560\n",
      "47 n_estimators = 300, max_depth = 36, max_features = 0.369992, Score = 0.38581\n",
      "48 n_estimators = 300, max_depth = 14, max_features = 0.901533, Score = 0.35013\n",
      "49 n_estimators = 300, max_depth = 50, max_features = 0.511863, Score = 0.36635\n",
      "50 n_estimators = 300, max_depth = 99, max_features = 0.279657, Score = 0.42487\n",
      "51 n_estimators = 300, max_depth = 14, max_features = 0.694561, Score = 0.35434\n",
      "52 n_estimators = 300, max_depth = 14, max_features = 0.436052, Score = 0.39534\n",
      "53 n_estimators = 300, max_depth = 51, max_features = 0.894346, Score = 0.34942\n",
      "54 n_estimators = 300, max_depth = 74, max_features = 0.731572, Score = 0.34967\n",
      "55 n_estimators = 300, max_depth = 34, max_features = 0.381214, Score = 0.38583\n",
      "56 n_estimators = 300, max_depth = 98, max_features = 0.606681, Score = 0.35721\n",
      "57 n_estimators = 300, max_depth = 70, max_features = 0.505130, Score = 0.36635\n",
      "58 n_estimators = 300, max_depth = 40, max_features = 0.190606, Score = 0.49061\n",
      "59 n_estimators = 300, max_depth = 10, max_features = 0.994146, Score = 0.37062\n",
      "60 n_estimators = 300, max_depth = 40, max_features = 0.918773, Score = 0.35001\n",
      "61 n_estimators = 300, max_depth = 78, max_features = 0.233594, Score = 0.49061\n",
      "62 n_estimators = 300, max_depth = 83, max_features = 0.816586, Score = 0.34967\n",
      "63 n_estimators = 300, max_depth = 12, max_features = 0.527276, Score = 0.38433\n",
      "64 n_estimators = 300, max_depth = 82, max_features = 0.130795, Score = 0.58466\n",
      "65 n_estimators = 300, max_depth =  6, max_features = 0.504408, Score = 0.56240\n",
      "66 n_estimators = 300, max_depth = 28, max_features = 0.862683, Score = 0.34951\n",
      "67 n_estimators = 300, max_depth =  2, max_features = 0.472777, Score = 0.87820\n",
      "68 n_estimators = 300, max_depth = 91, max_features = 0.348295, Score = 0.42487\n",
      "69 n_estimators = 300, max_depth = 50, max_features = 0.819896, Score = 0.34942\n",
      "70 n_estimators = 300, max_depth = 91, max_features = 0.831063, Score = 0.34942\n",
      "71 n_estimators = 300, max_depth = 89, max_features = 0.107401, Score = 0.58466\n",
      "72 n_estimators = 300, max_depth = 72, max_features = 0.871864, Score = 0.34942\n",
      "73 n_estimators = 300, max_depth = 33, max_features = 0.225273, Score = 0.49047\n",
      "74 n_estimators = 300, max_depth = 77, max_features = 0.802391, Score = 0.34967\n",
      "75 n_estimators = 300, max_depth = 64, max_features = 0.118005, Score = 0.58466\n",
      "76 n_estimators = 300, max_depth = 83, max_features = 0.899201, Score = 0.34942\n",
      "77 n_estimators = 300, max_depth = 95, max_features = 0.240073, Score = 0.49061\n",
      "78 n_estimators = 300, max_depth = 67, max_features = 0.725101, Score = 0.35140\n",
      "79 n_estimators = 300, max_depth = 50, max_features = 0.767912, Score = 0.34967\n",
      "80 n_estimators = 300, max_depth = 68, max_features = 0.115044, Score = 0.58466\n",
      "81 n_estimators = 300, max_depth =  6, max_features = 0.677662, Score = 0.52824\n",
      "82 n_estimators = 300, max_depth =  7, max_features = 0.700224, Score = 0.48259\n",
      "83 n_estimators = 300, max_depth = 50, max_features = 0.259060, Score = 0.49061\n",
      "84 n_estimators = 300, max_depth = 35, max_features = 0.902589, Score = 0.34943\n",
      "85 n_estimators = 300, max_depth = 69, max_features = 0.276339, Score = 0.42487\n",
      "86 n_estimators = 300, max_depth = 93, max_features = 0.955030, Score = 0.35001\n",
      "87 n_estimators = 300, max_depth =  6, max_features = 0.676456, Score = 0.52824\n",
      "88 n_estimators = 300, max_depth = 70, max_features = 0.566753, Score = 0.35721\n",
      "89 n_estimators = 300, max_depth = 93, max_features = 0.956132, Score = 0.35001\n",
      "90 n_estimators = 300, max_depth = 14, max_features = 0.699926, Score = 0.35434\n",
      "91 n_estimators = 300, max_depth = 97, max_features = 0.720750, Score = 0.35140\n",
      "92 n_estimators = 300, max_depth = 81, max_features = 0.369905, Score = 0.38581\n",
      "93 n_estimators = 300, max_depth = 31, max_features = 0.855232, Score = 0.34940\n",
      "94 n_estimators = 300, max_depth = 40, max_features = 0.974283, Score = 0.35001\n",
      "95 n_estimators = 300, max_depth = 42, max_features = 0.230465, Score = 0.49061\n",
      "96 n_estimators = 300, max_depth = 45, max_features = 0.645586, Score = 0.35140\n",
      "97 n_estimators = 300, max_depth = 55, max_features = 0.560973, Score = 0.35721\n",
      "98 n_estimators = 300, max_depth = 81, max_features = 0.957450, Score = 0.35001\n",
      "99 n_estimators = 300, max_depth = 47, max_features = 0.569106, Score = 0.35721\n",
      "(100, 5)\n"
     ]
    },
    {
     "data": {
      "text/html": [
       "<div>\n",
       "<style scoped>\n",
       "    .dataframe tbody tr th:only-of-type {\n",
       "        vertical-align: middle;\n",
       "    }\n",
       "\n",
       "    .dataframe tbody tr th {\n",
       "        vertical-align: top;\n",
       "    }\n",
       "\n",
       "    .dataframe thead th {\n",
       "        text-align: right;\n",
       "    }\n",
       "</style>\n",
       "<table border=\"1\" class=\"dataframe\">\n",
       "  <thead>\n",
       "    <tr style=\"text-align: right;\">\n",
       "      <th></th>\n",
       "      <th>epoch</th>\n",
       "      <th>score</th>\n",
       "      <th>n_estimators</th>\n",
       "      <th>max_depth</th>\n",
       "      <th>max_features</th>\n",
       "    </tr>\n",
       "  </thead>\n",
       "  <tbody>\n",
       "    <tr>\n",
       "      <th>93</th>\n",
       "      <td>93</td>\n",
       "      <td>0.349397</td>\n",
       "      <td>300</td>\n",
       "      <td>31</td>\n",
       "      <td>0.855232</td>\n",
       "    </tr>\n",
       "    <tr>\n",
       "      <th>70</th>\n",
       "      <td>70</td>\n",
       "      <td>0.349424</td>\n",
       "      <td>300</td>\n",
       "      <td>91</td>\n",
       "      <td>0.831063</td>\n",
       "    </tr>\n",
       "    <tr>\n",
       "      <th>69</th>\n",
       "      <td>69</td>\n",
       "      <td>0.349424</td>\n",
       "      <td>300</td>\n",
       "      <td>50</td>\n",
       "      <td>0.819896</td>\n",
       "    </tr>\n",
       "    <tr>\n",
       "      <th>2</th>\n",
       "      <td>2</td>\n",
       "      <td>0.349424</td>\n",
       "      <td>300</td>\n",
       "      <td>87</td>\n",
       "      <td>0.885345</td>\n",
       "    </tr>\n",
       "    <tr>\n",
       "      <th>72</th>\n",
       "      <td>72</td>\n",
       "      <td>0.349424</td>\n",
       "      <td>300</td>\n",
       "      <td>72</td>\n",
       "      <td>0.871864</td>\n",
       "    </tr>\n",
       "    <tr>\n",
       "      <th>43</th>\n",
       "      <td>43</td>\n",
       "      <td>0.349424</td>\n",
       "      <td>300</td>\n",
       "      <td>90</td>\n",
       "      <td>0.828870</td>\n",
       "    </tr>\n",
       "    <tr>\n",
       "      <th>76</th>\n",
       "      <td>76</td>\n",
       "      <td>0.349424</td>\n",
       "      <td>300</td>\n",
       "      <td>83</td>\n",
       "      <td>0.899201</td>\n",
       "    </tr>\n",
       "    <tr>\n",
       "      <th>53</th>\n",
       "      <td>53</td>\n",
       "      <td>0.349424</td>\n",
       "      <td>300</td>\n",
       "      <td>51</td>\n",
       "      <td>0.894346</td>\n",
       "    </tr>\n",
       "    <tr>\n",
       "      <th>10</th>\n",
       "      <td>10</td>\n",
       "      <td>0.349424</td>\n",
       "      <td>300</td>\n",
       "      <td>66</td>\n",
       "      <td>0.880324</td>\n",
       "    </tr>\n",
       "    <tr>\n",
       "      <th>18</th>\n",
       "      <td>18</td>\n",
       "      <td>0.349427</td>\n",
       "      <td>300</td>\n",
       "      <td>35</td>\n",
       "      <td>0.855635</td>\n",
       "    </tr>\n",
       "  </tbody>\n",
       "</table>\n",
       "</div>"
      ],
      "text/plain": [
       "    epoch     score  n_estimators  max_depth  max_features\n",
       "93     93  0.349397           300         31      0.855232\n",
       "70     70  0.349424           300         91      0.831063\n",
       "69     69  0.349424           300         50      0.819896\n",
       "2       2  0.349424           300         87      0.885345\n",
       "72     72  0.349424           300         72      0.871864\n",
       "43     43  0.349424           300         90      0.828870\n",
       "76     76  0.349424           300         83      0.899201\n",
       "53     53  0.349424           300         51      0.894346\n",
       "10     10  0.349424           300         66      0.880324\n",
       "18     18  0.349427           300         35      0.855635"
      ]
     },
     "execution_count": 447,
     "metadata": {},
     "output_type": "execute_result"
    }
   ],
   "source": [
    "# 파이썬의 선형대수 패키지인 Numpy를 가져옵니다.\n",
    "# 이를 줄여서 np라는 축약어로 사용합니다.\n",
    "import numpy as np\n",
    "\n",
    "# scikit-learn 패키지의 ensemble 모듈에 있는 RandomForestRegressor를 가지고 옵니다.\n",
    "from sklearn.ensemble import RandomForestRegressor\n",
    "\n",
    "# scikit-learn 패키지의 model_selection 모듈에 있는 cross_val_predict 함수를 가지고 옵니다.\n",
    "from sklearn.model_selection import cross_val_predict\n",
    "\n",
    "# scikit-learn의 metrics 모듈에서 mean_squared_log_error라는 이름의 함수를 가져옵니다.\n",
    "# 이 함수는 앞서 설명한 RMSLE에서 R(Root)를 제외한 나머지 부분을 계산해줍니다.\n",
    "from sklearn.metrics import mean_squared_log_error\n",
    "\n",
    "# n_estimators는 트리의 갯수입니다.\n",
    "# 보통은 높을수록 좋지만, 그만큼 실행 속도가 오래 걸리기 때문에 이번에는 적당한 값을 주겠습니다. (300 개)\n",
    "# 나머지 하이퍼패리미터가 전부 튜닝되면, 그 다음에는 n_estimators를 최대한 높이 주면 됩니다. (ex: 1,000 개)\n",
    "n_estimators = 300\n",
    "\n",
    "# 랜덤 서치를 반복할 횟수입니다.\n",
    "# 보통 100번을 반복합니다.\n",
    "num_epoch = 100\n",
    "\n",
    "# hyperparameter 탐색 결과를 리스트로 저장합니다.\n",
    "coarse_hyperparameters_list = []\n",
    "\n",
    "# num_epoch 횟수만큼 랜덤 서치를 반복합니다.\n",
    "for epoch in range(num_epoch):\n",
    "    # 2에서 100 사이의 정수형(int) 값을 랜덤하게 생성하여 max_depth 변수에 할당합니다.\n",
    "    max_depth = np.random.randint(low = 2, high = 100)\n",
    "\n",
    "    # 0.1에서 1.0 사이의 실수형(float) 값을 랜덤하게 생성하여  max_features 변수에 할당합니다.\n",
    "    # uniform은 주사위 던지기처럼 공평하게 나오게...0.1과 1.0사이에서 공평하게 나오게 하는 것\n",
    "    max_features = np.random.uniform(low = 0.1, high = 1.0)\n",
    "\n",
    "    # Random Forest를 생성합니다. 옵션은 다음과 같습니다.\n",
    "    # 1) n_estimators. 트리의 갯수입니다.\n",
    "    # 2) max_depth. 트리의 깊이입니다. 지정한 숫자만큼 트리가 깊게 가지를 뻗습니다.\n",
    "    # 3) max_features. Feature Sampling입니다. 0.0 ~ 1.0 사이의 값을 넣으면, 트리를 생성할 때 전체 feature에서 지정한 비율만큼만 feature를 사용합니다.\n",
    "    # 4) n_jobs. 병렬처리 여부입니다. -1을 대입하면 컴퓨터에 존재하는 모든 코어(Core, ex: 듀얼코어, 쿼드코어)를 전부 활용합니다.\n",
    "    # 5) random_state. 랜덤포레스트의 결과가 랜덤하게 나오는 것을 고정하는 옵션입니다. 아무 숫자나 넣어주면 됩니다. (공학 용어에서 쓰이는 Seed Number와 동일한 개념입니다)\n",
    "    model = RandomForestRegressor(n_estimators = n_estimators,\n",
    "                                  max_depth = max_depth,\n",
    "                                  max_features = max_features,\n",
    "                                  n_jobs = -1,\n",
    "                                  random_state = 37)\n",
    "\n",
    "    # 주어진 모델(랜덤포레스트)를 활용하여 Cross Validation을 합니다.\n",
    "    # Cross Validation을 할 때는 cross_val_predict라는 함수를 사용하며, 이 함수에는 다음의 옵션이 들어갑니다.\n",
    "    # 1) model. 점수를 측정할 머신러닝 모델(현재는 Random Forest)이 들어갑니다.\n",
    "    # 2) X_train. train 데이터의 feature 입니다.\n",
    "    # 3) y_train. train 데이터의 label 입니다.\n",
    "    # 4) cv. Cross Validation에서 데이터를 조각낼(split) 갯수입니다. 총 20조각을 내야하기 때문에 20을 대입합니다.\n",
    "    # 단, 이 Cross Validation을 할 때는 count 컬럼 하나를 사용하는게 아니라,\n",
    "    # count, casual, registered 컬럼 세 개를 따로 예측합니다.\n",
    "    # 또한 count, casual, registered 세 개를 그냥 사용하지 않고, log + 1 연산을 한 결과를 사용합니다.\n",
    "    y_predict_log_casual = cross_val_predict(model, X_train, y_train_log_casual, cv = 20)\n",
    "    y_predict_log_registered = cross_val_predict(model, X_train, y_train_log_registered, cv = 20)\n",
    "    y_predict_log_count = cross_val_predict(model, X_train, y_train_log_count, cv = 20)\n",
    "\n",
    "    # 위 Cross Validation을 통해 얻은 예측값을, exp - 1 연산을 함으로서\n",
    "    # 다시 원래 자전거 대여량으로 변환시킵니다.\n",
    "    y_predict_casual = np.exp(y_predict_log_casual) - 1\n",
    "    y_predict_registered = np.exp(y_predict_log_registered) - 1\n",
    "    y_predict_count = np.exp(y_predict_log_count) - 1\n",
    "\n",
    "    # 이 결과를 기하평균을 통해 하나로 합칩니다.\n",
    "    # 이렇게 하면 결과적으로 train 데이터의 자전거 대여량의 예측값이 나옵니다.\n",
    "    # 이 예측값을 y_predict라는 변수에 할당합니다.\n",
    "    y_predict = np.sqrt((y_predict_casual + y_predict_registered) * y_predict_count)\n",
    "\n",
    "    # train 데이터의 label에 해당하는 y_train과, train 데이터의 label의 예측값인 y_predict를 활용하여\n",
    "    # Mean Squared Logarithmic Error(MSLE)를 계산합니다.\n",
    "    # 이후 여기에 numpy의 sqrt(square root)를 활용하여 루트 연산을 합니다.\n",
    "    # 이 결과가 사실상 Root Mean Squared Logarithmic Error(RMSLE)가 됩니다.\n",
    "    # 이를 score라는 이름의 변수에 할당합니다.\n",
    "    score = mean_squared_log_error(y_train_count, y_predict)\n",
    "    score = np.sqrt(score)\n",
    "    \n",
    "    # hyperparameter 탐색 결과를 딕셔너리화 합니다.\n",
    "    hyperparameters = {\n",
    "        'epoch': epoch,\n",
    "        'score': score,\n",
    "        'n_estimators': n_estimators,\n",
    "        'max_depth': max_depth,\n",
    "        'max_features': max_features,\n",
    "    }\n",
    "\n",
    "    # hyperparameter 탐색 결과를 리스트에 저장합니다.\n",
    "    coarse_hyperparameters_list.append(hyperparameters)\n",
    "\n",
    "    # hyperparameter 탐색 결과를 출력합니다.\n",
    "    print(f\"{epoch:2} n_estimators = {n_estimators}, max_depth = {max_depth:2}, max_features = {max_features:.6f}, Score = {score:.5f}\")\n",
    "\n",
    "# coarse_hyperparameters_list를 Pandas의 DataFrame으로 변환합니다.\n",
    "coarse_hyperparameters_list = pd.DataFrame.from_dict(coarse_hyperparameters_list)\n",
    "\n",
    "# 변환한 coarse_hyperparameters_list를 score가 낮은 순으로 정렬합니다.\n",
    "# (RMSE는 score가 낮을 수록 더 정확도가 높다고 가정합니다)\n",
    "coarse_hyperparameters_list = coarse_hyperparameters_list.sort_values(by=\"score\")\n",
    "\n",
    "# coarse_hyperparameters_list 변수에 할당된 데이터의 행렬 사이즈를 출력합니다.\n",
    "# 출력은 (row, column) 으로 표시됩니다.\n",
    "print(coarse_hyperparameters_list.shape)\n",
    "\n",
    "# coarse_hyperparameters_list의 상위 10개를 출력합니다.\n",
    "coarse_hyperparameters_list.head(10)"
   ]
  },
  {
   "cell_type": "markdown",
   "metadata": {
    "colab_type": "text",
    "id": "kpJoTk8YGriC"
   },
   "source": [
    "Coarse Search가 끝났으면, 상위 5 ~ 10개의 결과만 출력한 뒤 이 결과를 낸 하이퍼패러미터 범위만 남겨놓고 다시 한 번 Random Search를 합니다. 이를 Fine Search라고 합니다.\n",
    "\n",
    "가령 위 Coarse Search를 통해, 다음의 하이퍼패러미터가 상위 5 ~ 10개 안에 들었다고 가정하겠습니다.\n",
    "\n",
    "  * max_depth = 40개 ~ 100개\n",
    "  * max_features = 0.7 ~ 1.0\n",
    "  \n",
    "이제 위 코드를 그대로 사용하되, 다음의 부분만 수정한 뒤 다시 한 번 Random Search를 하겠습니다.\n",
    "\n",
    "```\n",
    "# 40에서 100 사이의 정수형(int) 값을 랜덤하게 생성하여 max_depth 변수에 할당합니다.\n",
    "max_depth = np.random.randint(low=40, high=100)\n",
    "\n",
    "# 0.6에서 1.0 사이의 실수형(float) 값을 랜덤하게 생성하여  max_features 변수에 할당합니다.\n",
    "max_features = np.random.uniform(low=0.7, high=1.0) \n",
    "```"
   ]
  },
  {
   "cell_type": "markdown",
   "metadata": {
    "colab_type": "text",
    "id": "f9a79nM4GriD"
   },
   "source": [
    "### Random Search(Fine)"
   ]
  },
  {
   "cell_type": "markdown",
   "metadata": {},
   "source": [
    "epoch 100번 돌린 후에 제일 점수 잘 나온 것 1개만 건짐"
   ]
  },
  {
   "cell_type": "code",
   "execution_count": 448,
   "metadata": {
    "colab": {},
    "colab_type": "code",
    "id": "QG928uWXGriD",
    "outputId": "55aa74f7-3200-4165-d6ba-a5c0120baa94"
   },
   "outputs": [
    {
     "name": "stdout",
     "output_type": "stream",
     "text": [
      " 0 n_estimators = 300, max_depth = 60, max_features = 0.850295, Score = 0.35721\n",
      " 1 n_estimators = 300, max_depth = 78, max_features = 0.858569, Score = 0.35721\n",
      " 2 n_estimators = 300, max_depth = 93, max_features = 0.910448, Score = 0.35721\n",
      " 3 n_estimators = 300, max_depth = 67, max_features = 0.937055, Score = 0.35721\n",
      " 4 n_estimators = 300, max_depth = 60, max_features = 0.830438, Score = 0.35721\n",
      " 5 n_estimators = 300, max_depth = 49, max_features = 0.903580, Score = 0.35721\n",
      " 6 n_estimators = 300, max_depth = 79, max_features = 0.817744, Score = 0.35721\n",
      " 7 n_estimators = 300, max_depth = 69, max_features = 0.904661, Score = 0.35721\n",
      " 8 n_estimators = 300, max_depth = 83, max_features = 0.938640, Score = 0.35721\n",
      " 9 n_estimators = 300, max_depth = 98, max_features = 0.837175, Score = 0.35721\n",
      "10 n_estimators = 300, max_depth = 85, max_features = 0.859819, Score = 0.35721\n",
      "11 n_estimators = 300, max_depth = 83, max_features = 0.854498, Score = 0.35721\n",
      "12 n_estimators = 300, max_depth = 93, max_features = 0.942860, Score = 0.35721\n",
      "13 n_estimators = 300, max_depth = 66, max_features = 0.845346, Score = 0.35721\n",
      "14 n_estimators = 300, max_depth = 99, max_features = 0.882566, Score = 0.35721\n",
      "15 n_estimators = 300, max_depth = 61, max_features = 0.868376, Score = 0.35721\n",
      "16 n_estimators = 300, max_depth = 55, max_features = 0.846141, Score = 0.35721\n",
      "17 n_estimators = 300, max_depth = 54, max_features = 0.981776, Score = 0.35721\n",
      "18 n_estimators = 300, max_depth = 96, max_features = 0.961383, Score = 0.35721\n",
      "19 n_estimators = 300, max_depth = 41, max_features = 0.917586, Score = 0.35721\n",
      "20 n_estimators = 300, max_depth = 64, max_features = 0.916957, Score = 0.35721\n",
      "21 n_estimators = 300, max_depth = 66, max_features = 0.905565, Score = 0.35721\n",
      "22 n_estimators = 300, max_depth = 50, max_features = 0.984348, Score = 0.35721\n",
      "23 n_estimators = 300, max_depth = 85, max_features = 0.969197, Score = 0.35721\n",
      "24 n_estimators = 300, max_depth = 46, max_features = 0.995209, Score = 0.35721\n",
      "25 n_estimators = 300, max_depth = 89, max_features = 0.867183, Score = 0.35721\n",
      "26 n_estimators = 300, max_depth = 40, max_features = 0.914423, Score = 0.35721\n",
      "27 n_estimators = 300, max_depth = 83, max_features = 0.822393, Score = 0.35721\n",
      "28 n_estimators = 300, max_depth = 41, max_features = 0.988728, Score = 0.35721\n",
      "29 n_estimators = 300, max_depth = 83, max_features = 0.804548, Score = 0.35721\n",
      "30 n_estimators = 300, max_depth = 47, max_features = 0.811369, Score = 0.35721\n",
      "31 n_estimators = 300, max_depth = 70, max_features = 0.846879, Score = 0.35721\n",
      "32 n_estimators = 300, max_depth = 48, max_features = 0.956290, Score = 0.35721\n",
      "33 n_estimators = 300, max_depth = 95, max_features = 0.926608, Score = 0.35721\n",
      "34 n_estimators = 300, max_depth = 77, max_features = 0.957847, Score = 0.35721\n",
      "35 n_estimators = 300, max_depth = 55, max_features = 0.940207, Score = 0.35721\n",
      "36 n_estimators = 300, max_depth = 73, max_features = 0.953970, Score = 0.35721\n",
      "37 n_estimators = 300, max_depth = 76, max_features = 0.963827, Score = 0.35721\n",
      "38 n_estimators = 300, max_depth = 45, max_features = 0.994275, Score = 0.35721\n",
      "39 n_estimators = 300, max_depth = 49, max_features = 0.866406, Score = 0.35721\n",
      "40 n_estimators = 300, max_depth = 92, max_features = 0.953560, Score = 0.35721\n",
      "41 n_estimators = 300, max_depth = 86, max_features = 0.911490, Score = 0.35721\n",
      "42 n_estimators = 300, max_depth = 52, max_features = 0.981872, Score = 0.35721\n",
      "43 n_estimators = 300, max_depth = 86, max_features = 0.954440, Score = 0.35721\n",
      "44 n_estimators = 300, max_depth = 48, max_features = 0.910817, Score = 0.35721\n",
      "45 n_estimators = 300, max_depth = 43, max_features = 0.868232, Score = 0.35721\n",
      "46 n_estimators = 300, max_depth = 52, max_features = 0.888043, Score = 0.35721\n",
      "47 n_estimators = 300, max_depth = 62, max_features = 0.980753, Score = 0.35721\n",
      "48 n_estimators = 300, max_depth = 99, max_features = 0.913671, Score = 0.35721\n",
      "49 n_estimators = 300, max_depth = 65, max_features = 0.943591, Score = 0.35721\n",
      "50 n_estimators = 300, max_depth = 97, max_features = 0.924524, Score = 0.35721\n",
      "51 n_estimators = 300, max_depth = 61, max_features = 0.946191, Score = 0.35721\n",
      "52 n_estimators = 300, max_depth = 56, max_features = 0.826215, Score = 0.35721\n",
      "53 n_estimators = 300, max_depth = 59, max_features = 0.831970, Score = 0.35721\n",
      "54 n_estimators = 300, max_depth = 52, max_features = 0.962921, Score = 0.35721\n",
      "55 n_estimators = 300, max_depth = 58, max_features = 0.882207, Score = 0.35721\n",
      "56 n_estimators = 300, max_depth = 49, max_features = 0.962916, Score = 0.35721\n",
      "57 n_estimators = 300, max_depth = 73, max_features = 0.935650, Score = 0.35721\n",
      "58 n_estimators = 300, max_depth = 48, max_features = 0.915306, Score = 0.35721\n",
      "59 n_estimators = 300, max_depth = 99, max_features = 0.811885, Score = 0.35721\n",
      "60 n_estimators = 300, max_depth = 89, max_features = 0.855160, Score = 0.35721\n",
      "61 n_estimators = 300, max_depth = 81, max_features = 0.949981, Score = 0.35721\n",
      "62 n_estimators = 300, max_depth = 97, max_features = 0.803436, Score = 0.35721\n",
      "63 n_estimators = 300, max_depth = 78, max_features = 0.860679, Score = 0.35721\n",
      "64 n_estimators = 300, max_depth = 70, max_features = 0.857269, Score = 0.35721\n",
      "65 n_estimators = 300, max_depth = 68, max_features = 0.825268, Score = 0.35721\n",
      "66 n_estimators = 300, max_depth = 97, max_features = 0.936275, Score = 0.35721\n",
      "67 n_estimators = 300, max_depth = 40, max_features = 0.839068, Score = 0.35721\n",
      "68 n_estimators = 300, max_depth = 72, max_features = 0.883187, Score = 0.35721\n",
      "69 n_estimators = 300, max_depth = 63, max_features = 0.956551, Score = 0.35721\n",
      "70 n_estimators = 300, max_depth = 75, max_features = 0.974324, Score = 0.35721\n",
      "71 n_estimators = 300, max_depth = 45, max_features = 0.853732, Score = 0.35721\n",
      "72 n_estimators = 300, max_depth = 99, max_features = 0.864854, Score = 0.35721\n",
      "73 n_estimators = 300, max_depth = 44, max_features = 0.837430, Score = 0.35721\n",
      "74 n_estimators = 300, max_depth = 76, max_features = 0.811327, Score = 0.35721\n",
      "75 n_estimators = 300, max_depth = 86, max_features = 0.923762, Score = 0.35721\n",
      "76 n_estimators = 300, max_depth = 54, max_features = 0.955967, Score = 0.35721\n",
      "77 n_estimators = 300, max_depth = 58, max_features = 0.927493, Score = 0.35721\n",
      "78 n_estimators = 300, max_depth = 89, max_features = 0.998435, Score = 0.35721\n",
      "79 n_estimators = 300, max_depth = 53, max_features = 0.844034, Score = 0.35721\n",
      "80 n_estimators = 300, max_depth = 92, max_features = 0.808938, Score = 0.35721\n",
      "81 n_estimators = 300, max_depth = 59, max_features = 0.809856, Score = 0.35721\n",
      "82 n_estimators = 300, max_depth = 64, max_features = 0.994292, Score = 0.35721\n",
      "83 n_estimators = 300, max_depth = 96, max_features = 0.887525, Score = 0.35721\n",
      "84 n_estimators = 300, max_depth = 51, max_features = 0.911435, Score = 0.35721\n",
      "85 n_estimators = 300, max_depth = 64, max_features = 0.825243, Score = 0.35721\n",
      "86 n_estimators = 300, max_depth = 56, max_features = 0.939218, Score = 0.35721\n",
      "87 n_estimators = 300, max_depth = 90, max_features = 0.962066, Score = 0.35721\n",
      "88 n_estimators = 300, max_depth = 82, max_features = 0.908390, Score = 0.35721\n",
      "89 n_estimators = 300, max_depth = 97, max_features = 0.998688, Score = 0.35721\n",
      "90 n_estimators = 300, max_depth = 46, max_features = 0.894716, Score = 0.35721\n",
      "91 n_estimators = 300, max_depth = 75, max_features = 0.994973, Score = 0.35721\n",
      "92 n_estimators = 300, max_depth = 45, max_features = 0.866757, Score = 0.35721\n",
      "93 n_estimators = 300, max_depth = 98, max_features = 0.958710, Score = 0.35721\n",
      "94 n_estimators = 300, max_depth = 97, max_features = 0.915432, Score = 0.35721\n",
      "95 n_estimators = 300, max_depth = 60, max_features = 0.880753, Score = 0.35721\n",
      "96 n_estimators = 300, max_depth = 98, max_features = 0.819239, Score = 0.35721\n",
      "97 n_estimators = 300, max_depth = 54, max_features = 0.887151, Score = 0.35721\n",
      "98 n_estimators = 300, max_depth = 46, max_features = 0.888905, Score = 0.35721\n",
      "99 n_estimators = 300, max_depth = 82, max_features = 0.903188, Score = 0.35721\n",
      "(100, 5)\n"
     ]
    },
    {
     "data": {
      "text/html": [
       "<div>\n",
       "<style scoped>\n",
       "    .dataframe tbody tr th:only-of-type {\n",
       "        vertical-align: middle;\n",
       "    }\n",
       "\n",
       "    .dataframe tbody tr th {\n",
       "        vertical-align: top;\n",
       "    }\n",
       "\n",
       "    .dataframe thead th {\n",
       "        text-align: right;\n",
       "    }\n",
       "</style>\n",
       "<table border=\"1\" class=\"dataframe\">\n",
       "  <thead>\n",
       "    <tr style=\"text-align: right;\">\n",
       "      <th></th>\n",
       "      <th>epoch</th>\n",
       "      <th>score</th>\n",
       "      <th>n_estimators</th>\n",
       "      <th>max_depth</th>\n",
       "      <th>max_features</th>\n",
       "    </tr>\n",
       "  </thead>\n",
       "  <tbody>\n",
       "    <tr>\n",
       "      <th>0</th>\n",
       "      <td>0</td>\n",
       "      <td>0.357213</td>\n",
       "      <td>300</td>\n",
       "      <td>60</td>\n",
       "      <td>0.850295</td>\n",
       "    </tr>\n",
       "    <tr>\n",
       "      <th>72</th>\n",
       "      <td>72</td>\n",
       "      <td>0.357213</td>\n",
       "      <td>300</td>\n",
       "      <td>99</td>\n",
       "      <td>0.864854</td>\n",
       "    </tr>\n",
       "    <tr>\n",
       "      <th>71</th>\n",
       "      <td>71</td>\n",
       "      <td>0.357213</td>\n",
       "      <td>300</td>\n",
       "      <td>45</td>\n",
       "      <td>0.853732</td>\n",
       "    </tr>\n",
       "    <tr>\n",
       "      <th>70</th>\n",
       "      <td>70</td>\n",
       "      <td>0.357213</td>\n",
       "      <td>300</td>\n",
       "      <td>75</td>\n",
       "      <td>0.974324</td>\n",
       "    </tr>\n",
       "    <tr>\n",
       "      <th>69</th>\n",
       "      <td>69</td>\n",
       "      <td>0.357213</td>\n",
       "      <td>300</td>\n",
       "      <td>63</td>\n",
       "      <td>0.956551</td>\n",
       "    </tr>\n",
       "    <tr>\n",
       "      <th>68</th>\n",
       "      <td>68</td>\n",
       "      <td>0.357213</td>\n",
       "      <td>300</td>\n",
       "      <td>72</td>\n",
       "      <td>0.883187</td>\n",
       "    </tr>\n",
       "    <tr>\n",
       "      <th>67</th>\n",
       "      <td>67</td>\n",
       "      <td>0.357213</td>\n",
       "      <td>300</td>\n",
       "      <td>40</td>\n",
       "      <td>0.839068</td>\n",
       "    </tr>\n",
       "    <tr>\n",
       "      <th>66</th>\n",
       "      <td>66</td>\n",
       "      <td>0.357213</td>\n",
       "      <td>300</td>\n",
       "      <td>97</td>\n",
       "      <td>0.936275</td>\n",
       "    </tr>\n",
       "    <tr>\n",
       "      <th>65</th>\n",
       "      <td>65</td>\n",
       "      <td>0.357213</td>\n",
       "      <td>300</td>\n",
       "      <td>68</td>\n",
       "      <td>0.825268</td>\n",
       "    </tr>\n",
       "    <tr>\n",
       "      <th>64</th>\n",
       "      <td>64</td>\n",
       "      <td>0.357213</td>\n",
       "      <td>300</td>\n",
       "      <td>70</td>\n",
       "      <td>0.857269</td>\n",
       "    </tr>\n",
       "  </tbody>\n",
       "</table>\n",
       "</div>"
      ],
      "text/plain": [
       "    epoch     score  n_estimators  max_depth  max_features\n",
       "0       0  0.357213           300         60      0.850295\n",
       "72     72  0.357213           300         99      0.864854\n",
       "71     71  0.357213           300         45      0.853732\n",
       "70     70  0.357213           300         75      0.974324\n",
       "69     69  0.357213           300         63      0.956551\n",
       "68     68  0.357213           300         72      0.883187\n",
       "67     67  0.357213           300         40      0.839068\n",
       "66     66  0.357213           300         97      0.936275\n",
       "65     65  0.357213           300         68      0.825268\n",
       "64     64  0.357213           300         70      0.857269"
      ]
     },
     "execution_count": 448,
     "metadata": {},
     "output_type": "execute_result"
    }
   ],
   "source": [
    "# 파이썬의 선형대수 패키지인 Numpy를 가져옵니다.\n",
    "# 이를 줄여서 np라는 축약어로 사용합니다.\n",
    "import numpy as np\n",
    "\n",
    "# scikit-learn 패키지의 ensemble 모듈에 있는 RandomForestRegressor를 가지고 옵니다.\n",
    "from sklearn.ensemble import RandomForestRegressor\n",
    "\n",
    "# scikit-learn 패키지의 model_selection 모듈에 있는 cross_val_predict 함수를 가지고 옵니다.\n",
    "from sklearn.model_selection import cross_val_predict\n",
    "\n",
    "# scikit-learn의 metrics 모듈에서 mean_squared_log_error라는 이름의 함수를 가져옵니다.\n",
    "# 이 함수는 앞서 설명한 RMSLE에서 R(Root)를 제외한 나머지 부분을 계산해줍니다.\n",
    "from sklearn.metrics import mean_squared_log_error\n",
    "\n",
    "# n_estimators는 트리의 갯수입니다.\n",
    "# 보통은 높을수록 좋지만, 그만큼 실행 속도가 오래 걸리기 때문에 이번에는 적당한 값을 주겠습니다. (300 개)\n",
    "# 나머지 하이퍼패리미터가 전부 튜닝되면, 그 다음에는 n_estimators를 최대한 높이 주면 됩니다. (ex: 1,000 개)\n",
    "n_estimators = 300\n",
    "\n",
    "# 랜덤 서치를 반복할 횟수입니다.\n",
    "# 보통 100번을 반복합니다.\n",
    "num_epoch = 100\n",
    "\n",
    "# hyperparameter 탐색 결과를 리스트로 저장합니다.\n",
    "fine_hyperparameters_list = []\n",
    "\n",
    "# num_epoch 횟수만큼 랜덤 서치를 반복합니다.\n",
    "for epoch in range(num_epoch):\n",
    "    # 40에서 100 사이의 정수형(int) 값을 랜덤하게 생성하여 max_depth 변수에 할당합니다.\n",
    "    max_depth = np.random.randint(low = 40, high = 100)\n",
    "\n",
    "    # 0.6에서 1.0 사이의 실수형(float) 값을 랜덤하게 생성하여  max_features 변수에 할당합니다.\n",
    "    max_features = np.random.uniform(low = 0.8, high = 1.0)\n",
    "\n",
    "    # Random Forest를 생성합니다. 옵션은 다음과 같습니다.\n",
    "    # 1) n_estimators. 트리의 갯수입니다.\n",
    "    # 2) max_depth. 트리의 깊이입니다. 지정한 숫자만큼 트리가 깊게 가지를 뻗습니다.\n",
    "    # 3) max_features. Feature Sampling입니다. 0.0 ~ 1.0 사이의 값을 넣으면, 트리를 생성할 때 전체 feature에서 지정한 비율만큼만 feature를 사용합니다.\n",
    "    # 4) n_jobs. 병렬처리 여부입니다. -1을 대입하면 컴퓨터에 존재하는 모든 코어(Core, ex: 듀얼코어, 쿼드코어)를 전부 활용합니다.\n",
    "    # 5) random_state. 랜덤포레스트의 결과가 랜덤하게 나오는 것을 고정하는 옵션입니다. 아무 숫자나 넣어주면 됩니다. (공학 용어에서 쓰이는 Seed Number와 동일한 개념입니다)\n",
    "    model = RandomForestRegressor(n_estimators = n_estimators,\n",
    "                                  max_depth = max_depth,\n",
    "                                  max_features = max_features,\n",
    "                                  n_jobs = -1,\n",
    "                                  random_state = 37)\n",
    "\n",
    "    # 주어진 모델(랜덤포레스트)를 활용하여 Cross Validation을 합니다.\n",
    "    # Cross Validation을 할 때는 cross_val_predict라는 함수를 사용하며, 이 함수에는 다음의 옵션이 들어갑니다.\n",
    "    # 1) model. 점수를 측정할 머신러닝 모델(현재는 Random Forest)이 들어갑니다.\n",
    "    # 2) X_train. train 데이터의 feature 입니다.\n",
    "    # 3) y_train. train 데이터의 label 입니다.\n",
    "    # 4) cv. Cross Validation에서 데이터를 조각낼(split) 갯수입니다. 총 20조각을 내야하기 때문에 20을 대입합니다.\n",
    "    # 단, 이 Cross Validation을 할 때는 count 컬럼 하나를 사용하는게 아니라,\n",
    "    # count, casual, registered 컬럼 세 개를 따로 예측합니다.\n",
    "    # 또한 count, casual, registered 세 개를 그냥 사용하지 않고, log + 1 연산을 한 결과를 사용합니다.\n",
    "    y_predict_log_casual = cross_val_predict(model, X_train, y_train_log_casual, cv = 20)\n",
    "    y_predict_log_registered = cross_val_predict(model, X_train, y_train_log_registered, cv = 20)\n",
    "    y_predict_log_count = cross_val_predict(model, X_train, y_train_log_count, cv = 20)\n",
    "\n",
    "    # 위 Cross Validation을 통해 얻은 예측값을, exp - 1 연산을 함으로서\n",
    "    # 다시 원래 자전거 대여량으로 변환시킵니다.\n",
    "    y_predict_casual = np.exp(y_predict_log_casual) - 1\n",
    "    y_predict_registered = np.exp(y_predict_log_registered) - 1\n",
    "    y_predict_count = np.exp(y_predict_log_count) - 1\n",
    "\n",
    "    # 이 결과를 기하평균을 통해 하나로 합칩니다.\n",
    "    # 이렇게 하면 결과적으로 train 데이터의 자전거 대여량의 예측값이 나옵니다.\n",
    "    # 이 예측값을 y_predict라는 변수에 할당합니다.\n",
    "    y_predict = np.sqrt((y_predict_casual + y_predict_registered) * y_predict_count)\n",
    "    \n",
    "    # hyperparameter 탐색 결과를 딕셔너리화 합니다.\n",
    "    hyperparameters = {\n",
    "        'epoch': epoch,\n",
    "        'score': score,\n",
    "        'n_estimators': n_estimators,\n",
    "        'max_depth': max_depth,\n",
    "        'max_features': max_features,\n",
    "    }\n",
    "\n",
    "    # hyperparameter 탐색 결과를 리스트에 저장합니다.\n",
    "    fine_hyperparameters_list.append(hyperparameters)\n",
    "\n",
    "    # hyperparameter 탐색 결과를 출력합니다.\n",
    "    print(f\"{epoch:2} n_estimators = {n_estimators}, max_depth = {max_depth:2}, max_features = {max_features:.6f}, Score = {score:.5f}\")\n",
    "\n",
    "# fine_hyperparameters_list를 Pandas의 DataFrame으로 변환합니다.\n",
    "fine_hyperparameters_list = pd.DataFrame.from_dict(fine_hyperparameters_list)\n",
    "\n",
    "# 변환한 fine_hyperparameters_list를 score가 낮은 순으로 정렬합니다.\n",
    "# (RMSE는 score가 낮을 수록 더 정확도가 높다고 가정합니다)\n",
    "fine_hyperparameters_list = fine_hyperparameters_list.sort_values(by=\"score\")\n",
    "\n",
    "# fine_hyperparameters_list 변수에 할당된 데이터의 행렬 사이즈를 출력합니다.\n",
    "# 출력은 (row, column) 으로 표시됩니다.\n",
    "print(fine_hyperparameters_list.shape)\n",
    "\n",
    "# fine_hyperparameters_list의 상위 10개를 출력합니다.\n",
    "fine_hyperparameters_list.head(10)"
   ]
  },
  {
   "cell_type": "markdown",
   "metadata": {
    "colab_type": "text",
    "id": "uY40jJa3GriF"
   },
   "source": [
    "탐색 결과 다음의 하이퍼패러미터가 가장 좋은 하이퍼패러미터라는 사실을 발견할 수 있습니다."
   ]
  },
  {
   "cell_type": "code",
   "execution_count": 449,
   "metadata": {
    "colab": {},
    "colab_type": "code",
    "id": "qp6PPhZMGriF",
    "outputId": "8f1f91b8-c03c-4614-a7c0-a9466cad3f34"
   },
   "outputs": [
    {
     "name": "stdout",
     "output_type": "stream",
     "text": [
      "max_depth(best) = 60.0, max_features(best) = 0.850295\n"
     ]
    }
   ],
   "source": [
    "# 가장 score가 낮게 나온(=좋은 정확도가 나온) 하이퍼패러미터를 가져옵니다.\n",
    "# 이를 best_hyperparameters라는 이름의 변수에 저장합니다.\n",
    "best_hyperparameters = fine_hyperparameters_list.iloc[0]\n",
    "\n",
    "# best_hyperparameters에서 max_depth 하이퍼패러미터만 가져옵니다.\n",
    "# 이를 best_max_depth라는 이름의 변수에 저장합니다.\n",
    "best_max_depth = best_hyperparameters[\"max_depth\"]\n",
    "\n",
    "# best_hyperparameters에서 max_features 하이퍼패러미터만 가져옵니다.\n",
    "# 이를 best_max_features라는 이름의 변수에 저장합니다.\n",
    "best_max_features = best_hyperparameters[\"max_features\"]\n",
    "\n",
    "# best_max_depth와 best_max_features를 출력합니다.\n",
    "print(f\"max_depth(best) = {best_max_depth}, max_features(best) = {best_max_features:.6f}\")"
   ]
  },
  {
   "cell_type": "markdown",
   "metadata": {
    "colab_type": "text",
    "id": "-XBTK8uqGriH"
   },
   "source": [
    "## Predict\n",
    "\n",
    "좋은 하이퍼패러미터를 찾았으면, 이제 이 하이퍼패러미터를 활용해 머신러닝 모델을 학습할 시간입니다.\n",
    "\n",
    "scikit-learn에 있는 머신러닝 알고리즘에는 크게 두 가지 기능이 있습니다.\n",
    "\n",
    "  * **fit**: 머신러닝 알고리즘을 학습시킵니다. 학습이라는 건 쉽게 말해 \"머신러닝 알고리즘이 스스로 데이터에서 패턴을 찾는 행위\"를 학습한다고 하며, 전문용어로 traning 내지는 fitting한다고 하기 때문에 fit이라는 표현을 사용합니다. fit을 하기 위해서는 train 데이터가 필요하며, 정확히는 train 데이터의 feature(X_train)와 label(y_train)이 필요합니다.\n",
    "  * **predict**: **fit**이 끝나면, 이후에 **predict**를 통해 예측을 할 수 있습니다. predict를 하기 위해서는 test 데이터가 필요하며, 정확히는 test 데이터의 feature(X_test)가 필요합니다."
   ]
  },
  {
   "cell_type": "code",
   "execution_count": 450,
   "metadata": {
    "colab": {},
    "colab_type": "code",
    "id": "1iPuJkLRGriH",
    "outputId": "2c3282a1-8855-4baa-88a4-758db705170d"
   },
   "outputs": [
    {
     "data": {
      "text/plain": [
       "RandomForestRegressor(bootstrap=True, ccp_alpha=0.0, criterion='mse',\n",
       "                      max_depth=60.0, max_features=0.8502949212369033,\n",
       "                      max_leaf_nodes=None, max_samples=None,\n",
       "                      min_impurity_decrease=0.0, min_impurity_split=None,\n",
       "                      min_samples_leaf=1, min_samples_split=2,\n",
       "                      min_weight_fraction_leaf=0.0, n_estimators=3000,\n",
       "                      n_jobs=-1, oob_score=False, random_state=37, verbose=0,\n",
       "                      warm_start=False)"
      ]
     },
     "execution_count": 450,
     "metadata": {},
     "output_type": "execute_result"
    }
   ],
   "source": [
    "# scikit-learn 패키지의 ensemble 모듈에 있는 RandomForestRegressor를 가지고 옵니다.\n",
    "from sklearn.ensemble import RandomForestRegressor\n",
    "\n",
    "# 하이퍼패러미터 튜닝이 끝났으면, 이제 n_estimators를 가능한 높은 값을 주겠습니다.\n",
    "best_n_estimators = 3000\n",
    "\n",
    "# 주의: 혹시 하이퍼패러미터 튜닝을 하는데 시간이 너무 오래 걸린다면,\n",
    "# 이를 대신해서 다음의 하이퍼패러미터를 사용해주세요. (아래 두 줄의 주석을 풀면 됩니다)\n",
    "# best_max_depth = 97\n",
    "# best_max_features = 0.897703\n",
    "        \n",
    "# RandomForestRegressor를 생성합니다. 실행할 때는 다음의 옵션이 들어갑니다.\n",
    "# 1) n_estimators. 트리의 갯수입니다. 지정한 갯수만큼 트리를 생성합니다.\n",
    "# 2) max_depth. 트리의 깊이입니다. 지정한 숫자만큼 트리가 깊게 가지를 뻗습니다.\n",
    "# 3) max_features. Feature Sampling입니다. 0.0 ~ 1.0 사이의 값을 넣으면, 트리를 생성할 때 전체 feature에서 지정한 비율만큼만 feature를 사용합니다.\n",
    "# 4) n_jobs. 병렬처리 여부입니다. -1을 대입하면 컴퓨터에 존재하는 모든 코어(Core, ex: 듀얼코어, 쿼드코어)를 전부 활용합니다.\n",
    "# 5) random_state. 랜덤포레스트의 결과가 랜덤하게 나오는 것을 고정하는 옵션입니다. 아무 숫자나 넣어주면 됩니다. (공학 용어에서 쓰이는 Seed Number와 동일한 개념입니다)\n",
    "model = RandomForestRegressor(n_estimators = best_n_estimators,\n",
    "                              max_depth = best_max_depth,\n",
    "                              max_features = best_max_features,\n",
    "                              random_state = 37,\n",
    "                              n_jobs = -1)\n",
    "model"
   ]
  },
  {
   "cell_type": "code",
   "execution_count": 451,
   "metadata": {
    "colab": {},
    "colab_type": "code",
    "id": "JRNx7ts2GriK",
    "outputId": "c00c813d-3065-45d3-b0ba-d7eb4ff69a15"
   },
   "outputs": [
    {
     "name": "stdout",
     "output_type": "stream",
     "text": [
      "(6493,)\n"
     ]
    },
    {
     "data": {
      "text/plain": [
       "array([ 11.61726049,   4.96380011,   2.84136734, ..., 100.03377644,\n",
       "        96.15805063,  47.05858235])"
      ]
     },
     "execution_count": 451,
     "metadata": {},
     "output_type": "execute_result"
    }
   ],
   "source": [
    "# 머신러닝 모델을 학습하되, log + 1 연산을 한 비회원의 자전거 대여량(casual)을 label로 지정합니다.\n",
    "model.fit(X_train, y_train_log_casual)\n",
    "\n",
    "# 이 모델로 test 데이터의 log + 1 연산을 한 비회원의 자전거 대여량(casual)을 예측합니다.\n",
    "log_casual_predictions = model.predict(X_test)\n",
    "\n",
    "# 머신러닝 모델을 학습하되, log + 1 연산을 한 회원의 자전거 대여량(registered)을 label로 지정합니다.\n",
    "model.fit(X_train, y_train_log_registered)\n",
    "\n",
    "# 이 모델로 test 데이터의 log + 1 연산을 한 회원의 자전거 대여량(registered)을 예측합니다.\n",
    "log_registered_predictions = model.predict(X_test)\n",
    "\n",
    "# 머신러닝 모델을 학습하되, log + 1 연산을 한 자전거 대여량(count)을 label로 지정합니다.\n",
    "model.fit(X_train, y_train_log_count)\n",
    "\n",
    "# 이 모델로 test 데이터의 log + 1 연산을 한 자전거 대여량(count)을 예측합니다.\n",
    "log_count_predictions = model.predict(X_test)\n",
    "\n",
    "# 세 개의 예측값에 전부 exp - 1 연산을 해서\n",
    "# 원래 자전거 대여량으로 변환합니다.\n",
    "casual_predictions = np.exp(log_casual_predictions) - 1\n",
    "registered_predictions = np.exp(log_registered_predictions) - 1\n",
    "count_predictions = np.exp(log_count_predictions) - 1\n",
    "\n",
    "# 이 자전거 대여량을 기하평균을 사용하여 하나로 합칩니다.\n",
    "# 그 결과를 predictions 이라는 값에 할당합니다.\n",
    "predictions = np.sqrt((casual_predictions + registered_predictions) * count_predictions)\n",
    "\n",
    "# predictions 변수에 할당된 데이터의 사이즈를 출력합니다.\n",
    "# 출력은 (row, column) 으로 표시되나, column이 없기 때문에 (row,) 형태로 표시될 것입니다.\n",
    "print(predictions.shape)\n",
    "\n",
    "# predictions 데이터 띄웁니다.\n",
    "predictions"
   ]
  },
  {
   "cell_type": "markdown",
   "metadata": {
    "colab_type": "text",
    "id": "Jx9hALLGGriM"
   },
   "source": [
    "## Submit\n",
    "\n",
    "머신러닝 알고리즘을 활용해서 우리는 test 데이터에 있는 자전거 대여량(count)을 예측하였습니다. 이제 우리에게 남은 건 이를 캐글([kaggle](http://kaggle.com/))이 권장하는 제출(submission) 포멧에 맞게 정리한 뒤 파일로 저장하는 것입니다.\n",
    "\n",
    "캐글의 [Bike Sharing Demand](https://www.kaggle.com/c/bike-sharing-demand) 경진대회에서는 **sampleSubmission.csv**라는 제출 포멧을 제공합니다. ([다운로드 링크](https://www.kaggle.com/c/bike-sharing-demand/data)) 우리는 우리가 예측한 값을 이 제출 포멧에 맞게 집어넣고 저장할 것입니다."
   ]
  },
  {
   "cell_type": "code",
   "execution_count": 452,
   "metadata": {
    "colab": {},
    "colab_type": "code",
    "id": "HrbB9HqxGriM",
    "outputId": "bc1513c8-edd9-47f6-a5f0-63bfdaef8e7c"
   },
   "outputs": [
    {
     "name": "stdout",
     "output_type": "stream",
     "text": [
      "(6493, 2)\n"
     ]
    },
    {
     "data": {
      "text/html": [
       "<div>\n",
       "<style scoped>\n",
       "    .dataframe tbody tr th:only-of-type {\n",
       "        vertical-align: middle;\n",
       "    }\n",
       "\n",
       "    .dataframe tbody tr th {\n",
       "        vertical-align: top;\n",
       "    }\n",
       "\n",
       "    .dataframe thead th {\n",
       "        text-align: right;\n",
       "    }\n",
       "</style>\n",
       "<table border=\"1\" class=\"dataframe\">\n",
       "  <thead>\n",
       "    <tr style=\"text-align: right;\">\n",
       "      <th></th>\n",
       "      <th>datetime</th>\n",
       "      <th>count</th>\n",
       "    </tr>\n",
       "  </thead>\n",
       "  <tbody>\n",
       "    <tr>\n",
       "      <th>0</th>\n",
       "      <td>2011-01-20 00:00:00</td>\n",
       "      <td>0</td>\n",
       "    </tr>\n",
       "    <tr>\n",
       "      <th>1</th>\n",
       "      <td>2011-01-20 01:00:00</td>\n",
       "      <td>0</td>\n",
       "    </tr>\n",
       "    <tr>\n",
       "      <th>2</th>\n",
       "      <td>2011-01-20 02:00:00</td>\n",
       "      <td>0</td>\n",
       "    </tr>\n",
       "    <tr>\n",
       "      <th>3</th>\n",
       "      <td>2011-01-20 03:00:00</td>\n",
       "      <td>0</td>\n",
       "    </tr>\n",
       "    <tr>\n",
       "      <th>4</th>\n",
       "      <td>2011-01-20 04:00:00</td>\n",
       "      <td>0</td>\n",
       "    </tr>\n",
       "  </tbody>\n",
       "</table>\n",
       "</div>"
      ],
      "text/plain": [
       "              datetime  count\n",
       "0  2011-01-20 00:00:00      0\n",
       "1  2011-01-20 01:00:00      0\n",
       "2  2011-01-20 02:00:00      0\n",
       "3  2011-01-20 03:00:00      0\n",
       "4  2011-01-20 04:00:00      0"
      ]
     },
     "execution_count": 452,
     "metadata": {},
     "output_type": "execute_result"
    }
   ],
   "source": [
    "# 캐글이 제공하는 제출 포멧(sampleSubmission.csv)을 읽어옵니다.\n",
    "# 이를 submission 이라는 이름의 변수에 할당합니다.\n",
    "submission = pd.read_csv(\"data/sampleSubmission.csv\")\n",
    "\n",
    "# submission 변수에 할당된 데이터의 행렬 사이즈를 출력합니다.\n",
    "# 출력은 (row, column) 으로 표시됩니다.\n",
    "print(submission.shape)\n",
    "\n",
    "# submission 데이터의 상위 5개를 띄웁니다.\n",
    "submission.head()"
   ]
  },
  {
   "cell_type": "code",
   "execution_count": 453,
   "metadata": {
    "colab": {},
    "colab_type": "code",
    "id": "pZ_wCrCxGriO",
    "outputId": "63c341a4-b590-4e30-a258-c5620ffbcb52"
   },
   "outputs": [
    {
     "name": "stdout",
     "output_type": "stream",
     "text": [
      "(6493, 2)\n"
     ]
    },
    {
     "data": {
      "text/html": [
       "<div>\n",
       "<style scoped>\n",
       "    .dataframe tbody tr th:only-of-type {\n",
       "        vertical-align: middle;\n",
       "    }\n",
       "\n",
       "    .dataframe tbody tr th {\n",
       "        vertical-align: top;\n",
       "    }\n",
       "\n",
       "    .dataframe thead th {\n",
       "        text-align: right;\n",
       "    }\n",
       "</style>\n",
       "<table border=\"1\" class=\"dataframe\">\n",
       "  <thead>\n",
       "    <tr style=\"text-align: right;\">\n",
       "      <th></th>\n",
       "      <th>datetime</th>\n",
       "      <th>count</th>\n",
       "    </tr>\n",
       "  </thead>\n",
       "  <tbody>\n",
       "    <tr>\n",
       "      <th>0</th>\n",
       "      <td>2011-01-20 00:00:00</td>\n",
       "      <td>11.617260</td>\n",
       "    </tr>\n",
       "    <tr>\n",
       "      <th>1</th>\n",
       "      <td>2011-01-20 01:00:00</td>\n",
       "      <td>4.963800</td>\n",
       "    </tr>\n",
       "    <tr>\n",
       "      <th>2</th>\n",
       "      <td>2011-01-20 02:00:00</td>\n",
       "      <td>2.841367</td>\n",
       "    </tr>\n",
       "    <tr>\n",
       "      <th>3</th>\n",
       "      <td>2011-01-20 03:00:00</td>\n",
       "      <td>2.735455</td>\n",
       "    </tr>\n",
       "    <tr>\n",
       "      <th>4</th>\n",
       "      <td>2011-01-20 04:00:00</td>\n",
       "      <td>2.347133</td>\n",
       "    </tr>\n",
       "  </tbody>\n",
       "</table>\n",
       "</div>"
      ],
      "text/plain": [
       "              datetime      count\n",
       "0  2011-01-20 00:00:00  11.617260\n",
       "1  2011-01-20 01:00:00   4.963800\n",
       "2  2011-01-20 02:00:00   2.841367\n",
       "3  2011-01-20 03:00:00   2.735455\n",
       "4  2011-01-20 04:00:00   2.347133"
      ]
     },
     "execution_count": 453,
     "metadata": {},
     "output_type": "execute_result"
    }
   ],
   "source": [
    "# 제출 포멧(submission)의 자전거 대여량(count) 컬럼에 우리의 예측값(predictions)를 집어넣습니다.\n",
    "# 두 데이터 모두 길이가 6493개로 동일하기 때문에, 등호(=)를 통해 쉽게 예측값을 넣을 수 있습니다.\n",
    "submission[\"count\"] = predictions\n",
    "\n",
    "# submission 변수에 할당된 데이터의 행렬 사이즈를 출력합니다.\n",
    "# 출력은 (row, column) 으로 표시됩니다.\n",
    "print(submission.shape)\n",
    "\n",
    "# submission 데이터의 상위 5개를 띄웁니다.\n",
    "submission.head()"
   ]
  },
  {
   "cell_type": "code",
   "execution_count": 454,
   "metadata": {
    "colab": {},
    "colab_type": "code",
    "id": "E5ldN-6AGriT"
   },
   "outputs": [],
   "source": [
    "# 마지막으로 submission 변수에 들어간 값을 csv 형식의 데이터로 저장합니다.\n",
    "submission.to_csv(\"data/baseline-script_0.38474.csv\", index=False)"
   ]
  },
  {
   "cell_type": "markdown",
   "metadata": {
    "colab_type": "text",
    "id": "mFA12XjZGriU"
   },
   "source": [
    "## 마무리\n",
    "\n",
    "이로서 이번 수업의 목표인 [bike sharing demand](https://www.kaggle.com/c/bike-sharing-demand) 경진대회의 최상위권 (134/3251등, 상위 4.12%)에 도달하는 방법을 배웠습니다. 캐글은 공신력있는 데이터 사이언스 경진대회인데, 상위 5% 안에 들었다면 현업에서 일 하는 데이터 사이언티스트 중에서도 굉장히 잘 하는 축에 속한다고 볼 수 있습니다. (보통 시니어 데이터 사이언티스트의 기준을 상위 5%로 잡곤 합니다. ([링크 참고](https://www.kaggle.com/progression)))\n",
    "\n",
    "하지만 여기에 담겨진 내용 외에도 추가로 시도할 굉장히 많은 아이디어들이 있습니다. 몇 가지 예를 들자면\n",
    "\n",
    "몇몇 힌트를 드리자면\n",
    "\n",
    "  * 이전 수업에서 탐험적 데이터 분석(EDA)으로 분석한 결과를 바탕으로 feature를 새롭게 추가하거나, 고치거나, 아니면 제거할 수도 있습니다. 가령 앞서 분석한 결과를 바탕으로 온도와 체감온도의 차이(```temp(difference)```)를 새로운 feature로 추가하는 것도 가능합니다.\n",
    "  * 이미 존재하는 컬럼의 값을 수정해서 적용하는 것도 가능합니다. 계절(```season```)이나 날씨(```weather```)를 One Hot Encoding해서 머신러닝 모델에 넣는다던가, 풍속(```windspeeed```)의 빈 값을 모종의 제대로된 값으로 채워서 머신러닝 알고리즘에 넣는 것도 방법입니다.\n",
    "  * 아니면 아예 다른 관점에서 머신러닝 모델의 성능을 개선할 수 있습니다. 가령 우리가 사용한 머신러닝 알고리즘([RandomForestRegressor](https://scikit-learn.org/stable/modules/generated/sklearn.ensemble.RandomForestRegressor.html)의 여러 옵션들을 살펴본 뒤 이를 고치는 것도 방법이고, 아예 새로운 머신러닝 알고리즘을 적용하는 것도 좋은 아이디어입니다. (새로운 머신러닝 알고리즘에 관심이 있는 분들은, [Gradient Boosting](https://medium.com/mlreview/gradient-boosting-from-scratch-1e317ae4587d) 또는 [XGBoost](https://xgboost.readthedocs.io/en/latest/)나 [LightGBM](https://lightgbm.readthedocs.io/en/latest/)을 살펴보세요.\n",
    "  \n",
    "위의 힌트, 또는 본인이 생각하기에 중요하다고 생각되는 부분을 머신러닝 알고리즘에 적용해서 개선해보세요. 주어진 형식에 구애받지 않고 자유롭게 데이터와 모델을 고쳐나가면 됩니다. 하지만 모델을 개선하는 과정에서 몇몇 도움이 되는 노하우를 공유하자면\n",
    "\n",
    "  * 앞서 과제와 마찬가지로, 지금 상황에서 중요한건 창의성보다는 검색과 벤치마킹입니다. 유사 솔루션, 경진대회, 데이터셋을 벤치마킹하는 실력도 매우 중요합니다. 캐글에서는 보통 [Kernel](https://www.kaggle.com/c/bike-sharing-demand/kernels) 탭에서 사람들이 본인들만의 분석 결과와 솔루션을 올리고, [Discussion](https://www.kaggle.com/c/bike-sharing-demand/discussion) 탭에서 경진대회에 대한 토론을 합니다. 이 탭을 집중적으로 살펴보고 벤치마킹 해주세요. 심지어 [이런](https://www.kaggle.com/viveksrinivasan/eda-ensemble-model-top-10-percentile/notebook) 페이지에는 경진대회 상위 10%에 도달하는 노하우가 그대로 공유되어 있습니다. 이 노하우만 잘 이해해도 충분합니다.\n",
    "  * 그리고 비슷하게, [Bike Sharing Demand](https://www.kaggle.com/c/bike-sharing-demand) 경진대회의 다양한 솔루션들을 구글에서 찾을 수도 있습니다. [다음의 링크](https://www.analyticsvidhya.com/blog/2015/06/solution-kaggle-competition-bike-sharing-demand/)나 [다음의 링크](https://medium.com/@viveksrinivasan/how-to-finish-top-10-percentile-in-bike-sharing-demand-competition-in-kaggle-part-1-c816ea9c51e1)처럼 이 경진대회에 대해 자세히 분석하고 솔루션을 제시하는 곳도 있습니다. 이런 솔루션을 구글에서 찾아서 적극적으로 벤치마킹 해주세요.\n",
    "  * 마지막으로, 데이터는 많이 분석하면 분석할수록 노하우가 쌓입니다. 그리고 캐글 경진대회도 많이 참여할수록 점점 노하우가 쌓이게 됩니다. 그런 의미에서, 이전에 참여한 경진대회에서 먹혔던 분석 노하우가 전략을 적극적으로 활용해보세요. 가령 [Titanic](https://www.kaggle.com/c/titanic) 경진대회에서 먹혔던 전략을 그대로 활용하는 것도 가능합니다.\n",
    "  \n",
    "만일 이 쥬피터 노트북에서 달성한 점수(RMSLE 기준 0.38474)보다 더 좋은 점수를 달성했다면, 구현한 쥬피터 노트북을 슬랙으로 제출해주시면 수업 외적으로도 피드백을 해드립니다.\n",
    "\n",
    "쥬피터 노트북 파일은 좌상단의 File -> Download as -> Notebook(.ipynb)를 클릭하면 다운받을 수 있습니다. "
   ]
  },
  {
   "cell_type": "code",
   "execution_count": null,
   "metadata": {
    "colab": {},
    "colab_type": "code",
    "id": "tQeI0_9kGriV"
   },
   "outputs": [],
   "source": []
  }
 ],
 "metadata": {
  "colab": {
   "collapsed_sections": [
    "asBpDvzVGrgv",
    "5SLOYGHkGrgv",
    "HWIH3sO2Grgw",
    "HITbzMgiGrgw",
    "KSEjqRQwGrgz",
    "7JMhO8enGrgz",
    "kipgFNbSGrg0",
    "MZ2HIp1-Grg1",
    "KkEbSJEzGrg8",
    "M3hOo3ISGrg8",
    "Zqg_G0ceGrg9",
    "OOwheAnxGrg9",
    "RPYn97EYGrg-",
    "bB6Tb_GPGrhN",
    "ruNojgzKGrhO",
    "r6R1-BSDGrhO",
    "AWTc5mjhGrhS",
    "MxEidZgKGrhT",
    "mknKUPo1GrhZ",
    "MgzxUtZ0GrhZ",
    "_j21ZcOJGrhZ",
    "rwtADrI4Grha",
    "X5SeiBHFGrhg",
    "elnnSlJBGrhh",
    "SxEeTeK4Grhh",
    "g4zcjb73Grhi",
    "woRSoGZyGrhi",
    "MWRU7oCFGrhm",
    "hTxIkmmiGrhm",
    "jetG6OLnGriA",
    "KHnAe8vhGriB",
    "f9a79nM4GriD",
    "-XBTK8uqGriH",
    "Jx9hALLGGriM",
    "mFA12XjZGriU"
   ],
   "name": "04-01_baseline-script_0.38474(solution).ipynb",
   "provenance": []
  },
  "kernelspec": {
   "display_name": "Python 3",
   "language": "python",
   "name": "python3"
  },
  "language_info": {
   "codemirror_mode": {
    "name": "ipython",
    "version": 3
   },
   "file_extension": ".py",
   "mimetype": "text/x-python",
   "name": "python",
   "nbconvert_exporter": "python",
   "pygments_lexer": "ipython3",
   "version": "3.7.6"
  }
 },
 "nbformat": 4,
 "nbformat_minor": 4
}
