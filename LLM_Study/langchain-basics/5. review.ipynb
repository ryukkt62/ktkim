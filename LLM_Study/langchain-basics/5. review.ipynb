{
 "cells": [
  {
   "cell_type": "code",
   "execution_count": 1,
   "metadata": {},
   "outputs": [],
   "source": [
    "from langchain_ollama import ChatOllama\n",
    "\n",
    "llm = ChatOllama(\n",
    "    model=\"llama3.2:1b\",\n",
    "    temperature=0,\n",
    "    # other params...\n",
    ")"
   ]
  },
  {
   "cell_type": "code",
   "execution_count": 9,
   "metadata": {},
   "outputs": [],
   "source": [
    "# 음식 이름 찾기\n",
    "\n",
    "from langchain_core.output_parsers import StrOutputParser\n",
    "from langchain_core.prompts import PromptTemplate\n",
    "\n",
    "food_prompt = PromptTemplate(\n",
    "    # 줄바꿈도 다 토큰 1개, 비용 아끼자!\n",
    "    # Please를 쓰면 답변을 더 잘 생성해줌. 한국말로 할 때는 무조건 존댓말로\n",
    "    template=\"\"\"what is one of the most popular food in {country}? Please return the name of the food only\"\"\",\n",
    "    input_variables=[\"country\"]\n",
    ")\n",
    "\n",
    "\n",
    "food_chain = food_prompt | llm | StrOutputParser()"
   ]
  },
  {
   "cell_type": "code",
   "execution_count": 10,
   "metadata": {},
   "outputs": [
    {
     "data": {
      "text/plain": [
       "'Bibimbap.'"
      ]
     },
     "execution_count": 10,
     "metadata": {},
     "output_type": "execute_result"
    }
   ],
   "source": [
    "food_chain.invoke({\"country\": \"South Korea\"})"
   ]
  },
  {
   "cell_type": "code",
   "execution_count": 15,
   "metadata": {},
   "outputs": [],
   "source": [
    "from langchain_core.prompts import ChatPromptTemplate\n",
    "recipe_prompt = ChatPromptTemplate.from_messages([\n",
    "    (\"system\", \"Provide t he recipe of the food that the user wants. Please return the recipe only as a numbered list\"),\n",
    "    (\"human\", \"Can you give me the recipe for making {food}?\")\n",
    "])\n",
    "\n",
    "recipe_chain = recipe_prompt | llm | StrOutputParser()\n",
    "# input tokens보다 Output tokens가 더 비쌈. 그러므로 답변은 내가 딱 원하는 것만 나오게!"
   ]
  },
  {
   "cell_type": "code",
   "execution_count": 16,
   "metadata": {},
   "outputs": [
    {
     "data": {
      "text/plain": [
       "\"Here's a traditional Korean recipe for Bibimbap:\\n\\n**Servings:** 4-6 people\\n\\n**Ingredients:**\\n\\n1. **Rice**: 2 cups of white or brown rice, cooked according to package instructions\\n2. **Vegetables**:\\n\\t* 1 cup of bean sprouts\\n\\t* 1 cup of shredded zucchini\\n\\t* 1 cup of diced carrots\\n\\t* 1/2 cup of diced cucumber\\n3. **Meat**:\\n\\t* 1/2 cup of thinly sliced beef ( ribeye or sirloin)\\n4. **Eggs**:\\n\\t* 2 eggs, fried sunny-side up\\n5. **Seasonings**:\\n\\t* 2 tablespoons of soy sauce\\n\\t* 1 tablespoon of sesame oil\\n\\t* 1 teaspoon of ground black pepper\\n6. **Garnishes**:\\n\\t* Chopped green onions\\n\\t* Sliced red bell peppers\\n\\t* Sesame seeds\\n\\n**Instructions:**\\n\\n1. Cook the rice according to package instructions.\\n2. In a separate pan, heat the sesame oil over medium-high heat. Add the sliced beef and cook until browned, about 3-4 minutes. Set aside.\\n3. In another pan, fry an egg sunny-side up.\\n4. To assemble the Bibimbap, place a scoop of cooked rice in a bowl.\\n5. Arrange the vegetables on top of the rice.\\n6. Add the cooked beef and fried egg on top of the vegetables.\\n7. Drizzle soy sauce and sesame oil over the dish.\\n8. Garnish with chopped green onions, sliced red bell peppers, and sesame seeds.\\n9. Serve immediately and enjoy!\\n\\n**Tips:**\\n\\n* Use a variety of colorful vegetables to make the dish visually appealing.\\n* You can also add other ingredients such as diced mushrooms or spinach to the rice bowl.\\n* For a spicy kick, add some gochujang (Korean chili paste) to the soy sauce mixture.\""
      ]
     },
     "execution_count": 16,
     "metadata": {},
     "output_type": "execute_result"
    }
   ],
   "source": [
    "# recipe_chain이 잘 되는지 보기\n",
    "recipe_chain.invoke({\"food\": \"bibimbap\"})"
   ]
  },
  {
   "cell_type": "code",
   "execution_count": 17,
   "metadata": {},
   "outputs": [],
   "source": [
    "# 'food'는 food_chain의 결과고, 얘를 recipe_chain에 줌\n",
    "final_chain = {'food':food_chain} | recipe_chain"
   ]
  },
  {
   "cell_type": "code",
   "execution_count": 18,
   "metadata": {},
   "outputs": [
    {
     "data": {
      "text/plain": [
       "'Here\\'s a classic recipe for making croissants:\\n\\n**Laminating the Dough**\\n\\n1. In a large mixing bowl, combine 1 1/2 cups warm milk (around 105°F to 115°F) and 1/4 cup granulated sugar. Sprinkle a pinch of active dry yeast over the mixture and let it sit for 5-10 minutes, or until the yeast becomes frothy.\\n2. Add 3 1/2 cups all-purpose flour, 1 teaspoon salt, and 1/4 cup unsalted butter, softened, to the bowl. Mix until a shaggy dough forms.\\n3. Knead the dough on a floured surface for 10-12 minutes, or until it becomes smooth and elastic.\\n4. Place the dough in a lightly oiled bowl, cover it with plastic wrap, and let it rise in a warm place for about 1 hour, or until it has doubled in size.\\n\\n**Rolling Out the Dough**\\n\\n5. Punch down the dough and roll it out into a large rectangle, approximately 1/4-inch thick.\\n6. Fold the rectangle in half lengthwise, like a letter, so that the long edges meet. This is called \"folding\" or \"turning.\"\\n7. Rotate the rectangle 90 degrees, so that the folded edge is facing you.\\n\\n**Laminating the Dough**\\n\\n8. Roll out the rectangle again to a large thickness, about 1/4-inch.\\n9. Fold the dough in half lengthwise, like before, and rotate it 90 degrees again.\\n10. Repeat steps 8-9 two more times, for a total of three laminations.\\n\\n**Cutting and Rolling Out the Dough**\\n\\n11. After the third lamination, roll out the dough to a large thickness, about 1/4-inch.\\n12. Cut the dough into long, thin triangles.\\n13. Roll each triangle into a croissant shape, starting from one of the wide ends.\\n\\n**Baking the Croissants**\\n\\n14. Place the croissants on a baking sheet lined with parchment paper, leaving about 1 inch of space between each pastry.\\n15. Brush the tops of the croissants with egg wash (beaten egg mixed with a little water).\\n16. Bake the croissants in a preheated oven at 400°F (200°C) for 15-20 minutes, or until golden brown.\\n\\n**Cooling and Storing**\\n\\n17. Remove the croissants from the oven and let them cool on a wire rack for at least 30 minutes.\\n18. Store the cooled croissants in an airtight container at room temperature for up to 3 days, or freeze for up to 2 months.\\n\\nNote: Making croissants requires patience and practice, as the laminating process can be time-consuming. But with persistence and attention to detail, you\\'ll be rewarded with delicious, flaky pastries!'"
      ]
     },
     "execution_count": 18,
     "metadata": {},
     "output_type": "execute_result"
    }
   ],
   "source": [
    "# final_chain 확인\n",
    "final_chain.invoke({\"country\": \"France\"})"
   ]
  },
  {
   "cell_type": "markdown",
   "metadata": {},
   "source": [
    "# 꿀팁: 프롬프트를 잘게 쪼개서 잇는게 좋음\n",
    "* ### 한국어를 쓸거면 llama3.3의 70b가 좋다"
   ]
  },
  {
   "cell_type": "markdown",
   "metadata": {},
   "source": []
  }
 ],
 "metadata": {
  "kernelspec": {
   "display_name": "langchain-basics",
   "language": "python",
   "name": "python3"
  },
  "language_info": {
   "codemirror_mode": {
    "name": "ipython",
    "version": 3
   },
   "file_extension": ".py",
   "mimetype": "text/x-python",
   "name": "python",
   "nbconvert_exporter": "python",
   "pygments_lexer": "ipython3",
   "version": "3.11.11"
  }
 },
 "nbformat": 4,
 "nbformat_minor": 2
}
