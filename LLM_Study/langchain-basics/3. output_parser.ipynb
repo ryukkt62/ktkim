{
 "cells": [
  {
   "cell_type": "code",
   "execution_count": 2,
   "metadata": {},
   "outputs": [],
   "source": [
    "# string\n",
    "from langchain_ollama import ChatOllama\n",
    "\n",
    "llm = ChatOllama(model=\"llama3.2:1b\")\n",
    "\n",
    "# llm.invoke(\"What is the capital of the France?\")"
   ]
  },
  {
   "cell_type": "code",
   "execution_count": 9,
   "metadata": {},
   "outputs": [
    {
     "name": "stdout",
     "output_type": "stream",
     "text": [
      "text='What is the capital of France? Return the name of the capital only.'\n",
      "content='Paris.' additional_kwargs={} response_metadata={'model': 'llama3.2:1b', 'created_at': '2025-02-19T06:35:06.000064Z', 'done': True, 'done_reason': 'stop', 'total_duration': 2357376576, 'load_duration': 1836031962, 'prompt_eval_count': 40, 'prompt_eval_duration': 388000000, 'eval_count': 3, 'eval_duration': 131000000, 'message': Message(role='assistant', content='', images=None, tool_calls=None)} id='run-755d962f-88ec-466c-b59d-4cf7a13f1c13-0' usage_metadata={'input_tokens': 40, 'output_tokens': 3, 'total_tokens': 43}\n"
     ]
    }
   ],
   "source": [
    "# prompt template\n",
    "from langchain_core.prompts import PromptTemplate\n",
    "from langchain_core.output_parsers import StrOutputParser\n",
    "\n",
    "prompt_template = PromptTemplate(\n",
    "    template=\"What is the capital of {country}? Return the name of the capital only.\",\n",
    "    input_variables=[\"country\"],\n",
    ")\n",
    "\n",
    "prompt = prompt_template.invoke({\"country\": \"France\"})\n",
    "print(prompt)\n",
    "\n",
    "ai_message = llm.invoke(prompt_template.invoke({\"country\": \"France\"}))\n",
    "print(ai_message)\n",
    "\n",
    "output_parser = StrOutputParser()\n",
    "\n",
    "answer = output_parser.invoke(llm.invoke(prompt_template.invoke({\"country\": \"France\"})))"
   ]
  },
  {
   "cell_type": "code",
   "execution_count": 10,
   "metadata": {},
   "outputs": [
    {
     "data": {
      "text/plain": [
       "AIMessage(content='Paris.', additional_kwargs={}, response_metadata={'model': 'llama3.2:1b', 'created_at': '2025-02-19T06:35:06.000064Z', 'done': True, 'done_reason': 'stop', 'total_duration': 2357376576, 'load_duration': 1836031962, 'prompt_eval_count': 40, 'prompt_eval_duration': 388000000, 'eval_count': 3, 'eval_duration': 131000000, 'message': Message(role='assistant', content='', images=None, tool_calls=None)}, id='run-755d962f-88ec-466c-b59d-4cf7a13f1c13-0', usage_metadata={'input_tokens': 40, 'output_tokens': 3, 'total_tokens': 43})"
      ]
     },
     "execution_count": 10,
     "metadata": {},
     "output_type": "execute_result"
    }
   ],
   "source": [
    "# AIMessage는 BaseMessage 중 하나\n",
    "ai_message"
   ]
  },
  {
   "cell_type": "code",
   "execution_count": 11,
   "metadata": {},
   "outputs": [
    {
     "data": {
      "text/plain": [
       "'Paris.'"
      ]
     },
     "execution_count": 11,
     "metadata": {},
     "output_type": "execute_result"
    }
   ],
   "source": [
    "# answer는 string\n",
    "answer"
   ]
  },
  {
   "cell_type": "code",
   "execution_count": 21,
   "metadata": {},
   "outputs": [],
   "source": [
    "# 개발할 때 Json도 많이 씀\n",
    "# Json output parser도 있음\n",
    "# 하지만 Json을 쓰는 것보다는 Pydantic을 쓰는 것이 좋음(꼭)\n",
    "# 그래야 우리가 원하는 답변을 안정적으로 일정하게 받아낼 수 있음\n",
    "\n",
    "from pydantic import BaseModel, Field\n",
    "\n",
    "class CountryDetail(BaseModel):\n",
    "    capital: str = Field(description=\"The capital of the country\")\n",
    "    population: int = Field(description=\"The population of the country\")\n",
    "    language: str = Field(description=\"The language of the country\")\n",
    "    currency: str = Field(description=\"The currency of the country\")\n",
    "\n",
    "structured_llm = llm.with_structured_output(CountryDetail)"
   ]
  },
  {
   "cell_type": "code",
   "execution_count": null,
   "metadata": {},
   "outputs": [],
   "source": [
    "from langchain_core.output_parsers import JsonOutputParser\n",
    "\n",
    "country_detail_prompt = PromptTemplate(\n",
    "    template=\"\"\"\n",
    "    Return the detail information of the {country}:\n",
    "    - Capital\n",
    "    - Population\n",
    "    - Language\n",
    "    - Currency\n",
    "    return it in JSON format. and return the JSON dictionary only.\n",
    "    \"\"\",\n",
    "    input_variables=[\"country\"],\n",
    ")\n",
    "\n",
    "country_detail_prompt.invoke({\"country\": \"France\"})\n",
    "# output_parser = JsonOutputParser()\n",
    "json_ai_message = structured_llm.invoke(country_detail_prompt.invoke({\"country\": \"France\"}))\n",
    "# output_parser.invoke(json_ai_message)\n"
   ]
  },
  {
   "cell_type": "code",
   "execution_count": 24,
   "metadata": {},
   "outputs": [
    {
     "data": {
      "text/plain": [
       "CountryDetail(capital='Paris', population=65275977, language='French', currency='Euro')"
      ]
     },
     "execution_count": 24,
     "metadata": {},
     "output_type": "execute_result"
    }
   ],
   "source": [
    "(json_ai_message)"
   ]
  },
  {
   "cell_type": "code",
   "execution_count": 26,
   "metadata": {},
   "outputs": [
    {
     "name": "stdout",
     "output_type": "stream",
     "text": [
      "Paris\n",
      "65275977\n",
      "French\n",
      "Euro\n"
     ]
    }
   ],
   "source": [
    "print(json_ai_message.capital)\n",
    "print(json_ai_message.population)\n",
    "print(json_ai_message.language)\n",
    "print(json_ai_message.currency)\n",
    "\n",
    "\n"
   ]
  },
  {
   "cell_type": "code",
   "execution_count": 27,
   "metadata": {},
   "outputs": [
    {
     "data": {
      "text/plain": [
       "{'capital': 'Paris',\n",
       " 'population': 65275977,\n",
       " 'language': 'French',\n",
       " 'currency': 'Euro'}"
      ]
     },
     "execution_count": 27,
     "metadata": {},
     "output_type": "execute_result"
    }
   ],
   "source": [
    "# json으로 만들기\n",
    "json_ai_message.model_dump()"
   ]
  },
  {
   "cell_type": "code",
   "execution_count": null,
   "metadata": {},
   "outputs": [],
   "source": []
  }
 ],
 "metadata": {
  "kernelspec": {
   "display_name": "langchain-basics",
   "language": "python",
   "name": "python3"
  },
  "language_info": {
   "codemirror_mode": {
    "name": "ipython",
    "version": 3
   },
   "file_extension": ".py",
   "mimetype": "text/x-python",
   "name": "python",
   "nbconvert_exporter": "python",
   "pygments_lexer": "ipython3",
   "version": "3.11.11"
  }
 },
 "nbformat": 4,
 "nbformat_minor": 2
}
