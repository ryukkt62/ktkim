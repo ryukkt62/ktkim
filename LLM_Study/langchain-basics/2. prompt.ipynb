{
 "cells": [
  {
   "cell_type": "code",
   "execution_count": 1,
   "metadata": {},
   "outputs": [
    {
     "data": {
      "text/plain": [
       "AIMessage(content='The capital of France is Paris.', additional_kwargs={}, response_metadata={'model': 'llama3.2:1b', 'created_at': '2025-02-19T05:40:14.853343Z', 'done': True, 'done_reason': 'stop', 'total_duration': 2529696999, 'load_duration': 1819262166, 'prompt_eval_count': 33, 'prompt_eval_duration': 325000000, 'eval_count': 8, 'eval_duration': 383000000, 'message': Message(role='assistant', content='', images=None, tool_calls=None)}, id='run-3a055c85-f0aa-4630-b22c-64a1ff180454-0', usage_metadata={'input_tokens': 33, 'output_tokens': 8, 'total_tokens': 41})"
      ]
     },
     "execution_count": 1,
     "metadata": {},
     "output_type": "execute_result"
    }
   ],
   "source": [
    "# string\n",
    "from langchain_ollama import ChatOllama\n",
    "\n",
    "llm = ChatOllama(model=\"llama3.2:1b\")\n",
    "\n",
    "llm.invoke(\"What is the capital of the France?\")"
   ]
  },
  {
   "cell_type": "markdown",
   "metadata": {},
   "source": [
    "#### prompt: LLM을 호출할 때 쓰는 명령어\n",
    "#### prompt에 들어갈 수 있는건 총 3개, 1. string 2. message 3. prompt template"
   ]
  },
  {
   "cell_type": "code",
   "execution_count": 2,
   "metadata": {},
   "outputs": [
    {
     "name": "stdout",
     "output_type": "stream",
     "text": [
      "text='What is the capital of France?'\n"
     ]
    }
   ],
   "source": [
    "# prompt template\n",
    "from langchain_core.prompts import PromptTemplate\n",
    "\n",
    "prompt_template = PromptTemplate(\n",
    "    template=\"What is the capital of {country}?\",\n",
    "    input_variables=[\"country\"],\n",
    ")\n",
    "\n",
    "prompt = prompt_template.invoke({\"country\": \"France\"})\n",
    "print(prompt)"
   ]
  },
  {
   "cell_type": "code",
   "execution_count": 3,
   "metadata": {},
   "outputs": [
    {
     "name": "stdout",
     "output_type": "stream",
     "text": [
      "text='What is the capital of France?'\n"
     ]
    },
    {
     "data": {
      "text/plain": [
       "AIMessage(content='The capital of France is Paris.', additional_kwargs={}, response_metadata={'model': 'llama3.2:1b', 'created_at': '2025-02-19T05:41:39.740645Z', 'done': True, 'done_reason': 'stop', 'total_duration': 564990670, 'load_duration': 35947941, 'prompt_eval_count': 32, 'prompt_eval_duration': 137000000, 'eval_count': 8, 'eval_duration': 391000000, 'message': Message(role='assistant', content='', images=None, tool_calls=None)}, id='run-fad144b6-48b8-49aa-9b1a-c605117be992-0', usage_metadata={'input_tokens': 32, 'output_tokens': 8, 'total_tokens': 40})"
      ]
     },
     "execution_count": 3,
     "metadata": {},
     "output_type": "execute_result"
    }
   ],
   "source": [
    "from langchain_core.prompts import PromptTemplate\n",
    "\n",
    "prompt_template = PromptTemplate(\n",
    "    template=\"What is the capital of {country}?\",\n",
    "    input_variables=[\"country\"],\n",
    ")\n",
    "\n",
    "prompt = prompt_template.invoke({\"country\": \"France\"})\n",
    "\n",
    "print(prompt)\n",
    "\n",
    "llm.invoke(prompt)"
   ]
  },
  {
   "cell_type": "code",
   "execution_count": null,
   "metadata": {},
   "outputs": [
    {
     "data": {
      "text/plain": [
       "AIMessage(content='The capital of France is Paris.', additional_kwargs={}, response_metadata={'model': 'llama3.2:1b', 'created_at': '2025-02-19T05:46:05.64682Z', 'done': True, 'done_reason': 'stop', 'total_duration': 497905765, 'load_duration': 29365763, 'prompt_eval_count': 33, 'prompt_eval_duration': 110000000, 'eval_count': 8, 'eval_duration': 357000000, 'message': Message(role='assistant', content='', images=None, tool_calls=None)}, id='run-1656427a-35ba-4b50-a217-f074f2dc7f0c-0', usage_metadata={'input_tokens': 33, 'output_tokens': 8, 'total_tokens': 41})"
      ]
     },
     "execution_count": 6,
     "metadata": {},
     "output_type": "execute_result"
    }
   ],
   "source": [
    "# message\n",
    "from langchain_core.messages import HumanMessage\n",
    "llm.invoke([HumanMessage(content=\"What is the capital of the France?\")])"
   ]
  },
  {
   "cell_type": "code",
   "execution_count": 11,
   "metadata": {},
   "outputs": [
    {
     "data": {
      "text/plain": [
       "AIMessage(content='', additional_kwargs={}, response_metadata={'model': 'llama3.2:1b', 'created_at': '2025-02-19T06:07:29.713005Z', 'done': True, 'done_reason': 'stop', 'total_duration': 3585097316, 'load_duration': 1848470189, 'prompt_eval_count': 100, 'prompt_eval_duration': 931000000, 'eval_count': 1, 'eval_duration': 1000000, 'message': Message(role='assistant', content='', images=None, tool_calls=None)}, id='run-0b44f515-4feb-4fbf-8804-bbd8bf2a35f4-0', usage_metadata={'input_tokens': 100, 'output_tokens': 1, 'total_tokens': 101})"
      ]
     },
     "execution_count": 11,
     "metadata": {},
     "output_type": "execute_result"
    }
   ],
   "source": [
    "from langchain_core.messages import HumanMessage, SystemMessage, AIMessage\n",
    "\n",
    "# message_list는 예제를 넣어주는 방식 \n",
    "message_list = [\n",
    "    SystemMessage(content=\"You are a helpful assistant that can answer questions.\"),\n",
    "    HumanMessage(content=\"What is the capital of the France?\"),\n",
    "    AIMessage(content=\"The capital of France is Paris.\"),\n",
    "    HumanMessage(content=\"What is the capital of the Germany?\"),\n",
    "    AIMessage(content=\"The capital of Germany is Berlin.\"),\n",
    "    HumanMessage(content=\"What is the capital of the Italy?\"),\n",
    "    AIMessage(content=\"The capital of Italy is Rome.\"),\n",
    "    ]\n",
    "\n",
    "llm.invoke(message_list)"
   ]
  },
  {
   "cell_type": "markdown",
   "metadata": {},
   "source": [
    "#### fewshots, oneshot: 여기서 show은 답변의 형식, 즉 예제\n",
    "#### 위의 코드에선 AIMessage가 예제로 들어감\n",
    "#### 답변을 우리가 원하는대로 하도록 유도하는 방식"
   ]
  },
  {
   "cell_type": "markdown",
   "metadata": {},
   "source": []
  },
  {
   "cell_type": "code",
   "execution_count": 13,
   "metadata": {},
   "outputs": [
    {
     "name": "stdout",
     "output_type": "stream",
     "text": [
      "messages=[SystemMessage(content='You are a helpful assistant that can answer questions.', additional_kwargs={}, response_metadata={}), HumanMessage(content='What is the capital of the France?', additional_kwargs={}, response_metadata={})]\n"
     ]
    }
   ],
   "source": [
    "# fewshot을 쓴다고 했을 때\n",
    "# 위의 message_list보다는 아래와 같은 방법이 좀 더 langchain 스러운 방법\n",
    "# LCEL이란걸 쓸 때, 위의 방식은 쓸 수 없는데 아래의 방식은 쓸 수 있음\n",
    "# 아래의 방식이 좀 더 확장성에서 좋음\n",
    "# 가급적이면 prompt template를 쓰는 것이 좋음\n",
    "\n",
    "from langchain_core.prompts import ChatPromptTemplate\n",
    "\n",
    "chat_prompt_template = ChatPromptTemplate.from_messages(\n",
    "    [\n",
    "        (\"system\", \"You are a helpful assistant that can answer questions.\"),\n",
    "        (\"human\", \"What is the capital of the {country}?\"),\n",
    "    ])\n",
    "\n",
    "chat_prompt = chat_prompt_template.invoke({\"country\": \"France\"})\n",
    "\n",
    "print(chat_prompt)"
   ]
  },
  {
   "cell_type": "code",
   "execution_count": 14,
   "metadata": {},
   "outputs": [
    {
     "data": {
      "text/plain": [
       "[SystemMessage(content='You are a helpful assistant that can answer questions.', additional_kwargs={}, response_metadata={}),\n",
       " HumanMessage(content='What is the capital of the France?', additional_kwargs={}, response_metadata={})]"
      ]
     },
     "execution_count": 14,
     "metadata": {},
     "output_type": "execute_result"
    }
   ],
   "source": [
    "chat_prompt.messages"
   ]
  },
  {
   "cell_type": "code",
   "execution_count": 15,
   "metadata": {},
   "outputs": [
    {
     "data": {
      "text/plain": [
       "AIMessage(content='The capital of France is Paris.', additional_kwargs={}, response_metadata={'model': 'llama3.2:1b', 'created_at': '2025-02-19T06:10:32.044148Z', 'done': True, 'done_reason': 'stop', 'total_duration': 536207516, 'load_duration': 119473184, 'prompt_eval_count': 43, 'prompt_eval_duration': 52000000, 'eval_count': 8, 'eval_duration': 363000000, 'message': Message(role='assistant', content='', images=None, tool_calls=None)}, id='run-61e4ce9a-e379-4d41-885d-616b7454b813-0', usage_metadata={'input_tokens': 43, 'output_tokens': 8, 'total_tokens': 51})"
      ]
     },
     "execution_count": 15,
     "metadata": {},
     "output_type": "execute_result"
    }
   ],
   "source": [
    "llm.invoke(chat_prompt)"
   ]
  },
  {
   "cell_type": "code",
   "execution_count": null,
   "metadata": {},
   "outputs": [],
   "source": []
  }
 ],
 "metadata": {
  "kernelspec": {
   "display_name": "langchain-basics",
   "language": "python",
   "name": "python3"
  },
  "language_info": {
   "codemirror_mode": {
    "name": "ipython",
    "version": 3
   },
   "file_extension": ".py",
   "mimetype": "text/x-python",
   "name": "python",
   "nbconvert_exporter": "python",
   "pygments_lexer": "ipython3",
   "version": "3.11.11"
  }
 },
 "nbformat": 4,
 "nbformat_minor": 2
}
