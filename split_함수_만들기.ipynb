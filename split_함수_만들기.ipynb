{
  "nbformat": 4,
  "nbformat_minor": 0,
  "metadata": {
    "colab": {
      "provenance": [],
      "authorship_tag": "ABX9TyMLHa/qAtz7CeKc4BW7YvqH",
      "include_colab_link": true
    },
    "kernelspec": {
      "name": "python3",
      "display_name": "Python 3"
    },
    "language_info": {
      "name": "python"
    }
  },
  "cells": [
    {
      "cell_type": "markdown",
      "metadata": {
        "id": "view-in-github",
        "colab_type": "text"
      },
      "source": [
        "<a href=\"https://colab.research.google.com/github/ryukkt62/ktkim/blob/main/split_%ED%95%A8%EC%88%98_%EB%A7%8C%EB%93%A4%EA%B8%B0.ipynb\" target=\"_parent\"><img src=\"https://colab.research.google.com/assets/colab-badge.svg\" alt=\"Open In Colab\"/></a>"
      ]
    },
    {
      "cell_type": "markdown",
      "source": [
        "# 1. split 함수 만들기(다:1)"
      ],
      "metadata": {
        "id": "v9kEZOjMJms3"
      }
    },
    {
      "cell_type": "code",
      "execution_count": null,
      "metadata": {
        "colab": {
          "base_uri": "https://localhost:8080/"
        },
        "id": "DC6x4y1lIDKQ",
        "outputId": "8efca096-b173-41e5-f1b8-152bc3ff465c"
      },
      "outputs": [
        {
          "output_type": "execute_result",
          "data": {
            "text/plain": [
              "array([ 1,  2,  3,  4,  5,  6,  7,  8,  9, 10])"
            ]
          },
          "metadata": {},
          "execution_count": 1
        }
      ],
      "source": [
        "# 1. 데이터\n",
        "import numpy as np\n",
        "dataset = np.array([1,2,3,4,5,6,7,8,9,10])\n",
        "dataset"
      ]
    },
    {
      "cell_type": "code",
      "source": [
        "# time_steps는 x의 row를 몇개씩 넣을건지\n",
        "def split_xy1(dataset, time_steps):\n",
        "    x, y = list(), list()\n",
        "    for i in range(len(dataset)):\n",
        "        end_number = i + time_steps\n",
        "        if end_number > len(dataset)-1:\n",
        "            break\n",
        "        tmp_x = dataset[i:end_number]\n",
        "        tmp_y = dataset[end_number]\n",
        "\n",
        "        x.append(tmp_x)\n",
        "        y.append(tmp_y)\n",
        "\n",
        "    return np.array(x), np.array(y)\n",
        "x, y = split_xy1(dataset,4)\n",
        "print('x',\"\\n\",x, \"\\n\", 'y', \"\\n\",y)\n",
        "print(\"x.shape: \", x.shape)\n",
        "print(\"y.shape: \", y.shape)"
      ],
      "metadata": {
        "colab": {
          "base_uri": "https://localhost:8080/"
        },
        "id": "qdDw98gFIqrf",
        "outputId": "9ac087a5-33ef-42d5-cd00-acc26f08b2df"
      },
      "execution_count": null,
      "outputs": [
        {
          "output_type": "stream",
          "name": "stdout",
          "text": [
            "x \n",
            " [[[ 1 11 21]\n",
            "  [ 2 12 22]\n",
            "  [ 3 13 23]\n",
            "  [ 4 14 24]]\n",
            "\n",
            " [[ 2 12 22]\n",
            "  [ 3 13 23]\n",
            "  [ 4 14 24]\n",
            "  [ 5 15 25]]\n",
            "\n",
            " [[ 3 13 23]\n",
            "  [ 4 14 24]\n",
            "  [ 5 15 25]\n",
            "  [ 6 16 26]]\n",
            "\n",
            " [[ 4 14 24]\n",
            "  [ 5 15 25]\n",
            "  [ 6 16 26]\n",
            "  [ 7 17 27]]\n",
            "\n",
            " [[ 5 15 25]\n",
            "  [ 6 16 26]\n",
            "  [ 7 17 27]\n",
            "  [ 8 18 28]]\n",
            "\n",
            " [[ 6 16 26]\n",
            "  [ 7 17 27]\n",
            "  [ 8 18 28]\n",
            "  [ 9 19 29]]] \n",
            " y \n",
            " [[ 5 15 25]\n",
            " [ 6 16 26]\n",
            " [ 7 17 27]\n",
            " [ 8 18 28]\n",
            " [ 9 19 29]\n",
            " [10 20 30]]\n",
            "x.shape:  (6, 4, 3)\n",
            "y.shape:  (6, 3)\n"
          ]
        }
      ]
    },
    {
      "cell_type": "markdown",
      "source": [
        "# 2. split 함수 만들기2(다:다)"
      ],
      "metadata": {
        "id": "MPHeKn5-Jxun"
      }
    },
    {
      "cell_type": "code",
      "source": [
        "# time_steps는 x의 row를 몇개씩 넣을건지\n",
        "# y_columns는 y의 row를 몇개씩 넣을건지\n",
        "def split_xy2(dataset, time_steps, y_columns):\n",
        "    x, y = list(), list()\n",
        "    for i in range(len(dataset)):\n",
        "        x_end_number = i + time_steps\n",
        "        y_end_number = x_end_number + y_columns\n",
        "        if y_end_number > len(dataset):\n",
        "            break\n",
        "        tmp_x = dataset[i : x_end_number]\n",
        "        tmp_y = dataset[x_end_number : y_end_number]\n",
        "        x.append(tmp_x)\n",
        "        y.append(tmp_y)\n",
        "    return np.array(x), np.array(y)\n",
        "\n",
        "time_steps = 4\n",
        "y_column = 2\n",
        "x, y = split_xy2(dataset, time_steps, y_column)\n",
        "print('x',\"\\n\",x, \"\\n\", 'y',\"\\n\",y)\n",
        "print(\"x.shape: \", x.shape)\n",
        "print(\"y.shape: \", y.shape)"
      ],
      "metadata": {
        "colab": {
          "base_uri": "https://localhost:8080/"
        },
        "id": "ptOs-OnoJzNu",
        "outputId": "4411dc18-08bb-411c-f6a9-e04afd4047d1"
      },
      "execution_count": null,
      "outputs": [
        {
          "output_type": "stream",
          "name": "stdout",
          "text": [
            "x \n",
            " [[1 2 3 4]\n",
            " [2 3 4 5]\n",
            " [3 4 5 6]\n",
            " [4 5 6 7]\n",
            " [5 6 7 8]] \n",
            " y \n",
            " [[ 5  6]\n",
            " [ 6  7]\n",
            " [ 7  8]\n",
            " [ 8  9]\n",
            " [ 9 10]]\n",
            "x.shape:  (5, 4)\n",
            "y.shape:  (5, 2)\n"
          ]
        }
      ]
    },
    {
      "cell_type": "markdown",
      "source": [
        "# 3. split 함수 만들기3(다입력,다:1)"
      ],
      "metadata": {
        "id": "hH_WVCaZLhcw"
      }
    },
    {
      "cell_type": "code",
      "source": [
        "# 1. 데이터\n",
        "import numpy as np\n",
        "dataset = np.array([[1,2,3,4,5,6,7,8,9,10],\n",
        " [11,12,13,14,15,16,17,18,19,20],\n",
        "  [21,22,23,24,25,26,27,28,29,30]])\n",
        "\n",
        "print(\"dataset.shape: \", dataset.shape)\n",
        "dataset = np.transpose(dataset)\n",
        "print(dataset)\n",
        "print(\"dataset.shape: \", dataset.shape)"
      ],
      "metadata": {
        "colab": {
          "base_uri": "https://localhost:8080/"
        },
        "id": "mhhVscLtK3sr",
        "outputId": "7b4d70be-b119-40b6-9e61-af5d4b5f2277"
      },
      "execution_count": null,
      "outputs": [
        {
          "output_type": "stream",
          "name": "stdout",
          "text": [
            "dataset.shape:  (3, 10)\n",
            "[[ 1 11 21]\n",
            " [ 2 12 22]\n",
            " [ 3 13 23]\n",
            " [ 4 14 24]\n",
            " [ 5 15 25]\n",
            " [ 6 16 26]\n",
            " [ 7 17 27]\n",
            " [ 8 18 28]\n",
            " [ 9 19 29]\n",
            " [10 20 30]]\n",
            "dataset.shape:  (10, 3)\n"
          ]
        }
      ]
    },
    {
      "cell_type": "code",
      "source": [
        "# time_steps는 x의 row를 몇개씩 넣을건지\n",
        "# y_columns는 y의 row를 몇개씩 넣을건지\n",
        "def split_xy3(dataset, time_steps, y_column):\n",
        "    x, y = list(), list()\n",
        "    for i in range(len(dataset)):\n",
        "        x_end_number = i + time_steps\n",
        "        y_end_number = x_end_number + y_column -1\n",
        "\n",
        "        if y_end_number > len(dataset):\n",
        "            break\n",
        "        tmp_x = dataset[i:x_end_number, :-1]\n",
        "        tmp_y = dataset[x_end_number-1:y_end_number, -1]\n",
        "        x.append(tmp_x)\n",
        "        y.append(tmp_y)\n",
        "    return np.array(x), np.array(y)\n",
        "\n",
        "time_steps = 3\n",
        "y_column = 1\n",
        "x, y = split_xy3(dataset, time_steps, y_column)\n",
        "print('x',\"\\n\",x, \"\\n\", 'y',\"\\n\",y)\n",
        "print(\"x.shape: \", x.shape)\n",
        "print(\"y.shape: \", y.shape)"
      ],
      "metadata": {
        "colab": {
          "base_uri": "https://localhost:8080/"
        },
        "id": "yiwugU99L2bC",
        "outputId": "82829239-fcda-4214-f62f-637c4ad97ad2"
      },
      "execution_count": null,
      "outputs": [
        {
          "output_type": "stream",
          "name": "stdout",
          "text": [
            "x \n",
            " [[[ 1 11]\n",
            "  [ 2 12]\n",
            "  [ 3 13]]\n",
            "\n",
            " [[ 2 12]\n",
            "  [ 3 13]\n",
            "  [ 4 14]]\n",
            "\n",
            " [[ 3 13]\n",
            "  [ 4 14]\n",
            "  [ 5 15]]\n",
            "\n",
            " [[ 4 14]\n",
            "  [ 5 15]\n",
            "  [ 6 16]]\n",
            "\n",
            " [[ 5 15]\n",
            "  [ 6 16]\n",
            "  [ 7 17]]\n",
            "\n",
            " [[ 6 16]\n",
            "  [ 7 17]\n",
            "  [ 8 18]]\n",
            "\n",
            " [[ 7 17]\n",
            "  [ 8 18]\n",
            "  [ 9 19]]\n",
            "\n",
            " [[ 8 18]\n",
            "  [ 9 19]\n",
            "  [10 20]]] \n",
            " y \n",
            " [[23]\n",
            " [24]\n",
            " [25]\n",
            " [26]\n",
            " [27]\n",
            " [28]\n",
            " [29]\n",
            " [30]]\n",
            "x.shape:  (8, 3, 2)\n",
            "y.shape:  (8, 1)\n"
          ]
        }
      ]
    },
    {
      "cell_type": "markdown",
      "source": [
        "# 4. split 함수 만들기4(다입력,다:다)"
      ],
      "metadata": {
        "id": "atWlXe6s90_y"
      }
    },
    {
      "cell_type": "code",
      "source": [
        "def split_xy4(dataset, time_steps, y_column):\n",
        "    x, y = list(), list()\n",
        "    for i in range(len(dataset)):\n",
        "        x_end_number = i + time_steps\n",
        "        y_end_number = x_end_number + y_column -1\n",
        "\n",
        "        if y_end_number > len(dataset):\n",
        "            break\n",
        "        tmp_x = dataset[i:x_end_number, :-1]\n",
        "        tmp_y = dataset[x_end_number-1:y_end_number, -1]\n",
        "        x.append(tmp_x)\n",
        "        y.append(tmp_y)\n",
        "    return np.array(x), np.array(y)\n",
        "\n",
        "time_steps = 3\n",
        "y_column = 2\n",
        "x, y = split_xy4(dataset, time_steps, y_column)\n",
        "print('x',\"\\n\",x, \"\\n\", 'y',\"\\n\",y)\n",
        "print(\"x.shape: \", x.shape)\n",
        "print(\"y.shape: \", y.shape)"
      ],
      "metadata": {
        "id": "DotM70fIOuso",
        "colab": {
          "base_uri": "https://localhost:8080/"
        },
        "outputId": "747e1353-371f-4e44-8a05-9378578d4b11"
      },
      "execution_count": null,
      "outputs": [
        {
          "output_type": "stream",
          "name": "stdout",
          "text": [
            "x \n",
            " [[[ 1 11]\n",
            "  [ 2 12]\n",
            "  [ 3 13]]\n",
            "\n",
            " [[ 2 12]\n",
            "  [ 3 13]\n",
            "  [ 4 14]]\n",
            "\n",
            " [[ 3 13]\n",
            "  [ 4 14]\n",
            "  [ 5 15]]\n",
            "\n",
            " [[ 4 14]\n",
            "  [ 5 15]\n",
            "  [ 6 16]]\n",
            "\n",
            " [[ 5 15]\n",
            "  [ 6 16]\n",
            "  [ 7 17]]\n",
            "\n",
            " [[ 6 16]\n",
            "  [ 7 17]\n",
            "  [ 8 18]]\n",
            "\n",
            " [[ 7 17]\n",
            "  [ 8 18]\n",
            "  [ 9 19]]] \n",
            " y \n",
            " [[23 24]\n",
            " [24 25]\n",
            " [25 26]\n",
            " [26 27]\n",
            " [27 28]\n",
            " [28 29]\n",
            " [29 30]]\n",
            "x.shape:  (7, 3, 2)\n",
            "y.shape:  (7, 2)\n"
          ]
        }
      ]
    },
    {
      "cell_type": "markdown",
      "source": [
        "# 5. split 함수 만들기4(다입력,다:다)"
      ],
      "metadata": {
        "id": "6eNkJ4VgAisf"
      }
    },
    {
      "cell_type": "code",
      "source": [
        "def split_xy5(dataset, time_steps, y_column):\n",
        "    x, y = list(), list()\n",
        "    for i in range(len(dataset)):\n",
        "        x_end_number = i+time_steps\n",
        "        y_end_number = x_end_number + y_column\n",
        "\n",
        "        if y_end_number > len(dataset):\n",
        "            break\n",
        "        tmp_x = dataset[i:x_end_number, :]\n",
        "        tmp_y = dataset[x_end_number:y_end_number,:]\n",
        "        x.append(tmp_x)\n",
        "        y.append(tmp_y)\n",
        "    return np.array(x), np.array(y)\n",
        "\n",
        "time_steps = 3\n",
        "y_column = 2\n",
        "x, y = split_xy5(dataset, 3, 1)\n",
        "print('x',\"\\n\",x, \"\\n\", 'y',\"\\n\",y)\n",
        "print(\"x.shape: \", x.shape)\n",
        "print(\"y.shape: \", y.shape)"
      ],
      "metadata": {
        "colab": {
          "base_uri": "https://localhost:8080/"
        },
        "id": "HBgIp6s2AXuR",
        "outputId": "36f04538-30f2-4aee-9d93-45da361a6eea"
      },
      "execution_count": null,
      "outputs": [
        {
          "output_type": "stream",
          "name": "stdout",
          "text": [
            "x \n",
            " [[[ 1 11 21]\n",
            "  [ 2 12 22]\n",
            "  [ 3 13 23]]\n",
            "\n",
            " [[ 2 12 22]\n",
            "  [ 3 13 23]\n",
            "  [ 4 14 24]]\n",
            "\n",
            " [[ 3 13 23]\n",
            "  [ 4 14 24]\n",
            "  [ 5 15 25]]\n",
            "\n",
            " [[ 4 14 24]\n",
            "  [ 5 15 25]\n",
            "  [ 6 16 26]]\n",
            "\n",
            " [[ 5 15 25]\n",
            "  [ 6 16 26]\n",
            "  [ 7 17 27]]\n",
            "\n",
            " [[ 6 16 26]\n",
            "  [ 7 17 27]\n",
            "  [ 8 18 28]]\n",
            "\n",
            " [[ 7 17 27]\n",
            "  [ 8 18 28]\n",
            "  [ 9 19 29]]] \n",
            " y \n",
            " [[[ 4 14 24]]\n",
            "\n",
            " [[ 5 15 25]]\n",
            "\n",
            " [[ 6 16 26]]\n",
            "\n",
            " [[ 7 17 27]]\n",
            "\n",
            " [[ 8 18 28]]\n",
            "\n",
            " [[ 9 19 29]]\n",
            "\n",
            " [[10 20 30]]]\n",
            "x.shape:  (7, 3, 3)\n",
            "y.shape:  (7, 1, 3)\n"
          ]
        }
      ]
    },
    {
      "cell_type": "code",
      "source": [],
      "metadata": {
        "id": "KyulXFKGB1Vk"
      },
      "execution_count": null,
      "outputs": []
    }
  ]
}