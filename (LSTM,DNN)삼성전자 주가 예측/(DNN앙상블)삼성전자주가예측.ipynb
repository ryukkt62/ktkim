{
  "nbformat": 4,
  "nbformat_minor": 0,
  "metadata": {
    "colab": {
      "provenance": [],
      "authorship_tag": "ABX9TyPPojxrClNLD2bFN7IZJvNb",
      "include_colab_link": true
    },
    "kernelspec": {
      "name": "python3",
      "display_name": "Python 3"
    },
    "language_info": {
      "name": "python"
    }
  },
  "cells": [
    {
      "cell_type": "markdown",
      "metadata": {
        "id": "view-in-github",
        "colab_type": "text"
      },
      "source": [
        "<a href=\"https://colab.research.google.com/github/ryukkt62/ktkim/blob/main/(LSTM%2CDNN)%EC%82%BC%EC%84%B1%EC%A0%84%EC%9E%90%20%EC%A3%BC%EA%B0%80%20%EC%98%88%EC%B8%A1/(DNN%EC%95%99%EC%83%81%EB%B8%94)%EC%82%BC%EC%84%B1%EC%A0%84%EC%9E%90%EC%A3%BC%EA%B0%80%EC%98%88%EC%B8%A1.ipynb\" target=\"_parent\"><img src=\"https://colab.research.google.com/assets/colab-badge.svg\" alt=\"Open In Colab\"/></a>"
      ]
    },
    {
      "cell_type": "markdown",
      "source": [
        "# 다:1 DNN앙상블 모델로 예측"
      ],
      "metadata": {
        "id": "NtbhP1rI6CU9"
      }
    },
    {
      "cell_type": "code",
      "source": [
        "!pip install plot-keras-history"
      ],
      "metadata": {
        "colab": {
          "base_uri": "https://localhost:8080/"
        },
        "id": "BM2LowK-KfO3",
        "outputId": "5147cf72-987f-4761-f554-158bd8a02ae1"
      },
      "execution_count": null,
      "outputs": [
        {
          "output_type": "stream",
          "name": "stdout",
          "text": [
            "Requirement already satisfied: plot-keras-history in /usr/local/lib/python3.10/dist-packages (1.1.38)\n",
            "Requirement already satisfied: matplotlib in /usr/local/lib/python3.10/dist-packages (from plot-keras-history) (3.7.1)\n",
            "Requirement already satisfied: pandas in /usr/local/lib/python3.10/dist-packages (from plot-keras-history) (1.5.3)\n",
            "Requirement already satisfied: scipy in /usr/local/lib/python3.10/dist-packages (from plot-keras-history) (1.11.4)\n",
            "Requirement already satisfied: support-developer>=1.0.2 in /usr/local/lib/python3.10/dist-packages (from plot-keras-history) (1.0.5)\n",
            "Requirement already satisfied: sanitize-ml-labels>=1.0.48 in /usr/local/lib/python3.10/dist-packages (from plot-keras-history) (1.0.51)\n",
            "Requirement already satisfied: compress-json in /usr/local/lib/python3.10/dist-packages (from sanitize-ml-labels>=1.0.48->plot-keras-history) (1.0.10)\n",
            "Requirement already satisfied: contourpy>=1.0.1 in /usr/local/lib/python3.10/dist-packages (from matplotlib->plot-keras-history) (1.2.0)\n",
            "Requirement already satisfied: cycler>=0.10 in /usr/local/lib/python3.10/dist-packages (from matplotlib->plot-keras-history) (0.12.1)\n",
            "Requirement already satisfied: fonttools>=4.22.0 in /usr/local/lib/python3.10/dist-packages (from matplotlib->plot-keras-history) (4.47.2)\n",
            "Requirement already satisfied: kiwisolver>=1.0.1 in /usr/local/lib/python3.10/dist-packages (from matplotlib->plot-keras-history) (1.4.5)\n",
            "Requirement already satisfied: numpy>=1.20 in /usr/local/lib/python3.10/dist-packages (from matplotlib->plot-keras-history) (1.23.5)\n",
            "Requirement already satisfied: packaging>=20.0 in /usr/local/lib/python3.10/dist-packages (from matplotlib->plot-keras-history) (23.2)\n",
            "Requirement already satisfied: pillow>=6.2.0 in /usr/local/lib/python3.10/dist-packages (from matplotlib->plot-keras-history) (9.4.0)\n",
            "Requirement already satisfied: pyparsing>=2.3.1 in /usr/local/lib/python3.10/dist-packages (from matplotlib->plot-keras-history) (3.1.1)\n",
            "Requirement already satisfied: python-dateutil>=2.7 in /usr/local/lib/python3.10/dist-packages (from matplotlib->plot-keras-history) (2.8.2)\n",
            "Requirement already satisfied: pytz>=2020.1 in /usr/local/lib/python3.10/dist-packages (from pandas->plot-keras-history) (2023.3.post1)\n",
            "Requirement already satisfied: six>=1.5 in /usr/local/lib/python3.10/dist-packages (from python-dateutil>=2.7->matplotlib->plot-keras-history) (1.16.0)\n"
          ]
        }
      ]
    },
    {
      "cell_type": "code",
      "execution_count": null,
      "metadata": {
        "id": "3H_3Ju5Snq1U"
      },
      "outputs": [],
      "source": [
        "import pandas as pd\n",
        "import numpy as np\n",
        "\n",
        "from sklearn.model_selection import train_test_split\n",
        "from sklearn.preprocessing import StandardScaler\n",
        "\n",
        "from tensorflow.keras.models import Sequential,Model\n",
        "from tensorflow.keras.layers import Dense,Input\n",
        "from tensorflow.keras.layers import Concatenate\n",
        "from tensorflow.keras.callbacks import EarlyStopping\n",
        "\n",
        "%matplotlib inline\n",
        "from plot_keras_history import plot_history\n",
        "import matplotlib.pyplot as plt"
      ]
    },
    {
      "cell_type": "code",
      "source": [
        "# 구글 드라이브에 마운트\n",
        "from google.colab import drive\n",
        "drive.mount('/content/drive')"
      ],
      "metadata": {
        "colab": {
          "base_uri": "https://localhost:8080/"
        },
        "id": "9g7Z15Cxn2As",
        "outputId": "3fdcc0ac-65fd-4037-dda6-531ba3fe2549"
      },
      "execution_count": null,
      "outputs": [
        {
          "output_type": "stream",
          "name": "stdout",
          "text": [
            "Drive already mounted at /content/drive; to attempt to forcibly remount, call drive.mount(\"/content/drive\", force_remount=True).\n"
          ]
        }
      ]
    },
    {
      "cell_type": "markdown",
      "source": [
        "# STEP 1: 데이터 Load & 전처리"
      ],
      "metadata": {
        "id": "exRJVdaFqyeZ"
      }
    },
    {
      "cell_type": "code",
      "source": [
        "path ='/content/drive/MyDrive/Colab Notebooks/딥러닝으로 걷는 시계열 예측/'\n",
        "kospi200 = np.load(path + 'data/kospi200.npy')\n",
        "samsung = np.load(path + 'data/samsung.npy')"
      ],
      "metadata": {
        "id": "qtZL00djn25-"
      },
      "execution_count": null,
      "outputs": []
    },
    {
      "cell_type": "code",
      "source": [
        "display(kospi200.shape)\n",
        "display(samsung.shape)"
      ],
      "metadata": {
        "colab": {
          "base_uri": "https://localhost:8080/",
          "height": 53
        },
        "id": "XLXJLhguoFSF",
        "outputId": "acd798b9-6a7e-4b2e-c303-8e3612dc63a2"
      },
      "execution_count": null,
      "outputs": [
        {
          "output_type": "display_data",
          "data": {
            "text/plain": [
              "(426, 5)"
            ]
          },
          "metadata": {}
        },
        {
          "output_type": "display_data",
          "data": {
            "text/plain": [
              "(426, 5)"
            ]
          },
          "metadata": {}
        }
      ]
    },
    {
      "cell_type": "code",
      "source": [
        "samsung"
      ],
      "metadata": {
        "colab": {
          "base_uri": "https://localhost:8080/"
        },
        "id": "N4PTDswF4oua",
        "outputId": "a8c6d64e-7827-4517-c7c9-97b8e249c521"
      },
      "execution_count": null,
      "outputs": [
        {
          "output_type": "execute_result",
          "data": {
            "text/plain": [
              "array([[   53000.,    53900.,    51800.,    51900., 39565391.],\n",
              "       [   52600.,    53200.,    51900.,    52600., 23104720.],\n",
              "       [   52600.,    52800.,    50900.,    50900., 16128305.],\n",
              "       ...,\n",
              "       [   59100.,    59700.,    58800.,    59100., 16446102.],\n",
              "       [   58800.,    58800.,    56800.,    57200., 20821939.],\n",
              "       [   57800.,    58400.,    56400.,    56400., 19749457.]])"
            ]
          },
          "metadata": {},
          "execution_count": 37
        }
      ]
    },
    {
      "cell_type": "code",
      "source": [
        "def split_xy5(dataset,time_steps,y_column):\n",
        "    x,y=list(),list()\n",
        "    for i in range(len(dataset)):\n",
        "        x_end_number = i+time_steps\n",
        "        y_end_number = x_end_number+y_column\n",
        "\n",
        "        if y_end_number > len(dataset):\n",
        "            break\n",
        "\n",
        "        tmp_x = dataset[i:x_end_number,:]\n",
        "        tmp_y = dataset[x_end_number:y_end_number,3]\n",
        "\n",
        "        x.append(tmp_x)\n",
        "        y.append(tmp_y)\n",
        "    return np.array(x),np.array(y)\n",
        "\n",
        "# time_steps는 5개씩 학습\n",
        "# y_columns은 target값이 몇번째 변수인지, 여기선 3번째 컬럼\n",
        "# 5일동안의 데이터  학습 뒤 6일째 데이터 예측\n",
        "x,y=split_xy5(samsung,5,1)"
      ],
      "metadata": {
        "id": "PMB3Vy43on-7"
      },
      "execution_count": null,
      "outputs": []
    },
    {
      "cell_type": "code",
      "source": [
        "# 삼성전자와 KOPSPI200 데이터 사용\n",
        "x1, y1 = split_xy5(samsung,5,1)\n",
        "x2, y2 = split_xy5(kospi200,5,1)\n",
        "print(x2[0,:],\"\\n\",y2[0])\n",
        "print(x2.shape)\n",
        "print(y2.shape)"
      ],
      "metadata": {
        "colab": {
          "base_uri": "https://localhost:8080/"
        },
        "id": "veVUlOgtM20H",
        "outputId": "0224a268-d673-4459-83f6-044214972329"
      },
      "execution_count": null,
      "outputs": [
        {
          "output_type": "stream",
          "name": "stdout",
          "text": [
            "[[   320.56    321.      316.75    316.75 173911.  ]\n",
            " [   317.79    319.53    314.95    315.87 141252.  ]\n",
            " [   315.93    316.08    312.6     314.42 123610.  ]\n",
            " [   316.51    317.34    315.11    317.31 120900.  ]\n",
            " [   318.03    319.7     317.86    318.51 112400.  ]] \n",
            " [317.72]\n",
            "(421, 5, 5)\n",
            "(421, 1)\n"
          ]
        }
      ]
    },
    {
      "cell_type": "code",
      "source": [
        "# train, test 나누기\n",
        "x1_train,x1_test,y1_train,y1_test = train_test_split(x1,y1,random_state=1,test_size=0.3)\n",
        "x2_train,x2_test,y2_train,y2_test = train_test_split(x2,y2,random_state=2,test_size=0.3)\n",
        "\n",
        "print(x2_train.shape)\n",
        "print(x2_test.shape)\n",
        "print(y2_train.shape)\n",
        "print(y2_test.shape)"
      ],
      "metadata": {
        "colab": {
          "base_uri": "https://localhost:8080/"
        },
        "id": "KBJuhXUfp_sZ",
        "outputId": "3571b017-969f-403c-852e-4d6754f0c947"
      },
      "execution_count": null,
      "outputs": [
        {
          "output_type": "stream",
          "name": "stdout",
          "text": [
            "(294, 5, 5)\n",
            "(127, 5, 5)\n",
            "(294, 1)\n",
            "(127, 1)\n"
          ]
        }
      ]
    },
    {
      "cell_type": "code",
      "source": [
        "# StandardScaler를 사용해서 전처리\n",
        "# StandardScaler는 2차원 구조만 받으므로 reshape 필요\n",
        "\n",
        "x1_train = np.reshape(x1_train,\n",
        " (x1_train.shape[0], x1_train.shape[1] * x1_train.shape[2]))\n",
        "x1_test = np.reshape(x1_test,\n",
        " (x1_test.shape[0], x1_test.shape[1] * x1_test.shape[2]))\n",
        "\n",
        "x2_train = np.reshape(x2_train,\n",
        " (x2_train.shape[0], x2_train.shape[1] * x2_train.shape[2]))\n",
        "x2_test = np.reshape(x2_test,\n",
        " (x2_test.shape[0], x2_test.shape[1] * x2_test.shape[2]))\n",
        "\n",
        "print(x2_train.shape)\n",
        "print(x2_test.shape)"
      ],
      "metadata": {
        "colab": {
          "base_uri": "https://localhost:8080/"
        },
        "id": "hAHxfkaMtNc9",
        "outputId": "ac4ff6d7-494b-4783-d82c-435f99a3e4f2"
      },
      "execution_count": null,
      "outputs": [
        {
          "output_type": "stream",
          "name": "stdout",
          "text": [
            "(294, 25)\n",
            "(127, 25)\n"
          ]
        }
      ]
    },
    {
      "cell_type": "code",
      "source": [
        "# StandardScaler\n",
        "\n",
        "# samsung data\n",
        "scaler1 = StandardScaler()\n",
        "scaler1.fit(x1_train)\n",
        "x1_train_scaled = scaler1.transform(x1_train)\n",
        "x1_test_scaled = scaler1.transform(x1_test)\n",
        "\n",
        "# kospi data\n",
        "scaler2 = StandardScaler()\n",
        "scaler2.fit(x2_train)\n",
        "x2_train_scaled = scaler1.transform(x2_train)\n",
        "x2_test_scaled = scaler1.transform(x2_test)\n",
        "\n",
        "print(x2_train_scaled[0,:])"
      ],
      "metadata": {
        "colab": {
          "base_uri": "https://localhost:8080/"
        },
        "id": "8S213q13rysJ",
        "outputId": "7eb68e01-19f4-45ce-adc3-0aa0c47e302e"
      },
      "execution_count": null,
      "outputs": [
        {
          "output_type": "stream",
          "name": "stdout",
          "text": [
            "[-10.88664987 -11.00113207 -10.96045652 -11.00448062  -2.61390901\n",
            " -10.83820833 -10.89506365 -10.90529232 -10.8980913   -2.27638932\n",
            " -10.76475285 -10.83974628 -10.85273565 -10.80790425  -2.18405059\n",
            " -10.66844317 -10.76028448 -10.69546479 -10.70928217  -2.20759752\n",
            " -10.57362195 -10.63956465 -10.58741645 -10.55702221  -2.6641292 ]\n"
          ]
        }
      ]
    },
    {
      "cell_type": "markdown",
      "source": [
        "# STEP 2: 다:1모델 DNN앙상블"
      ],
      "metadata": {
        "id": "5zCX20r-uE6y"
      }
    },
    {
      "cell_type": "code",
      "source": [
        "# 모델 구성\n",
        "input1 = Input(shape=(25,))\n",
        "dense1 = Dense(64)(input1)\n",
        "dense1 = Dense(32)(dense1)\n",
        "dense1 = Dense(32)(dense1)\n",
        "output1 = Dense(32)(dense1)\n",
        "\n",
        "input2 = Input(shape=(25,))\n",
        "dense2 = Dense(64)(input2)\n",
        "dense2 = Dense(64)(dense2)\n",
        "dense2 = Dense(64)(dense2)\n",
        "dense2 = Dense(64)(dense2)\n",
        "output2 = Dense(32)(dense2)"
      ],
      "metadata": {
        "id": "WTG0nZV3f_1d"
      },
      "execution_count": null,
      "outputs": []
    },
    {
      "cell_type": "code",
      "source": [
        "merge = Concatenate()([output1, output2])\n",
        "output3 = Dense(1)(merge)\n",
        "\n",
        "model = Model(inputs=[input1, input2],\n",
        "              outputs = output3)"
      ],
      "metadata": {
        "id": "kQAOwvdRkWQN"
      },
      "execution_count": null,
      "outputs": []
    },
    {
      "cell_type": "code",
      "source": [
        "model.compile(loss='mse', optimizer='adam', metrics=['mse'])\n",
        "\n",
        "early_stopping = EarlyStopping(patience=20)\n",
        "# train으로 사용하는건 samsung과 kospi모두 사용하지만 맞춰야하는 정답값은 samsung이므로 y1만 사용\n",
        "history_model = model.fit([x1_train_scaled,x2_train_scaled],y1_train,validation_split=0.2,verbose=1,\n",
        "                          batch_size=1,epochs=100,callbacks=[early_stopping])"
      ],
      "metadata": {
        "colab": {
          "base_uri": "https://localhost:8080/"
        },
        "id": "tBnWQtvXuUE_",
        "outputId": "871d4d09-23da-41f8-b861-78a3e3499cf7"
      },
      "execution_count": null,
      "outputs": [
        {
          "output_type": "stream",
          "name": "stdout",
          "text": [
            "Epoch 1/100\n",
            "235/235 [==============================] - 6s 11ms/step - loss: 389329600.0000 - mse: 389329600.0000 - val_loss: 7596351.5000 - val_mse: 7596351.5000\n",
            "Epoch 2/100\n",
            "235/235 [==============================] - 1s 6ms/step - loss: 2317338.5000 - mse: 2317338.5000 - val_loss: 1337805.0000 - val_mse: 1337805.0000\n",
            "Epoch 3/100\n",
            "235/235 [==============================] - 1s 5ms/step - loss: 2112157.0000 - mse: 2112157.0000 - val_loss: 2246110.2500 - val_mse: 2246110.2500\n",
            "Epoch 4/100\n",
            "235/235 [==============================] - 1s 5ms/step - loss: 2193197.0000 - mse: 2193197.0000 - val_loss: 1746640.6250 - val_mse: 1746640.6250\n",
            "Epoch 5/100\n",
            "235/235 [==============================] - 1s 5ms/step - loss: 1788975.8750 - mse: 1788975.8750 - val_loss: 1183257.8750 - val_mse: 1183257.8750\n",
            "Epoch 6/100\n",
            "235/235 [==============================] - 1s 4ms/step - loss: 1627260.8750 - mse: 1627260.8750 - val_loss: 2628659.0000 - val_mse: 2628659.0000\n",
            "Epoch 7/100\n",
            "235/235 [==============================] - 1s 4ms/step - loss: 2537123.2500 - mse: 2537123.2500 - val_loss: 1022037.6875 - val_mse: 1022037.6875\n",
            "Epoch 8/100\n",
            "235/235 [==============================] - 1s 3ms/step - loss: 1743167.0000 - mse: 1743167.0000 - val_loss: 3734704.7500 - val_mse: 3734704.7500\n",
            "Epoch 9/100\n",
            "235/235 [==============================] - 1s 4ms/step - loss: 1986237.3750 - mse: 1986237.3750 - val_loss: 1085768.8750 - val_mse: 1085768.8750\n",
            "Epoch 10/100\n",
            "235/235 [==============================] - 1s 3ms/step - loss: 2367283.2500 - mse: 2367283.2500 - val_loss: 2722202.2500 - val_mse: 2722202.2500\n",
            "Epoch 11/100\n",
            "235/235 [==============================] - 1s 3ms/step - loss: 1380408.0000 - mse: 1380408.0000 - val_loss: 3312655.2500 - val_mse: 3312655.2500\n",
            "Epoch 12/100\n",
            "235/235 [==============================] - 1s 3ms/step - loss: 1677791.1250 - mse: 1677791.1250 - val_loss: 2157797.0000 - val_mse: 2157797.0000\n",
            "Epoch 13/100\n",
            "235/235 [==============================] - 1s 4ms/step - loss: 1425640.5000 - mse: 1425640.5000 - val_loss: 5412414.0000 - val_mse: 5412414.0000\n",
            "Epoch 14/100\n",
            "235/235 [==============================] - 1s 3ms/step - loss: 1936949.6250 - mse: 1936949.6250 - val_loss: 2632560.0000 - val_mse: 2632560.0000\n",
            "Epoch 15/100\n",
            "235/235 [==============================] - 1s 3ms/step - loss: 2063558.3750 - mse: 2063558.3750 - val_loss: 950787.0000 - val_mse: 950787.0000\n",
            "Epoch 16/100\n",
            "235/235 [==============================] - 1s 3ms/step - loss: 1362519.3750 - mse: 1362519.3750 - val_loss: 2178057.0000 - val_mse: 2178057.0000\n",
            "Epoch 17/100\n",
            "235/235 [==============================] - 1s 4ms/step - loss: 2231897.0000 - mse: 2231897.0000 - val_loss: 680125.3750 - val_mse: 680125.3750\n",
            "Epoch 18/100\n",
            "235/235 [==============================] - 1s 6ms/step - loss: 1373284.6250 - mse: 1373284.6250 - val_loss: 2461395.0000 - val_mse: 2461395.0000\n",
            "Epoch 19/100\n",
            "235/235 [==============================] - 1s 5ms/step - loss: 1386779.3750 - mse: 1386779.3750 - val_loss: 5082454.0000 - val_mse: 5082454.0000\n",
            "Epoch 20/100\n",
            "235/235 [==============================] - 1s 5ms/step - loss: 1562808.5000 - mse: 1562808.5000 - val_loss: 893090.7500 - val_mse: 893090.7500\n",
            "Epoch 21/100\n",
            "235/235 [==============================] - 2s 6ms/step - loss: 1399106.7500 - mse: 1399106.7500 - val_loss: 912487.8125 - val_mse: 912487.8125\n",
            "Epoch 22/100\n",
            "235/235 [==============================] - 1s 4ms/step - loss: 1413911.5000 - mse: 1413911.5000 - val_loss: 838158.3125 - val_mse: 838158.3125\n",
            "Epoch 23/100\n",
            "235/235 [==============================] - 1s 3ms/step - loss: 1549630.0000 - mse: 1549630.0000 - val_loss: 653942.7500 - val_mse: 653942.7500\n",
            "Epoch 24/100\n",
            "235/235 [==============================] - 1s 4ms/step - loss: 1113913.7500 - mse: 1113913.7500 - val_loss: 1172611.2500 - val_mse: 1172611.2500\n",
            "Epoch 25/100\n",
            "235/235 [==============================] - 1s 4ms/step - loss: 1095727.8750 - mse: 1095727.8750 - val_loss: 646279.1250 - val_mse: 646279.1250\n",
            "Epoch 26/100\n",
            "235/235 [==============================] - 1s 4ms/step - loss: 1535387.2500 - mse: 1535387.2500 - val_loss: 894188.9375 - val_mse: 894188.9375\n",
            "Epoch 27/100\n",
            "235/235 [==============================] - 1s 3ms/step - loss: 1555227.2500 - mse: 1555227.2500 - val_loss: 637098.6250 - val_mse: 637098.6250\n",
            "Epoch 28/100\n",
            "235/235 [==============================] - 1s 4ms/step - loss: 1672449.5000 - mse: 1672449.5000 - val_loss: 3414416.5000 - val_mse: 3414416.5000\n",
            "Epoch 29/100\n",
            "235/235 [==============================] - 1s 3ms/step - loss: 2043692.6250 - mse: 2043692.6250 - val_loss: 948879.8125 - val_mse: 948879.8125\n",
            "Epoch 30/100\n",
            "235/235 [==============================] - 1s 3ms/step - loss: 1473846.3750 - mse: 1473846.3750 - val_loss: 1849398.3750 - val_mse: 1849398.3750\n",
            "Epoch 31/100\n",
            "235/235 [==============================] - 1s 3ms/step - loss: 1633567.7500 - mse: 1633567.7500 - val_loss: 945046.2500 - val_mse: 945046.2500\n",
            "Epoch 32/100\n",
            "235/235 [==============================] - 1s 4ms/step - loss: 1334527.3750 - mse: 1334527.3750 - val_loss: 683945.3750 - val_mse: 683945.3750\n",
            "Epoch 33/100\n",
            "235/235 [==============================] - 1s 3ms/step - loss: 1769630.2500 - mse: 1769630.2500 - val_loss: 656454.6250 - val_mse: 656454.6250\n",
            "Epoch 34/100\n",
            "235/235 [==============================] - 1s 6ms/step - loss: 1447535.0000 - mse: 1447535.0000 - val_loss: 722681.8125 - val_mse: 722681.8125\n",
            "Epoch 35/100\n",
            "235/235 [==============================] - 1s 6ms/step - loss: 1692185.0000 - mse: 1692185.0000 - val_loss: 666155.0000 - val_mse: 666155.0000\n",
            "Epoch 36/100\n",
            "235/235 [==============================] - 1s 5ms/step - loss: 1574581.5000 - mse: 1574581.5000 - val_loss: 3998556.0000 - val_mse: 3998556.0000\n",
            "Epoch 37/100\n",
            "235/235 [==============================] - 1s 6ms/step - loss: 1678755.8750 - mse: 1678755.8750 - val_loss: 697866.1250 - val_mse: 697866.1250\n",
            "Epoch 38/100\n",
            "235/235 [==============================] - 1s 4ms/step - loss: 1579931.2500 - mse: 1579931.2500 - val_loss: 1133012.0000 - val_mse: 1133012.0000\n",
            "Epoch 39/100\n",
            "235/235 [==============================] - 1s 3ms/step - loss: 1402116.7500 - mse: 1402116.7500 - val_loss: 1381213.2500 - val_mse: 1381213.2500\n",
            "Epoch 40/100\n",
            "235/235 [==============================] - 1s 4ms/step - loss: 1460433.0000 - mse: 1460433.0000 - val_loss: 598003.5000 - val_mse: 598003.5000\n",
            "Epoch 41/100\n",
            "235/235 [==============================] - 1s 3ms/step - loss: 1278464.8750 - mse: 1278464.8750 - val_loss: 1929107.5000 - val_mse: 1929107.5000\n",
            "Epoch 42/100\n",
            "235/235 [==============================] - 1s 3ms/step - loss: 1472671.6250 - mse: 1472671.6250 - val_loss: 786514.3750 - val_mse: 786514.3750\n",
            "Epoch 43/100\n",
            "235/235 [==============================] - 1s 4ms/step - loss: 1360820.2500 - mse: 1360820.2500 - val_loss: 776101.5625 - val_mse: 776101.5625\n",
            "Epoch 44/100\n",
            "235/235 [==============================] - 1s 4ms/step - loss: 1869076.0000 - mse: 1869076.0000 - val_loss: 2803945.5000 - val_mse: 2803945.5000\n",
            "Epoch 45/100\n",
            "235/235 [==============================] - 1s 3ms/step - loss: 1598764.3750 - mse: 1598764.3750 - val_loss: 1760549.5000 - val_mse: 1760549.5000\n",
            "Epoch 46/100\n",
            "235/235 [==============================] - 1s 3ms/step - loss: 1237059.3750 - mse: 1237059.3750 - val_loss: 3212967.0000 - val_mse: 3212967.0000\n",
            "Epoch 47/100\n",
            "235/235 [==============================] - 1s 3ms/step - loss: 1325643.1250 - mse: 1325643.1250 - val_loss: 1159734.2500 - val_mse: 1159734.2500\n",
            "Epoch 48/100\n",
            "235/235 [==============================] - 1s 3ms/step - loss: 1502941.2500 - mse: 1502941.2500 - val_loss: 639627.2500 - val_mse: 639627.2500\n",
            "Epoch 49/100\n",
            "235/235 [==============================] - 1s 3ms/step - loss: 1162083.3750 - mse: 1162083.3750 - val_loss: 1230436.8750 - val_mse: 1230436.8750\n",
            "Epoch 50/100\n",
            "235/235 [==============================] - 1s 4ms/step - loss: 1291268.3750 - mse: 1291268.3750 - val_loss: 3208352.2500 - val_mse: 3208352.2500\n",
            "Epoch 51/100\n",
            "235/235 [==============================] - 1s 5ms/step - loss: 1232739.6250 - mse: 1232739.6250 - val_loss: 992569.8750 - val_mse: 992569.8750\n",
            "Epoch 52/100\n",
            "235/235 [==============================] - 1s 5ms/step - loss: 2740818.5000 - mse: 2740818.5000 - val_loss: 5871122.5000 - val_mse: 5871122.5000\n",
            "Epoch 53/100\n",
            "235/235 [==============================] - 1s 5ms/step - loss: 1415429.7500 - mse: 1415429.7500 - val_loss: 2465050.0000 - val_mse: 2465050.0000\n",
            "Epoch 54/100\n",
            "235/235 [==============================] - 1s 6ms/step - loss: 1049568.2500 - mse: 1049568.2500 - val_loss: 796899.5000 - val_mse: 796899.5000\n",
            "Epoch 55/100\n",
            "235/235 [==============================] - 1s 4ms/step - loss: 1131574.6250 - mse: 1131574.6250 - val_loss: 601899.1875 - val_mse: 601899.1875\n",
            "Epoch 56/100\n",
            "235/235 [==============================] - 1s 3ms/step - loss: 1441195.5000 - mse: 1441195.5000 - val_loss: 1595573.5000 - val_mse: 1595573.5000\n",
            "Epoch 57/100\n",
            "235/235 [==============================] - 1s 3ms/step - loss: 1862434.3750 - mse: 1862434.3750 - val_loss: 647122.4375 - val_mse: 647122.4375\n",
            "Epoch 58/100\n",
            "235/235 [==============================] - 1s 3ms/step - loss: 977045.8125 - mse: 977045.8125 - val_loss: 762430.7500 - val_mse: 762430.7500\n",
            "Epoch 59/100\n",
            "235/235 [==============================] - 1s 4ms/step - loss: 1424231.6250 - mse: 1424231.6250 - val_loss: 1108133.1250 - val_mse: 1108133.1250\n",
            "Epoch 60/100\n",
            "235/235 [==============================] - 1s 4ms/step - loss: 1331896.8750 - mse: 1331896.8750 - val_loss: 5680958.0000 - val_mse: 5680958.0000\n"
          ]
        }
      ]
    },
    {
      "cell_type": "code",
      "source": [
        "plot_history(history_model.history)\n",
        "plt.show()\n",
        "# plot_history(model.history, path = '(hist)CNN_raw.png')\n",
        "# plt.close()"
      ],
      "metadata": {
        "colab": {
          "base_uri": "https://localhost:8080/",
          "height": 528
        },
        "id": "cQXjG3DVKU0I",
        "outputId": "e3af9213-746b-4694-9d2c-cd5b3c642058"
      },
      "execution_count": null,
      "outputs": [
        {
          "output_type": "display_data",
          "data": {
            "text/plain": [
              "<Figure size 1000x500 with 2 Axes>"
            ],
            "image/png": "[encoded data removed]"
          },
          "metadata": {}
        }
      ]
    },
    {
      "cell_type": "code",
      "source": [
        "loss, mse = model.evaluate([x1_test_scaled,x2_test_scaled], y1_test, batch_size=1)\n",
        "print('loss: ',loss)\n",
        "print('mse :', mse)"
      ],
      "metadata": {
        "colab": {
          "base_uri": "https://localhost:8080/"
        },
        "id": "qFNjy1jiur5F",
        "outputId": "9bf48836-2f28-40c0-8a6a-a25830160b39"
      },
      "execution_count": null,
      "outputs": [
        {
          "output_type": "stream",
          "name": "stdout",
          "text": [
            "127/127 [==============================] - 1s 4ms/step - loss: 5286277.0000 - mse: 5286277.0000\n",
            "loss:  5286277.0\n",
            "mse : 5286277.0\n"
          ]
        }
      ]
    },
    {
      "cell_type": "code",
      "source": [
        "y1_pred = model.predict([x1_test_scaled,x2_test_scaled])\n",
        "\n",
        "for i in range(5):\n",
        "    print('종가 : ', y1_test[i], '/ 예측가 : ', y1_pred[i])"
      ],
      "metadata": {
        "colab": {
          "base_uri": "https://localhost:8080/"
        },
        "id": "g2TgmKfOvbO8",
        "outputId": "4e226f06-362c-4210-9f30-e5ca51cf8eca"
      },
      "execution_count": null,
      "outputs": [
        {
          "output_type": "stream",
          "name": "stdout",
          "text": [
            "4/4 [==============================] - 0s 6ms/step\n",
            "종가 :  [52200.] / 예측가 :  [53715.95]\n",
            "종가 :  [41450.] / 예측가 :  [43832.]\n",
            "종가 :  [49650.] / 예측가 :  [52547.227]\n",
            "종가 :  [44800.] / 예측가 :  [48796.797]\n",
            "종가 :  [49500.] / 예측가 :  [51332.293]\n"
          ]
        }
      ]
    },
    {
      "cell_type": "code",
      "source": [],
      "metadata": {
        "id": "zzxIE8q3vgHo"
      },
      "execution_count": null,
      "outputs": []
    }
  ]
}