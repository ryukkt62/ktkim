{
  "nbformat": 4,
  "nbformat_minor": 0,
  "metadata": {
    "colab": {
      "provenance": [],
      "authorship_tag": "ABX9TyNc8fjyx0Pj7aheTgFZlYMh",
      "include_colab_link": true
    },
    "kernelspec": {
      "name": "python3",
      "display_name": "Python 3"
    },
    "language_info": {
      "name": "python"
    }
  },
  "cells": [
    {
      "cell_type": "markdown",
      "metadata": {
        "id": "view-in-github",
        "colab_type": "text"
      },
      "source": [
        "<a href=\"https://colab.research.google.com/github/ryukkt62/ktkim/blob/main/(LSTM%2CDNN)%EC%82%BC%EC%84%B1%EC%A0%84%EC%9E%90%20%EC%A3%BC%EA%B0%80%20%EC%98%88%EC%B8%A1/(LSTM%EC%95%99%EC%83%81%EB%B8%94)%EC%82%BC%EC%84%B1%EC%A0%84%EC%9E%90%EC%A3%BC%EA%B0%80%EC%98%88%EC%B8%A1.ipynb\" target=\"_parent\"><img src=\"https://colab.research.google.com/assets/colab-badge.svg\" alt=\"Open In Colab\"/></a>"
      ]
    },
    {
      "cell_type": "markdown",
      "source": [
        "# 다:1 LSTM앙상블 모델로 예측"
      ],
      "metadata": {
        "id": "NtbhP1rI6CU9"
      }
    },
    {
      "cell_type": "code",
      "source": [
        "!pip install plot-keras-history"
      ],
      "metadata": {
        "colab": {
          "base_uri": "https://localhost:8080/"
        },
        "id": "BM2LowK-KfO3",
        "outputId": "18bb7077-c758-4ae4-c5ca-bf745c6d52d5"
      },
      "execution_count": null,
      "outputs": [
        {
          "output_type": "stream",
          "name": "stdout",
          "text": [
            "Collecting plot-keras-history\n",
            "  Downloading plot_keras_history-1.1.38.tar.gz (11 kB)\n",
            "  Preparing metadata (setup.py) ... \u001b[?25l\u001b[?25hdone\n",
            "Requirement already satisfied: matplotlib in /usr/local/lib/python3.10/dist-packages (from plot-keras-history) (3.7.1)\n",
            "Requirement already satisfied: pandas in /usr/local/lib/python3.10/dist-packages (from plot-keras-history) (1.5.3)\n",
            "Requirement already satisfied: scipy in /usr/local/lib/python3.10/dist-packages (from plot-keras-history) (1.11.4)\n",
            "Collecting support_developer>=1.0.2 (from plot-keras-history)\n",
            "  Downloading support_developer-1.0.5.tar.gz (4.9 kB)\n",
            "  Preparing metadata (setup.py) ... \u001b[?25l\u001b[?25hdone\n",
            "Collecting sanitize_ml_labels>=1.0.48 (from plot-keras-history)\n",
            "  Downloading sanitize_ml_labels-1.0.51.tar.gz (322 kB)\n",
            "\u001b[2K     \u001b[90m━━━━━━━━━━━━━━━━━━━━━━━━━━━━━━━━━━━━━━━━\u001b[0m \u001b[32m322.5/322.5 kB\u001b[0m \u001b[31m6.2 MB/s\u001b[0m eta \u001b[36m0:00:00\u001b[0m\n",
            "\u001b[?25h  Preparing metadata (setup.py) ... \u001b[?25l\u001b[?25hdone\n",
            "Collecting compress_json (from sanitize_ml_labels>=1.0.48->plot-keras-history)\n",
            "  Downloading compress_json-1.0.10.tar.gz (6.4 kB)\n",
            "  Preparing metadata (setup.py) ... \u001b[?25l\u001b[?25hdone\n",
            "Requirement already satisfied: contourpy>=1.0.1 in /usr/local/lib/python3.10/dist-packages (from matplotlib->plot-keras-history) (1.2.0)\n",
            "Requirement already satisfied: cycler>=0.10 in /usr/local/lib/python3.10/dist-packages (from matplotlib->plot-keras-history) (0.12.1)\n",
            "Requirement already satisfied: fonttools>=4.22.0 in /usr/local/lib/python3.10/dist-packages (from matplotlib->plot-keras-history) (4.47.2)\n",
            "Requirement already satisfied: kiwisolver>=1.0.1 in /usr/local/lib/python3.10/dist-packages (from matplotlib->plot-keras-history) (1.4.5)\n",
            "Requirement already satisfied: numpy>=1.20 in /usr/local/lib/python3.10/dist-packages (from matplotlib->plot-keras-history) (1.23.5)\n",
            "Requirement already satisfied: packaging>=20.0 in /usr/local/lib/python3.10/dist-packages (from matplotlib->plot-keras-history) (23.2)\n",
            "Requirement already satisfied: pillow>=6.2.0 in /usr/local/lib/python3.10/dist-packages (from matplotlib->plot-keras-history) (9.4.0)\n",
            "Requirement already satisfied: pyparsing>=2.3.1 in /usr/local/lib/python3.10/dist-packages (from matplotlib->plot-keras-history) (3.1.1)\n",
            "Requirement already satisfied: python-dateutil>=2.7 in /usr/local/lib/python3.10/dist-packages (from matplotlib->plot-keras-history) (2.8.2)\n",
            "Requirement already satisfied: pytz>=2020.1 in /usr/local/lib/python3.10/dist-packages (from pandas->plot-keras-history) (2023.3.post1)\n",
            "Requirement already satisfied: six>=1.5 in /usr/local/lib/python3.10/dist-packages (from python-dateutil>=2.7->matplotlib->plot-keras-history) (1.16.0)\n",
            "Building wheels for collected packages: plot-keras-history, sanitize_ml_labels, support_developer, compress_json\n",
            "  Building wheel for plot-keras-history (setup.py) ... \u001b[?25l\u001b[?25hdone\n",
            "  Created wheel for plot-keras-history: filename=plot_keras_history-1.1.38-py3-none-any.whl size=9455 sha256=1448b822096679875d58b7f214e936aab8de3d137d5e32764ffe85d40567e13b\n",
            "  Stored in directory: /root/.cache/pip/wheels/2f/31/6c/bbc9703b7baa8bd3802a8aedd9e2f9e66941b0cf0d456ab4cc\n",
            "  Building wheel for sanitize_ml_labels (setup.py) ... \u001b[?25l\u001b[?25hdone\n",
            "  Created wheel for sanitize_ml_labels: filename=sanitize_ml_labels-1.0.51-py3-none-any.whl size=321865 sha256=3794954de39ffff22793f2531312c24a815c2fe1e102cd757220012cb538802e\n",
            "  Stored in directory: /root/.cache/pip/wheels/30/9f/f5/37d037c39ac8b305590d5956f7021c6ca94b63c68be24f6841\n",
            "  Building wheel for support_developer (setup.py) ... \u001b[?25l\u001b[?25hdone\n",
            "  Created wheel for support_developer: filename=support_developer-1.0.5-py3-none-any.whl size=5630 sha256=753e09e5fd11205e020099696d1eb70084dc9f02b0d7a6027ec9633123c4f03a\n",
            "  Stored in directory: /root/.cache/pip/wheels/b6/72/c8/3054a5897ba0713dfa7a941364d68cbd42b0755c8e2ec1c18c\n",
            "  Building wheel for compress_json (setup.py) ... \u001b[?25l\u001b[?25hdone\n",
            "  Created wheel for compress_json: filename=compress_json-1.0.10-py3-none-any.whl size=5817 sha256=15a6840cb3dab9b5553f57c78edb29d602719ece53a6c54dd2010fe924cfd880\n",
            "  Stored in directory: /root/.cache/pip/wheels/7b/55/94/bc79987b855aac5990e0d015c2e604aa50bc5147673e98530c\n",
            "Successfully built plot-keras-history sanitize_ml_labels support_developer compress_json\n",
            "Installing collected packages: support_developer, compress_json, sanitize_ml_labels, plot-keras-history\n",
            "Successfully installed compress_json-1.0.10 plot-keras-history-1.1.38 sanitize_ml_labels-1.0.51 support_developer-1.0.5\n"
          ]
        }
      ]
    },
    {
      "cell_type": "code",
      "execution_count": null,
      "metadata": {
        "id": "3H_3Ju5Snq1U"
      },
      "outputs": [],
      "source": [
        "import pandas as pd\n",
        "import numpy as np\n",
        "\n",
        "from sklearn.model_selection import train_test_split\n",
        "from sklearn.preprocessing import StandardScaler\n",
        "\n",
        "from tensorflow.keras.models import Sequential,Model\n",
        "from tensorflow.keras.layers import Dense,Input,LSTM\n",
        "from tensorflow.keras.layers import Concatenate\n",
        "from tensorflow.keras.callbacks import EarlyStopping\n",
        "\n",
        "%matplotlib inline\n",
        "from plot_keras_history import plot_history\n",
        "import matplotlib.pyplot as plt"
      ]
    },
    {
      "cell_type": "code",
      "source": [
        "# 구글 드라이브에 마운트\n",
        "from google.colab import drive\n",
        "drive.mount('/content/drive')"
      ],
      "metadata": {
        "colab": {
          "base_uri": "https://localhost:8080/"
        },
        "id": "9g7Z15Cxn2As",
        "outputId": "800dc8bb-1bad-4641-eca2-a6dee95700af"
      },
      "execution_count": null,
      "outputs": [
        {
          "output_type": "stream",
          "name": "stdout",
          "text": [
            "Mounted at /content/drive\n"
          ]
        }
      ]
    },
    {
      "cell_type": "markdown",
      "source": [
        "# STEP 1: 데이터 Load & 전처리"
      ],
      "metadata": {
        "id": "exRJVdaFqyeZ"
      }
    },
    {
      "cell_type": "code",
      "source": [
        "path ='/content/drive/MyDrive/Colab Notebooks/딥러닝으로 걷는 시계열 예측/'\n",
        "kospi200 = np.load(path + 'data/kospi200.npy')\n",
        "samsung = np.load(path + 'data/samsung.npy')"
      ],
      "metadata": {
        "id": "qtZL00djn25-"
      },
      "execution_count": null,
      "outputs": []
    },
    {
      "cell_type": "code",
      "source": [
        "display(kospi200.shape)\n",
        "display(samsung.shape)"
      ],
      "metadata": {
        "colab": {
          "base_uri": "https://localhost:8080/",
          "height": 53
        },
        "id": "XLXJLhguoFSF",
        "outputId": "d150e71a-5a2d-4fa1-a267-b1277d59d9b5"
      },
      "execution_count": null,
      "outputs": [
        {
          "output_type": "display_data",
          "data": {
            "text/plain": [
              "(426, 5)"
            ]
          },
          "metadata": {}
        },
        {
          "output_type": "display_data",
          "data": {
            "text/plain": [
              "(426, 5)"
            ]
          },
          "metadata": {}
        }
      ]
    },
    {
      "cell_type": "code",
      "source": [
        "samsung"
      ],
      "metadata": {
        "colab": {
          "base_uri": "https://localhost:8080/"
        },
        "id": "N4PTDswF4oua",
        "outputId": "1708628b-0a55-4986-9471-b9c5076b1c82"
      },
      "execution_count": null,
      "outputs": [
        {
          "output_type": "execute_result",
          "data": {
            "text/plain": [
              "array([[   53000.,    53900.,    51800.,    51900., 39565391.],\n",
              "       [   52600.,    53200.,    51900.,    52600., 23104720.],\n",
              "       [   52600.,    52800.,    50900.,    50900., 16128305.],\n",
              "       ...,\n",
              "       [   59100.,    59700.,    58800.,    59100., 16446102.],\n",
              "       [   58800.,    58800.,    56800.,    57200., 20821939.],\n",
              "       [   57800.,    58400.,    56400.,    56400., 19749457.]])"
            ]
          },
          "metadata": {},
          "execution_count": 7
        }
      ]
    },
    {
      "cell_type": "code",
      "source": [
        "def split_xy5(dataset,time_steps,y_column):\n",
        "    x,y=list(),list()\n",
        "    for i in range(len(dataset)):\n",
        "        x_end_number = i+time_steps\n",
        "        y_end_number = x_end_number+y_column\n",
        "\n",
        "        if y_end_number > len(dataset):\n",
        "            break\n",
        "\n",
        "        tmp_x = dataset[i:x_end_number,:]\n",
        "        tmp_y = dataset[x_end_number:y_end_number,3]\n",
        "\n",
        "        x.append(tmp_x)\n",
        "        y.append(tmp_y)\n",
        "    return np.array(x),np.array(y)\n",
        "\n",
        "# time_steps는 5개씩 학습\n",
        "# y_columns은 target값이 몇번째 변수인지, 여기선 3번째 컬럼\n",
        "# 5일동안의 데이터  학습 뒤 6일째 데이터 예측\n",
        "x,y=split_xy5(samsung,5,1)"
      ],
      "metadata": {
        "id": "PMB3Vy43on-7"
      },
      "execution_count": null,
      "outputs": []
    },
    {
      "cell_type": "code",
      "source": [
        "# 삼성전자와 KOPSPI200 데이터 사용\n",
        "x1, y1 = split_xy5(samsung,5,1)\n",
        "x2, y2 = split_xy5(kospi200,5,1)\n",
        "print(x2[0,:],\"\\n\",y2[0])\n",
        "print(x2.shape)\n",
        "print(y2.shape)"
      ],
      "metadata": {
        "colab": {
          "base_uri": "https://localhost:8080/"
        },
        "id": "veVUlOgtM20H",
        "outputId": "a78640c9-4fe0-4e0f-de3b-d7824ec4013b"
      },
      "execution_count": null,
      "outputs": [
        {
          "output_type": "stream",
          "name": "stdout",
          "text": [
            "[[   320.56    321.      316.75    316.75 173911.  ]\n",
            " [   317.79    319.53    314.95    315.87 141252.  ]\n",
            " [   315.93    316.08    312.6     314.42 123610.  ]\n",
            " [   316.51    317.34    315.11    317.31 120900.  ]\n",
            " [   318.03    319.7     317.86    318.51 112400.  ]] \n",
            " [317.72]\n",
            "(421, 5, 5)\n",
            "(421, 1)\n"
          ]
        }
      ]
    },
    {
      "cell_type": "code",
      "source": [
        "# train, test 나누기\n",
        "x1_train,x1_test,y1_train,y1_test = train_test_split(x1,y1,random_state=1,test_size=0.3)\n",
        "x2_train,x2_test,y2_train,y2_test = train_test_split(x2,y2,random_state=2,test_size=0.3)\n",
        "\n",
        "print(x2_train.shape)\n",
        "print(x2_test.shape)\n",
        "print(y2_train.shape)\n",
        "print(y2_test.shape)"
      ],
      "metadata": {
        "colab": {
          "base_uri": "https://localhost:8080/"
        },
        "id": "KBJuhXUfp_sZ",
        "outputId": "622eee9a-b2f8-4661-e7b6-7c08cb03641a"
      },
      "execution_count": null,
      "outputs": [
        {
          "output_type": "stream",
          "name": "stdout",
          "text": [
            "(294, 5, 5)\n",
            "(127, 5, 5)\n",
            "(294, 1)\n",
            "(127, 1)\n"
          ]
        }
      ]
    },
    {
      "cell_type": "code",
      "source": [
        "# StandardScaler를 사용해서 전처리\n",
        "# StandardScaler는 2차원 구조만 받으므로 reshape 필요\n",
        "\n",
        "x1_train = np.reshape(x1_train,\n",
        " (x1_train.shape[0], x1_train.shape[1] * x1_train.shape[2]))\n",
        "x1_test = np.reshape(x1_test,\n",
        " (x1_test.shape[0], x1_test.shape[1] * x1_test.shape[2]))\n",
        "\n",
        "x2_train = np.reshape(x2_train,\n",
        " (x2_train.shape[0], x2_train.shape[1] * x2_train.shape[2]))\n",
        "x2_test = np.reshape(x2_test,\n",
        " (x2_test.shape[0], x2_test.shape[1] * x2_test.shape[2]))\n",
        "\n",
        "print(x2_train.shape)\n",
        "print(x2_test.shape)"
      ],
      "metadata": {
        "colab": {
          "base_uri": "https://localhost:8080/"
        },
        "id": "hAHxfkaMtNc9",
        "outputId": "e7a6425e-fad7-4d88-8312-10aef5af8bdf"
      },
      "execution_count": null,
      "outputs": [
        {
          "output_type": "stream",
          "name": "stdout",
          "text": [
            "(294, 25)\n",
            "(127, 25)\n"
          ]
        }
      ]
    },
    {
      "cell_type": "code",
      "source": [
        "# StandardScaler\n",
        "\n",
        "# samsung data\n",
        "scaler1 = StandardScaler()\n",
        "scaler1.fit(x1_train)\n",
        "x1_train_scaled = scaler1.transform(x1_train)\n",
        "x1_test_scaled = scaler1.transform(x1_test)\n",
        "\n",
        "# kospi data\n",
        "scaler2 = StandardScaler()\n",
        "scaler2.fit(x2_train)\n",
        "x2_train_scaled = scaler1.transform(x2_train)\n",
        "x2_test_scaled = scaler1.transform(x2_test)\n",
        "\n",
        "print(x2_train_scaled[0,:])"
      ],
      "metadata": {
        "colab": {
          "base_uri": "https://localhost:8080/"
        },
        "id": "8S213q13rysJ",
        "outputId": "78e9a654-bc36-46a0-eb9a-849408613452"
      },
      "execution_count": null,
      "outputs": [
        {
          "output_type": "stream",
          "name": "stdout",
          "text": [
            "[-10.88664987 -11.00113207 -10.96045652 -11.00448062  -2.61390901\n",
            " -10.83820833 -10.89506365 -10.90529232 -10.8980913   -2.27638932\n",
            " -10.76475285 -10.83974628 -10.85273565 -10.80790425  -2.18405059\n",
            " -10.66844317 -10.76028448 -10.69546479 -10.70928217  -2.20759752\n",
            " -10.57362195 -10.63956465 -10.58741645 -10.55702221  -2.6641292 ]\n"
          ]
        }
      ]
    },
    {
      "cell_type": "code",
      "source": [
        "# LSTM은 DNN과 다르게 input 조정해주기\n",
        "# (None,25)로 reshape한걸 다시 (None,5,5)로 reshape해주기\n",
        "# 2차원 -> 3차원으로 다시 바꿔주기\n",
        "# DNN과 input이 달라지는 부분\n",
        "x1_train_scaled = np.reshape(x1_train_scaled,\n",
        " (x1_train_scaled.shape[0],5,5))\n",
        "x1_test_scaled = np.reshape(x1_test_scaled,\n",
        " (x1_test_scaled.shape[0],5,5))\n",
        "x2_train_scaled = np.reshape(x2_train_scaled,\n",
        " (x2_train_scaled.shape[0],5,5))\n",
        "x2_test_scaled = np.reshape(x2_test_scaled,\n",
        " (x2_test_scaled.shape[0],5,5))\n",
        "\n",
        "print(x2_train_scaled.shape)\n",
        "print(x2_test_scaled.shape)"
      ],
      "metadata": {
        "colab": {
          "base_uri": "https://localhost:8080/"
        },
        "id": "2f6Cqw9AqeQH",
        "outputId": "434f4aa7-1379-4585-b3a2-662f646d9bdf"
      },
      "execution_count": null,
      "outputs": [
        {
          "output_type": "stream",
          "name": "stdout",
          "text": [
            "(294, 5, 5)\n",
            "(127, 5, 5)\n"
          ]
        }
      ]
    },
    {
      "cell_type": "markdown",
      "source": [
        "# STEP 2: 다:1모델 DNN앙상블"
      ],
      "metadata": {
        "id": "5zCX20r-uE6y"
      }
    },
    {
      "cell_type": "code",
      "source": [
        "# 모델 구성\n",
        "input1 = Input(shape=(5,5))\n",
        "dense1 = LSTM(64)(input1)\n",
        "dense1 = Dense(32)(dense1)\n",
        "dense1 = Dense(32)(dense1)\n",
        "output1 = Dense(32)(dense1)\n",
        "\n",
        "input2 = Input(shape=(5,5))\n",
        "dense2 = LSTM(64)(input2)\n",
        "dense2 = Dense(64)(dense2)\n",
        "dense2 = Dense(64)(dense2)\n",
        "dense2 = Dense(64)(dense2)\n",
        "output2 = Dense(32)(dense2)"
      ],
      "metadata": {
        "id": "WTG0nZV3f_1d"
      },
      "execution_count": null,
      "outputs": []
    },
    {
      "cell_type": "code",
      "source": [
        "merge = Concatenate()([output1, output2])\n",
        "output3 = Dense(1)(merge)\n",
        "\n",
        "model = Model(inputs=[input1, input2],\n",
        "              outputs = output3)"
      ],
      "metadata": {
        "id": "kQAOwvdRkWQN"
      },
      "execution_count": null,
      "outputs": []
    },
    {
      "cell_type": "code",
      "source": [
        "model.compile(loss='mse', optimizer='adam', metrics=['mse'])\n",
        "\n",
        "early_stopping = EarlyStopping(patience=20)\n",
        "# train으로 사용하는건 samsung과 kospi모두 사용하지만 맞춰야하는 정답값은 samsung이므로 y1만 사용\n",
        "history_model = model.fit([x1_train_scaled,x2_train_scaled],y1_train,validation_split=0.2,verbose=1,\n",
        "                          batch_size=1,epochs=100,callbacks=[early_stopping])"
      ],
      "metadata": {
        "colab": {
          "base_uri": "https://localhost:8080/"
        },
        "id": "tBnWQtvXuUE_",
        "outputId": "dd9a73f5-6a7a-4fa5-fc9a-260cabd3e5c5"
      },
      "execution_count": null,
      "outputs": [
        {
          "output_type": "stream",
          "name": "stdout",
          "text": [
            "Epoch 1/100\n",
            "235/235 [==============================] - 7s 9ms/step - loss: 648665856.0000 - mse: 648665856.0000 - val_loss: 19739130.0000 - val_mse: 19739130.0000\n",
            "Epoch 2/100\n",
            "235/235 [==============================] - 1s 5ms/step - loss: 13103217.0000 - mse: 13103217.0000 - val_loss: 7494124.5000 - val_mse: 7494124.5000\n",
            "Epoch 3/100\n",
            "235/235 [==============================] - 1s 5ms/step - loss: 3103578.5000 - mse: 3103578.5000 - val_loss: 2498745.7500 - val_mse: 2498745.7500\n",
            "Epoch 4/100\n",
            "235/235 [==============================] - 1s 5ms/step - loss: 1826947.3750 - mse: 1826947.3750 - val_loss: 1111581.1250 - val_mse: 1111581.1250\n",
            "Epoch 5/100\n",
            "235/235 [==============================] - 1s 6ms/step - loss: 1235562.7500 - mse: 1235562.7500 - val_loss: 1094081.7500 - val_mse: 1094081.7500\n",
            "Epoch 6/100\n",
            "235/235 [==============================] - 2s 9ms/step - loss: 1210814.2500 - mse: 1210814.2500 - val_loss: 868064.0625 - val_mse: 868064.0625\n",
            "Epoch 7/100\n",
            "235/235 [==============================] - 2s 9ms/step - loss: 919637.1250 - mse: 919637.1250 - val_loss: 1441630.6250 - val_mse: 1441630.6250\n",
            "Epoch 8/100\n",
            "235/235 [==============================] - 1s 5ms/step - loss: 1035091.2500 - mse: 1035091.2500 - val_loss: 948487.3750 - val_mse: 948487.3750\n",
            "Epoch 9/100\n",
            "235/235 [==============================] - 1s 5ms/step - loss: 916512.1875 - mse: 916512.1875 - val_loss: 637406.3750 - val_mse: 637406.3750\n",
            "Epoch 10/100\n",
            "235/235 [==============================] - 1s 5ms/step - loss: 892508.5000 - mse: 892508.5000 - val_loss: 602557.8750 - val_mse: 602557.8750\n",
            "Epoch 11/100\n",
            "235/235 [==============================] - 1s 5ms/step - loss: 1136887.2500 - mse: 1136887.2500 - val_loss: 579933.5000 - val_mse: 579933.5000\n",
            "Epoch 12/100\n",
            "235/235 [==============================] - 1s 5ms/step - loss: 823090.0625 - mse: 823090.0625 - val_loss: 767200.4375 - val_mse: 767200.4375\n",
            "Epoch 13/100\n",
            "235/235 [==============================] - 1s 5ms/step - loss: 853119.3125 - mse: 853119.3125 - val_loss: 660338.3750 - val_mse: 660338.3750\n",
            "Epoch 14/100\n",
            "235/235 [==============================] - 1s 5ms/step - loss: 859897.8125 - mse: 859897.8125 - val_loss: 911190.3750 - val_mse: 911190.3750\n",
            "Epoch 15/100\n",
            "235/235 [==============================] - 1s 5ms/step - loss: 1304674.6250 - mse: 1304674.6250 - val_loss: 1024798.7500 - val_mse: 1024798.7500\n",
            "Epoch 16/100\n",
            "235/235 [==============================] - 2s 7ms/step - loss: 1065002.8750 - mse: 1065002.8750 - val_loss: 916457.8125 - val_mse: 916457.8125\n",
            "Epoch 17/100\n",
            "235/235 [==============================] - 2s 9ms/step - loss: 912382.3750 - mse: 912382.3750 - val_loss: 606574.5625 - val_mse: 606574.5625\n",
            "Epoch 18/100\n",
            "235/235 [==============================] - 2s 8ms/step - loss: 1050057.3750 - mse: 1050057.3750 - val_loss: 598223.0625 - val_mse: 598223.0625\n",
            "Epoch 19/100\n",
            "235/235 [==============================] - 1s 6ms/step - loss: 831993.1250 - mse: 831993.1250 - val_loss: 569166.7500 - val_mse: 569166.7500\n",
            "Epoch 20/100\n",
            "235/235 [==============================] - 1s 5ms/step - loss: 1051807.0000 - mse: 1051807.0000 - val_loss: 680929.0625 - val_mse: 680929.0625\n",
            "Epoch 21/100\n",
            "235/235 [==============================] - 1s 5ms/step - loss: 1012935.1875 - mse: 1012935.1875 - val_loss: 855023.9375 - val_mse: 855023.9375\n",
            "Epoch 22/100\n",
            "235/235 [==============================] - 1s 5ms/step - loss: 1232118.0000 - mse: 1232118.0000 - val_loss: 715717.6250 - val_mse: 715717.6250\n",
            "Epoch 23/100\n",
            "235/235 [==============================] - 1s 5ms/step - loss: 866090.1250 - mse: 866090.1250 - val_loss: 1016771.3750 - val_mse: 1016771.3750\n",
            "Epoch 24/100\n",
            "235/235 [==============================] - 1s 5ms/step - loss: 930273.6250 - mse: 930273.6250 - val_loss: 1227139.7500 - val_mse: 1227139.7500\n",
            "Epoch 25/100\n",
            "235/235 [==============================] - 1s 5ms/step - loss: 1092754.8750 - mse: 1092754.8750 - val_loss: 995315.3125 - val_mse: 995315.3125\n",
            "Epoch 26/100\n",
            "235/235 [==============================] - 1s 5ms/step - loss: 875614.5625 - mse: 875614.5625 - val_loss: 756306.1875 - val_mse: 756306.1875\n",
            "Epoch 27/100\n",
            "235/235 [==============================] - 1s 5ms/step - loss: 816886.1250 - mse: 816886.1250 - val_loss: 931164.5625 - val_mse: 931164.5625\n",
            "Epoch 28/100\n",
            "235/235 [==============================] - 4s 15ms/step - loss: 1015014.5625 - mse: 1015014.5625 - val_loss: 1149913.3750 - val_mse: 1149913.3750\n",
            "Epoch 29/100\n",
            "235/235 [==============================] - 2s 10ms/step - loss: 1254642.7500 - mse: 1254642.7500 - val_loss: 1360673.1250 - val_mse: 1360673.1250\n",
            "Epoch 30/100\n",
            "235/235 [==============================] - 1s 5ms/step - loss: 1175104.1250 - mse: 1175104.1250 - val_loss: 991858.9375 - val_mse: 991858.9375\n",
            "Epoch 31/100\n",
            "235/235 [==============================] - 1s 5ms/step - loss: 861855.3125 - mse: 861855.3125 - val_loss: 1551011.1250 - val_mse: 1551011.1250\n",
            "Epoch 32/100\n",
            "235/235 [==============================] - 1s 5ms/step - loss: 1189301.3750 - mse: 1189301.3750 - val_loss: 734340.4375 - val_mse: 734340.4375\n",
            "Epoch 33/100\n",
            "235/235 [==============================] - 1s 5ms/step - loss: 830005.0625 - mse: 830005.0625 - val_loss: 864539.5625 - val_mse: 864539.5625\n",
            "Epoch 34/100\n",
            "235/235 [==============================] - 1s 5ms/step - loss: 948054.1875 - mse: 948054.1875 - val_loss: 1529526.1250 - val_mse: 1529526.1250\n",
            "Epoch 35/100\n",
            "235/235 [==============================] - 1s 5ms/step - loss: 939983.3750 - mse: 939983.3750 - val_loss: 893925.4375 - val_mse: 893925.4375\n",
            "Epoch 36/100\n",
            "235/235 [==============================] - 1s 5ms/step - loss: 752383.0000 - mse: 752383.0000 - val_loss: 3108551.7500 - val_mse: 3108551.7500\n",
            "Epoch 37/100\n",
            "235/235 [==============================] - 1s 5ms/step - loss: 1031535.5000 - mse: 1031535.5000 - val_loss: 672830.7500 - val_mse: 672830.7500\n",
            "Epoch 38/100\n",
            "235/235 [==============================] - 2s 9ms/step - loss: 1035281.6250 - mse: 1035281.6250 - val_loss: 2290730.0000 - val_mse: 2290730.0000\n",
            "Epoch 39/100\n",
            "235/235 [==============================] - 2s 9ms/step - loss: 848105.6875 - mse: 848105.6875 - val_loss: 667675.1250 - val_mse: 667675.1250\n"
          ]
        }
      ]
    },
    {
      "cell_type": "code",
      "source": [
        "plot_history(history_model.history)\n",
        "plt.show()\n",
        "# plot_history(model.history, path = '(hist)CNN_raw.png')\n",
        "# plt.close()"
      ],
      "metadata": {
        "colab": {
          "base_uri": "https://localhost:8080/",
          "height": 528
        },
        "id": "cQXjG3DVKU0I",
        "outputId": "fcc784bf-1ea6-4805-ebbd-51f91931dfb7"
      },
      "execution_count": null,
      "outputs": [
        {
          "output_type": "display_data",
          "data": {
            "text/plain": [
              "<Figure size 1000x500 with 2 Axes>"
            ],
            "image/png": "[encoded data removed]"
          },
          "metadata": {}
        }
      ]
    },
    {
      "cell_type": "code",
      "source": [
        "loss, mse = model.evaluate([x1_test_scaled,x2_test_scaled], y1_test, batch_size=1)\n",
        "print('loss: ',loss)\n",
        "print('mse :', mse)"
      ],
      "metadata": {
        "colab": {
          "base_uri": "https://localhost:8080/"
        },
        "id": "qFNjy1jiur5F",
        "outputId": "81ea6d33-4c8d-4af4-e422-d49bb64e62f2"
      },
      "execution_count": null,
      "outputs": [
        {
          "output_type": "stream",
          "name": "stdout",
          "text": [
            "127/127 [==============================] - 0s 2ms/step - loss: 816351.5000 - mse: 816351.5000\n",
            "loss:  816351.5\n",
            "mse : 816351.5\n"
          ]
        }
      ]
    },
    {
      "cell_type": "code",
      "source": [
        "y1_pred = model.predict([x1_test_scaled,x2_test_scaled])\n",
        "\n",
        "for i in range(5):\n",
        "    print('종가 : ', y1_test[i], '/ 예측가 : ', y1_pred[i])"
      ],
      "metadata": {
        "colab": {
          "base_uri": "https://localhost:8080/"
        },
        "id": "g2TgmKfOvbO8",
        "outputId": "29434321-3058-477a-9c5f-9cd9f02d3000"
      },
      "execution_count": null,
      "outputs": [
        {
          "output_type": "stream",
          "name": "stdout",
          "text": [
            "4/4 [==============================] - 2s 5ms/step\n",
            "종가 :  [52200.] / 예측가 :  [53350.465]\n",
            "종가 :  [41450.] / 예측가 :  [40347.242]\n",
            "종가 :  [49650.] / 예측가 :  [50101.387]\n",
            "종가 :  [44800.] / 예측가 :  [46644.293]\n",
            "종가 :  [49500.] / 예측가 :  [50140.184]\n"
          ]
        }
      ]
    },
    {
      "cell_type": "code",
      "source": [],
      "metadata": {
        "id": "zzxIE8q3vgHo"
      },
      "execution_count": null,
      "outputs": []
    }
  ]
}